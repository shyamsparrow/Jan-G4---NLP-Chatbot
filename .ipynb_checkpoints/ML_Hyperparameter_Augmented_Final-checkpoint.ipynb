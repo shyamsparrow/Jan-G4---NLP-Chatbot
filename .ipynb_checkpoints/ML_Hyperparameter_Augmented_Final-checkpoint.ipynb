{
 "cells": [
  {
   "cell_type": "markdown",
   "metadata": {
    "id": "9Yj3kJll4cxT"
   },
   "source": [
    "# Capstone Project - NLP Chatbot\n",
    "\n",
    "### DOMAIN: \n",
    "Industrial safety. NLP based Chatbot.\n",
    "\n",
    "### CONTEXT:\n",
    "The database comes from one of the biggest industry in Brazil and in the world. It is an urgent need for industries/companies around the globe to understand why employees still suffer some injuries/accidents in plants. Sometimes they also die in such environment.\n",
    "\n",
    "### DATA DESCRIPTION:\n",
    "This The database is basically records of accidents from 12 different plants in 03 different countries which every line in the data is an occurrence of an accident.\n",
    "\n",
    "### Columns description:\n",
    "* Data: timestamp or time/date information\n",
    "* Countries: which country the accident occurred (anonymised)\n",
    "* Local: the city where the manufacturing plant is located (anonymised)\n",
    "* Industry sector: which sector the plant belongs to\n",
    "* Accident level: from I to VI, it registers how severe was the accident (I means not severe but VI means very severe)\n",
    "* Potential Accident Level: Depending on the Accident Level, the database also registers how severe the accident could have   been (due to other factors involved in the accident)\n",
    "* Gender: if the person is male of female\n",
    "* Employee or Third Party: if the injured person is an employee or a third party\n",
    "* Critical Risk: some description of the risk involved in the accident\n",
    "* Description: Detailed description of how the accident happened.\n",
    "\n",
    "Link to download the dataset: https://drive.google.com/file/d/1_GmrRP1S2OIa02KlfOBNkYa8uxazGbfE/view?usp=sharing,\n",
    "Original dataset link: https://www.kaggle.com/ihmstefanini/industrial-safety-and-health-analytics-database\n",
    "\n",
    "### PROJECT OBJECTIVE:\n",
    "Design a ML/DL based chatbot utility which can help the professionals to highlight the safety risk as per the incident description."
   ]
  },
  {
   "cell_type": "code",
   "execution_count": 1,
   "metadata": {
    "colab": {
     "base_uri": "https://localhost:8080/"
    },
    "id": "UXY9aXj-FwOg",
    "outputId": "590b9707-1ced-4fb3-d4ea-43172442e05e"
   },
   "outputs": [
    {
     "name": "stdout",
     "output_type": "stream",
     "text": [
      "Mounted at /content/drive\n"
     ]
    }
   ],
   "source": [
    "from google.colab import drive\n",
    "drive.mount('/content/drive')"
   ]
  },
  {
   "cell_type": "markdown",
   "metadata": {
    "id": "yJ3cY1PPaSlS"
   },
   "source": [
    "Replace the folder path with your drive folder path and clone the githb repo"
   ]
  },
  {
   "cell_type": "code",
   "execution_count": 2,
   "metadata": {
    "colab": {
     "base_uri": "https://localhost:8080/"
    },
    "id": "wwhw9SyePdXo",
    "outputId": "ca3bbf85-5c26-4340-e8f4-277b83f01ef7"
   },
   "outputs": [
    {
     "name": "stdout",
     "output_type": "stream",
     "text": [
      "/content/drive/MyDrive/AIML/Capstone\n"
     ]
    }
   ],
   "source": [
    "%cd /content/drive/MyDrive/AIML/Capstone"
   ]
  },
  {
   "cell_type": "markdown",
   "metadata": {
    "id": "zb2bSd4Qa6sd"
   },
   "source": [
    "Run the below code for clone the repo in our Googele drive for first time"
   ]
  },
  {
   "cell_type": "code",
   "execution_count": 3,
   "metadata": {
    "colab": {
     "base_uri": "https://localhost:8080/"
    },
    "id": "02mIR5BkLrQM",
    "outputId": "3a2de22d-ae40-4f4a-aa53-6d8368f0b114"
   },
   "outputs": [
    {
     "name": "stdout",
     "output_type": "stream",
     "text": [
      "Cloning into 'Jan-G4---NLP-Chatbot'...\n",
      "remote: Enumerating objects: 585, done.\u001b[K\n",
      "remote: Counting objects: 100% (133/133), done.\u001b[K\n",
      "remote: Compressing objects: 100% (131/131), done.\u001b[K\n",
      "remote: Total 585 (delta 59), reused 3 (delta 1), pack-reused 452\u001b[K\n",
      "Receiving objects: 100% (585/585), 252.48 MiB | 13.89 MiB/s, done.\n",
      "Resolving deltas: 100% (292/292), done.\n"
     ]
    }
   ],
   "source": [
    "! git clone https://github.com/shyamsparrow/Jan-G4---NLP-Chatbot.git"
   ]
  },
  {
   "cell_type": "markdown",
   "metadata": {
    "id": "DE4JYNESXKDx"
   },
   "source": [
    "Change the Current folder into Github repo main folder, all the functions we are calling has to be in this repo."
   ]
  },
  {
   "cell_type": "code",
   "execution_count": 4,
   "metadata": {
    "colab": {
     "base_uri": "https://localhost:8080/"
    },
    "id": "OigsCtatbCvx",
    "outputId": "586a1506-6131-4da7-8a42-9991b0aebb9f"
   },
   "outputs": [
    {
     "name": "stdout",
     "output_type": "stream",
     "text": [
      "/content/drive/MyDrive/AIML/Capstone/Jan-G4---NLP-Chatbot\n"
     ]
    }
   ],
   "source": [
    "%cd /content/drive/MyDrive/AIML/Capstone/Jan-G4---NLP-Chatbot"
   ]
  },
  {
   "cell_type": "code",
   "execution_count": 5,
   "metadata": {
    "colab": {
     "base_uri": "https://localhost:8080/"
    },
    "id": "6IJa4VzDkh-K",
    "outputId": "e040f423-3a7c-41e8-9a87-a66563b1634e"
   },
   "outputs": [
    {
     "name": "stdout",
     "output_type": "stream",
     "text": [
      "Checking out files:  87% (21/24)   \r",
      "Checking out files:  91% (22/24)   \r",
      "Checking out files:  95% (23/24)   \r",
      "Checking out files: 100% (24/24)   \r",
      "Checking out files: 100% (24/24), done.\n",
      "Branch 'ALL_Models' set up to track remote branch 'ALL_Models' from 'origin'.\n",
      "Switched to a new branch 'ALL_Models'\n"
     ]
    }
   ],
   "source": [
    "!git checkout ALL_Models"
   ]
  },
  {
   "cell_type": "code",
   "execution_count": 6,
   "metadata": {
    "colab": {
     "base_uri": "https://localhost:8080/"
    },
    "id": "nb9es3p2kiI1",
    "outputId": "cfe48403-009f-4d36-9919-366a7bb025a4"
   },
   "outputs": [
    {
     "name": "stdout",
     "output_type": "stream",
     "text": [
      "Already up to date.\n"
     ]
    }
   ],
   "source": [
    "!git pull"
   ]
  },
  {
   "cell_type": "code",
   "execution_count": 7,
   "metadata": {
    "id": "9DP36cGdeCGy"
   },
   "outputs": [],
   "source": [
    "!git config --global user.email \"pradeebha.ab@gmail.com\"\n",
    "!git config --global user.name \"Pradeebha\""
   ]
  },
  {
   "cell_type": "code",
   "execution_count": 8,
   "metadata": {
    "colab": {
     "base_uri": "https://localhost:8080/"
    },
    "id": "dduXV2HWejMI",
    "outputId": "3e81d64d-c6d8-41fc-b82f-649518afb80c"
   },
   "outputs": [
    {
     "name": "stdout",
     "output_type": "stream",
     "text": [
      "On branch ALL_Models\n",
      "Your branch is up to date with 'origin/ALL_Models'.\n",
      "\n",
      "nothing to commit, working tree clean\n"
     ]
    }
   ],
   "source": [
    "!git status"
   ]
  },
  {
   "cell_type": "code",
   "execution_count": 9,
   "metadata": {
    "colab": {
     "base_uri": "https://localhost:8080/"
    },
    "id": "Mdx1iSzven86",
    "outputId": "4d2ec815-591b-494a-e472-2ce651b704ae"
   },
   "outputs": [
    {
     "name": "stdout",
     "output_type": "stream",
     "text": [
      "On branch ALL_Models\n",
      "Your branch is up to date with 'origin/ALL_Models'.\n",
      "\n",
      "nothing to commit, working tree clean\n"
     ]
    }
   ],
   "source": [
    "!git commit -m \"My message\""
   ]
  },
  {
   "cell_type": "markdown",
   "metadata": {
    "id": "fuZqYC2yXV1e"
   },
   "source": [
    "Run this code to update the changes in repo to our drive"
   ]
  },
  {
   "cell_type": "code",
   "execution_count": 10,
   "metadata": {
    "colab": {
     "base_uri": "https://localhost:8080/"
    },
    "id": "WITqKl1Nb_G4",
    "outputId": "f2f3181e-4251-4c66-9343-2f6e143caf37"
   },
   "outputs": [
    {
     "name": "stdout",
     "output_type": "stream",
     "text": [
      "Already up to date.\n"
     ]
    }
   ],
   "source": [
    "!git pull"
   ]
  },
  {
   "cell_type": "code",
   "execution_count": 11,
   "metadata": {
    "id": "d4CkHgK24cxV"
   },
   "outputs": [],
   "source": [
    "import warnings\n",
    "warnings.filterwarnings('ignore')\n",
    "\n",
    "\n",
    "import string\n",
    "import numpy as np\n",
    "import pandas as pd\n",
    "import seaborn as sns\n",
    "import matplotlib.pyplot as plt\n",
    "import re\n",
    "\n",
    "from tqdm import tqdm\n",
    "\n",
    "from sklearn.model_selection import train_test_split\n",
    "from sklearn import metrics\n",
    "from sklearn.metrics import classification_report\n",
    "from sklearn.metrics import accuracy_score, f1_score, confusion_matrix, recall_score, precision_score, roc_auc_score\n",
    "from sklearn.preprocessing import LabelEncoder\n",
    "import pickle\n",
    "\n"
   ]
  },
  {
   "cell_type": "code",
   "execution_count": 12,
   "metadata": {
    "id": "h5sQ-rKcCO5i"
   },
   "outputs": [],
   "source": [
    "industry_df = pd.read_csv(\"/content/drive/MyDrive/AIML/Capstone/Jan-G4---NLP-Chatbot/industry_df_preprocessed.csv\")"
   ]
  },
  {
   "cell_type": "markdown",
   "metadata": {
    "id": "1TGiZyni0VDM"
   },
   "source": [
    "Model Building: Train-Test Split"
   ]
  },
  {
   "cell_type": "code",
   "execution_count": 13,
   "metadata": {
    "id": "JWJygL6Cz0ea"
   },
   "outputs": [],
   "source": [
    "X_train, X_test, y_train, y_test = train_test_split(industry_df['Description_preprocessed'], industry_df['Potential_Accident_Level'].values, test_size=0.2, random_state=42)"
   ]
  },
  {
   "cell_type": "code",
   "execution_count": 14,
   "metadata": {
    "colab": {
     "base_uri": "https://localhost:8080/"
    },
    "id": "8XURiVVJ0yxz",
    "outputId": "77febd6f-50f3-48d8-f748-ac97ea835795"
   },
   "outputs": [
    {
     "name": "stdout",
     "output_type": "stream",
     "text": [
      "Training utterances: 328\n",
      "Validation utterances: 83\n"
     ]
    }
   ],
   "source": [
    "print('Training utterances: {}'.format(X_train.shape[0]))\n",
    "print('Validation utterances: {}'.format(X_test.shape[0]))"
   ]
  },
  {
   "cell_type": "code",
   "execution_count": 15,
   "metadata": {
    "id": "oED_mhDp0zEP"
   },
   "outputs": [],
   "source": [
    "# Defining a function which quickly test the fit of 6 different models on the dataset\n",
    "def ml_models(X_train , y_train, X_test, y_test):\n",
    "\n",
    "    # creating a dictionary with different ML models\n",
    "    models = {\n",
    "        'LogReg': LogisticRegression(), \n",
    "        'Naive Bayes': GaussianNB(),        \n",
    "        'KNN': KNeighborsClassifier(),\n",
    "        'SVM': SVC(), \n",
    "        'Decision Tree': DecisionTreeClassifier(criterion='entropy',max_depth=6,random_state=100,min_samples_leaf=5),          \n",
    "        'RandomForest': RandomForestClassifier(n_estimators=100, max_depth=7),\n",
    "        'Bagging': BaggingClassifier(n_estimators=50, max_samples=.7),\n",
    "        'AdaBoost': AdaBoostClassifier(n_estimators= 50),\n",
    "        'Gradient Boost': GradientBoostingClassifier(n_estimators = 50, learning_rate = 0.05),\n",
    "        'XGBoost': XGBClassifier()\n",
    "    }\n",
    "    \n",
    "    names = []\n",
    "    scores = []\n",
    "\n",
    "    for name, model in models.items(): # Looping through each and every model\n",
    "        clf = model.fit(X_train, y_train) # Fit the models one by one\n",
    "        result = clf.score(X_test,y_test) \n",
    "\n",
    "        names.append(name)\n",
    "        scores.append(result) # Appending the test scores to the list\n",
    "\n",
    "        result_df =  pd.DataFrame({'model': names, 'accuracy': scores}) # Creating the dataframe using the model scores\n",
    "      \n",
    "    return result_df # Returns the dataframe"
   ]
  },
  {
   "cell_type": "markdown",
   "metadata": {
    "id": "J0zbvYav1LHl"
   },
   "source": [
    "TF-IDF"
   ]
  },
  {
   "cell_type": "markdown",
   "metadata": {
    "id": "sHFRB36R1NFn"
   },
   "source": [
    "TF-IDF is a statistical measure that evaluates how relevant a word is to a document in a collection of documents. This is done by multiplying two metrics: how many times a word appears in a document, and the inverse document frequency of the word across a set of documents."
   ]
  },
  {
   "cell_type": "code",
   "execution_count": 16,
   "metadata": {
    "id": "FTJ_LjJV1cQh"
   },
   "outputs": [],
   "source": [
    "from sklearn.feature_extraction.text import TfidfVectorizer"
   ]
  },
  {
   "cell_type": "code",
   "execution_count": 17,
   "metadata": {
    "id": "CzLPJnPC0zHJ"
   },
   "outputs": [],
   "source": [
    "# Initializing TfidfVectorizer object\n",
    "tfIdfVectorizer = TfidfVectorizer()\n",
    "X_train_tf = tfIdfVectorizer.fit_transform(X_train)\n",
    "X_test_tf = tfIdfVectorizer.transform(X_test)"
   ]
  },
  {
   "cell_type": "code",
   "execution_count": 18,
   "metadata": {
    "colab": {
     "base_uri": "https://localhost:8080/"
    },
    "id": "zuDGox5OuiuW",
    "outputId": "babd690f-2593-4212-e1ba-65b74a065c88"
   },
   "outputs": [
    {
     "data": {
      "text/plain": [
       "<1x2671 sparse matrix of type '<class 'numpy.float64'>'\n",
       "\twith 54 stored elements in Compressed Sparse Row format>"
      ]
     },
     "execution_count": 18,
     "metadata": {},
     "output_type": "execute_result"
    }
   ],
   "source": [
    "X_train_tf[1]"
   ]
  },
  {
   "cell_type": "markdown",
   "metadata": {
    "id": "RLjLm_qj1jAb"
   },
   "source": [
    "ML Classifiers"
   ]
  },
  {
   "cell_type": "code",
   "execution_count": 19,
   "metadata": {
    "id": "y_EmE7W60zKG"
   },
   "outputs": [],
   "source": [
    "from sklearn.linear_model import LogisticRegression\n",
    "from sklearn.naive_bayes import GaussianNB\n",
    "from sklearn.neighbors import KNeighborsClassifier\n",
    "from sklearn.svm import SVC\n",
    "from sklearn.tree import DecisionTreeClassifier\n",
    "from sklearn.ensemble import RandomForestClassifier, BaggingClassifier, AdaBoostClassifier, GradientBoostingClassifier\n",
    "from xgboost import XGBClassifier"
   ]
  },
  {
   "cell_type": "code",
   "execution_count": 20,
   "metadata": {
    "colab": {
     "base_uri": "https://localhost:8080/",
     "height": 363
    },
    "id": "T49cy1Br0zM0",
    "outputId": "899aba4c-5613-4cd7-d1d9-7566a90c2c08"
   },
   "outputs": [
    {
     "data": {
      "text/html": [
       "\n",
       "  <div id=\"df-6d551a37-a88d-4b2a-bec1-3e73d9ff570a\">\n",
       "    <div class=\"colab-df-container\">\n",
       "      <div>\n",
       "<style scoped>\n",
       "    .dataframe tbody tr th:only-of-type {\n",
       "        vertical-align: middle;\n",
       "    }\n",
       "\n",
       "    .dataframe tbody tr th {\n",
       "        vertical-align: top;\n",
       "    }\n",
       "\n",
       "    .dataframe thead th {\n",
       "        text-align: right;\n",
       "    }\n",
       "</style>\n",
       "<table border=\"1\" class=\"dataframe\">\n",
       "  <thead>\n",
       "    <tr style=\"text-align: right;\">\n",
       "      <th></th>\n",
       "      <th>model</th>\n",
       "      <th>accuracy</th>\n",
       "    </tr>\n",
       "  </thead>\n",
       "  <tbody>\n",
       "    <tr>\n",
       "      <th>0</th>\n",
       "      <td>LogReg</td>\n",
       "      <td>0.373494</td>\n",
       "    </tr>\n",
       "    <tr>\n",
       "      <th>1</th>\n",
       "      <td>Naive Bayes</td>\n",
       "      <td>0.421687</td>\n",
       "    </tr>\n",
       "    <tr>\n",
       "      <th>2</th>\n",
       "      <td>KNN</td>\n",
       "      <td>0.361446</td>\n",
       "    </tr>\n",
       "    <tr>\n",
       "      <th>3</th>\n",
       "      <td>SVM</td>\n",
       "      <td>0.361446</td>\n",
       "    </tr>\n",
       "    <tr>\n",
       "      <th>4</th>\n",
       "      <td>Decision Tree</td>\n",
       "      <td>0.313253</td>\n",
       "    </tr>\n",
       "    <tr>\n",
       "      <th>5</th>\n",
       "      <td>RandomForest</td>\n",
       "      <td>0.349398</td>\n",
       "    </tr>\n",
       "    <tr>\n",
       "      <th>6</th>\n",
       "      <td>Bagging</td>\n",
       "      <td>0.373494</td>\n",
       "    </tr>\n",
       "    <tr>\n",
       "      <th>7</th>\n",
       "      <td>AdaBoost</td>\n",
       "      <td>0.349398</td>\n",
       "    </tr>\n",
       "    <tr>\n",
       "      <th>8</th>\n",
       "      <td>Gradient Boost</td>\n",
       "      <td>0.325301</td>\n",
       "    </tr>\n",
       "    <tr>\n",
       "      <th>9</th>\n",
       "      <td>XGBoost</td>\n",
       "      <td>0.313253</td>\n",
       "    </tr>\n",
       "  </tbody>\n",
       "</table>\n",
       "</div>\n",
       "      <button class=\"colab-df-convert\" onclick=\"convertToInteractive('df-6d551a37-a88d-4b2a-bec1-3e73d9ff570a')\"\n",
       "              title=\"Convert this dataframe to an interactive table.\"\n",
       "              style=\"display:none;\">\n",
       "        \n",
       "  <svg xmlns=\"http://www.w3.org/2000/svg\" height=\"24px\"viewBox=\"0 0 24 24\"\n",
       "       width=\"24px\">\n",
       "    <path d=\"M0 0h24v24H0V0z\" fill=\"none\"/>\n",
       "    <path d=\"M18.56 5.44l.94 2.06.94-2.06 2.06-.94-2.06-.94-.94-2.06-.94 2.06-2.06.94zm-11 1L8.5 8.5l.94-2.06 2.06-.94-2.06-.94L8.5 2.5l-.94 2.06-2.06.94zm10 10l.94 2.06.94-2.06 2.06-.94-2.06-.94-.94-2.06-.94 2.06-2.06.94z\"/><path d=\"M17.41 7.96l-1.37-1.37c-.4-.4-.92-.59-1.43-.59-.52 0-1.04.2-1.43.59L10.3 9.45l-7.72 7.72c-.78.78-.78 2.05 0 2.83L4 21.41c.39.39.9.59 1.41.59.51 0 1.02-.2 1.41-.59l7.78-7.78 2.81-2.81c.8-.78.8-2.07 0-2.86zM5.41 20L4 18.59l7.72-7.72 1.47 1.35L5.41 20z\"/>\n",
       "  </svg>\n",
       "      </button>\n",
       "      \n",
       "  <style>\n",
       "    .colab-df-container {\n",
       "      display:flex;\n",
       "      flex-wrap:wrap;\n",
       "      gap: 12px;\n",
       "    }\n",
       "\n",
       "    .colab-df-convert {\n",
       "      background-color: #E8F0FE;\n",
       "      border: none;\n",
       "      border-radius: 50%;\n",
       "      cursor: pointer;\n",
       "      display: none;\n",
       "      fill: #1967D2;\n",
       "      height: 32px;\n",
       "      padding: 0 0 0 0;\n",
       "      width: 32px;\n",
       "    }\n",
       "\n",
       "    .colab-df-convert:hover {\n",
       "      background-color: #E2EBFA;\n",
       "      box-shadow: 0px 1px 2px rgba(60, 64, 67, 0.3), 0px 1px 3px 1px rgba(60, 64, 67, 0.15);\n",
       "      fill: #174EA6;\n",
       "    }\n",
       "\n",
       "    [theme=dark] .colab-df-convert {\n",
       "      background-color: #3B4455;\n",
       "      fill: #D2E3FC;\n",
       "    }\n",
       "\n",
       "    [theme=dark] .colab-df-convert:hover {\n",
       "      background-color: #434B5C;\n",
       "      box-shadow: 0px 1px 3px 1px rgba(0, 0, 0, 0.15);\n",
       "      filter: drop-shadow(0px 1px 2px rgba(0, 0, 0, 0.3));\n",
       "      fill: #FFFFFF;\n",
       "    }\n",
       "  </style>\n",
       "\n",
       "      <script>\n",
       "        const buttonEl =\n",
       "          document.querySelector('#df-6d551a37-a88d-4b2a-bec1-3e73d9ff570a button.colab-df-convert');\n",
       "        buttonEl.style.display =\n",
       "          google.colab.kernel.accessAllowed ? 'block' : 'none';\n",
       "\n",
       "        async function convertToInteractive(key) {\n",
       "          const element = document.querySelector('#df-6d551a37-a88d-4b2a-bec1-3e73d9ff570a');\n",
       "          const dataTable =\n",
       "            await google.colab.kernel.invokeFunction('convertToInteractive',\n",
       "                                                     [key], {});\n",
       "          if (!dataTable) return;\n",
       "\n",
       "          const docLinkHtml = 'Like what you see? Visit the ' +\n",
       "            '<a target=\"_blank\" href=https://colab.research.google.com/notebooks/data_table.ipynb>data table notebook</a>'\n",
       "            + ' to learn more about interactive tables.';\n",
       "          element.innerHTML = '';\n",
       "          dataTable['output_type'] = 'display_data';\n",
       "          await google.colab.output.renderOutput(dataTable, element);\n",
       "          const docLink = document.createElement('div');\n",
       "          docLink.innerHTML = docLinkHtml;\n",
       "          element.appendChild(docLink);\n",
       "        }\n",
       "      </script>\n",
       "    </div>\n",
       "  </div>\n",
       "  "
      ],
      "text/plain": [
       "            model  accuracy\n",
       "0          LogReg  0.373494\n",
       "1     Naive Bayes  0.421687\n",
       "2             KNN  0.361446\n",
       "3             SVM  0.361446\n",
       "4   Decision Tree  0.313253\n",
       "5    RandomForest  0.349398\n",
       "6         Bagging  0.373494\n",
       "7        AdaBoost  0.349398\n",
       "8  Gradient Boost  0.325301\n",
       "9         XGBoost  0.313253"
      ]
     },
     "execution_count": 20,
     "metadata": {},
     "output_type": "execute_result"
    }
   ],
   "source": [
    "ml_models(X_train_tf.toarray(), y_train, X_test_tf.toarray(), y_test)"
   ]
  },
  {
   "cell_type": "markdown",
   "metadata": {
    "id": "YUUs_s-j2iUg"
   },
   "source": [
    "For TF-IDF vectorization, the accuracy is quite less. Naive Bayes gives the better accuracy of around 42%"
   ]
  },
  {
   "cell_type": "markdown",
   "metadata": {
    "id": "F66cB89v3Fkv"
   },
   "source": [
    "Using Bag of words"
   ]
  },
  {
   "cell_type": "markdown",
   "metadata": {
    "id": "QEsqL8I13IM7"
   },
   "source": [
    "A bag-of-words is a representation of text that describes the occurrence of words within a document."
   ]
  },
  {
   "cell_type": "code",
   "execution_count": 21,
   "metadata": {
    "id": "jFANiquS0zPf"
   },
   "outputs": [],
   "source": [
    "from sklearn.feature_extraction.text import CountVectorizer "
   ]
  },
  {
   "cell_type": "code",
   "execution_count": 22,
   "metadata": {
    "id": "bFhmXOgO0zR7"
   },
   "outputs": [],
   "source": [
    "vectorizer = CountVectorizer(binary=True, ngram_range=(1, 2))\n",
    "X_train_bow = vectorizer.fit_transform(X_train)\n",
    "X_test_bow = vectorizer.transform(X_test)"
   ]
  },
  {
   "cell_type": "markdown",
   "metadata": {
    "id": "9jk2uPT93bDy"
   },
   "source": [
    "ML Classifiers"
   ]
  },
  {
   "cell_type": "code",
   "execution_count": 23,
   "metadata": {
    "colab": {
     "base_uri": "https://localhost:8080/",
     "height": 363
    },
    "id": "Bb93wOOI3WSr",
    "outputId": "59443035-335e-48ee-b49e-4264abec8441"
   },
   "outputs": [
    {
     "data": {
      "text/html": [
       "\n",
       "  <div id=\"df-d117d46e-b536-4073-8450-6b1ffb5191d3\">\n",
       "    <div class=\"colab-df-container\">\n",
       "      <div>\n",
       "<style scoped>\n",
       "    .dataframe tbody tr th:only-of-type {\n",
       "        vertical-align: middle;\n",
       "    }\n",
       "\n",
       "    .dataframe tbody tr th {\n",
       "        vertical-align: top;\n",
       "    }\n",
       "\n",
       "    .dataframe thead th {\n",
       "        text-align: right;\n",
       "    }\n",
       "</style>\n",
       "<table border=\"1\" class=\"dataframe\">\n",
       "  <thead>\n",
       "    <tr style=\"text-align: right;\">\n",
       "      <th></th>\n",
       "      <th>model</th>\n",
       "      <th>accuracy</th>\n",
       "    </tr>\n",
       "  </thead>\n",
       "  <tbody>\n",
       "    <tr>\n",
       "      <th>0</th>\n",
       "      <td>LogReg</td>\n",
       "      <td>0.445783</td>\n",
       "    </tr>\n",
       "    <tr>\n",
       "      <th>1</th>\n",
       "      <td>Naive Bayes</td>\n",
       "      <td>0.409639</td>\n",
       "    </tr>\n",
       "    <tr>\n",
       "      <th>2</th>\n",
       "      <td>KNN</td>\n",
       "      <td>0.277108</td>\n",
       "    </tr>\n",
       "    <tr>\n",
       "      <th>3</th>\n",
       "      <td>SVM</td>\n",
       "      <td>0.385542</td>\n",
       "    </tr>\n",
       "    <tr>\n",
       "      <th>4</th>\n",
       "      <td>Decision Tree</td>\n",
       "      <td>0.349398</td>\n",
       "    </tr>\n",
       "    <tr>\n",
       "      <th>5</th>\n",
       "      <td>RandomForest</td>\n",
       "      <td>0.337349</td>\n",
       "    </tr>\n",
       "    <tr>\n",
       "      <th>6</th>\n",
       "      <td>Bagging</td>\n",
       "      <td>0.385542</td>\n",
       "    </tr>\n",
       "    <tr>\n",
       "      <th>7</th>\n",
       "      <td>AdaBoost</td>\n",
       "      <td>0.277108</td>\n",
       "    </tr>\n",
       "    <tr>\n",
       "      <th>8</th>\n",
       "      <td>Gradient Boost</td>\n",
       "      <td>0.349398</td>\n",
       "    </tr>\n",
       "    <tr>\n",
       "      <th>9</th>\n",
       "      <td>XGBoost</td>\n",
       "      <td>0.385542</td>\n",
       "    </tr>\n",
       "  </tbody>\n",
       "</table>\n",
       "</div>\n",
       "      <button class=\"colab-df-convert\" onclick=\"convertToInteractive('df-d117d46e-b536-4073-8450-6b1ffb5191d3')\"\n",
       "              title=\"Convert this dataframe to an interactive table.\"\n",
       "              style=\"display:none;\">\n",
       "        \n",
       "  <svg xmlns=\"http://www.w3.org/2000/svg\" height=\"24px\"viewBox=\"0 0 24 24\"\n",
       "       width=\"24px\">\n",
       "    <path d=\"M0 0h24v24H0V0z\" fill=\"none\"/>\n",
       "    <path d=\"M18.56 5.44l.94 2.06.94-2.06 2.06-.94-2.06-.94-.94-2.06-.94 2.06-2.06.94zm-11 1L8.5 8.5l.94-2.06 2.06-.94-2.06-.94L8.5 2.5l-.94 2.06-2.06.94zm10 10l.94 2.06.94-2.06 2.06-.94-2.06-.94-.94-2.06-.94 2.06-2.06.94z\"/><path d=\"M17.41 7.96l-1.37-1.37c-.4-.4-.92-.59-1.43-.59-.52 0-1.04.2-1.43.59L10.3 9.45l-7.72 7.72c-.78.78-.78 2.05 0 2.83L4 21.41c.39.39.9.59 1.41.59.51 0 1.02-.2 1.41-.59l7.78-7.78 2.81-2.81c.8-.78.8-2.07 0-2.86zM5.41 20L4 18.59l7.72-7.72 1.47 1.35L5.41 20z\"/>\n",
       "  </svg>\n",
       "      </button>\n",
       "      \n",
       "  <style>\n",
       "    .colab-df-container {\n",
       "      display:flex;\n",
       "      flex-wrap:wrap;\n",
       "      gap: 12px;\n",
       "    }\n",
       "\n",
       "    .colab-df-convert {\n",
       "      background-color: #E8F0FE;\n",
       "      border: none;\n",
       "      border-radius: 50%;\n",
       "      cursor: pointer;\n",
       "      display: none;\n",
       "      fill: #1967D2;\n",
       "      height: 32px;\n",
       "      padding: 0 0 0 0;\n",
       "      width: 32px;\n",
       "    }\n",
       "\n",
       "    .colab-df-convert:hover {\n",
       "      background-color: #E2EBFA;\n",
       "      box-shadow: 0px 1px 2px rgba(60, 64, 67, 0.3), 0px 1px 3px 1px rgba(60, 64, 67, 0.15);\n",
       "      fill: #174EA6;\n",
       "    }\n",
       "\n",
       "    [theme=dark] .colab-df-convert {\n",
       "      background-color: #3B4455;\n",
       "      fill: #D2E3FC;\n",
       "    }\n",
       "\n",
       "    [theme=dark] .colab-df-convert:hover {\n",
       "      background-color: #434B5C;\n",
       "      box-shadow: 0px 1px 3px 1px rgba(0, 0, 0, 0.15);\n",
       "      filter: drop-shadow(0px 1px 2px rgba(0, 0, 0, 0.3));\n",
       "      fill: #FFFFFF;\n",
       "    }\n",
       "  </style>\n",
       "\n",
       "      <script>\n",
       "        const buttonEl =\n",
       "          document.querySelector('#df-d117d46e-b536-4073-8450-6b1ffb5191d3 button.colab-df-convert');\n",
       "        buttonEl.style.display =\n",
       "          google.colab.kernel.accessAllowed ? 'block' : 'none';\n",
       "\n",
       "        async function convertToInteractive(key) {\n",
       "          const element = document.querySelector('#df-d117d46e-b536-4073-8450-6b1ffb5191d3');\n",
       "          const dataTable =\n",
       "            await google.colab.kernel.invokeFunction('convertToInteractive',\n",
       "                                                     [key], {});\n",
       "          if (!dataTable) return;\n",
       "\n",
       "          const docLinkHtml = 'Like what you see? Visit the ' +\n",
       "            '<a target=\"_blank\" href=https://colab.research.google.com/notebooks/data_table.ipynb>data table notebook</a>'\n",
       "            + ' to learn more about interactive tables.';\n",
       "          element.innerHTML = '';\n",
       "          dataTable['output_type'] = 'display_data';\n",
       "          await google.colab.output.renderOutput(dataTable, element);\n",
       "          const docLink = document.createElement('div');\n",
       "          docLink.innerHTML = docLinkHtml;\n",
       "          element.appendChild(docLink);\n",
       "        }\n",
       "      </script>\n",
       "    </div>\n",
       "  </div>\n",
       "  "
      ],
      "text/plain": [
       "            model  accuracy\n",
       "0          LogReg  0.445783\n",
       "1     Naive Bayes  0.409639\n",
       "2             KNN  0.277108\n",
       "3             SVM  0.385542\n",
       "4   Decision Tree  0.349398\n",
       "5    RandomForest  0.337349\n",
       "6         Bagging  0.385542\n",
       "7        AdaBoost  0.277108\n",
       "8  Gradient Boost  0.349398\n",
       "9         XGBoost  0.385542"
      ]
     },
     "execution_count": 23,
     "metadata": {},
     "output_type": "execute_result"
    }
   ],
   "source": [
    "ml_models(X_train_bow.toarray(), y_train, X_test_bow.toarray(), y_test)"
   ]
  },
  {
   "cell_type": "markdown",
   "metadata": {
    "id": "IS3ucWe14DNw"
   },
   "source": [
    "The accuracy using BOW is more or less similar to those we got using TF-IDF"
   ]
  },
  {
   "cell_type": "markdown",
   "metadata": {
    "id": "l8NzH2RkmPmn"
   },
   "source": [
    "Hyperparameter Tuning:"
   ]
  },
  {
   "cell_type": "code",
   "execution_count": 24,
   "metadata": {
    "id": "_v7EYzqCp2ry"
   },
   "outputs": [],
   "source": [
    "from sklearn.model_selection import RepeatedStratifiedKFold"
   ]
  },
  {
   "cell_type": "code",
   "execution_count": 25,
   "metadata": {
    "id": "nDRTeAJ5p-zG"
   },
   "outputs": [],
   "source": [
    "from sklearn.model_selection import GridSearchCV, RandomizedSearchCV"
   ]
  },
  {
   "cell_type": "code",
   "execution_count": 26,
   "metadata": {
    "id": "c0BFjaUZm9Am"
   },
   "outputs": [],
   "source": [
    "def RF_grid_search(X,y,nfolds):\n",
    "    \n",
    "    #create a dictionary of all values we want to test\n",
    "    param = {'criterion':['gini','entropy'],'max_depth': np.arange(11, 19), # if the outcome is 18, re use (16, 22)\n",
    "                  'n_estimators': [50, 100]} # min_samples_split=2,\n",
    "    #randomForest model without gridSrearch\n",
    "    rf = RandomForestClassifier() # without specifying any parameter\n",
    "    #use gridsearch to val all values\n",
    "    rf_gscv = GridSearchCV(estimator = rf, param_grid = param, cv=nfolds)\n",
    "    #fit model to data\n",
    "    rf_gscv.fit(X, y) # with grid search\n",
    "    #find score\n",
    "    score_gscv = rf_gscv.score(X, y) # with grid search\n",
    "    \n",
    "    return rf_gscv.best_params_, rf_gscv, score_gscv  "
   ]
  },
  {
   "cell_type": "code",
   "execution_count": 27,
   "metadata": {
    "colab": {
     "base_uri": "https://localhost:8080/"
    },
    "id": "tlapUXpxnnrs",
    "outputId": "d924d70b-f3c5-46a0-cbcb-bbe100c228b7"
   },
   "outputs": [
    {
     "name": "stdout",
     "output_type": "stream",
     "text": [
      "{'criterion': 'entropy', 'max_depth': 14, 'n_estimators': 100}\n"
     ]
    }
   ],
   "source": [
    "best_params, rf_gscv, score_gscv = RF_grid_search(X_train_tf, y_train,4)\n",
    "print(best_params)\n",
    "acc_RF_gs = score_gscv\n",
    "\n",
    "acc_val_RF_gs = rf_gscv.score(X_test_tf,y_test)\n",
    "predictions_RF_gs = rf_gscv.predict(X_test_tf) \n",
    "f1_RF_gs = f1_score(y_test,predictions_RF_gs, average='micro')\n"
   ]
  },
  {
   "cell_type": "code",
   "execution_count": 28,
   "metadata": {
    "colab": {
     "base_uri": "https://localhost:8080/"
    },
    "id": "hbuAS0Ghnnuw",
    "outputId": "9d545189-797c-4bc6-ec7f-f0c87e6ef89d"
   },
   "outputs": [
    {
     "name": "stdout",
     "output_type": "stream",
     "text": [
      "0.3614457831325302\n"
     ]
    }
   ],
   "source": [
    "print(f1_RF_gs)\n"
   ]
  },
  {
   "cell_type": "code",
   "execution_count": 29,
   "metadata": {
    "colab": {
     "base_uri": "https://localhost:8080/"
    },
    "id": "zbPR_4Pynnxw",
    "outputId": "3efbea81-1167-42eb-9353-fa9f2301064b"
   },
   "outputs": [
    {
     "name": "stdout",
     "output_type": "stream",
     "text": [
      "0.9298780487804879 0.3614457831325301\n"
     ]
    }
   ],
   "source": [
    "print(acc_RF_gs, acc_val_RF_gs) \n"
   ]
  },
  {
   "cell_type": "code",
   "execution_count": 30,
   "metadata": {
    "colab": {
     "base_uri": "https://localhost:8080/"
    },
    "id": "0HxSTH1wmFlC",
    "outputId": "2496cfab-a390-4816-ea3d-253b12d7fc3f"
   },
   "outputs": [
    {
     "name": "stdout",
     "output_type": "stream",
     "text": [
      "              precision    recall  f1-score   support\n",
      "\n",
      "           I       1.00      0.50      0.67         4\n",
      "          II       0.56      0.24      0.33        21\n",
      "         III       0.33      0.09      0.14        22\n",
      "          IV       0.32      0.78      0.45        27\n",
      "           V       0.00      0.00      0.00         9\n",
      "\n",
      "    accuracy                           0.36        83\n",
      "   macro avg       0.44      0.32      0.32        83\n",
      "weighted avg       0.38      0.36      0.30        83\n",
      "\n"
     ]
    }
   ],
   "source": [
    "print(classification_report(y_test, predictions_RF_gs))"
   ]
  },
  {
   "cell_type": "markdown",
   "metadata": {
    "id": "4RFxMlbApUzh"
   },
   "source": [
    "Hyperparameter tuning for Bagging classifier"
   ]
  },
  {
   "cell_type": "code",
   "execution_count": 31,
   "metadata": {
    "id": "TornP5pmnn0j"
   },
   "outputs": [],
   "source": [
    "def Bag_grid_search(X,y,nfolds):\n",
    "    \n",
    "    #create a dictionary of all values we want to test\n",
    "    param = {'n_estimators': [50, 100, 200]} # min_samples_split=2,\n",
    "    #randomForest model without gridSrearch\n",
    "    bg = BaggingClassifier(bootstrap=True, oob_score=True, random_state=22) # without specifying any parameter\n",
    "    #use gridsearch to val all values\n",
    "    bg_gscv = GridSearchCV(estimator = bg, param_grid = param, cv=nfolds)\n",
    "    #fit model to data\n",
    "    bg_gscv.fit(X, y) # with grid search\n",
    "    #find score\n",
    "    score_gscv = bg_gscv.score(X, y) # with grid search\n",
    "    \n",
    "    return bg_gscv.best_params_, bg_gscv, score_gscv "
   ]
  },
  {
   "cell_type": "code",
   "execution_count": 32,
   "metadata": {
    "colab": {
     "base_uri": "https://localhost:8080/"
    },
    "id": "7XYh5iWAnn25",
    "outputId": "70f780d3-3e15-4f6b-dd88-6d570bc8f5ed"
   },
   "outputs": [
    {
     "name": "stdout",
     "output_type": "stream",
     "text": [
      "{'n_estimators': 100}\n"
     ]
    }
   ],
   "source": [
    "best_params, bg_gscv, score_gscv = Bag_grid_search(X_train_tf, y_train,4)\n",
    "print(best_params)\n",
    "acc_BG_gs = score_gscv\n",
    "acc_val_BG_gs = bg_gscv.score(X_test_tf,y_test)\n",
    "predictions_BG_gs = bg_gscv.predict(X_test_tf) \n",
    "f1_BG_gs = f1_score(y_test,predictions_BG_gs, average='micro')"
   ]
  },
  {
   "cell_type": "code",
   "execution_count": 33,
   "metadata": {
    "colab": {
     "base_uri": "https://localhost:8080/"
    },
    "id": "vlcnB2ySwmAS",
    "outputId": "927b1131-5a62-4add-dead-3e98f3842a6d"
   },
   "outputs": [
    {
     "name": "stdout",
     "output_type": "stream",
     "text": [
      "0.3373493975903614\n"
     ]
    }
   ],
   "source": [
    "print(f1_BG_gs)\n"
   ]
  },
  {
   "cell_type": "code",
   "execution_count": 34,
   "metadata": {
    "colab": {
     "base_uri": "https://localhost:8080/"
    },
    "id": "UfFdNEhNwmDl",
    "outputId": "52c4b106-bb92-4edc-f03b-4bb66f278ba9"
   },
   "outputs": [
    {
     "name": "stdout",
     "output_type": "stream",
     "text": [
      "1.0 0.3373493975903614\n"
     ]
    }
   ],
   "source": [
    "print(acc_BG_gs, acc_val_BG_gs) \n"
   ]
  },
  {
   "cell_type": "code",
   "execution_count": 35,
   "metadata": {
    "colab": {
     "base_uri": "https://localhost:8080/"
    },
    "id": "jLNQgmI_mXfm",
    "outputId": "3823e7d3-4c75-4fec-9d2e-62b76a451089"
   },
   "outputs": [
    {
     "name": "stdout",
     "output_type": "stream",
     "text": [
      "              precision    recall  f1-score   support\n",
      "\n",
      "           I       1.00      0.50      0.67         4\n",
      "          II       0.42      0.24      0.30        21\n",
      "         III       0.21      0.18      0.20        22\n",
      "          IV       0.34      0.63      0.44        27\n",
      "           V       0.00      0.00      0.00         9\n",
      "\n",
      "    accuracy                           0.34        83\n",
      "   macro avg       0.39      0.31      0.32        83\n",
      "weighted avg       0.32      0.34      0.30        83\n",
      "\n"
     ]
    }
   ],
   "source": [
    "print(classification_report(y_test, predictions_BG_gs))"
   ]
  },
  {
   "cell_type": "markdown",
   "metadata": {
    "id": "iRNguRIEw2e9"
   },
   "source": [
    "Hyperparameter tuning for XGBoost"
   ]
  },
  {
   "cell_type": "code",
   "execution_count": 36,
   "metadata": {
    "id": "iCiFHIH9wmGl"
   },
   "outputs": [],
   "source": [
    "def XGBoost_grid_search(X,y,nfolds):\n",
    "    \n",
    "    #create a dictionary of all values we want to test\n",
    "    param = {'learning_rate' :[0.05, 0.1,0.2], 'n_estimators':[50,100,200,300], 'max_depth':[5]} # min_samples_split=2,\n",
    "    #randomForest model without gridSrearch\n",
    "    xg = XGBClassifier() # without specifying any parameter\n",
    "    #use gridsearch to val all values\n",
    "    xg_gscv = GridSearchCV(estimator = xg, param_grid = param, cv=nfolds)\n",
    "    #fit model to data\n",
    "    xg_gscv.fit(X, y) # with grid search\n",
    "    #find score\n",
    "    score_gscv = xg_gscv.score(X, y) # with grid search\n",
    "    \n",
    "    return xg_gscv.best_params_, xg_gscv, score_gscv  \n"
   ]
  },
  {
   "cell_type": "code",
   "execution_count": 37,
   "metadata": {
    "colab": {
     "base_uri": "https://localhost:8080/"
    },
    "id": "2aUONbsLwmJe",
    "outputId": "7776cc0b-4a93-4de6-d951-325829cd399f"
   },
   "outputs": [
    {
     "name": "stdout",
     "output_type": "stream",
     "text": [
      "{'learning_rate': 0.05, 'max_depth': 5, 'n_estimators': 100}\n"
     ]
    }
   ],
   "source": [
    "best_params, xg_gscv, score_gscv = XGBoost_grid_search(X_train_tf, y_train,4)\n",
    "print(best_params)\n",
    "acc_XG_gs = score_gscv\n",
    "acc_val_XG_gs = xg_gscv.score(X_test_tf,y_test)\n",
    "predictions_XG_gs = xg_gscv.predict(X_test_tf) \n",
    "f1_XG_gs = f1_score(y_test,predictions_XG_gs, average='micro')"
   ]
  },
  {
   "cell_type": "code",
   "execution_count": 38,
   "metadata": {
    "colab": {
     "base_uri": "https://localhost:8080/"
    },
    "id": "FZbhlLjywmMU",
    "outputId": "09e387e9-f96e-4ed1-a5c1-1c27e2d7e427"
   },
   "outputs": [
    {
     "name": "stdout",
     "output_type": "stream",
     "text": [
      "acc_XG_gs_o--> 0.9725609756097561\n",
      "acc_val_XG_gs_o--> 0.2891566265060241\n",
      "f1_XG_gs_o--> 0.2891566265060241\n"
     ]
    }
   ],
   "source": [
    "print('acc_XG_gs_o-->',acc_XG_gs)\n",
    "print('acc_val_XG_gs_o-->',acc_val_XG_gs)\n",
    "print('f1_XG_gs_o-->',f1_XG_gs)"
   ]
  },
  {
   "cell_type": "code",
   "execution_count": 39,
   "metadata": {
    "colab": {
     "base_uri": "https://localhost:8080/"
    },
    "id": "5DlT-uVQmg2r",
    "outputId": "105ed7a5-9493-46dd-ff2b-61556ab6662e"
   },
   "outputs": [
    {
     "name": "stdout",
     "output_type": "stream",
     "text": [
      "              precision    recall  f1-score   support\n",
      "\n",
      "           I       1.00      0.50      0.67         4\n",
      "          II       0.26      0.24      0.25        21\n",
      "         III       0.12      0.09      0.10        22\n",
      "          IV       0.33      0.56      0.42        27\n",
      "           V       0.00      0.00      0.00         9\n",
      "\n",
      "    accuracy                           0.29        83\n",
      "   macro avg       0.34      0.28      0.29        83\n",
      "weighted avg       0.25      0.29      0.26        83\n",
      "\n"
     ]
    }
   ],
   "source": [
    "print(classification_report(y_test, predictions_XG_gs))"
   ]
  },
  {
   "cell_type": "markdown",
   "metadata": {
    "id": "9JA9k6p62w7t"
   },
   "source": [
    "# Hyperparameter tuning for Logistic Regression"
   ]
  },
  {
   "cell_type": "code",
   "execution_count": 40,
   "metadata": {
    "id": "bCGZczDVxkA4"
   },
   "outputs": [],
   "source": [
    "def LR_grid_search(X,y,nfolds):\n",
    "    \n",
    "    #create a dictionary of all values we want to test\n",
    "    param = {'solver': ['newton-cg', 'lbfgs', 'liblinear', 'sag', 'saga'],\n",
    "                 'penalty': ['l2']}\n",
    "    #param = {'learning_rate' :[0.05, 0.1,0.2], 'n_estimators':[50,100,200,300], 'max_depth':[5]} # min_samples_split=2,\n",
    "    #randomForest model without gridSrearch\n",
    "    lr = LogisticRegression() # without specifying any parameter\n",
    "    #use gridsearch to val all values\n",
    "    lr_gscv = GridSearchCV(estimator = lr, param_grid = param, cv=nfolds)\n",
    "    #fit model to data\n",
    "    lr_gscv.fit(X, y) # with grid search\n",
    "    #find score\n",
    "    score_gscv = lr_gscv.score(X, y) # with grid search\n",
    "    \n",
    "    return lr_gscv.best_params_, lr_gscv, score_gscv  "
   ]
  },
  {
   "cell_type": "code",
   "execution_count": 41,
   "metadata": {
    "colab": {
     "base_uri": "https://localhost:8080/"
    },
    "id": "ioalVqLjeBMl",
    "outputId": "b3c537a5-b28d-406e-cb8e-b78bec4be9bb"
   },
   "outputs": [
    {
     "name": "stdout",
     "output_type": "stream",
     "text": [
      "{'penalty': 'l2', 'solver': 'saga'}\n"
     ]
    }
   ],
   "source": [
    "best_params, lr_gscv, score_gscv = LR_grid_search(X_train_tf, y_train,4)\n",
    "print(best_params)\n",
    "acc_LR_gs = score_gscv\n",
    "acc_val_LR_gs = lr_gscv.score(X_test_tf,y_test)\n",
    "predictions_LR_gs = lr_gscv.predict(X_test_tf) \n",
    "f1_LR_gs = f1_score(y_test,predictions_LR_gs, average='micro')"
   ]
  },
  {
   "cell_type": "code",
   "execution_count": 42,
   "metadata": {
    "colab": {
     "base_uri": "https://localhost:8080/"
    },
    "id": "gjoQpg-EjmeQ",
    "outputId": "5ad5d2dc-c555-4b24-d951-3c5b49338a94"
   },
   "outputs": [
    {
     "name": "stdout",
     "output_type": "stream",
     "text": [
      "0.37349397590361444\n"
     ]
    }
   ],
   "source": [
    "print(f1_LR_gs)\n"
   ]
  },
  {
   "cell_type": "code",
   "execution_count": 43,
   "metadata": {
    "colab": {
     "base_uri": "https://localhost:8080/"
    },
    "id": "Hppo-YCXjsjA",
    "outputId": "f6f82d0e-f576-4f82-ea4d-e78166fc5578"
   },
   "outputs": [
    {
     "name": "stdout",
     "output_type": "stream",
     "text": [
      "0.8902439024390244 0.37349397590361444\n"
     ]
    }
   ],
   "source": [
    "print(acc_LR_gs, acc_val_LR_gs) "
   ]
  },
  {
   "cell_type": "code",
   "execution_count": 44,
   "metadata": {
    "colab": {
     "base_uri": "https://localhost:8080/"
    },
    "id": "hL3upVetmlVB",
    "outputId": "ef8c1c24-ebdc-46f9-f8c6-6f1dac8e35e9"
   },
   "outputs": [
    {
     "name": "stdout",
     "output_type": "stream",
     "text": [
      "              precision    recall  f1-score   support\n",
      "\n",
      "           I       1.00      0.50      0.67         4\n",
      "          II       0.44      0.19      0.27        21\n",
      "         III       0.42      0.23      0.29        22\n",
      "          IV       0.33      0.74      0.46        27\n",
      "           V       0.00      0.00      0.00         9\n",
      "\n",
      "    accuracy                           0.37        83\n",
      "   macro avg       0.44      0.33      0.34        83\n",
      "weighted avg       0.38      0.37      0.33        83\n",
      "\n"
     ]
    }
   ],
   "source": [
    "print(classification_report(y_test, predictions_LR_gs))"
   ]
  },
  {
   "cell_type": "markdown",
   "metadata": {
    "id": "L4FgAcwAds3B"
   },
   "source": [
    "Plotting the Graph:"
   ]
  },
  {
   "cell_type": "code",
   "execution_count": 45,
   "metadata": {
    "colab": {
     "base_uri": "https://localhost:8080/"
    },
    "id": "4yE8TAyvdjdw",
    "outputId": "00ba385d-43cc-4eca-ca03-be8793a66cbf"
   },
   "outputs": [
    {
     "name": "stdout",
     "output_type": "stream",
     "text": [
      "{'Model': ['Logistic Regression', 'Random Forest', 'Bagging Classifier', 'XGBoost'], 'F1_score': [0.37349397590361444, 0.3614457831325302, 0.3373493975903614, 0.2891566265060241], 'Train Validation Accuracy': [0.8902439024390244, 0.9298780487804879, 1.0, 0.9725609756097561]}\n"
     ]
    }
   ],
   "source": [
    "d = {'Model': ['Logistic Regression','Random Forest', 'Bagging Classifier','XGBoost'], \n",
    "          'F1_score':[f1_LR_gs, f1_RF_gs, f1_BG_gs, f1_XG_gs],\n",
    "          'Train Validation Accuracy':[acc_LR_gs, acc_RF_gs, acc_BG_gs, acc_XG_gs] }\n",
    "\n",
    "#df_metrics = pd.DataFrame(d)\n",
    "\n",
    "print(d)"
   ]
  },
  {
   "cell_type": "code",
   "execution_count": 46,
   "metadata": {
    "colab": {
     "base_uri": "https://localhost:8080/",
     "height": 175
    },
    "id": "BCjN5_ndelEy",
    "outputId": "959995d9-18c8-48b8-f01e-c9b25444161d"
   },
   "outputs": [
    {
     "data": {
      "text/html": [
       "\n",
       "  <div id=\"df-bf16be56-d13b-400f-94fa-435cc957f11d\">\n",
       "    <div class=\"colab-df-container\">\n",
       "      <div>\n",
       "<style scoped>\n",
       "    .dataframe tbody tr th:only-of-type {\n",
       "        vertical-align: middle;\n",
       "    }\n",
       "\n",
       "    .dataframe tbody tr th {\n",
       "        vertical-align: top;\n",
       "    }\n",
       "\n",
       "    .dataframe thead th {\n",
       "        text-align: right;\n",
       "    }\n",
       "</style>\n",
       "<table border=\"1\" class=\"dataframe\">\n",
       "  <thead>\n",
       "    <tr style=\"text-align: right;\">\n",
       "      <th></th>\n",
       "      <th>Model</th>\n",
       "      <th>F1_score</th>\n",
       "      <th>Train Validation Accuracy</th>\n",
       "    </tr>\n",
       "  </thead>\n",
       "  <tbody>\n",
       "    <tr>\n",
       "      <th>0</th>\n",
       "      <td>Logistic Regression</td>\n",
       "      <td>0.373494</td>\n",
       "      <td>0.890244</td>\n",
       "    </tr>\n",
       "    <tr>\n",
       "      <th>1</th>\n",
       "      <td>Random Forest</td>\n",
       "      <td>0.361446</td>\n",
       "      <td>0.929878</td>\n",
       "    </tr>\n",
       "    <tr>\n",
       "      <th>2</th>\n",
       "      <td>Bagging Classifier</td>\n",
       "      <td>0.337349</td>\n",
       "      <td>1.000000</td>\n",
       "    </tr>\n",
       "    <tr>\n",
       "      <th>3</th>\n",
       "      <td>XGBoost</td>\n",
       "      <td>0.289157</td>\n",
       "      <td>0.972561</td>\n",
       "    </tr>\n",
       "  </tbody>\n",
       "</table>\n",
       "</div>\n",
       "      <button class=\"colab-df-convert\" onclick=\"convertToInteractive('df-bf16be56-d13b-400f-94fa-435cc957f11d')\"\n",
       "              title=\"Convert this dataframe to an interactive table.\"\n",
       "              style=\"display:none;\">\n",
       "        \n",
       "  <svg xmlns=\"http://www.w3.org/2000/svg\" height=\"24px\"viewBox=\"0 0 24 24\"\n",
       "       width=\"24px\">\n",
       "    <path d=\"M0 0h24v24H0V0z\" fill=\"none\"/>\n",
       "    <path d=\"M18.56 5.44l.94 2.06.94-2.06 2.06-.94-2.06-.94-.94-2.06-.94 2.06-2.06.94zm-11 1L8.5 8.5l.94-2.06 2.06-.94-2.06-.94L8.5 2.5l-.94 2.06-2.06.94zm10 10l.94 2.06.94-2.06 2.06-.94-2.06-.94-.94-2.06-.94 2.06-2.06.94z\"/><path d=\"M17.41 7.96l-1.37-1.37c-.4-.4-.92-.59-1.43-.59-.52 0-1.04.2-1.43.59L10.3 9.45l-7.72 7.72c-.78.78-.78 2.05 0 2.83L4 21.41c.39.39.9.59 1.41.59.51 0 1.02-.2 1.41-.59l7.78-7.78 2.81-2.81c.8-.78.8-2.07 0-2.86zM5.41 20L4 18.59l7.72-7.72 1.47 1.35L5.41 20z\"/>\n",
       "  </svg>\n",
       "      </button>\n",
       "      \n",
       "  <style>\n",
       "    .colab-df-container {\n",
       "      display:flex;\n",
       "      flex-wrap:wrap;\n",
       "      gap: 12px;\n",
       "    }\n",
       "\n",
       "    .colab-df-convert {\n",
       "      background-color: #E8F0FE;\n",
       "      border: none;\n",
       "      border-radius: 50%;\n",
       "      cursor: pointer;\n",
       "      display: none;\n",
       "      fill: #1967D2;\n",
       "      height: 32px;\n",
       "      padding: 0 0 0 0;\n",
       "      width: 32px;\n",
       "    }\n",
       "\n",
       "    .colab-df-convert:hover {\n",
       "      background-color: #E2EBFA;\n",
       "      box-shadow: 0px 1px 2px rgba(60, 64, 67, 0.3), 0px 1px 3px 1px rgba(60, 64, 67, 0.15);\n",
       "      fill: #174EA6;\n",
       "    }\n",
       "\n",
       "    [theme=dark] .colab-df-convert {\n",
       "      background-color: #3B4455;\n",
       "      fill: #D2E3FC;\n",
       "    }\n",
       "\n",
       "    [theme=dark] .colab-df-convert:hover {\n",
       "      background-color: #434B5C;\n",
       "      box-shadow: 0px 1px 3px 1px rgba(0, 0, 0, 0.15);\n",
       "      filter: drop-shadow(0px 1px 2px rgba(0, 0, 0, 0.3));\n",
       "      fill: #FFFFFF;\n",
       "    }\n",
       "  </style>\n",
       "\n",
       "      <script>\n",
       "        const buttonEl =\n",
       "          document.querySelector('#df-bf16be56-d13b-400f-94fa-435cc957f11d button.colab-df-convert');\n",
       "        buttonEl.style.display =\n",
       "          google.colab.kernel.accessAllowed ? 'block' : 'none';\n",
       "\n",
       "        async function convertToInteractive(key) {\n",
       "          const element = document.querySelector('#df-bf16be56-d13b-400f-94fa-435cc957f11d');\n",
       "          const dataTable =\n",
       "            await google.colab.kernel.invokeFunction('convertToInteractive',\n",
       "                                                     [key], {});\n",
       "          if (!dataTable) return;\n",
       "\n",
       "          const docLinkHtml = 'Like what you see? Visit the ' +\n",
       "            '<a target=\"_blank\" href=https://colab.research.google.com/notebooks/data_table.ipynb>data table notebook</a>'\n",
       "            + ' to learn more about interactive tables.';\n",
       "          element.innerHTML = '';\n",
       "          dataTable['output_type'] = 'display_data';\n",
       "          await google.colab.output.renderOutput(dataTable, element);\n",
       "          const docLink = document.createElement('div');\n",
       "          docLink.innerHTML = docLinkHtml;\n",
       "          element.appendChild(docLink);\n",
       "        }\n",
       "      </script>\n",
       "    </div>\n",
       "  </div>\n",
       "  "
      ],
      "text/plain": [
       "                 Model  F1_score  Train Validation Accuracy\n",
       "0  Logistic Regression  0.373494                   0.890244\n",
       "1        Random Forest  0.361446                   0.929878\n",
       "2   Bagging Classifier  0.337349                   1.000000\n",
       "3              XGBoost  0.289157                   0.972561"
      ]
     },
     "execution_count": 46,
     "metadata": {},
     "output_type": "execute_result"
    }
   ],
   "source": [
    "df_metrics = pd.DataFrame(d)\n",
    "df_metrics"
   ]
  },
  {
   "cell_type": "code",
   "execution_count": 47,
   "metadata": {
    "colab": {
     "base_uri": "https://localhost:8080/",
     "height": 428
    },
    "id": "IfUCelbLept6",
    "outputId": "3aa18a15-fe8e-4104-f42f-6c4084b90852"
   },
   "outputs": [
    {
     "data": {
      "image/png": "[encoded data removed]",
      "text/plain": [
       "<Figure size 720x504 with 1 Axes>"
      ]
     },
     "metadata": {
      "needs_background": "light"
     },
     "output_type": "display_data"
    }
   ],
   "source": [
    "plt.figure(figsize = (10,7))\n",
    "sns.set_style(\"darkgrid\")\n",
    "plt.plot(df_metrics['Model'], df_metrics['F1_score'],df_metrics['Train Validation Accuracy'], marker = '>', linestyle='--', label = 'f1_score')\n",
    "plt.legend(fontsize = 10)\n",
    "plt.show()\n"
   ]
  },
  {
   "cell_type": "markdown",
   "metadata": {
    "id": "yS4mz_iqojdO"
   },
   "source": [
    "# Now using Augmented data"
   ]
  },
  {
   "cell_type": "code",
   "execution_count": 48,
   "metadata": {
    "id": "KlQ5KRspey9O"
   },
   "outputs": [],
   "source": [
    "import pickle"
   ]
  },
  {
   "cell_type": "code",
   "execution_count": 49,
   "metadata": {
    "id": "KYWSH5uljqO5"
   },
   "outputs": [],
   "source": [
    "!git checkout Models"
   ]
  },
  {
   "cell_type": "code",
   "execution_count": 50,
   "metadata": {
    "colab": {
     "base_uri": "https://localhost:8080/"
    },
    "id": "IYvzOOlYjtkD",
    "outputId": "80495c4f-fe89-4ebd-c08a-39756a64cbc8"
   },
   "outputs": [
    {
     "name": "stdout",
     "output_type": "stream",
     "text": [
      "Already up to date.\n"
     ]
    }
   ],
   "source": [
    "!git pull"
   ]
  },
  {
   "cell_type": "code",
   "execution_count": 52,
   "metadata": {
    "id": "rTfARQNFonpE"
   },
   "outputs": [],
   "source": [
    "infile = open('/content/drive/MyDrive/AIML/Capstone/Train_Test_augment.pickle','rb')\n",
    "X_train,y_train,X_test,y_test = pickle.load(infile)"
   ]
  },
  {
   "cell_type": "code",
   "execution_count": 53,
   "metadata": {
    "id": "Eod5-Tf0twst"
   },
   "outputs": [],
   "source": [
    "from sklearn.preprocessing import LabelEncoder"
   ]
  },
  {
   "cell_type": "code",
   "execution_count": 54,
   "metadata": {
    "id": "r7zMzXE5r4nU"
   },
   "outputs": [],
   "source": [
    "infile = open('/content/drive/MyDrive/AIML/Capstone/parameters.pickle','rb')"
   ]
  },
  {
   "cell_type": "code",
   "execution_count": 55,
   "metadata": {
    "id": "ni3D3d45sKPr"
   },
   "outputs": [],
   "source": [
    "le,tok = pickle.load(infile)"
   ]
  },
  {
   "cell_type": "code",
   "execution_count": 56,
   "metadata": {
    "colab": {
     "base_uri": "https://localhost:8080/"
    },
    "id": "H6swyJ8nsvNj",
    "outputId": "22f55a41-a99b-456e-889d-c49461da0e26"
   },
   "outputs": [
    {
     "data": {
      "text/plain": [
       "LabelEncoder()"
      ]
     },
     "execution_count": 56,
     "metadata": {},
     "output_type": "execute_result"
    }
   ],
   "source": [
    "y = industry_df['Potential_Accident_Level']\n",
    "le = LabelEncoder()\n",
    "le.fit(y)"
   ]
  },
  {
   "cell_type": "code",
   "execution_count": 57,
   "metadata": {
    "colab": {
     "base_uri": "https://localhost:8080/"
    },
    "id": "5BDyeE_tsQa5",
    "outputId": "ccc5f2db-24da-4343-e699-6848448f2d18"
   },
   "outputs": [
    {
     "name": "stdout",
     "output_type": "stream",
     "text": [
      "[[0. 0. 1. 0. 0.]\n",
      " [0. 1. 0. 0. 0.]\n",
      " [0. 0. 1. 0. 0.]\n",
      " ...\n",
      " [0. 0. 0. 1. 0.]\n",
      " [0. 0. 0. 1. 0.]\n",
      " [0. 0. 0. 0. 1.]]\n"
     ]
    }
   ],
   "source": [
    "print(y_train)"
   ]
  },
  {
   "cell_type": "code",
   "execution_count": 58,
   "metadata": {
    "id": "h0VjI6cwsXSG"
   },
   "outputs": [],
   "source": [
    "import numpy as np"
   ]
  },
  {
   "cell_type": "code",
   "execution_count": 59,
   "metadata": {
    "id": "m_4js6WN2Z-w"
   },
   "outputs": [],
   "source": [
    "y_train_n = np.argmax(y_train,axis = 1)"
   ]
  },
  {
   "cell_type": "code",
   "execution_count": 60,
   "metadata": {
    "id": "0FuH1Wiq2la1"
   },
   "outputs": [],
   "source": [
    "y_test_n = np.argmax(y_test,axis = 1)"
   ]
  },
  {
   "cell_type": "markdown",
   "metadata": {
    "id": "06aMJ6qmqYqW"
   },
   "source": [
    "## Now we build all ML models and again re-run the hyperparameter tuning and compare"
   ]
  },
  {
   "cell_type": "code",
   "execution_count": 61,
   "metadata": {
    "colab": {
     "base_uri": "https://localhost:8080/",
     "height": 363
    },
    "id": "RUyziHazovj6",
    "outputId": "ea895746-7e86-4ee3-ffd2-fae4e621a30f"
   },
   "outputs": [
    {
     "data": {
      "text/html": [
       "\n",
       "  <div id=\"df-dcf6f87b-fac8-404a-a6b3-c0e489a9be8e\">\n",
       "    <div class=\"colab-df-container\">\n",
       "      <div>\n",
       "<style scoped>\n",
       "    .dataframe tbody tr th:only-of-type {\n",
       "        vertical-align: middle;\n",
       "    }\n",
       "\n",
       "    .dataframe tbody tr th {\n",
       "        vertical-align: top;\n",
       "    }\n",
       "\n",
       "    .dataframe thead th {\n",
       "        text-align: right;\n",
       "    }\n",
       "</style>\n",
       "<table border=\"1\" class=\"dataframe\">\n",
       "  <thead>\n",
       "    <tr style=\"text-align: right;\">\n",
       "      <th></th>\n",
       "      <th>model</th>\n",
       "      <th>accuracy</th>\n",
       "    </tr>\n",
       "  </thead>\n",
       "  <tbody>\n",
       "    <tr>\n",
       "      <th>0</th>\n",
       "      <td>LogReg</td>\n",
       "      <td>0.168675</td>\n",
       "    </tr>\n",
       "    <tr>\n",
       "      <th>1</th>\n",
       "      <td>Naive Bayes</td>\n",
       "      <td>0.240964</td>\n",
       "    </tr>\n",
       "    <tr>\n",
       "      <th>2</th>\n",
       "      <td>KNN</td>\n",
       "      <td>0.204819</td>\n",
       "    </tr>\n",
       "    <tr>\n",
       "      <th>3</th>\n",
       "      <td>SVM</td>\n",
       "      <td>0.337349</td>\n",
       "    </tr>\n",
       "    <tr>\n",
       "      <th>4</th>\n",
       "      <td>Decision Tree</td>\n",
       "      <td>0.313253</td>\n",
       "    </tr>\n",
       "    <tr>\n",
       "      <th>5</th>\n",
       "      <td>RandomForest</td>\n",
       "      <td>0.325301</td>\n",
       "    </tr>\n",
       "    <tr>\n",
       "      <th>6</th>\n",
       "      <td>Bagging</td>\n",
       "      <td>0.301205</td>\n",
       "    </tr>\n",
       "    <tr>\n",
       "      <th>7</th>\n",
       "      <td>AdaBoost</td>\n",
       "      <td>0.277108</td>\n",
       "    </tr>\n",
       "    <tr>\n",
       "      <th>8</th>\n",
       "      <td>Gradient Boost</td>\n",
       "      <td>0.325301</td>\n",
       "    </tr>\n",
       "    <tr>\n",
       "      <th>9</th>\n",
       "      <td>XGBoost</td>\n",
       "      <td>0.301205</td>\n",
       "    </tr>\n",
       "  </tbody>\n",
       "</table>\n",
       "</div>\n",
       "      <button class=\"colab-df-convert\" onclick=\"convertToInteractive('df-dcf6f87b-fac8-404a-a6b3-c0e489a9be8e')\"\n",
       "              title=\"Convert this dataframe to an interactive table.\"\n",
       "              style=\"display:none;\">\n",
       "        \n",
       "  <svg xmlns=\"http://www.w3.org/2000/svg\" height=\"24px\"viewBox=\"0 0 24 24\"\n",
       "       width=\"24px\">\n",
       "    <path d=\"M0 0h24v24H0V0z\" fill=\"none\"/>\n",
       "    <path d=\"M18.56 5.44l.94 2.06.94-2.06 2.06-.94-2.06-.94-.94-2.06-.94 2.06-2.06.94zm-11 1L8.5 8.5l.94-2.06 2.06-.94-2.06-.94L8.5 2.5l-.94 2.06-2.06.94zm10 10l.94 2.06.94-2.06 2.06-.94-2.06-.94-.94-2.06-.94 2.06-2.06.94z\"/><path d=\"M17.41 7.96l-1.37-1.37c-.4-.4-.92-.59-1.43-.59-.52 0-1.04.2-1.43.59L10.3 9.45l-7.72 7.72c-.78.78-.78 2.05 0 2.83L4 21.41c.39.39.9.59 1.41.59.51 0 1.02-.2 1.41-.59l7.78-7.78 2.81-2.81c.8-.78.8-2.07 0-2.86zM5.41 20L4 18.59l7.72-7.72 1.47 1.35L5.41 20z\"/>\n",
       "  </svg>\n",
       "      </button>\n",
       "      \n",
       "  <style>\n",
       "    .colab-df-container {\n",
       "      display:flex;\n",
       "      flex-wrap:wrap;\n",
       "      gap: 12px;\n",
       "    }\n",
       "\n",
       "    .colab-df-convert {\n",
       "      background-color: #E8F0FE;\n",
       "      border: none;\n",
       "      border-radius: 50%;\n",
       "      cursor: pointer;\n",
       "      display: none;\n",
       "      fill: #1967D2;\n",
       "      height: 32px;\n",
       "      padding: 0 0 0 0;\n",
       "      width: 32px;\n",
       "    }\n",
       "\n",
       "    .colab-df-convert:hover {\n",
       "      background-color: #E2EBFA;\n",
       "      box-shadow: 0px 1px 2px rgba(60, 64, 67, 0.3), 0px 1px 3px 1px rgba(60, 64, 67, 0.15);\n",
       "      fill: #174EA6;\n",
       "    }\n",
       "\n",
       "    [theme=dark] .colab-df-convert {\n",
       "      background-color: #3B4455;\n",
       "      fill: #D2E3FC;\n",
       "    }\n",
       "\n",
       "    [theme=dark] .colab-df-convert:hover {\n",
       "      background-color: #434B5C;\n",
       "      box-shadow: 0px 1px 3px 1px rgba(0, 0, 0, 0.15);\n",
       "      filter: drop-shadow(0px 1px 2px rgba(0, 0, 0, 0.3));\n",
       "      fill: #FFFFFF;\n",
       "    }\n",
       "  </style>\n",
       "\n",
       "      <script>\n",
       "        const buttonEl =\n",
       "          document.querySelector('#df-dcf6f87b-fac8-404a-a6b3-c0e489a9be8e button.colab-df-convert');\n",
       "        buttonEl.style.display =\n",
       "          google.colab.kernel.accessAllowed ? 'block' : 'none';\n",
       "\n",
       "        async function convertToInteractive(key) {\n",
       "          const element = document.querySelector('#df-dcf6f87b-fac8-404a-a6b3-c0e489a9be8e');\n",
       "          const dataTable =\n",
       "            await google.colab.kernel.invokeFunction('convertToInteractive',\n",
       "                                                     [key], {});\n",
       "          if (!dataTable) return;\n",
       "\n",
       "          const docLinkHtml = 'Like what you see? Visit the ' +\n",
       "            '<a target=\"_blank\" href=https://colab.research.google.com/notebooks/data_table.ipynb>data table notebook</a>'\n",
       "            + ' to learn more about interactive tables.';\n",
       "          element.innerHTML = '';\n",
       "          dataTable['output_type'] = 'display_data';\n",
       "          await google.colab.output.renderOutput(dataTable, element);\n",
       "          const docLink = document.createElement('div');\n",
       "          docLink.innerHTML = docLinkHtml;\n",
       "          element.appendChild(docLink);\n",
       "        }\n",
       "      </script>\n",
       "    </div>\n",
       "  </div>\n",
       "  "
      ],
      "text/plain": [
       "            model  accuracy\n",
       "0          LogReg  0.168675\n",
       "1     Naive Bayes  0.240964\n",
       "2             KNN  0.204819\n",
       "3             SVM  0.337349\n",
       "4   Decision Tree  0.313253\n",
       "5    RandomForest  0.325301\n",
       "6         Bagging  0.301205\n",
       "7        AdaBoost  0.277108\n",
       "8  Gradient Boost  0.325301\n",
       "9         XGBoost  0.301205"
      ]
     },
     "execution_count": 61,
     "metadata": {},
     "output_type": "execute_result"
    }
   ],
   "source": [
    "ml_models(X_train, y_train_n, X_test, y_test_n)"
   ]
  },
  {
   "cell_type": "code",
   "execution_count": 62,
   "metadata": {
    "colab": {
     "base_uri": "https://localhost:8080/"
    },
    "id": "8grb6jTOou-Y",
    "outputId": "6be3086e-937e-495b-b35e-0f76c4298307"
   },
   "outputs": [
    {
     "name": "stdout",
     "output_type": "stream",
     "text": [
      "{'criterion': 'entropy', 'max_depth': 15, 'n_estimators': 100}\n"
     ]
    }
   ],
   "source": [
    "best_params, rf_gscv, score_gscv = RF_grid_search(X_train, y_train_n,4)\n",
    "print(best_params)\n",
    "acc_RF_gs_aug = score_gscv\n",
    "\n",
    "acc_val_RF_gs_aug = rf_gscv.score(X_test,y_test_n)\n",
    "predictions_RF_gs_aug = rf_gscv.predict(X_test) \n",
    "f1_RF_gs_aug = f1_score(y_test_n,predictions_RF_gs_aug, average='micro')\n"
   ]
  },
  {
   "cell_type": "code",
   "execution_count": 63,
   "metadata": {
    "colab": {
     "base_uri": "https://localhost:8080/"
    },
    "id": "oO3LOiui4O6_",
    "outputId": "69a63701-d6ee-4057-b2bc-04799d3ca4a9"
   },
   "outputs": [
    {
     "name": "stdout",
     "output_type": "stream",
     "text": [
      "0.3373493975903614\n"
     ]
    }
   ],
   "source": [
    "print(f1_RF_gs_aug)\n"
   ]
  },
  {
   "cell_type": "code",
   "execution_count": 64,
   "metadata": {
    "colab": {
     "base_uri": "https://localhost:8080/"
    },
    "id": "2KyWvq6U4rhD",
    "outputId": "62ef914b-2437-43e3-de79-65a5231dddd2"
   },
   "outputs": [
    {
     "name": "stdout",
     "output_type": "stream",
     "text": [
      "1.0 0.3373493975903614\n"
     ]
    }
   ],
   "source": [
    "print(acc_RF_gs_aug, acc_val_RF_gs_aug) "
   ]
  },
  {
   "cell_type": "code",
   "execution_count": 65,
   "metadata": {
    "colab": {
     "base_uri": "https://localhost:8080/"
    },
    "id": "h8HLKYeM9d5f",
    "outputId": "b55db506-517a-4a5e-d1b8-0a6104d65647"
   },
   "outputs": [
    {
     "name": "stdout",
     "output_type": "stream",
     "text": [
      "              precision    recall  f1-score   support\n",
      "\n",
      "           0       0.00      0.00      0.00         9\n",
      "           1       0.29      0.23      0.26        22\n",
      "           2       0.26      0.45      0.33        20\n",
      "           3       0.45      0.45      0.45        31\n",
      "           4       0.00      0.00      0.00         1\n",
      "\n",
      "    accuracy                           0.34        83\n",
      "   macro avg       0.20      0.23      0.21        83\n",
      "weighted avg       0.31      0.34      0.32        83\n",
      "\n"
     ]
    }
   ],
   "source": [
    "print(classification_report(y_test_n, predictions_RF_gs_aug))"
   ]
  },
  {
   "cell_type": "code",
   "execution_count": 66,
   "metadata": {
    "id": "zBNuMUv69ok2"
   },
   "outputs": [],
   "source": [
    "### Now for BAgging classifier"
   ]
  },
  {
   "cell_type": "code",
   "execution_count": 67,
   "metadata": {
    "colab": {
     "base_uri": "https://localhost:8080/"
    },
    "id": "4uD7xTYT9mke",
    "outputId": "7e460ab5-57f5-42ba-e6c5-4ee50051c8b5"
   },
   "outputs": [
    {
     "name": "stdout",
     "output_type": "stream",
     "text": [
      "{'n_estimators': 200}\n"
     ]
    }
   ],
   "source": [
    "best_params, bg_gscv_aug, score_gscv_aug = Bag_grid_search(X_train, y_train_n,4)\n",
    "print(best_params)\n",
    "acc_BG_gs_aug = score_gscv_aug\n",
    "acc_val_BG_gs_aug = bg_gscv_aug.score(X_test,y_test_n)\n",
    "predictions_BG_gs_aug = bg_gscv_aug.predict(X_test) \n",
    "f1_BG_gs_aug = f1_score(y_test_n,predictions_BG_gs_aug, average='micro')"
   ]
  },
  {
   "cell_type": "code",
   "execution_count": 68,
   "metadata": {
    "colab": {
     "base_uri": "https://localhost:8080/"
    },
    "id": "fT2K3TQk-HO7",
    "outputId": "97493d89-7eae-49b8-fc65-a47b54bc5941"
   },
   "outputs": [
    {
     "name": "stdout",
     "output_type": "stream",
     "text": [
      "0.3493975903614458\n"
     ]
    }
   ],
   "source": [
    "print(f1_BG_gs_aug)"
   ]
  },
  {
   "cell_type": "code",
   "execution_count": 69,
   "metadata": {
    "colab": {
     "base_uri": "https://localhost:8080/"
    },
    "id": "5bTZ-Xzi-UYA",
    "outputId": "9877b3e0-0df2-449a-ce9f-359a391d3957"
   },
   "outputs": [
    {
     "name": "stdout",
     "output_type": "stream",
     "text": [
      "1.0 0.3493975903614458\n"
     ]
    }
   ],
   "source": [
    "print(acc_BG_gs_aug, acc_val_BG_gs_aug) "
   ]
  },
  {
   "cell_type": "code",
   "execution_count": 70,
   "metadata": {
    "colab": {
     "base_uri": "https://localhost:8080/"
    },
    "id": "cfp1bi3U-ZAY",
    "outputId": "4278fc00-0fa8-4049-a89a-7d89cd4b8a4b"
   },
   "outputs": [
    {
     "name": "stdout",
     "output_type": "stream",
     "text": [
      "              precision    recall  f1-score   support\n",
      "\n",
      "           0       0.00      0.00      0.00         9\n",
      "           1       0.25      0.23      0.24        22\n",
      "           2       0.31      0.55      0.39        20\n",
      "           3       0.50      0.42      0.46        31\n",
      "           4       0.00      0.00      0.00         1\n",
      "\n",
      "    accuracy                           0.35        83\n",
      "   macro avg       0.21      0.24      0.22        83\n",
      "weighted avg       0.33      0.35      0.33        83\n",
      "\n"
     ]
    }
   ],
   "source": [
    "print(classification_report(y_test_n, predictions_BG_gs_aug))"
   ]
  },
  {
   "cell_type": "code",
   "execution_count": 71,
   "metadata": {
    "id": "Mhd8vnUS-fCA"
   },
   "outputs": [],
   "source": [
    "### Using XGBoost"
   ]
  },
  {
   "cell_type": "code",
   "execution_count": 72,
   "metadata": {
    "colab": {
     "base_uri": "https://localhost:8080/"
    },
    "id": "JXSnuSZC-kBz",
    "outputId": "c18be11c-6f27-447d-da9b-ecf5b2b1eeef"
   },
   "outputs": [
    {
     "name": "stdout",
     "output_type": "stream",
     "text": [
      "{'learning_rate': 0.1, 'max_depth': 5, 'n_estimators': 200}\n"
     ]
    }
   ],
   "source": [
    "best_params, xg_gscv_aug, score_gscv_aug = XGBoost_grid_search(X_train, y_train_n,4)\n",
    "print(best_params)\n",
    "acc_XG_gs_aug = score_gscv_aug\n",
    "acc_val_XG_gs_aug = xg_gscv_aug.score(X_test,y_test_n)\n",
    "predictions_XG_gs_aug = xg_gscv_aug.predict(X_test) \n",
    "f1_XG_gs_aug = f1_score(y_test_n,predictions_XG_gs_aug, average='micro')"
   ]
  },
  {
   "cell_type": "code",
   "execution_count": 73,
   "metadata": {
    "colab": {
     "base_uri": "https://localhost:8080/"
    },
    "id": "9K5ps_qE-8j1",
    "outputId": "3da39b31-473d-4597-eb6b-4f256b1599a0"
   },
   "outputs": [
    {
     "name": "stdout",
     "output_type": "stream",
     "text": [
      "0.3132530120481928\n"
     ]
    }
   ],
   "source": [
    "print(f1_XG_gs_aug)"
   ]
  },
  {
   "cell_type": "code",
   "execution_count": 74,
   "metadata": {
    "colab": {
     "base_uri": "https://localhost:8080/"
    },
    "id": "FLShKBz1_u33",
    "outputId": "04cbabd8-7482-4138-d793-87dfed1fc3af"
   },
   "outputs": [
    {
     "name": "stdout",
     "output_type": "stream",
     "text": [
      "1.0 0.3132530120481928\n"
     ]
    }
   ],
   "source": [
    "print(acc_XG_gs_aug, acc_val_XG_gs_aug) "
   ]
  },
  {
   "cell_type": "code",
   "execution_count": 75,
   "metadata": {
    "colab": {
     "base_uri": "https://localhost:8080/"
    },
    "id": "mYsJX8ty_zv6",
    "outputId": "4eb0c968-0080-408c-b1c4-6c650def4ffe"
   },
   "outputs": [
    {
     "name": "stdout",
     "output_type": "stream",
     "text": [
      "              precision    recall  f1-score   support\n",
      "\n",
      "           0       0.00      0.00      0.00         9\n",
      "           1       0.37      0.32      0.34        22\n",
      "           2       0.23      0.40      0.29        20\n",
      "           3       0.42      0.35      0.39        31\n",
      "           4       0.00      0.00      0.00         1\n",
      "\n",
      "    accuracy                           0.31        83\n",
      "   macro avg       0.20      0.21      0.20        83\n",
      "weighted avg       0.31      0.31      0.30        83\n",
      "\n"
     ]
    }
   ],
   "source": [
    "print(classification_report(y_test_n, predictions_XG_gs_aug))"
   ]
  },
  {
   "cell_type": "code",
   "execution_count": 76,
   "metadata": {
    "id": "0VfyEVPD_3oX"
   },
   "outputs": [],
   "source": [
    "## Using Logistic Regression"
   ]
  },
  {
   "cell_type": "code",
   "execution_count": 77,
   "metadata": {
    "colab": {
     "base_uri": "https://localhost:8080/"
    },
    "id": "DY4q-_hq_6ev",
    "outputId": "6047fb72-b9dd-4829-a853-c4c3502e80f3"
   },
   "outputs": [
    {
     "name": "stdout",
     "output_type": "stream",
     "text": [
      "{'penalty': 'l2', 'solver': 'saga'}\n"
     ]
    }
   ],
   "source": [
    "best_params, lr_gscv_aug, score_gscv_aug = LR_grid_search(X_train, y_train_n,4)\n",
    "print(best_params)\n",
    "acc_LR_gs_aug = score_gscv_aug\n",
    "acc_val_LR_gs_aug = lr_gscv_aug.score(X_test,y_test_n)\n",
    "predictions_LR_gs_aug = lr_gscv_aug.predict(X_test) \n",
    "f1_LR_gs_aug = f1_score(y_test_n,predictions_LR_gs_aug, average='micro')"
   ]
  },
  {
   "cell_type": "code",
   "execution_count": 78,
   "metadata": {
    "colab": {
     "base_uri": "https://localhost:8080/"
    },
    "id": "d-BXm-AAASUN",
    "outputId": "cb19bc45-2532-4650-ed29-6ea3ae79e8b1"
   },
   "outputs": [
    {
     "name": "stdout",
     "output_type": "stream",
     "text": [
      "0.2289156626506024\n"
     ]
    }
   ],
   "source": [
    "print(f1_LR_gs_aug)"
   ]
  },
  {
   "cell_type": "code",
   "execution_count": 79,
   "metadata": {
    "colab": {
     "base_uri": "https://localhost:8080/"
    },
    "id": "6LvRwN4bAktW",
    "outputId": "08640828-3992-4adb-8601-7d6053f0bdcf"
   },
   "outputs": [
    {
     "name": "stdout",
     "output_type": "stream",
     "text": [
      "0.6448170731707317 0.2289156626506024\n"
     ]
    }
   ],
   "source": [
    "print(acc_LR_gs_aug, acc_val_LR_gs_aug) "
   ]
  },
  {
   "cell_type": "code",
   "execution_count": 80,
   "metadata": {
    "colab": {
     "base_uri": "https://localhost:8080/"
    },
    "id": "qP8SKqTpAo0i",
    "outputId": "40d6a1f2-4eef-461f-a08e-db774e83b0d5"
   },
   "outputs": [
    {
     "name": "stdout",
     "output_type": "stream",
     "text": [
      "              precision    recall  f1-score   support\n",
      "\n",
      "           0       0.17      0.22      0.19         9\n",
      "           1       0.33      0.36      0.35        22\n",
      "           2       0.12      0.10      0.11        20\n",
      "           3       0.32      0.23      0.26        31\n",
      "           4       0.00      0.00      0.00         1\n",
      "\n",
      "    accuracy                           0.23        83\n",
      "   macro avg       0.19      0.18      0.18        83\n",
      "weighted avg       0.26      0.23      0.24        83\n",
      "\n"
     ]
    }
   ],
   "source": [
    "print(classification_report(y_test_n, predictions_LR_gs_aug))"
   ]
  },
  {
   "cell_type": "markdown",
   "metadata": {
    "id": "T94gPNLEAxuS"
   },
   "source": [
    "## Plotting the graph and comparing"
   ]
  },
  {
   "cell_type": "code",
   "execution_count": 84,
   "metadata": {
    "colab": {
     "base_uri": "https://localhost:8080/"
    },
    "id": "NEaoWKXGAsKS",
    "outputId": "c1e2e23a-48d4-4472-84be-b38450bb86b1"
   },
   "outputs": [
    {
     "name": "stdout",
     "output_type": "stream",
     "text": [
      "{'Model': ['Logistic Regression', 'Random Forest', 'Bagging Classifier', 'XGBoost', 'Logistic Regression_Aug', 'Random Forest_Aug', 'Bagging Classifier_Aug', 'XGBoost_Aug'], 'F1_score': [0.37349397590361444, 0.3614457831325302, 0.3373493975903614, 0.2891566265060241, 0.2289156626506024, 0.3373493975903614, 0.3493975903614458, 0.3132530120481928], 'Train Validation Accuracy': [0.8902439024390244, 0.9298780487804879, 1.0, 0.9725609756097561, 0.6448170731707317, 1.0, 1.0, 1.0]}\n"
     ]
    }
   ],
   "source": [
    "d = {'Model': ['Logistic Regression','Random Forest', 'Bagging Classifier','XGBoost','Logistic Regression_Aug','Random Forest_Aug', 'Bagging Classifier_Aug','XGBoost_Aug'], \n",
    "          'F1_score':[f1_LR_gs, f1_RF_gs, f1_BG_gs, f1_XG_gs,f1_LR_gs_aug, f1_RF_gs_aug, f1_BG_gs_aug, f1_XG_gs_aug],\n",
    "          'Train Validation Accuracy':[acc_LR_gs, acc_RF_gs, acc_BG_gs, acc_XG_gs,acc_LR_gs_aug, acc_RF_gs_aug, acc_BG_gs_aug, acc_XG_gs_aug] }\n",
    "\n",
    "#df_metrics = pd.DataFrame(d)\n",
    "\n",
    "print(d)"
   ]
  },
  {
   "cell_type": "code",
   "execution_count": 85,
   "metadata": {
    "colab": {
     "base_uri": "https://localhost:8080/",
     "height": 300
    },
    "id": "F-XpA2YLBaRP",
    "outputId": "0ffcab8e-31bb-465c-c3f5-4eabe129a4fb"
   },
   "outputs": [
    {
     "data": {
      "text/html": [
       "\n",
       "  <div id=\"df-71aae90f-8f00-499d-9677-ee96e229e7b6\">\n",
       "    <div class=\"colab-df-container\">\n",
       "      <div>\n",
       "<style scoped>\n",
       "    .dataframe tbody tr th:only-of-type {\n",
       "        vertical-align: middle;\n",
       "    }\n",
       "\n",
       "    .dataframe tbody tr th {\n",
       "        vertical-align: top;\n",
       "    }\n",
       "\n",
       "    .dataframe thead th {\n",
       "        text-align: right;\n",
       "    }\n",
       "</style>\n",
       "<table border=\"1\" class=\"dataframe\">\n",
       "  <thead>\n",
       "    <tr style=\"text-align: right;\">\n",
       "      <th></th>\n",
       "      <th>Model</th>\n",
       "      <th>F1_score</th>\n",
       "      <th>Train Validation Accuracy</th>\n",
       "    </tr>\n",
       "  </thead>\n",
       "  <tbody>\n",
       "    <tr>\n",
       "      <th>0</th>\n",
       "      <td>Logistic Regression</td>\n",
       "      <td>0.373494</td>\n",
       "      <td>0.890244</td>\n",
       "    </tr>\n",
       "    <tr>\n",
       "      <th>1</th>\n",
       "      <td>Random Forest</td>\n",
       "      <td>0.361446</td>\n",
       "      <td>0.929878</td>\n",
       "    </tr>\n",
       "    <tr>\n",
       "      <th>2</th>\n",
       "      <td>Bagging Classifier</td>\n",
       "      <td>0.337349</td>\n",
       "      <td>1.000000</td>\n",
       "    </tr>\n",
       "    <tr>\n",
       "      <th>3</th>\n",
       "      <td>XGBoost</td>\n",
       "      <td>0.289157</td>\n",
       "      <td>0.972561</td>\n",
       "    </tr>\n",
       "    <tr>\n",
       "      <th>4</th>\n",
       "      <td>Logistic Regression_Aug</td>\n",
       "      <td>0.228916</td>\n",
       "      <td>0.644817</td>\n",
       "    </tr>\n",
       "    <tr>\n",
       "      <th>5</th>\n",
       "      <td>Random Forest_Aug</td>\n",
       "      <td>0.337349</td>\n",
       "      <td>1.000000</td>\n",
       "    </tr>\n",
       "    <tr>\n",
       "      <th>6</th>\n",
       "      <td>Bagging Classifier_Aug</td>\n",
       "      <td>0.349398</td>\n",
       "      <td>1.000000</td>\n",
       "    </tr>\n",
       "    <tr>\n",
       "      <th>7</th>\n",
       "      <td>XGBoost_Aug</td>\n",
       "      <td>0.313253</td>\n",
       "      <td>1.000000</td>\n",
       "    </tr>\n",
       "  </tbody>\n",
       "</table>\n",
       "</div>\n",
       "      <button class=\"colab-df-convert\" onclick=\"convertToInteractive('df-71aae90f-8f00-499d-9677-ee96e229e7b6')\"\n",
       "              title=\"Convert this dataframe to an interactive table.\"\n",
       "              style=\"display:none;\">\n",
       "        \n",
       "  <svg xmlns=\"http://www.w3.org/2000/svg\" height=\"24px\"viewBox=\"0 0 24 24\"\n",
       "       width=\"24px\">\n",
       "    <path d=\"M0 0h24v24H0V0z\" fill=\"none\"/>\n",
       "    <path d=\"M18.56 5.44l.94 2.06.94-2.06 2.06-.94-2.06-.94-.94-2.06-.94 2.06-2.06.94zm-11 1L8.5 8.5l.94-2.06 2.06-.94-2.06-.94L8.5 2.5l-.94 2.06-2.06.94zm10 10l.94 2.06.94-2.06 2.06-.94-2.06-.94-.94-2.06-.94 2.06-2.06.94z\"/><path d=\"M17.41 7.96l-1.37-1.37c-.4-.4-.92-.59-1.43-.59-.52 0-1.04.2-1.43.59L10.3 9.45l-7.72 7.72c-.78.78-.78 2.05 0 2.83L4 21.41c.39.39.9.59 1.41.59.51 0 1.02-.2 1.41-.59l7.78-7.78 2.81-2.81c.8-.78.8-2.07 0-2.86zM5.41 20L4 18.59l7.72-7.72 1.47 1.35L5.41 20z\"/>\n",
       "  </svg>\n",
       "      </button>\n",
       "      \n",
       "  <style>\n",
       "    .colab-df-container {\n",
       "      display:flex;\n",
       "      flex-wrap:wrap;\n",
       "      gap: 12px;\n",
       "    }\n",
       "\n",
       "    .colab-df-convert {\n",
       "      background-color: #E8F0FE;\n",
       "      border: none;\n",
       "      border-radius: 50%;\n",
       "      cursor: pointer;\n",
       "      display: none;\n",
       "      fill: #1967D2;\n",
       "      height: 32px;\n",
       "      padding: 0 0 0 0;\n",
       "      width: 32px;\n",
       "    }\n",
       "\n",
       "    .colab-df-convert:hover {\n",
       "      background-color: #E2EBFA;\n",
       "      box-shadow: 0px 1px 2px rgba(60, 64, 67, 0.3), 0px 1px 3px 1px rgba(60, 64, 67, 0.15);\n",
       "      fill: #174EA6;\n",
       "    }\n",
       "\n",
       "    [theme=dark] .colab-df-convert {\n",
       "      background-color: #3B4455;\n",
       "      fill: #D2E3FC;\n",
       "    }\n",
       "\n",
       "    [theme=dark] .colab-df-convert:hover {\n",
       "      background-color: #434B5C;\n",
       "      box-shadow: 0px 1px 3px 1px rgba(0, 0, 0, 0.15);\n",
       "      filter: drop-shadow(0px 1px 2px rgba(0, 0, 0, 0.3));\n",
       "      fill: #FFFFFF;\n",
       "    }\n",
       "  </style>\n",
       "\n",
       "      <script>\n",
       "        const buttonEl =\n",
       "          document.querySelector('#df-71aae90f-8f00-499d-9677-ee96e229e7b6 button.colab-df-convert');\n",
       "        buttonEl.style.display =\n",
       "          google.colab.kernel.accessAllowed ? 'block' : 'none';\n",
       "\n",
       "        async function convertToInteractive(key) {\n",
       "          const element = document.querySelector('#df-71aae90f-8f00-499d-9677-ee96e229e7b6');\n",
       "          const dataTable =\n",
       "            await google.colab.kernel.invokeFunction('convertToInteractive',\n",
       "                                                     [key], {});\n",
       "          if (!dataTable) return;\n",
       "\n",
       "          const docLinkHtml = 'Like what you see? Visit the ' +\n",
       "            '<a target=\"_blank\" href=https://colab.research.google.com/notebooks/data_table.ipynb>data table notebook</a>'\n",
       "            + ' to learn more about interactive tables.';\n",
       "          element.innerHTML = '';\n",
       "          dataTable['output_type'] = 'display_data';\n",
       "          await google.colab.output.renderOutput(dataTable, element);\n",
       "          const docLink = document.createElement('div');\n",
       "          docLink.innerHTML = docLinkHtml;\n",
       "          element.appendChild(docLink);\n",
       "        }\n",
       "      </script>\n",
       "    </div>\n",
       "  </div>\n",
       "  "
      ],
      "text/plain": [
       "                     Model  F1_score  Train Validation Accuracy\n",
       "0      Logistic Regression  0.373494                   0.890244\n",
       "1            Random Forest  0.361446                   0.929878\n",
       "2       Bagging Classifier  0.337349                   1.000000\n",
       "3                  XGBoost  0.289157                   0.972561\n",
       "4  Logistic Regression_Aug  0.228916                   0.644817\n",
       "5        Random Forest_Aug  0.337349                   1.000000\n",
       "6   Bagging Classifier_Aug  0.349398                   1.000000\n",
       "7              XGBoost_Aug  0.313253                   1.000000"
      ]
     },
     "execution_count": 85,
     "metadata": {},
     "output_type": "execute_result"
    }
   ],
   "source": [
    "df_metrics = pd.DataFrame(d)\n",
    "df_metrics"
   ]
  },
  {
   "cell_type": "code",
   "execution_count": 86,
   "metadata": {
    "colab": {
     "base_uri": "https://localhost:8080/",
     "height": 429
    },
    "id": "dE48dqfKBe4D",
    "outputId": "42060675-d120-4250-dc2a-8a97bc408c94"
   },
   "outputs": [
    {
     "data": {
      "image/png": "[encoded data removed]",
      "text/plain": [
       "<Figure size 720x504 with 1 Axes>"
      ]
     },
     "metadata": {},
     "output_type": "display_data"
    }
   ],
   "source": [
    "plt.figure(figsize = (10,7))\n",
    "sns.set_style(\"darkgrid\")\n",
    "plt.plot(df_metrics['Model'], df_metrics['F1_score'],df_metrics['Train Validation Accuracy'], marker = '>', linestyle='--', label = 'f1_score')\n",
    "plt.legend(fontsize = 10)\n",
    "plt.show()"
   ]
  },
  {
   "cell_type": "markdown",
   "metadata": {
    "id": "yofNmLp1GRx9"
   },
   "source": [
    "Final Observations:\n",
    "\n",
    "Even with the Augmented data, the accuracy obtained is less compared to original data using ML models."
   ]
  },
  {
   "cell_type": "code",
   "execution_count": null,
   "metadata": {
    "id": "OWmdzyBNGfvC"
   },
   "outputs": [],
   "source": []
  }
 ],
 "metadata": {
  "colab": {
   "collapsed_sections": [],
   "name": "Capstone_NLP_Chatbot_Jan_A_G4_15_12.ipynb",
   "provenance": []
  },
  "kernelspec": {
   "display_name": "Python 3",
   "language": "python",
   "name": "python3"
  },
  "language_info": {
   "codemirror_mode": {
    "name": "ipython",
    "version": 3
   },
   "file_extension": ".py",
   "mimetype": "text/x-python",
   "name": "python",
   "nbconvert_exporter": "python",
   "pygments_lexer": "ipython3",
   "version": "3.8.5"
  }
 },
 "nbformat": 4,
 "nbformat_minor": 1
}
