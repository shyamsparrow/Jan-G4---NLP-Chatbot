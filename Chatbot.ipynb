{
 "cells": [
  {
   "cell_type": "code",
   "execution_count": 38,
   "metadata": {},
   "outputs": [
    {
     "name": "stdout",
     "output_type": "stream",
     "text": [
      "Requirement already satisfied: contractions==0.0.18 in c:\\users\\hi\\anaconda3\\lib\\site-packages (0.0.18)\n",
      "Requirement already satisfied: pyspellchecker in c:\\users\\hi\\anaconda3\\lib\\site-packages (0.6.2)\n",
      "Requirement already satisfied: contractions in c:\\users\\hi\\anaconda3\\lib\\site-packages (0.0.18)\n",
      "Requirement already satisfied: tensorflow==2.7.0 in c:\\users\\hi\\anaconda3\\lib\\site-packages (2.7.0)\n",
      "Requirement already satisfied: protobuf>=3.9.2 in c:\\users\\hi\\anaconda3\\lib\\site-packages (from tensorflow==2.7.0) (3.17.3)\n",
      "Requirement already satisfied: astunparse>=1.6.0 in c:\\users\\hi\\anaconda3\\lib\\site-packages (from tensorflow==2.7.0) (1.6.3)\n",
      "Requirement already satisfied: termcolor>=1.1.0 in c:\\users\\hi\\anaconda3\\lib\\site-packages (from tensorflow==2.7.0) (1.1.0)\n",
      "Requirement already satisfied: wheel<1.0,>=0.32.0 in c:\\users\\hi\\anaconda3\\lib\\site-packages (from tensorflow==2.7.0) (0.36.2)\n",
      "Requirement already satisfied: numpy>=1.14.5 in c:\\users\\hi\\anaconda3\\lib\\site-packages (from tensorflow==2.7.0) (1.20.1)\n",
      "Requirement already satisfied: google-pasta>=0.1.1 in c:\\users\\hi\\anaconda3\\lib\\site-packages (from tensorflow==2.7.0) (0.2.0)\n",
      "Requirement already satisfied: h5py>=2.9.0 in c:\\users\\hi\\anaconda3\\lib\\site-packages (from tensorflow==2.7.0) (2.10.0)\n",
      "Requirement already satisfied: wrapt>=1.11.0 in c:\\users\\hi\\anaconda3\\lib\\site-packages (from tensorflow==2.7.0) (1.12.1)\n",
      "Requirement already satisfied: tensorflow-io-gcs-filesystem>=0.21.0 in c:\\users\\hi\\anaconda3\\lib\\site-packages (from tensorflow==2.7.0) (0.23.1)\n",
      "Requirement already satisfied: six>=1.12.0 in c:\\users\\hi\\anaconda3\\lib\\site-packages (from tensorflow==2.7.0) (1.15.0)\n",
      "Requirement already satisfied: absl-py>=0.4.0 in c:\\users\\hi\\anaconda3\\lib\\site-packages (from tensorflow==2.7.0) (1.0.0)\n",
      "Requirement already satisfied: keras-preprocessing>=1.1.1 in c:\\users\\hi\\anaconda3\\lib\\site-packages (from tensorflow==2.7.0) (1.1.2)\n",
      "Requirement already satisfied: flatbuffers<3.0,>=1.12 in c:\\users\\hi\\anaconda3\\lib\\site-packages (from tensorflow==2.7.0) (2.0)\n",
      "Requirement already satisfied: typing-extensions>=3.6.6 in c:\\users\\hi\\anaconda3\\lib\\site-packages (from tensorflow==2.7.0) (3.7.4.3)\n",
      "Requirement already satisfied: tensorboard~=2.6 in c:\\users\\hi\\anaconda3\\lib\\site-packages (from tensorflow==2.7.0) (2.7.0)\n",
      "Requirement already satisfied: gast<0.5.0,>=0.2.1 in c:\\users\\hi\\anaconda3\\lib\\site-packages (from tensorflow==2.7.0) (0.4.0)\n",
      "Requirement already satisfied: libclang>=9.0.1 in c:\\users\\hi\\anaconda3\\lib\\site-packages (from tensorflow==2.7.0) (12.0.0)\n",
      "Requirement already satisfied: grpcio<2.0,>=1.24.3 in c:\\users\\hi\\anaconda3\\lib\\site-packages (from tensorflow==2.7.0) (1.43.0)\n",
      "Requirement already satisfied: keras<2.8,>=2.7.0rc0 in c:\\users\\hi\\anaconda3\\lib\\site-packages (from tensorflow==2.7.0) (2.7.0)\n",
      "Requirement already satisfied: tensorflow-estimator<2.8,~=2.7.0rc0 in c:\\users\\hi\\anaconda3\\lib\\site-packages (from tensorflow==2.7.0) (2.7.0)\n",
      "Requirement already satisfied: opt-einsum>=2.3.2 in c:\\users\\hi\\anaconda3\\lib\\site-packages (from tensorflow==2.7.0) (3.3.0)\n",
      "Requirement already satisfied: markdown>=2.6.8 in c:\\users\\hi\\anaconda3\\lib\\site-packages (from tensorboard~=2.6->tensorflow==2.7.0) (3.3.6)\n",
      "Requirement already satisfied: setuptools>=41.0.0 in c:\\users\\hi\\anaconda3\\lib\\site-packages (from tensorboard~=2.6->tensorflow==2.7.0) (52.0.0.post20210125)\n",
      "Requirement already satisfied: tensorboard-plugin-wit>=1.6.0 in c:\\users\\hi\\anaconda3\\lib\\site-packages (from tensorboard~=2.6->tensorflow==2.7.0) (1.8.0)\n",
      "Requirement already satisfied: werkzeug>=0.11.15 in c:\\users\\hi\\anaconda3\\lib\\site-packages (from tensorboard~=2.6->tensorflow==2.7.0) (1.0.1)\n",
      "Requirement already satisfied: google-auth-oauthlib<0.5,>=0.4.1 in c:\\users\\hi\\anaconda3\\lib\\site-packages (from tensorboard~=2.6->tensorflow==2.7.0) (0.4.6)\n",
      "Requirement already satisfied: google-auth<3,>=1.6.3 in c:\\users\\hi\\anaconda3\\lib\\site-packages (from tensorboard~=2.6->tensorflow==2.7.0) (2.3.1)\n",
      "Requirement already satisfied: tensorboard-data-server<0.7.0,>=0.6.0 in c:\\users\\hi\\anaconda3\\lib\\site-packages (from tensorboard~=2.6->tensorflow==2.7.0) (0.6.1)\n",
      "Requirement already satisfied: requests<3,>=2.21.0 in c:\\users\\hi\\anaconda3\\lib\\site-packages (from tensorboard~=2.6->tensorflow==2.7.0) (2.25.1)\n",
      "Requirement already satisfied: rsa<5,>=3.1.4 in c:\\users\\hi\\anaconda3\\lib\\site-packages (from google-auth<3,>=1.6.3->tensorboard~=2.6->tensorflow==2.7.0) (4.7.2)\n",
      "Requirement already satisfied: pyasn1-modules>=0.2.1 in c:\\users\\hi\\anaconda3\\lib\\site-packages (from google-auth<3,>=1.6.3->tensorboard~=2.6->tensorflow==2.7.0) (0.2.8)\n",
      "Requirement already satisfied: cachetools<5.0,>=2.0.0 in c:\\users\\hi\\anaconda3\\lib\\site-packages (from google-auth<3,>=1.6.3->tensorboard~=2.6->tensorflow==2.7.0) (4.2.4)\n",
      "Requirement already satisfied: requests-oauthlib>=0.7.0 in c:\\users\\hi\\anaconda3\\lib\\site-packages (from google-auth-oauthlib<0.5,>=0.4.1->tensorboard~=2.6->tensorflow==2.7.0) (1.3.0)\n",
      "Requirement already satisfied: importlib-metadata>=4.4 in c:\\users\\hi\\anaconda3\\lib\\site-packages (from markdown>=2.6.8->tensorboard~=2.6->tensorflow==2.7.0) (4.9.0)\n",
      "Requirement already satisfied: zipp>=0.5 in c:\\users\\hi\\anaconda3\\lib\\site-packages (from importlib-metadata>=4.4->markdown>=2.6.8->tensorboard~=2.6->tensorflow==2.7.0) (3.4.1)\n",
      "Requirement already satisfied: pyasn1<0.5.0,>=0.4.6 in c:\\users\\hi\\anaconda3\\lib\\site-packages (from pyasn1-modules>=0.2.1->google-auth<3,>=1.6.3->tensorboard~=2.6->tensorflow==2.7.0) (0.4.8)\n",
      "Requirement already satisfied: chardet<5,>=3.0.2 in c:\\users\\hi\\anaconda3\\lib\\site-packages (from requests<3,>=2.21.0->tensorboard~=2.6->tensorflow==2.7.0) (4.0.0)\n",
      "Requirement already satisfied: idna<3,>=2.5 in c:\\users\\hi\\anaconda3\\lib\\site-packages (from requests<3,>=2.21.0->tensorboard~=2.6->tensorflow==2.7.0) (2.10)\n",
      "Requirement already satisfied: certifi>=2017.4.17 in c:\\users\\hi\\anaconda3\\lib\\site-packages (from requests<3,>=2.21.0->tensorboard~=2.6->tensorflow==2.7.0) (2020.12.5)\n",
      "Requirement already satisfied: urllib3<1.27,>=1.21.1 in c:\\users\\hi\\anaconda3\\lib\\site-packages (from requests<3,>=2.21.0->tensorboard~=2.6->tensorflow==2.7.0) (1.26.4)\n",
      "Requirement already satisfied: oauthlib>=3.0.0 in c:\\users\\hi\\anaconda3\\lib\\site-packages (from requests-oauthlib>=0.7.0->google-auth-oauthlib<0.5,>=0.4.1->tensorboard~=2.6->tensorflow==2.7.0) (3.1.1)\n"
     ]
    }
   ],
   "source": [
    "import warnings\n",
    "warnings.filterwarnings(\"ignore\")\n",
    "\n",
    "import sys  \n",
    "!{sys.executable} -m pip install contractions==0.0.18\n",
    "!pip install pyspellchecker\n",
    "!pip install contractions\n",
    "!pip install tensorflow==2.7.0 --user\n",
    "quiet = True"
   ]
  },
  {
   "cell_type": "code",
   "execution_count": 16,
   "metadata": {},
   "outputs": [
    {
     "name": "stdout",
     "output_type": "stream",
     "text": [
      "2.7.0\n"
     ]
    }
   ],
   "source": [
    "import tensorflow\n",
    "print(tensorflow.__version__)"
   ]
  },
  {
   "cell_type": "code",
   "execution_count": 17,
   "metadata": {},
   "outputs": [],
   "source": [
    "import os\n",
    "import random\n",
    "import pickle\n",
    "import numpy as np\n",
    "\n",
    "import tkinter as tk\n",
    "from tkinter import *\n",
    "from tkinter import filedialog\n",
    "\n",
    "from sklearn.preprocessing import LabelEncoder\n",
    "\n",
    "from tensorflow.keras.models import load_model\n",
    "from tensorflow.keras.preprocessing.text import Tokenizer\n",
    "from tensorflow.keras.preprocessing.sequence import pad_sequences\n",
    "\n",
    "text_contents=dict()"
   ]
  },
  {
   "cell_type": "raw",
   "metadata": {},
   "source": [
    "os.chdir(r\"F:\\Great learning\\Capstone\\Utilities\")"
   ]
  },
  {
   "cell_type": "code",
   "execution_count": 18,
   "metadata": {},
   "outputs": [],
   "source": [
    "from NLP_text_preprocess import PreProcessing\n",
    "import config"
   ]
  },
  {
   "cell_type": "code",
   "execution_count": 29,
   "metadata": {},
   "outputs": [],
   "source": [
    "os.chdir(r\"C:\\Users\\hi\\Desktop\\Capstone Project\\Jan-G4---NLP-Chatbot\")\n",
    "from keras.models import load_model\n",
    "model = load_model(\"transformer_model\")"
   ]
  },
  {
   "cell_type": "code",
   "execution_count": 30,
   "metadata": {},
   "outputs": [],
   "source": [
    "with open(r\"parameters.pickle\", \"rb\") as f:\n",
    "    lab_en, tokenizer_data = pickle.load(f)"
   ]
  },
  {
   "cell_type": "code",
   "execution_count": 31,
   "metadata": {},
   "outputs": [],
   "source": [
    "#os.chdir(r\"F:\\Great learning\\Capstone\")\n",
    "import pandas as pd\n",
    "industry_df = pd.read_csv(\"industry_df_with_stopwords.csv\")\n",
    "usr_txt = industry_df['Description_preprocessed'][0]"
   ]
  },
  {
   "cell_type": "code",
   "execution_count": 32,
   "metadata": {},
   "outputs": [
    {
     "data": {
      "text/plain": [
       "'while removing the drill rod of the jumbo 08 for maintenance the supervisor proceeds to loosen the support of the intermediate centralized to facilitate the removal seeing this the mechanic support one end on the drill of the equipment to pull with both hand the bar and accelerate the removal from this at this moment the bar slide from it point of support and tightens the finger of the mechanic between the drilling bar and the beam of the jumbo'"
      ]
     },
     "execution_count": 32,
     "metadata": {},
     "output_type": "execute_result"
    }
   ],
   "source": [
    "usr_txt"
   ]
  },
  {
   "cell_type": "code",
   "execution_count": 34,
   "metadata": {},
   "outputs": [
    {
     "name": "stdout",
     "output_type": "stream",
     "text": [
      "The Potential accident level for this accident is IV\n"
     ]
    }
   ],
   "source": [
    "import warnings\n",
    "warnings.filterwarnings(\"ignore\")\n",
    "pp = PreProcessing(to_lower = config.to_lower,remove_url=config.remove_url,\n",
    "                   remove_time = config.remove_time,expand_contraction =config.expand_contraction,\n",
    "                   remove_special_character=config.remove_special_character,\n",
    "                   remove_punctuation=config.remove_punctuation,\n",
    "                   remove_whitespace=config.remove_whitespace,\n",
    "                   keep_alpha_numeric = False,\n",
    "                   check_spelling=config.check_spelling,\n",
    "                   remove_stopword=False,\n",
    "                   lemmatize_word=config.lemmatize_word)\n",
    "\n",
    "pre_txt = pp.preprocess(usr_txt)\n",
    "tok_txt = tokenizer_data.texts_to_sequences([pre_txt])\n",
    "pad_txt = pad_sequences(tok_txt, padding='post', maxlen=200)\n",
    "prediction = model.predict(pad_txt, verbose=0)\n",
    "pred_index = np.argmax(prediction,axis=1)\n",
    "result = lab_en.inverse_transform(pred_index)[0]\n",
    "print('The Potential accident level for this accident is {}'.format(result))"
   ]
  },
  {
   "cell_type": "markdown",
   "metadata": {},
   "source": [
    "Creating functions for all the operations we tend to do n chatbot."
   ]
  },
  {
   "cell_type": "code",
   "execution_count": 35,
   "metadata": {},
   "outputs": [],
   "source": [
    "def greet_res(text):\n",
    "    text=text.lower()\n",
    "    bot_greet=['hi','hello','hola','hey','howdy']\n",
    "    usr_greet=['hi','hey','hello','hola','greetings','wassup','whats up']\n",
    "    for word in text.split():\n",
    "        if word in usr_greet:\n",
    "            return random.choice(bot_greet)\n",
    "# bot response\n",
    "def bot_ress(usr_input):\n",
    "    warnings.filterwarnings(\"ignore\")\n",
    "    with open(r\"parameters.pickle\", \"rb\") as f:\n",
    "          lab_en, tokenizer_data = pickle.load(f)\n",
    "    pp = PreProcessing(to_lower = config.to_lower,remove_url=config.remove_url,\n",
    "                       remove_time = config.remove_time,expand_contraction =config.expand_contraction,\n",
    "                       remove_special_character=config.remove_special_character,\n",
    "                       remove_punctuation=config.remove_punctuation,\n",
    "                       remove_whitespace=config.remove_whitespace,\n",
    "                       keep_alpha_numeric = False,\n",
    "                       check_spelling=config.check_spelling,\n",
    "                       remove_stopword=False,\n",
    "                       lemmatize_word=config.lemmatize_word)\n",
    "\n",
    "    pre_txt = pp.preprocess(usr_input)\n",
    "    tok_txt = tokenizer_data.texts_to_sequences([pre_txt])\n",
    "    pad_txt = pad_sequences(tok_txt, padding='post', maxlen=200)\n",
    "    prediction = model.predict(pad_txt, verbose=0)\n",
    "    pred_index = np.argmax(prediction,axis=1)\n",
    "    result = lab_en.inverse_transform(pred_index)[0]\n",
    "    bot_res = 'The Potential accident level for this accident is {}'.format(result)\n",
    "    return bot_res\n",
    "\n",
    "def widget_get():\n",
    "    text_widget = root.nametowidget(textcon)\n",
    "    return text_widget.get('1.0','end-1c')"
   ]
  },
  {
   "cell_type": "code",
   "execution_count": 12,
   "metadata": {},
   "outputs": [],
   "source": [
    "#os.chdir(r\"F:\\Great learning\\Capstone\")"
   ]
  },
  {
   "cell_type": "markdown",
   "metadata": {},
   "source": [
    "Creating Function for all the events need to do in our chatbot."
   ]
  },
  {
   "cell_type": "code",
   "execution_count": 36,
   "metadata": {},
   "outputs": [],
   "source": [
    "def saveas(event=None):\n",
    "    global file_path,filename\n",
    "    file_path= filedialog.asksaveasfilename( defaultextension=\".txt\")\n",
    "    try:\n",
    "        filename=os.path.basename(file_path)\n",
    "        root.title(f\"Chat Bot - {filename}\")\n",
    "        content=widget_get()\n",
    "        with open(file_path ,\"w\") as file:\n",
    "            file.write(content)\n",
    "            text_contents[str(textcon)]=hash(content)\n",
    "            print(\"Operation successfull\")\n",
    "    except(FileNotFoundError):\n",
    "        print(\"Operation not successfull\")\n",
    "        return None\n",
    "file_path =None\n",
    "\n",
    "def save(event=None):\n",
    "    global file_path,filename\n",
    "    try:\n",
    "        if(file_path is None):\n",
    "            file_path = filedialog.asksaveasfilename(defaultextension=\".txt\")\n",
    "        filename=os.path.basename(file_path)\n",
    "        root.title(f\"Chat Bot - {filename}\")\n",
    "        content=widget_get()\n",
    "        with open(file_path ,\"w\") as file:\n",
    "            file.write(content)\n",
    "            text_contents[str(textcon)] = hash(content)\n",
    "            print(\"Operation successfull\")\n",
    "    except(FileNotFoundError):\n",
    "        print(\"Operation not successfull\")\n",
    "        return None\n",
    "\n",
    "def new(event=None):\n",
    "    textcon.delete('2.0', 'end-1c')\n",
    "    global  file_path,filename\n",
    "    file_path = None\n",
    "    content = widget_get()\n",
    "    text_contents[str(textcon)] = hash(content)\n",
    "    filename=None\n",
    "\n",
    "def clear(event=None):\n",
    "    textcon.delete('2.0', 'end-1c')\n",
    "    content = widget_get()\n",
    "    text_contents[str(textcon)] = hash(content)\n",
    "    \n",
    "def fopen(event=None):\n",
    "    global file_path,filename\n",
    "    file_path = filedialog.askopenfilename(defaultextension=\".txt\")\n",
    "    try:\n",
    "        filename = os.path.basename(file_path)\n",
    "        root.title(f\"Chat Bot - {filename}\")\n",
    "        text_widget = root.nametowidget(textcon)\n",
    "        with open(file_path, \"r\") as file:\n",
    "            content=file.read()\n",
    "            textcon.delete('1.0', 'end-1c')\n",
    "            text_contents[str(textcon)] = hash(content)\n",
    "            text_widget.insert(END,content)\n",
    "            print(\"Operation successfull\")\n",
    "    except(FileNotFoundError):\n",
    "        print(\"Operation not successfull\")\n",
    "        return None\n",
    "\n",
    "exit_list = ['exit','break','quit','see you later','chat with you later','end the chat','bye','ok bye']\n",
    "\n",
    "def send(event=None):\n",
    "    usr_input = message.get()\n",
    "    usr_input = usr_input.lower()\n",
    "    textcon.insert(END, f'User: {usr_input}'+'\\n','usr')\n",
    "    if usr_input in exit_list:\n",
    "        textcon.config(fg='Yellow')\n",
    "        textcon.insert(END,\"Bot:Ok bye! Chat with you later\\n\")\n",
    "        return root.destroy()\n",
    "    else:\n",
    "        textcon.config(fg='yellow')\n",
    "        if greet_res(usr_input) != None:\n",
    "            lab=f\"Bot: {greet_res(usr_input)}\"+'\\n'\n",
    "            textcon.insert(END,lab)\n",
    "            mes_win.delete(0,END)\n",
    "        else:\n",
    "            lab = f\"Bot: {bot_ress(usr_input)}\"+'\\n'\n",
    "            textcon.insert(END,lab)\n",
    "            mes_win.delete(0,END)"
   ]
  },
  {
   "cell_type": "markdown",
   "metadata": {},
   "source": [
    "### Creating Chatbot:"
   ]
  },
  {
   "cell_type": "code",
   "execution_count": 37,
   "metadata": {},
   "outputs": [],
   "source": [
    "root=tk.Tk()\n",
    "filename=\"Untitled.txt\"\n",
    "root.title(f\"Chat Bot - Untitled.txt\")\n",
    "root.geometry('500x400')\n",
    "\n",
    "root.resizable(False, False)\n",
    "main_menu=Menu(root)\n",
    "file_menu=Menu(root)\n",
    "file_menu.add_command(label='Open  <Ctrl+O>',command=fopen)\n",
    "file_menu.add_command(label='New  <Ctrl+N>',command=new)\n",
    "file_menu.add_command(label='Save  <Ctrl+S>',command=save)\n",
    "file_menu.add_command(label='Save as <Ctrl+Shift+S>',command=saveas)\n",
    "edit_menu=Menu(root)\n",
    "edit_menu.add_command(label='Clear  <Delete>',command=clear)\n",
    "main_menu.add_cascade(label=\"File\",menu=file_menu)\n",
    "main_menu.add_cascade(label=\"Edit\",menu=edit_menu)\n",
    "main_menu.add_command(label=\"Quit\",command=root.destroy)\n",
    "root.config(menu=main_menu)\n",
    "\n",
    "message=tk.StringVar()\n",
    "chat_win=Frame(root,bd=1,bg='black',width=50,height=8)\n",
    "chat_win.place(x=6,y=6,height=300,width=480)\n",
    "\n",
    "textcon=tk.Text(chat_win,bd=1,bg='black',width=50,height=8)\n",
    "textcon.pack(fill=\"both\",expand=True)\n",
    "\n",
    "mes_win=Entry(root,width=30,xscrollcommand=True,textvariable=message)\n",
    "mes_win.place(x=6,y=310,height=60,width=366)\n",
    "mes_win.focus()\n",
    "\n",
    "textcon.config(fg='yellow')\n",
    "textcon.tag_config('usr',foreground='white')\n",
    "textcon.insert(END,\"Bot: This is Jarvis to assist you in Industrial safety!\\n\\n\")\n",
    "mssg=mes_win.get()\n",
    "\n",
    "button=Button(root,text='Send',bg='grey',activebackground='orange',command=send,width=12,height=5,font=('Arial'))\n",
    "button.place(x=376,y=310,height=60,width=110)\n",
    "\n",
    "scrollbar=tk.Scrollbar(textcon)\n",
    "scrollbar.pack(fill='y')\n",
    "scrollbar.place(relheight = 1,relx = 1)\n",
    "scrollbar.config(command = textcon.yview)\n",
    "\n",
    "content = widget_get()\n",
    "text_contents[str(textcon)] = hash(content)\n",
    "root.bind('<Control-s>',save,file_menu)\n",
    "root.bind('<Control-Shift-s>',saveas,file_menu)\n",
    "root.bind('<Return>', send,button)\n",
    "root.bind('<Control-n>', new,file_menu)\n",
    "root.bind('<Delete>', clear,edit_menu)\n",
    "root.bind('<Control-o>', fopen,file_menu)\n",
    "root.mainloop()"
   ]
  },
  {
   "cell_type": "code",
   "execution_count": null,
   "metadata": {},
   "outputs": [],
   "source": []
  }
 ],
 "metadata": {
  "kernelspec": {
   "display_name": "Python 3",
   "language": "python",
   "name": "python3"
  },
  "language_info": {
   "codemirror_mode": {
    "name": "ipython",
    "version": 3
   },
   "file_extension": ".py",
   "mimetype": "text/x-python",
   "name": "python",
   "nbconvert_exporter": "python",
   "pygments_lexer": "ipython3",
   "version": "3.8.8"
  }
 },
 "nbformat": 4,
 "nbformat_minor": 4
}
