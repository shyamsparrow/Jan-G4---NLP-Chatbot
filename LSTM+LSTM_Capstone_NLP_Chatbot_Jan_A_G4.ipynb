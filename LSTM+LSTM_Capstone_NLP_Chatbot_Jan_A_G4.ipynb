{
 "cells": [
  {
   "cell_type": "markdown",
   "metadata": {
    "colab_type": "text",
    "id": "view-in-github"
   },
   "source": [
    "<a href=\"https://colab.research.google.com/github/shyamsparrow/Jan-G4---NLP-Chatbot/blob/ALL_Models/LSTM%2BLSTM_Capstone_NLP_Chatbot_Jan_A_G4.ipynb\" target=\"_parent\"><img src=\"https://colab.research.google.com/assets/colab-badge.svg\" alt=\"Open In Colab\"/></a>"
   ]
  },
  {
   "cell_type": "markdown",
   "metadata": {
    "id": "9Yj3kJll4cxT"
   },
   "source": [
    "# Capstone Project - NLP Chatbot\n",
    "\n",
    "### DOMAIN: \n",
    "Industrial safety. NLP based Chatbot.\n",
    "\n",
    "### CONTEXT:\n",
    "The database comes from one of the biggest industry in Brazil and in the world. It is an urgent need for industries/companies around the globe to understand why employees still suffer some injuries/accidents in plants. Sometimes they also die in such environment.\n",
    "\n",
    "### DATA DESCRIPTION:\n",
    "This The database is basically records of accidents from 12 different plants in 03 different countries which every line in the data is an occurrence of an accident.\n",
    "\n",
    "### Columns description:\n",
    "* Data: timestamp or time/date information\n",
    "* Countries: which country the accident occurred (anonymised)\n",
    "* Local: the city where the manufacturing plant is located (anonymised)\n",
    "* Industry sector: which sector the plant belongs to\n",
    "* Accident level: from I to VI, it registers how severe was the accident (I means not severe but VI means very severe)\n",
    "* Potential Accident Level: Depending on the Accident Level, the database also registers how severe the accident could have   been (due to other factors involved in the accident)\n",
    "* Gender: if the person is male of female\n",
    "* Employee or Third Party: if the injured person is an employee or a third party\n",
    "* Critical Risk: some description of the risk involved in the accident\n",
    "* Description: Detailed description of how the accident happened.\n",
    "\n",
    "Link to download the dataset: https://drive.google.com/file/d/1_GmrRP1S2OIa02KlfOBNkYa8uxazGbfE/view?usp=sharing,\n",
    "Original dataset link: https://www.kaggle.com/ihmstefanini/industrial-safety-and-health-analytics-database\n",
    "\n",
    "### PROJECT OBJECTIVE:\n",
    "Design a ML/DL based chatbot utility which can help the professionals to highlight the safety risk as per the incident description."
   ]
  },
  {
   "cell_type": "markdown",
   "metadata": {
    "id": "KE437Z3fzYI8"
   },
   "source": [
    "# Data Preprocessing"
   ]
  },
  {
   "cell_type": "code",
   "execution_count": 1,
   "metadata": {
    "id": "d4CkHgK24cxV"
   },
   "outputs": [],
   "source": [
    "import warnings\n",
    "warnings.filterwarnings('ignore')\n",
    "\n",
    "#import config\n",
    "from wordcloud import WordCloud,STOPWORDS\n",
    "import nltk\n",
    "from nltk.corpus import stopwords\n",
    "from bs4 import BeautifulSoup\n",
    "import string\n",
    "import numpy as np\n",
    "import pandas as pd\n",
    "import seaborn as sns\n",
    "import matplotlib.pyplot as plt\n",
    "import re"
   ]
  },
  {
   "cell_type": "markdown",
   "metadata": {
    "id": "W8JLRB7YzhQ_"
   },
   "source": [
    "# Model Building"
   ]
  },
  {
   "cell_type": "markdown",
   "metadata": {
    "id": "xcgT_5zg1G7o"
   },
   "source": [
    "## Machine Learning Models"
   ]
  },
  {
   "cell_type": "code",
   "execution_count": 2,
   "metadata": {
    "id": "_ry6hLzh1KXl"
   },
   "outputs": [],
   "source": [
    "import seaborn as sns\n",
    "from sklearn.feature_extraction.text import TfidfVectorizer\n",
    "from sklearn.feature_extraction.text import CountVectorizer\n",
    "\n",
    "from sklearn.model_selection import train_test_split\n",
    "from sklearn.linear_model import LogisticRegression\n",
    "from sklearn.naive_bayes import GaussianNB\n",
    "from sklearn.neighbors import KNeighborsClassifier\n",
    "from sklearn.svm import SVC\n",
    "from sklearn.tree import DecisionTreeClassifier\n",
    "from sklearn.ensemble import RandomForestClassifier, BaggingClassifier, AdaBoostClassifier, GradientBoostingClassifier\n",
    "#from xgboost import XGBClassifier\n",
    "\n",
    "from sklearn.metrics import accuracy_score, confusion_matrix, classification_report, f1_score,plot_confusion_matrix\n"
   ]
  },
  {
   "cell_type": "markdown",
   "metadata": {
    "id": "L6CxFRNn1mQi"
   },
   "source": [
    "## ANN Models"
   ]
  },
  {
   "cell_type": "code",
   "execution_count": 4,
   "metadata": {
    "id": "MGbUF-AE_TAL"
   },
   "outputs": [],
   "source": [
    "from nltk.tokenize import word_tokenize\n",
    "from tqdm import tqdm\n",
    "\n",
    "from sklearn.model_selection import train_test_split\n",
    "from sklearn import metrics\n",
    "from sklearn.metrics import classification_report\n",
    "from sklearn.metrics import accuracy_score, f1_score, confusion_matrix, recall_score, precision_score, roc_auc_score\n",
    "from sklearn.preprocessing import LabelEncoder\n",
    "import pickle\n",
    "from sklearn.feature_extraction.text import TfidfVectorizer\n",
    "\n",
    "# Deep learning libraries\n",
    "import tensorflow as tf\n",
    "from tensorflow.keras.layers import Input\n",
    "from tensorflow.keras.models import Sequential\n",
    "from tensorflow.keras.models import Model\n",
    "from tensorflow.keras import optimizers\n",
    "from tensorflow.keras.layers import Dense, LSTM,  Embedding, Dropout, Bidirectional, GlobalMaxPool1D, BatchNormalization\n",
    "\n",
    "#from keras.utils import np_utils\n",
    "#from keras.layers.merge import Concatenate\n",
    "#from keras.utils import plot_model\n",
    "\n",
    "\n",
    "from tensorflow.keras.callbacks import ReduceLROnPlateau\n",
    "from tensorflow.keras.callbacks import EarlyStopping\n",
    "from tensorflow.keras.callbacks import ModelCheckpoint\n",
    "\n",
    "from tensorflow.keras.models import load_model\n",
    "from tensorflow.keras.models import model_from_json\n",
    "from tensorflow.keras.wrappers.scikit_learn import KerasClassifier\n",
    "\n",
    "# Keras pre-processing\n",
    "from tensorflow.keras.preprocessing.text import Tokenizer\n",
    "from tensorflow.keras.preprocessing.sequence import pad_sequences\n"
   ]
  },
  {
   "cell_type": "code",
   "execution_count": 5,
   "metadata": {
    "id": "3ppe17Vhf6QZ"
   },
   "outputs": [],
   "source": [
    "from sklearn.preprocessing import LabelEncoder, StandardScaler\n",
    "from tensorflow.keras.utils import to_categorical\n",
    "from tensorflow.keras.regularizers import l1, l2, l1_l2\n",
    "from tensorflow.keras.constraints import unit_norm\n",
    "from tensorflow.keras.layers import Concatenate\n",
    "from tensorflow.keras.optimizers import SGD\n",
    "from tensorflow.keras.utils import plot_model\n",
    "from tensorflow.keras.layers import Conv1D,MaxPooling1D,Flatten"
   ]
  },
  {
   "cell_type": "markdown",
   "metadata": {
    "id": "17TIco8Zy51a"
   },
   "source": [
    "## CNN+LSTM Model"
   ]
  },
  {
   "cell_type": "code",
   "execution_count": 7,
   "metadata": {
    "id": "OwVm_vc9g9Mq"
   },
   "outputs": [],
   "source": [
    "url = \"https://raw.githubusercontent.com/shyamsparrow/Jan-G4---NLP-Chatbot/main/industry_df_with_stopwords.csv\""
   ]
  },
  {
   "cell_type": "code",
   "execution_count": 8,
   "metadata": {
    "id": "h5sQ-rKcCO5i"
   },
   "outputs": [],
   "source": [
    "industry_df = pd.read_csv(url)"
   ]
  },
  {
   "cell_type": "code",
   "execution_count": 9,
   "metadata": {
    "id": "1F_rnSbjf6Qe"
   },
   "outputs": [],
   "source": [
    "industry_df_1 = pd.DataFrame(industry_df[['Year','Month','Day','Weekday','WeekofYear','Season','Country','Local','Potential_Accident_Level','Description_preprocessed']])"
   ]
  },
  {
   "cell_type": "code",
   "execution_count": 10,
   "metadata": {
    "colab": {
     "base_uri": "https://localhost:8080/",
     "height": 250
    },
    "id": "9d4DC5csf6Qf",
    "outputId": "ca8b23f7-14c3-4446-c0ab-684147c43a58"
   },
   "outputs": [
    {
     "data": {
      "text/html": [
       "\n",
       "  <div id=\"df-b277d975-231c-4aca-a7bf-d7cb96b0a255\">\n",
       "    <div class=\"colab-df-container\">\n",
       "      <div>\n",
       "<style scoped>\n",
       "    .dataframe tbody tr th:only-of-type {\n",
       "        vertical-align: middle;\n",
       "    }\n",
       "\n",
       "    .dataframe tbody tr th {\n",
       "        vertical-align: top;\n",
       "    }\n",
       "\n",
       "    .dataframe thead th {\n",
       "        text-align: right;\n",
       "    }\n",
       "</style>\n",
       "<table border=\"1\" class=\"dataframe\">\n",
       "  <thead>\n",
       "    <tr style=\"text-align: right;\">\n",
       "      <th></th>\n",
       "      <th>Year</th>\n",
       "      <th>Month</th>\n",
       "      <th>Day</th>\n",
       "      <th>Weekday</th>\n",
       "      <th>WeekofYear</th>\n",
       "      <th>Season</th>\n",
       "      <th>Country</th>\n",
       "      <th>Local</th>\n",
       "      <th>Potential_Accident_Level</th>\n",
       "      <th>Description_preprocessed</th>\n",
       "    </tr>\n",
       "  </thead>\n",
       "  <tbody>\n",
       "    <tr>\n",
       "      <th>0</th>\n",
       "      <td>2016</td>\n",
       "      <td>1</td>\n",
       "      <td>1</td>\n",
       "      <td>Friday</td>\n",
       "      <td>53</td>\n",
       "      <td>Summer</td>\n",
       "      <td>Country_01</td>\n",
       "      <td>Local_01</td>\n",
       "      <td>IV</td>\n",
       "      <td>while removing the drill rod of the jumbo 08 f...</td>\n",
       "    </tr>\n",
       "    <tr>\n",
       "      <th>1</th>\n",
       "      <td>2016</td>\n",
       "      <td>1</td>\n",
       "      <td>2</td>\n",
       "      <td>Saturday</td>\n",
       "      <td>53</td>\n",
       "      <td>Summer</td>\n",
       "      <td>Country_02</td>\n",
       "      <td>Local_02</td>\n",
       "      <td>IV</td>\n",
       "      <td>during the activation of a sodium sulphide pum...</td>\n",
       "    </tr>\n",
       "    <tr>\n",
       "      <th>2</th>\n",
       "      <td>2016</td>\n",
       "      <td>1</td>\n",
       "      <td>6</td>\n",
       "      <td>Wednesday</td>\n",
       "      <td>1</td>\n",
       "      <td>Summer</td>\n",
       "      <td>Country_01</td>\n",
       "      <td>Local_03</td>\n",
       "      <td>III</td>\n",
       "      <td>in the substation milo located at level 170 wh...</td>\n",
       "    </tr>\n",
       "    <tr>\n",
       "      <th>3</th>\n",
       "      <td>2016</td>\n",
       "      <td>1</td>\n",
       "      <td>8</td>\n",
       "      <td>Friday</td>\n",
       "      <td>1</td>\n",
       "      <td>Summer</td>\n",
       "      <td>Country_01</td>\n",
       "      <td>Local_04</td>\n",
       "      <td>I</td>\n",
       "      <td>being approximately in the no 1880 cx695 ob th...</td>\n",
       "    </tr>\n",
       "    <tr>\n",
       "      <th>4</th>\n",
       "      <td>2016</td>\n",
       "      <td>1</td>\n",
       "      <td>10</td>\n",
       "      <td>Sunday</td>\n",
       "      <td>1</td>\n",
       "      <td>Summer</td>\n",
       "      <td>Country_01</td>\n",
       "      <td>Local_04</td>\n",
       "      <td>IV</td>\n",
       "      <td>approximately at in circumstance that the mech...</td>\n",
       "    </tr>\n",
       "  </tbody>\n",
       "</table>\n",
       "</div>\n",
       "      <button class=\"colab-df-convert\" onclick=\"convertToInteractive('df-b277d975-231c-4aca-a7bf-d7cb96b0a255')\"\n",
       "              title=\"Convert this dataframe to an interactive table.\"\n",
       "              style=\"display:none;\">\n",
       "        \n",
       "  <svg xmlns=\"http://www.w3.org/2000/svg\" height=\"24px\"viewBox=\"0 0 24 24\"\n",
       "       width=\"24px\">\n",
       "    <path d=\"M0 0h24v24H0V0z\" fill=\"none\"/>\n",
       "    <path d=\"M18.56 5.44l.94 2.06.94-2.06 2.06-.94-2.06-.94-.94-2.06-.94 2.06-2.06.94zm-11 1L8.5 8.5l.94-2.06 2.06-.94-2.06-.94L8.5 2.5l-.94 2.06-2.06.94zm10 10l.94 2.06.94-2.06 2.06-.94-2.06-.94-.94-2.06-.94 2.06-2.06.94z\"/><path d=\"M17.41 7.96l-1.37-1.37c-.4-.4-.92-.59-1.43-.59-.52 0-1.04.2-1.43.59L10.3 9.45l-7.72 7.72c-.78.78-.78 2.05 0 2.83L4 21.41c.39.39.9.59 1.41.59.51 0 1.02-.2 1.41-.59l7.78-7.78 2.81-2.81c.8-.78.8-2.07 0-2.86zM5.41 20L4 18.59l7.72-7.72 1.47 1.35L5.41 20z\"/>\n",
       "  </svg>\n",
       "      </button>\n",
       "      \n",
       "  <style>\n",
       "    .colab-df-container {\n",
       "      display:flex;\n",
       "      flex-wrap:wrap;\n",
       "      gap: 12px;\n",
       "    }\n",
       "\n",
       "    .colab-df-convert {\n",
       "      background-color: #E8F0FE;\n",
       "      border: none;\n",
       "      border-radius: 50%;\n",
       "      cursor: pointer;\n",
       "      display: none;\n",
       "      fill: #1967D2;\n",
       "      height: 32px;\n",
       "      padding: 0 0 0 0;\n",
       "      width: 32px;\n",
       "    }\n",
       "\n",
       "    .colab-df-convert:hover {\n",
       "      background-color: #E2EBFA;\n",
       "      box-shadow: 0px 1px 2px rgba(60, 64, 67, 0.3), 0px 1px 3px 1px rgba(60, 64, 67, 0.15);\n",
       "      fill: #174EA6;\n",
       "    }\n",
       "\n",
       "    [theme=dark] .colab-df-convert {\n",
       "      background-color: #3B4455;\n",
       "      fill: #D2E3FC;\n",
       "    }\n",
       "\n",
       "    [theme=dark] .colab-df-convert:hover {\n",
       "      background-color: #434B5C;\n",
       "      box-shadow: 0px 1px 3px 1px rgba(0, 0, 0, 0.15);\n",
       "      filter: drop-shadow(0px 1px 2px rgba(0, 0, 0, 0.3));\n",
       "      fill: #FFFFFF;\n",
       "    }\n",
       "  </style>\n",
       "\n",
       "      <script>\n",
       "        const buttonEl =\n",
       "          document.querySelector('#df-b277d975-231c-4aca-a7bf-d7cb96b0a255 button.colab-df-convert');\n",
       "        buttonEl.style.display =\n",
       "          google.colab.kernel.accessAllowed ? 'block' : 'none';\n",
       "\n",
       "        async function convertToInteractive(key) {\n",
       "          const element = document.querySelector('#df-b277d975-231c-4aca-a7bf-d7cb96b0a255');\n",
       "          const dataTable =\n",
       "            await google.colab.kernel.invokeFunction('convertToInteractive',\n",
       "                                                     [key], {});\n",
       "          if (!dataTable) return;\n",
       "\n",
       "          const docLinkHtml = 'Like what you see? Visit the ' +\n",
       "            '<a target=\"_blank\" href=https://colab.research.google.com/notebooks/data_table.ipynb>data table notebook</a>'\n",
       "            + ' to learn more about interactive tables.';\n",
       "          element.innerHTML = '';\n",
       "          dataTable['output_type'] = 'display_data';\n",
       "          await google.colab.output.renderOutput(dataTable, element);\n",
       "          const docLink = document.createElement('div');\n",
       "          docLink.innerHTML = docLinkHtml;\n",
       "          element.appendChild(docLink);\n",
       "        }\n",
       "      </script>\n",
       "    </div>\n",
       "  </div>\n",
       "  "
      ],
      "text/plain": [
       "   Year  ...                           Description_preprocessed\n",
       "0  2016  ...  while removing the drill rod of the jumbo 08 f...\n",
       "1  2016  ...  during the activation of a sodium sulphide pum...\n",
       "2  2016  ...  in the substation milo located at level 170 wh...\n",
       "3  2016  ...  being approximately in the no 1880 cx695 ob th...\n",
       "4  2016  ...  approximately at in circumstance that the mech...\n",
       "\n",
       "[5 rows x 10 columns]"
      ]
     },
     "execution_count": 10,
     "metadata": {},
     "output_type": "execute_result"
    }
   ],
   "source": [
    "industry_df_1.head()"
   ]
  },
  {
   "cell_type": "markdown",
   "metadata": {
    "id": "TLUlS8Aef6Qi"
   },
   "source": [
    "**Preprocessing for categorical features**"
   ]
  },
  {
   "cell_type": "code",
   "execution_count": 11,
   "metadata": {
    "id": "192BSUqUf6Qj"
   },
   "outputs": [],
   "source": [
    "# Create categorical inputs DataFrame\n",
    "cat_featenc_df = pd.DataFrame()\n",
    "\n",
    "# Label encoding\n",
    "industry_df_1['Season'] = industry_df_1['Season'].replace('Summer', 'aSummer').replace('Autumn', 'bAutumn').replace('Winter', 'cWinter').replace('Spring', 'dSpring')\n",
    "cat_featenc_df['Season'] = LabelEncoder().fit_transform(industry_df_1['Season']).astype(np.int8)\n",
    "\n",
    "industry_df_1['Weekday'] = industry_df_1['Weekday'].replace('Monday', 'aMonday').replace('Tuesday', 'bTuesday').replace('Wednesday', 'cWednesday').replace('Thursday', 'dThursday').replace('Friday', 'eFriday').replace('Saturday', 'fSaturday').replace('Sunday', 'gSunday')\n",
    "cat_featenc_df['Weekday'] = LabelEncoder().fit_transform(industry_df_1['Weekday']).astype(np.int8)\n",
    "\n",
    "#cat_featenc_df['Accident_Level'] = LabelEncoder().fit_transform(industry_df_1['Accident_Level']).astype(np.int8)\n",
    "cat_featenc_df['Potential_Accident_Level'] = LabelEncoder().fit_transform(industry_df_1['Potential_Accident_Level']).astype(np.int8)"
   ]
  },
  {
   "cell_type": "code",
   "execution_count": 12,
   "metadata": {
    "colab": {
     "base_uri": "https://localhost:8080/",
     "height": 260
    },
    "id": "iyQXDj1uf6Qk",
    "outputId": "ae9557b3-f235-4efe-d994-c76c43076dab"
   },
   "outputs": [
    {
     "data": {
      "text/html": [
       "\n",
       "  <div id=\"df-a31b0683-ac9a-49d1-89ae-18f2447e95d4\">\n",
       "    <div class=\"colab-df-container\">\n",
       "      <div>\n",
       "<style scoped>\n",
       "    .dataframe tbody tr th:only-of-type {\n",
       "        vertical-align: middle;\n",
       "    }\n",
       "\n",
       "    .dataframe tbody tr th {\n",
       "        vertical-align: top;\n",
       "    }\n",
       "\n",
       "    .dataframe thead th {\n",
       "        text-align: right;\n",
       "    }\n",
       "</style>\n",
       "<table border=\"1\" class=\"dataframe\">\n",
       "  <thead>\n",
       "    <tr style=\"text-align: right;\">\n",
       "      <th></th>\n",
       "      <th>Year</th>\n",
       "      <th>Month</th>\n",
       "      <th>Day</th>\n",
       "      <th>WeekofYear</th>\n",
       "      <th>Description_preprocessed</th>\n",
       "      <th>Season</th>\n",
       "      <th>Weekday</th>\n",
       "      <th>Potential_Accident_Level</th>\n",
       "      <th>Country_02</th>\n",
       "      <th>Country_03</th>\n",
       "      <th>Local_02</th>\n",
       "      <th>Local_03</th>\n",
       "      <th>Local_04</th>\n",
       "      <th>Local_05</th>\n",
       "      <th>Local_06</th>\n",
       "      <th>Local_07</th>\n",
       "      <th>Local_08</th>\n",
       "      <th>Local_09</th>\n",
       "      <th>Local_10</th>\n",
       "      <th>Local_11</th>\n",
       "      <th>Local_12</th>\n",
       "    </tr>\n",
       "  </thead>\n",
       "  <tbody>\n",
       "    <tr>\n",
       "      <th>0</th>\n",
       "      <td>2016</td>\n",
       "      <td>1</td>\n",
       "      <td>1</td>\n",
       "      <td>53</td>\n",
       "      <td>while removing the drill rod of the jumbo 08 f...</td>\n",
       "      <td>0</td>\n",
       "      <td>4</td>\n",
       "      <td>3</td>\n",
       "      <td>0</td>\n",
       "      <td>0</td>\n",
       "      <td>0</td>\n",
       "      <td>0</td>\n",
       "      <td>0</td>\n",
       "      <td>0</td>\n",
       "      <td>0</td>\n",
       "      <td>0</td>\n",
       "      <td>0</td>\n",
       "      <td>0</td>\n",
       "      <td>0</td>\n",
       "      <td>0</td>\n",
       "      <td>0</td>\n",
       "    </tr>\n",
       "    <tr>\n",
       "      <th>1</th>\n",
       "      <td>2016</td>\n",
       "      <td>1</td>\n",
       "      <td>2</td>\n",
       "      <td>53</td>\n",
       "      <td>during the activation of a sodium sulphide pum...</td>\n",
       "      <td>0</td>\n",
       "      <td>5</td>\n",
       "      <td>3</td>\n",
       "      <td>1</td>\n",
       "      <td>0</td>\n",
       "      <td>1</td>\n",
       "      <td>0</td>\n",
       "      <td>0</td>\n",
       "      <td>0</td>\n",
       "      <td>0</td>\n",
       "      <td>0</td>\n",
       "      <td>0</td>\n",
       "      <td>0</td>\n",
       "      <td>0</td>\n",
       "      <td>0</td>\n",
       "      <td>0</td>\n",
       "    </tr>\n",
       "    <tr>\n",
       "      <th>2</th>\n",
       "      <td>2016</td>\n",
       "      <td>1</td>\n",
       "      <td>6</td>\n",
       "      <td>1</td>\n",
       "      <td>in the substation milo located at level 170 wh...</td>\n",
       "      <td>0</td>\n",
       "      <td>2</td>\n",
       "      <td>2</td>\n",
       "      <td>0</td>\n",
       "      <td>0</td>\n",
       "      <td>0</td>\n",
       "      <td>1</td>\n",
       "      <td>0</td>\n",
       "      <td>0</td>\n",
       "      <td>0</td>\n",
       "      <td>0</td>\n",
       "      <td>0</td>\n",
       "      <td>0</td>\n",
       "      <td>0</td>\n",
       "      <td>0</td>\n",
       "      <td>0</td>\n",
       "    </tr>\n",
       "  </tbody>\n",
       "</table>\n",
       "</div>\n",
       "      <button class=\"colab-df-convert\" onclick=\"convertToInteractive('df-a31b0683-ac9a-49d1-89ae-18f2447e95d4')\"\n",
       "              title=\"Convert this dataframe to an interactive table.\"\n",
       "              style=\"display:none;\">\n",
       "        \n",
       "  <svg xmlns=\"http://www.w3.org/2000/svg\" height=\"24px\"viewBox=\"0 0 24 24\"\n",
       "       width=\"24px\">\n",
       "    <path d=\"M0 0h24v24H0V0z\" fill=\"none\"/>\n",
       "    <path d=\"M18.56 5.44l.94 2.06.94-2.06 2.06-.94-2.06-.94-.94-2.06-.94 2.06-2.06.94zm-11 1L8.5 8.5l.94-2.06 2.06-.94-2.06-.94L8.5 2.5l-.94 2.06-2.06.94zm10 10l.94 2.06.94-2.06 2.06-.94-2.06-.94-.94-2.06-.94 2.06-2.06.94z\"/><path d=\"M17.41 7.96l-1.37-1.37c-.4-.4-.92-.59-1.43-.59-.52 0-1.04.2-1.43.59L10.3 9.45l-7.72 7.72c-.78.78-.78 2.05 0 2.83L4 21.41c.39.39.9.59 1.41.59.51 0 1.02-.2 1.41-.59l7.78-7.78 2.81-2.81c.8-.78.8-2.07 0-2.86zM5.41 20L4 18.59l7.72-7.72 1.47 1.35L5.41 20z\"/>\n",
       "  </svg>\n",
       "      </button>\n",
       "      \n",
       "  <style>\n",
       "    .colab-df-container {\n",
       "      display:flex;\n",
       "      flex-wrap:wrap;\n",
       "      gap: 12px;\n",
       "    }\n",
       "\n",
       "    .colab-df-convert {\n",
       "      background-color: #E8F0FE;\n",
       "      border: none;\n",
       "      border-radius: 50%;\n",
       "      cursor: pointer;\n",
       "      display: none;\n",
       "      fill: #1967D2;\n",
       "      height: 32px;\n",
       "      padding: 0 0 0 0;\n",
       "      width: 32px;\n",
       "    }\n",
       "\n",
       "    .colab-df-convert:hover {\n",
       "      background-color: #E2EBFA;\n",
       "      box-shadow: 0px 1px 2px rgba(60, 64, 67, 0.3), 0px 1px 3px 1px rgba(60, 64, 67, 0.15);\n",
       "      fill: #174EA6;\n",
       "    }\n",
       "\n",
       "    [theme=dark] .colab-df-convert {\n",
       "      background-color: #3B4455;\n",
       "      fill: #D2E3FC;\n",
       "    }\n",
       "\n",
       "    [theme=dark] .colab-df-convert:hover {\n",
       "      background-color: #434B5C;\n",
       "      box-shadow: 0px 1px 3px 1px rgba(0, 0, 0, 0.15);\n",
       "      filter: drop-shadow(0px 1px 2px rgba(0, 0, 0, 0.3));\n",
       "      fill: #FFFFFF;\n",
       "    }\n",
       "  </style>\n",
       "\n",
       "      <script>\n",
       "        const buttonEl =\n",
       "          document.querySelector('#df-a31b0683-ac9a-49d1-89ae-18f2447e95d4 button.colab-df-convert');\n",
       "        buttonEl.style.display =\n",
       "          google.colab.kernel.accessAllowed ? 'block' : 'none';\n",
       "\n",
       "        async function convertToInteractive(key) {\n",
       "          const element = document.querySelector('#df-a31b0683-ac9a-49d1-89ae-18f2447e95d4');\n",
       "          const dataTable =\n",
       "            await google.colab.kernel.invokeFunction('convertToInteractive',\n",
       "                                                     [key], {});\n",
       "          if (!dataTable) return;\n",
       "\n",
       "          const docLinkHtml = 'Like what you see? Visit the ' +\n",
       "            '<a target=\"_blank\" href=https://colab.research.google.com/notebooks/data_table.ipynb>data table notebook</a>'\n",
       "            + ' to learn more about interactive tables.';\n",
       "          element.innerHTML = '';\n",
       "          dataTable['output_type'] = 'display_data';\n",
       "          await google.colab.output.renderOutput(dataTable, element);\n",
       "          const docLink = document.createElement('div');\n",
       "          docLink.innerHTML = docLinkHtml;\n",
       "          element.appendChild(docLink);\n",
       "        }\n",
       "      </script>\n",
       "    </div>\n",
       "  </div>\n",
       "  "
      ],
      "text/plain": [
       "   Year  Month  Day  WeekofYear  ... Local_09  Local_10  Local_11  Local_12\n",
       "0  2016      1    1          53  ...        0         0         0         0\n",
       "1  2016      1    2          53  ...        0         0         0         0\n",
       "2  2016      1    6           1  ...        0         0         0         0\n",
       "\n",
       "[3 rows x 21 columns]"
      ]
     },
     "execution_count": 12,
     "metadata": {},
     "output_type": "execute_result"
    }
   ],
   "source": [
    "#Creating dummy variables for categoricalinputs\n",
    "Dummy_frame = pd.get_dummies(industry_df_1[['Country','Local']], columns=['Country','Local'],prefix=['',''],prefix_sep=['',''], drop_first=True)\n",
    "\n",
    "# Merge the above dataframe with the original dataframe cat_featenc_df\n",
    "cat_featenc_df = cat_featenc_df.join(Dummy_frame.reset_index(drop=True))\n",
    "\n",
    "cat_featenc_df = industry_df_1[['Year','Month','Day','WeekofYear','Description_preprocessed']].reset_index(drop=True).join(cat_featenc_df.reset_index(drop=True))\n",
    "\n",
    "cat_featenc_df.head(3)"
   ]
  },
  {
   "cell_type": "code",
   "execution_count": 13,
   "metadata": {
    "id": "MvMRCMxZf6Qm"
   },
   "outputs": [],
   "source": [
    "# Select input and output features\n",
    "X = cat_featenc_df.drop('Potential_Accident_Level', axis = 1)\n",
    "y = cat_featenc_df['Potential_Accident_Level']"
   ]
  },
  {
   "cell_type": "code",
   "execution_count": 14,
   "metadata": {
    "colab": {
     "base_uri": "https://localhost:8080/"
    },
    "id": "OTv0du01f6Qn",
    "outputId": "f3b82b5d-cae3-44ab-ff40-e685ca449916"
   },
   "outputs": [
    {
     "name": "stdout",
     "output_type": "stream",
     "text": [
      "X_train shape : (328)\n",
      "y_train shape : (328,)\n",
      "X_test shape : (83)\n",
      "y_test shape : (83,)\n"
     ]
    }
   ],
   "source": [
    "# Divide our data into testing and training sets:\n",
    "X_train, X_test, y_train, y_test = train_test_split(X, y, test_size = 0.20, random_state = 1,stratify=y)#, stratify = y_cat\n",
    "\n",
    "print('X_train shape : ({0})'.format(X_train.shape[0]))\n",
    "print('y_train shape : ({0},)'.format(y_train.shape[0]))\n",
    "print('X_test shape : ({0})'.format(X_test.shape[0]))\n",
    "print('y_test shape : ({0},)'.format(y_test.shape[0]))\n",
    "\n",
    "# Convert both the training and test labels into one-hot encoded vectors:\n",
    "y_train = to_categorical(y_train)\n",
    "y_test = to_categorical(y_test)"
   ]
  },
  {
   "cell_type": "code",
   "execution_count": 15,
   "metadata": {
    "colab": {
     "base_uri": "https://localhost:8080/",
     "height": 356
    },
    "id": "ZoyjrVczf6Qn",
    "outputId": "91cab4cf-c162-4287-e903-ff151028af22",
    "scrolled": false
   },
   "outputs": [
    {
     "data": {
      "text/html": [
       "\n",
       "  <div id=\"df-e7b3cb5d-dd2c-41e7-934f-49b41cf6360f\">\n",
       "    <div class=\"colab-df-container\">\n",
       "      <div>\n",
       "<style scoped>\n",
       "    .dataframe tbody tr th:only-of-type {\n",
       "        vertical-align: middle;\n",
       "    }\n",
       "\n",
       "    .dataframe tbody tr th {\n",
       "        vertical-align: top;\n",
       "    }\n",
       "\n",
       "    .dataframe thead th {\n",
       "        text-align: right;\n",
       "    }\n",
       "</style>\n",
       "<table border=\"1\" class=\"dataframe\">\n",
       "  <thead>\n",
       "    <tr style=\"text-align: right;\">\n",
       "      <th></th>\n",
       "      <th>Year</th>\n",
       "      <th>Month</th>\n",
       "      <th>Day</th>\n",
       "      <th>WeekofYear</th>\n",
       "      <th>Description_preprocessed</th>\n",
       "      <th>Season</th>\n",
       "      <th>Weekday</th>\n",
       "      <th>Country_02</th>\n",
       "      <th>Country_03</th>\n",
       "      <th>Local_02</th>\n",
       "      <th>Local_03</th>\n",
       "      <th>Local_04</th>\n",
       "      <th>Local_05</th>\n",
       "      <th>Local_06</th>\n",
       "      <th>Local_07</th>\n",
       "      <th>Local_08</th>\n",
       "      <th>Local_09</th>\n",
       "      <th>Local_10</th>\n",
       "      <th>Local_11</th>\n",
       "      <th>Local_12</th>\n",
       "    </tr>\n",
       "  </thead>\n",
       "  <tbody>\n",
       "    <tr>\n",
       "      <th>216</th>\n",
       "      <td>2016</td>\n",
       "      <td>9</td>\n",
       "      <td>21</td>\n",
       "      <td>38</td>\n",
       "      <td>employee wa preparing rice using a utensil typ...</td>\n",
       "      <td>3</td>\n",
       "      <td>2</td>\n",
       "      <td>1</td>\n",
       "      <td>0</td>\n",
       "      <td>0</td>\n",
       "      <td>0</td>\n",
       "      <td>0</td>\n",
       "      <td>1</td>\n",
       "      <td>0</td>\n",
       "      <td>0</td>\n",
       "      <td>0</td>\n",
       "      <td>0</td>\n",
       "      <td>0</td>\n",
       "      <td>0</td>\n",
       "      <td>0</td>\n",
       "    </tr>\n",
       "    <tr>\n",
       "      <th>258</th>\n",
       "      <td>2016</td>\n",
       "      <td>12</td>\n",
       "      <td>8</td>\n",
       "      <td>49</td>\n",
       "      <td>at time when four employee lowered a metal she...</td>\n",
       "      <td>0</td>\n",
       "      <td>3</td>\n",
       "      <td>0</td>\n",
       "      <td>0</td>\n",
       "      <td>0</td>\n",
       "      <td>0</td>\n",
       "      <td>0</td>\n",
       "      <td>0</td>\n",
       "      <td>0</td>\n",
       "      <td>0</td>\n",
       "      <td>0</td>\n",
       "      <td>0</td>\n",
       "      <td>0</td>\n",
       "      <td>0</td>\n",
       "      <td>0</td>\n",
       "    </tr>\n",
       "    <tr>\n",
       "      <th>155</th>\n",
       "      <td>2016</td>\n",
       "      <td>6</td>\n",
       "      <td>24</td>\n",
       "      <td>25</td>\n",
       "      <td>during the change of rim position 1 of the jum...</td>\n",
       "      <td>2</td>\n",
       "      <td>4</td>\n",
       "      <td>0</td>\n",
       "      <td>0</td>\n",
       "      <td>0</td>\n",
       "      <td>0</td>\n",
       "      <td>0</td>\n",
       "      <td>0</td>\n",
       "      <td>0</td>\n",
       "      <td>0</td>\n",
       "      <td>0</td>\n",
       "      <td>0</td>\n",
       "      <td>0</td>\n",
       "      <td>0</td>\n",
       "      <td>0</td>\n",
       "    </tr>\n",
       "    <tr>\n",
       "      <th>311</th>\n",
       "      <td>2017</td>\n",
       "      <td>2</td>\n",
       "      <td>8</td>\n",
       "      <td>6</td>\n",
       "      <td>during the preparation for the office cleaning...</td>\n",
       "      <td>0</td>\n",
       "      <td>2</td>\n",
       "      <td>1</td>\n",
       "      <td>0</td>\n",
       "      <td>0</td>\n",
       "      <td>0</td>\n",
       "      <td>0</td>\n",
       "      <td>0</td>\n",
       "      <td>0</td>\n",
       "      <td>0</td>\n",
       "      <td>1</td>\n",
       "      <td>0</td>\n",
       "      <td>0</td>\n",
       "      <td>0</td>\n",
       "      <td>0</td>\n",
       "    </tr>\n",
       "    <tr>\n",
       "      <th>262</th>\n",
       "      <td>2016</td>\n",
       "      <td>12</td>\n",
       "      <td>13</td>\n",
       "      <td>50</td>\n",
       "      <td>during the activity of vegetation of the slope...</td>\n",
       "      <td>0</td>\n",
       "      <td>1</td>\n",
       "      <td>1</td>\n",
       "      <td>0</td>\n",
       "      <td>1</td>\n",
       "      <td>0</td>\n",
       "      <td>0</td>\n",
       "      <td>0</td>\n",
       "      <td>0</td>\n",
       "      <td>0</td>\n",
       "      <td>0</td>\n",
       "      <td>0</td>\n",
       "      <td>0</td>\n",
       "      <td>0</td>\n",
       "      <td>0</td>\n",
       "    </tr>\n",
       "  </tbody>\n",
       "</table>\n",
       "</div>\n",
       "      <button class=\"colab-df-convert\" onclick=\"convertToInteractive('df-e7b3cb5d-dd2c-41e7-934f-49b41cf6360f')\"\n",
       "              title=\"Convert this dataframe to an interactive table.\"\n",
       "              style=\"display:none;\">\n",
       "        \n",
       "  <svg xmlns=\"http://www.w3.org/2000/svg\" height=\"24px\"viewBox=\"0 0 24 24\"\n",
       "       width=\"24px\">\n",
       "    <path d=\"M0 0h24v24H0V0z\" fill=\"none\"/>\n",
       "    <path d=\"M18.56 5.44l.94 2.06.94-2.06 2.06-.94-2.06-.94-.94-2.06-.94 2.06-2.06.94zm-11 1L8.5 8.5l.94-2.06 2.06-.94-2.06-.94L8.5 2.5l-.94 2.06-2.06.94zm10 10l.94 2.06.94-2.06 2.06-.94-2.06-.94-.94-2.06-.94 2.06-2.06.94z\"/><path d=\"M17.41 7.96l-1.37-1.37c-.4-.4-.92-.59-1.43-.59-.52 0-1.04.2-1.43.59L10.3 9.45l-7.72 7.72c-.78.78-.78 2.05 0 2.83L4 21.41c.39.39.9.59 1.41.59.51 0 1.02-.2 1.41-.59l7.78-7.78 2.81-2.81c.8-.78.8-2.07 0-2.86zM5.41 20L4 18.59l7.72-7.72 1.47 1.35L5.41 20z\"/>\n",
       "  </svg>\n",
       "      </button>\n",
       "      \n",
       "  <style>\n",
       "    .colab-df-container {\n",
       "      display:flex;\n",
       "      flex-wrap:wrap;\n",
       "      gap: 12px;\n",
       "    }\n",
       "\n",
       "    .colab-df-convert {\n",
       "      background-color: #E8F0FE;\n",
       "      border: none;\n",
       "      border-radius: 50%;\n",
       "      cursor: pointer;\n",
       "      display: none;\n",
       "      fill: #1967D2;\n",
       "      height: 32px;\n",
       "      padding: 0 0 0 0;\n",
       "      width: 32px;\n",
       "    }\n",
       "\n",
       "    .colab-df-convert:hover {\n",
       "      background-color: #E2EBFA;\n",
       "      box-shadow: 0px 1px 2px rgba(60, 64, 67, 0.3), 0px 1px 3px 1px rgba(60, 64, 67, 0.15);\n",
       "      fill: #174EA6;\n",
       "    }\n",
       "\n",
       "    [theme=dark] .colab-df-convert {\n",
       "      background-color: #3B4455;\n",
       "      fill: #D2E3FC;\n",
       "    }\n",
       "\n",
       "    [theme=dark] .colab-df-convert:hover {\n",
       "      background-color: #434B5C;\n",
       "      box-shadow: 0px 1px 3px 1px rgba(0, 0, 0, 0.15);\n",
       "      filter: drop-shadow(0px 1px 2px rgba(0, 0, 0, 0.3));\n",
       "      fill: #FFFFFF;\n",
       "    }\n",
       "  </style>\n",
       "\n",
       "      <script>\n",
       "        const buttonEl =\n",
       "          document.querySelector('#df-e7b3cb5d-dd2c-41e7-934f-49b41cf6360f button.colab-df-convert');\n",
       "        buttonEl.style.display =\n",
       "          google.colab.kernel.accessAllowed ? 'block' : 'none';\n",
       "\n",
       "        async function convertToInteractive(key) {\n",
       "          const element = document.querySelector('#df-e7b3cb5d-dd2c-41e7-934f-49b41cf6360f');\n",
       "          const dataTable =\n",
       "            await google.colab.kernel.invokeFunction('convertToInteractive',\n",
       "                                                     [key], {});\n",
       "          if (!dataTable) return;\n",
       "\n",
       "          const docLinkHtml = 'Like what you see? Visit the ' +\n",
       "            '<a target=\"_blank\" href=https://colab.research.google.com/notebooks/data_table.ipynb>data table notebook</a>'\n",
       "            + ' to learn more about interactive tables.';\n",
       "          element.innerHTML = '';\n",
       "          dataTable['output_type'] = 'display_data';\n",
       "          await google.colab.output.renderOutput(dataTable, element);\n",
       "          const docLink = document.createElement('div');\n",
       "          docLink.innerHTML = docLinkHtml;\n",
       "          element.appendChild(docLink);\n",
       "        }\n",
       "      </script>\n",
       "    </div>\n",
       "  </div>\n",
       "  "
      ],
      "text/plain": [
       "     Year  Month  Day  WeekofYear  ... Local_09  Local_10  Local_11  Local_12\n",
       "216  2016      9   21          38  ...        0         0         0         0\n",
       "258  2016     12    8          49  ...        0         0         0         0\n",
       "155  2016      6   24          25  ...        0         0         0         0\n",
       "311  2017      2    8           6  ...        0         0         0         0\n",
       "262  2016     12   13          50  ...        0         0         0         0\n",
       "\n",
       "[5 rows x 20 columns]"
      ]
     },
     "execution_count": 15,
     "metadata": {},
     "output_type": "execute_result"
    }
   ],
   "source": [
    "X_train.head()"
   ]
  },
  {
   "cell_type": "markdown",
   "metadata": {
    "id": "rkiCB4c_f6Qo"
   },
   "source": [
    "Dividing the train and test data to categorical and text data"
   ]
  },
  {
   "cell_type": "code",
   "execution_count": 16,
   "metadata": {
    "id": "VtiFbYMWf6Qp"
   },
   "outputs": [],
   "source": [
    "X_cat_train=X_train.drop('Description_preprocessed', axis = 1)\n",
    "X_cat_test=X_test.drop('Description_preprocessed', axis = 1)\n",
    "X_text_train=X_train['Description_preprocessed']\n",
    "X_text_test=X_test['Description_preprocessed']"
   ]
  },
  {
   "cell_type": "markdown",
   "metadata": {
    "id": "ARfNBu5Sf6Qp"
   },
   "source": [
    "Standard scaling of categorical variables"
   ]
  },
  {
   "cell_type": "code",
   "execution_count": 17,
   "metadata": {
    "id": "mRZR93hRf6Qp"
   },
   "outputs": [],
   "source": [
    "# Variable transformation using StandardScaler\n",
    "scaler_X = StandardScaler()\n",
    "X_cat_train.iloc[:,:6] = scaler_X.fit_transform(X_cat_train.iloc[:,:6]) # Scaling only first 6 feautres\n",
    "\n",
    "X_cat_test.iloc[:,:6] = scaler_X.transform(X_cat_test.iloc[:,:6]) # Scaling only first 6 feautres"
   ]
  },
  {
   "cell_type": "markdown",
   "metadata": {
    "id": "TYm8hNW4f6Qq"
   },
   "source": [
    "### Text data Processing"
   ]
  },
  {
   "cell_type": "markdown",
   "metadata": {
    "id": "t8IxQl0-aJPp"
   },
   "source": [
    "We can take the Preprocessed description (texts) as our features and the Potential accident level as our Targets for LSTM Model."
   ]
  },
  {
   "cell_type": "markdown",
   "metadata": {
    "id": "TvbhNmaWakdD"
   },
   "source": [
    "We need to tokenise our data to convert the text data into numbers."
   ]
  },
  {
   "cell_type": "code",
   "execution_count": 18,
   "metadata": {
    "id": "JEFdmm48Z5Ao"
   },
   "outputs": [],
   "source": [
    "# The first step in word embeddings is to convert the words into thier corresponding numeric indexes.\n",
    "tokenizer = Tokenizer(num_words=3000)\n",
    "tokenizer.fit_on_texts(X_text_train)\n",
    "\n",
    "X_text_train = tokenizer.texts_to_sequences(X_text_train)\n",
    "X_text_test = tokenizer.texts_to_sequences(X_text_test)"
   ]
  },
  {
   "cell_type": "code",
   "execution_count": 19,
   "metadata": {
    "colab": {
     "base_uri": "https://localhost:8080/"
    },
    "id": "TSsdsx9YNBvN",
    "outputId": "5fbb47c1-9402-4170-b327-318f68b52f72"
   },
   "outputs": [
    {
     "name": "stdout",
     "output_type": "stream",
     "text": [
      "Minimum number of words: 16\n",
      "Maximum number of words: 183\n"
     ]
    }
   ],
   "source": [
    "industry_df['nb_words'] = industry_df['Description_preprocessed'].apply(lambda x: len(x.split(' ')))\n",
    "\n",
    "print('Minimum number of words: {}'.format(industry_df['nb_words'].min()))\n",
    "print('Maximum number of words: {}'.format(industry_df['nb_words'].max()))"
   ]
  },
  {
   "cell_type": "markdown",
   "metadata": {
    "id": "FqkR4IWdatnA"
   },
   "source": [
    "The maximum number of words in our data including stopwords  is 183. Based on this we can fix our maximum length of our data will be 185."
   ]
  },
  {
   "cell_type": "code",
   "execution_count": 21,
   "metadata": {
    "colab": {
     "base_uri": "https://localhost:8080/"
    },
    "id": "RkIWW1RFNeUP",
    "outputId": "a0fb9308-7aa6-4f94-8a5b-16e8f7987fc6"
   },
   "outputs": [
    {
     "name": "stdout",
     "output_type": "stream",
     "text": [
      "vocab_size: 2865\n"
     ]
    }
   ],
   "source": [
    "vocab_size = len(tokenizer.word_index) + 1\n",
    "print(\"vocab_size:\", vocab_size)\n",
    "\n",
    "maxlen = 185\n",
    "\n",
    "X_text_train = pad_sequences(X_text_train, padding='post', maxlen=maxlen)\n",
    "X_text_test = pad_sequences(X_text_test, padding='post', maxlen=maxlen)"
   ]
  },
  {
   "cell_type": "markdown",
   "metadata": {
    "id": "t5HWBi1Na_ct"
   },
   "source": [
    "The Vocabulary size of the data is 2865. (Total number of words in our data)."
   ]
  },
  {
   "cell_type": "markdown",
   "metadata": {
    "id": "b9Hks90T11kH"
   },
   "source": [
    "Glove 6B To 200D Embedding took from this source http://nlp.stanford.edu/data/glove.6B.zip, it saved in drive and convert it into dictionary file"
   ]
  },
  {
   "cell_type": "code",
   "execution_count": 22,
   "metadata": {
    "colab": {
     "base_uri": "https://localhost:8080/"
    },
    "id": "VpTBhyYyQ0pV",
    "outputId": "f7e3dbfe-2b8d-4c30-8160-3c81b6544082"
   },
   "outputs": [
    {
     "name": "stdout",
     "output_type": "stream",
     "text": [
      "--2022-01-04 05:18:33--  http://nlp.stanford.edu/data/glove.6B.zip\n",
      "Resolving nlp.stanford.edu (nlp.stanford.edu)... 171.64.67.140\n",
      "Connecting to nlp.stanford.edu (nlp.stanford.edu)|171.64.67.140|:80... connected.\n",
      "HTTP request sent, awaiting response... 302 Found\n",
      "Location: https://nlp.stanford.edu/data/glove.6B.zip [following]\n",
      "--2022-01-04 05:18:34--  https://nlp.stanford.edu/data/glove.6B.zip\n",
      "Connecting to nlp.stanford.edu (nlp.stanford.edu)|171.64.67.140|:443... connected.\n",
      "HTTP request sent, awaiting response... 301 Moved Permanently\n",
      "Location: http://downloads.cs.stanford.edu/nlp/data/glove.6B.zip [following]\n",
      "--2022-01-04 05:18:34--  http://downloads.cs.stanford.edu/nlp/data/glove.6B.zip\n",
      "Resolving downloads.cs.stanford.edu (downloads.cs.stanford.edu)... 171.64.64.22\n",
      "Connecting to downloads.cs.stanford.edu (downloads.cs.stanford.edu)|171.64.64.22|:80... connected.\n",
      "HTTP request sent, awaiting response... 200 OK\n",
      "Length: 862182613 (822M) [application/zip]\n",
      "Saving to: ‘glove.6B.zip’\n",
      "\n",
      "glove.6B.zip        100%[===================>] 822.24M  5.24MB/s    in 2m 41s  \n",
      "\n",
      "2022-01-04 05:21:16 (5.10 MB/s) - ‘glove.6B.zip’ saved [862182613/862182613]\n",
      "\n",
      "Archive:  glove.6B.zip\n",
      "  inflating: glove.6B.50d.txt        \n",
      "  inflating: glove.6B.100d.txt       \n",
      "  inflating: glove.6B.200d.txt       \n",
      "  inflating: glove.6B.300d.txt       \n"
     ]
    }
   ],
   "source": [
    "!wget http://nlp.stanford.edu/data/glove.6B.zip\n",
    "!unzip glove*.zip"
   ]
  },
  {
   "cell_type": "code",
   "execution_count": 23,
   "metadata": {
    "colab": {
     "base_uri": "https://localhost:8080/"
    },
    "id": "ppsOlnwzQ9nP",
    "outputId": "0442eb59-f406-44cf-e977-ee090bcf2bee"
   },
   "outputs": [
    {
     "name": "stdout",
     "output_type": "stream",
     "text": [
      "Indexing word vectors.\n",
      "Found 400000 word vectors.\n"
     ]
    }
   ],
   "source": [
    "print('Indexing word vectors.')\n",
    "\n",
    "embeddings_dictionary = {}\n",
    "f = open('glove.6B.200d.txt', encoding='utf-8')\n",
    "for line in f:\n",
    "    values = line.split()\n",
    "    word = values[0]\n",
    "    coefs = np.asarray(values[1:], dtype='float32')\n",
    "    embeddings_dictionary[word] = coefs\n",
    "f.close()\n",
    "\n",
    "print('Found %s word vectors.' % len(embeddings_dictionary))"
   ]
  },
  {
   "cell_type": "code",
   "execution_count": 24,
   "metadata": {
    "colab": {
     "base_uri": "https://localhost:8080/"
    },
    "id": "62ApqzcCOESX",
    "outputId": "c1390ef0-d243-4935-c78a-c91bbe80951e"
   },
   "outputs": [
    {
     "data": {
      "text/plain": [
       "(2865, 200)"
      ]
     },
     "execution_count": 24,
     "metadata": {},
     "output_type": "execute_result"
    }
   ],
   "source": [
    "embedding_size = 200\n",
    "\n",
    "embedding_matrix = np.zeros((vocab_size, embedding_size))\n",
    "\n",
    "for word, index in tokenizer.word_index.items():\n",
    "    embedding_vector = embeddings_dictionary.get(word)\n",
    "    if embedding_vector is not None:\n",
    "        embedding_matrix[index] = embedding_vector\n",
    "embedding_matrix.shape"
   ]
  },
  {
   "cell_type": "markdown",
   "metadata": {
    "id": "6LcqJ4fhbQ3L"
   },
   "source": [
    "The Created embedding matrix is of shape 2865 * 200"
   ]
  },
  {
   "cell_type": "code",
   "execution_count": 25,
   "metadata": {
    "id": "KXog2DVW9Y-5"
   },
   "outputs": [],
   "source": [
    "class Metrics(tf.keras.callbacks.Callback):\n",
    "\n",
    "    def __init__(self, validation_data=()):\n",
    "        super().__init__()\n",
    "        self.validation_data = validation_data\n",
    "\n",
    "    def on_train_begin(self, logs={}):\n",
    "        self.val_f1s = []\n",
    "        self.val_recalls = []\n",
    "        self.val_precisions = []\n",
    "\n",
    "    def on_epoch_end(self, epoch, logs={}):\n",
    "        xVal, yVal = self.validation_data\n",
    "        val_predict_classes = (np.asarray(self.model.predict(xVal))).round() # Multilabel\n",
    "        \n",
    "        \n",
    "        val_targ = yVal\n",
    "\n",
    "        _val_f1 = f1_score(val_targ, val_predict_classes, average='micro')\n",
    "        _val_recall = recall_score(val_targ, val_predict_classes, average='micro')\n",
    "        _val_precision = precision_score(val_targ, val_predict_classes, average='micro')\n",
    "        self.val_f1s.append(_val_f1)\n",
    "        self.val_recalls.append(_val_recall)\n",
    "        self.val_precisions.append(_val_precision)\n",
    "        #print(\"— train_f1: %f — train_precision: %f — train_recall %f\" % (_val_f1, _val_precision, _val_recall))\n",
    "        return"
   ]
  },
  {
   "cell_type": "markdown",
   "metadata": {
    "id": "yoZZvuoHf6Qx"
   },
   "source": [
    "## Hybrid Model (LSTM with categorical data+LSTM Model with text data)"
   ]
  },
  {
   "cell_type": "code",
   "execution_count": 26,
   "metadata": {
    "id": "mdvcDHUmf6Qy"
   },
   "outputs": [],
   "source": [
    "#This is lstm model for text data\n",
    "input_1 = Input(shape=(maxlen,))\n",
    "embedding_layer   = Embedding(vocab_size, embedding_size, weights=[embedding_matrix], trainable=False)(input_1)\n",
    "LSTM_Layer_1      = Bidirectional(LSTM(128, return_sequences = True))(embedding_layer)\n",
    "max_pool_layer_1  = GlobalMaxPool1D()(LSTM_Layer_1)\n",
    "drop_out_layer_1  = Dropout(0.5, input_shape = (256,))(max_pool_layer_1)\n",
    "dense_layer_1     = Dense(128, activation = 'relu')(drop_out_layer_1)\n",
    "drop_out_layer_2  = Dropout(0.5, input_shape = (128,))(dense_layer_1)\n",
    "dense_layer_2     = Dense(64, activation = 'relu')(drop_out_layer_2)\n",
    "drop_out_layer_3  = Dropout(0.5, input_shape = (64,))(dense_layer_2)\n",
    "\n",
    "dense_layer_3     = Dense(32, activation = 'relu')(drop_out_layer_3)\n",
    "drop_out_layer_4  = Dropout(0.5, input_shape = (32,))(dense_layer_3)\n",
    "\n",
    "dense_layer_4     = Dense(10, activation = 'relu')(drop_out_layer_4)\n",
    "drop_out_layer_5 = Dropout(0.5, input_shape = (10,))(dense_layer_4)"
   ]
  },
  {
   "cell_type": "code",
   "execution_count": 27,
   "metadata": {
    "id": "O7vBqIoMf6Qy"
   },
   "outputs": [],
   "source": [
    "#Reshaping the train and test categorical data to give to Conv1D layer\n",
    "\n",
    "X_cat_train_reshaped = np.array(X_cat_train).reshape(X_cat_train.shape[0],X_cat_train.shape[1],1)\n",
    "X_cat_test_reshaped = np.array(X_cat_test).reshape(X_cat_test.shape[0],X_cat_test.shape[1],1)"
   ]
  },
  {
   "cell_type": "code",
   "execution_count": 30,
   "metadata": {
    "id": "lDTh7-C6f6Qz"
   },
   "outputs": [],
   "source": [
    "#This is LSTM to process categorical variables\n",
    "param = 1e-4\n",
    "\n",
    "input_2 = Input(shape=((X_cat_train_reshaped.shape[1],X_cat_train_reshaped.shape[2])))\n",
    "\n",
    "# embedding_layer_1 = Conv1D(filters=32, kernel_size=3, padding='same', activation='relu',input_shape=(None,56,1))(input_2)\n",
    "# embedding_layer_2 = Conv1D(filters=32, kernel_size=3, padding='same', activation='relu')(embedding_layer_1)\n",
    "# embedding_layer_3 = MaxPooling1D(pool_size=2)(drop_out_layer_6)\n",
    "\n",
    "lstm_cat = LSTM(128, return_sequences = True)(input_2)\n",
    "global_maxpool_cat  = GlobalMaxPool1D()(lstm_cat)\n",
    "drop_out_layer_6  = Dropout(0.5)(global_maxpool_cat)\n",
    "dense_layer_6       = Dense(10, activation='relu')(drop_out_layer_6)\n",
    "drop_out_layer_7   = Dropout(0.5)(dense_layer_6)\n",
    "batch_norm_layer_2 = BatchNormalization()(drop_out_layer_7)\n",
    "\n",
    "concat_layer        = Concatenate()([drop_out_layer_5, batch_norm_layer_2])\n",
    "dense_layer_7       = Dense(10, activation='relu')(concat_layer)\n",
    "output  = Dense(5, activation='softmax')(dense_layer_7)\n",
    "hybrid_model   = Model(inputs=[input_1, input_2], outputs=output)\n",
    "\n",
    "# compile the keras model\n",
    "opt = optimizers.Adamax(lr=0.01)\n",
    "#opt = SGD(lr=0.001, momentum=0.9)\n",
    "hybrid_model.compile(loss='categorical_crossentropy', optimizer=opt, metrics=['acc'])"
   ]
  },
  {
   "cell_type": "code",
   "execution_count": 31,
   "metadata": {
    "colab": {
     "base_uri": "https://localhost:8080/"
    },
    "id": "HNe9ZrStf6Q0",
    "outputId": "3c93c180-427a-4cd3-bb07-89b5491f0c98",
    "scrolled": true
   },
   "outputs": [
    {
     "name": "stdout",
     "output_type": "stream",
     "text": [
      "Model: \"model\"\n",
      "__________________________________________________________________________________________________\n",
      " Layer (type)                   Output Shape         Param #     Connected to                     \n",
      "==================================================================================================\n",
      " input_1 (InputLayer)           [(None, 185)]        0           []                               \n",
      "                                                                                                  \n",
      " embedding (Embedding)          (None, 185, 200)     573000      ['input_1[0][0]']                \n",
      "                                                                                                  \n",
      " bidirectional (Bidirectional)  (None, 185, 256)     336896      ['embedding[0][0]']              \n",
      "                                                                                                  \n",
      " global_max_pooling1d (GlobalMa  (None, 256)         0           ['bidirectional[0][0]']          \n",
      " xPooling1D)                                                                                      \n",
      "                                                                                                  \n",
      " dropout (Dropout)              (None, 256)          0           ['global_max_pooling1d[0][0]']   \n",
      "                                                                                                  \n",
      " dense (Dense)                  (None, 128)          32896       ['dropout[0][0]']                \n",
      "                                                                                                  \n",
      " dropout_1 (Dropout)            (None, 128)          0           ['dense[0][0]']                  \n",
      "                                                                                                  \n",
      " input_3 (InputLayer)           [(None, 19, 1)]      0           []                               \n",
      "                                                                                                  \n",
      " dense_1 (Dense)                (None, 64)           8256        ['dropout_1[0][0]']              \n",
      "                                                                                                  \n",
      " lstm_2 (LSTM)                  (None, 19, 128)      66560       ['input_3[0][0]']                \n",
      "                                                                                                  \n",
      " dropout_2 (Dropout)            (None, 64)           0           ['dense_1[0][0]']                \n",
      "                                                                                                  \n",
      " global_max_pooling1d_2 (Global  (None, 128)         0           ['lstm_2[0][0]']                 \n",
      " MaxPooling1D)                                                                                    \n",
      "                                                                                                  \n",
      " dense_2 (Dense)                (None, 32)           2080        ['dropout_2[0][0]']              \n",
      "                                                                                                  \n",
      " dropout_6 (Dropout)            (None, 128)          0           ['global_max_pooling1d_2[0][0]'] \n",
      "                                                                                                  \n",
      " dropout_3 (Dropout)            (None, 32)           0           ['dense_2[0][0]']                \n",
      "                                                                                                  \n",
      " dense_5 (Dense)                (None, 10)           1290        ['dropout_6[0][0]']              \n",
      "                                                                                                  \n",
      " dense_3 (Dense)                (None, 10)           330         ['dropout_3[0][0]']              \n",
      "                                                                                                  \n",
      " dropout_7 (Dropout)            (None, 10)           0           ['dense_5[0][0]']                \n",
      "                                                                                                  \n",
      " dropout_4 (Dropout)            (None, 10)           0           ['dense_3[0][0]']                \n",
      "                                                                                                  \n",
      " batch_normalization (BatchNorm  (None, 10)          40          ['dropout_7[0][0]']              \n",
      " alization)                                                                                       \n",
      "                                                                                                  \n",
      " concatenate (Concatenate)      (None, 20)           0           ['dropout_4[0][0]',              \n",
      "                                                                  'batch_normalization[0][0]']    \n",
      "                                                                                                  \n",
      " dense_6 (Dense)                (None, 10)           210         ['concatenate[0][0]']            \n",
      "                                                                                                  \n",
      " dense_7 (Dense)                (None, 5)            55          ['dense_6[0][0]']                \n",
      "                                                                                                  \n",
      "==================================================================================================\n",
      "Total params: 1,021,613\n",
      "Trainable params: 448,593\n",
      "Non-trainable params: 573,020\n",
      "__________________________________________________________________________________________________\n",
      "None\n"
     ]
    }
   ],
   "source": [
    "print(hybrid_model.summary())"
   ]
  },
  {
   "cell_type": "code",
   "execution_count": 32,
   "metadata": {
    "colab": {
     "base_uri": "https://localhost:8080/",
     "height": 1000
    },
    "id": "3n63sOGpf6Q1",
    "outputId": "20fdb9a3-4c32-47b9-b681-96118ccffb56"
   },
   "outputs": [
    {
     "data": {
      "image/png": "[encoded data removed]",
      "text/plain": [
       "<IPython.core.display.Image object>"
      ]
     },
     "execution_count": 32,
     "metadata": {},
     "output_type": "execute_result"
    }
   ],
   "source": [
    "plot_model(hybrid_model, to_file='hybrid_model.png', show_shapes=True, show_layer_names=True)"
   ]
  },
  {
   "cell_type": "code",
   "execution_count": 33,
   "metadata": {
    "colab": {
     "base_uri": "https://localhost:8080/"
    },
    "id": "W_Ax6H87f6Q1",
    "outputId": "f5b3a8c0-9551-4836-b701-216c6b70573c"
   },
   "outputs": [
    {
     "name": "stdout",
     "output_type": "stream",
     "text": [
      "Epoch 1/30\n",
      " 6/41 [===>..........................] - ETA: 3s - loss: 2.0032 - acc: 0.2708WARNING:tensorflow:Callback method `on_train_batch_end` is slow compared to the batch time (batch time: 0.0194s vs `on_train_batch_end` time: 0.0808s). Check your callbacks.\n",
      "41/41 [==============================] - 17s 203ms/step - loss: 1.7180 - acc: 0.2683 - val_loss: 1.5358 - val_acc: 0.3373 - lr: 0.0100\n",
      "Epoch 2/30\n",
      "41/41 [==============================] - 5s 132ms/step - loss: 1.5521 - acc: 0.3384 - val_loss: 1.5221 - val_acc: 0.3373 - lr: 0.0100\n",
      "Epoch 3/30\n",
      "41/41 [==============================] - 5s 130ms/step - loss: 1.5280 - acc: 0.2683 - val_loss: 1.5138 - val_acc: 0.3614 - lr: 0.0100\n",
      "Epoch 4/30\n",
      "41/41 [==============================] - 5s 131ms/step - loss: 1.5171 - acc: 0.3232 - val_loss: 1.4956 - val_acc: 0.3373 - lr: 0.0100\n",
      "Epoch 5/30\n",
      "41/41 [==============================] - 5s 127ms/step - loss: 1.5142 - acc: 0.2896 - val_loss: 1.4966 - val_acc: 0.3373 - lr: 0.0100\n",
      "Epoch 6/30\n",
      "41/41 [==============================] - 5s 130ms/step - loss: 1.4921 - acc: 0.3415 - val_loss: 1.4906 - val_acc: 0.3373 - lr: 0.0100\n",
      "Epoch 7/30\n",
      "41/41 [==============================] - 5s 130ms/step - loss: 1.4845 - acc: 0.3201 - val_loss: 1.4849 - val_acc: 0.3373 - lr: 0.0100\n",
      "Epoch 8/30\n",
      "41/41 [==============================] - 5s 127ms/step - loss: 1.4825 - acc: 0.3537 - val_loss: 1.4909 - val_acc: 0.3373 - lr: 0.0100\n",
      "Epoch 9/30\n",
      "41/41 [==============================] - 5s 126ms/step - loss: 1.5059 - acc: 0.3171 - val_loss: 1.4870 - val_acc: 0.3373 - lr: 0.0100\n",
      "Epoch 10/30\n",
      "41/41 [==============================] - 5s 120ms/step - loss: 1.4917 - acc: 0.3384 - val_loss: 1.4902 - val_acc: 0.3373 - lr: 0.0100\n",
      "Epoch 11/30\n",
      "41/41 [==============================] - 5s 116ms/step - loss: 1.4908 - acc: 0.3201 - val_loss: 1.4881 - val_acc: 0.3373 - lr: 0.0100\n",
      "Epoch 12/30\n",
      "41/41 [==============================] - 5s 122ms/step - loss: 1.4904 - acc: 0.3079 - val_loss: 1.4879 - val_acc: 0.3373 - lr: 0.0100\n",
      "Epoch 13/30\n",
      "41/41 [==============================] - 5s 132ms/step - loss: 1.4919 - acc: 0.3293 - val_loss: 1.4888 - val_acc: 0.3373 - lr: 1.0000e-06\n",
      "Epoch 14/30\n",
      "41/41 [==============================] - 5s 132ms/step - loss: 1.4972 - acc: 0.3110 - val_loss: 1.4890 - val_acc: 0.3373 - lr: 1.0000e-06\n",
      "Epoch 15/30\n",
      "41/41 [==============================] - 5s 132ms/step - loss: 1.4815 - acc: 0.3384 - val_loss: 1.4888 - val_acc: 0.3373 - lr: 1.0000e-06\n",
      "Epoch 16/30\n",
      "41/41 [==============================] - 6s 139ms/step - loss: 1.4836 - acc: 0.3384 - val_loss: 1.4888 - val_acc: 0.3373 - lr: 1.0000e-06\n",
      "Epoch 17/30\n",
      "41/41 [==============================] - 5s 129ms/step - loss: 1.4931 - acc: 0.3110 - val_loss: 1.4891 - val_acc: 0.3373 - lr: 1.0000e-06\n",
      "Epoch 18/30\n",
      "41/41 [==============================] - 5s 129ms/step - loss: 1.4816 - acc: 0.3262 - val_loss: 1.4895 - val_acc: 0.3373 - lr: 1.0000e-10\n",
      "Epoch 19/30\n",
      "41/41 [==============================] - 6s 135ms/step - loss: 1.4855 - acc: 0.3140 - val_loss: 1.4899 - val_acc: 0.3373 - lr: 1.0000e-10\n",
      "Epoch 20/30\n",
      "41/41 [==============================] - 5s 129ms/step - loss: 1.5010 - acc: 0.2835 - val_loss: 1.4899 - val_acc: 0.3373 - lr: 1.0000e-10\n",
      "Epoch 21/30\n",
      "41/41 [==============================] - 5s 118ms/step - loss: 1.4931 - acc: 0.3079 - val_loss: 1.4896 - val_acc: 0.3373 - lr: 1.0000e-10\n",
      "Epoch 22/30\n",
      "41/41 [==============================] - 5s 128ms/step - loss: 1.5090 - acc: 0.3110 - val_loss: 1.4899 - val_acc: 0.3373 - lr: 1.0000e-10\n",
      "Epoch 23/30\n",
      "41/41 [==============================] - 5s 130ms/step - loss: 1.4990 - acc: 0.3018 - val_loss: 1.4901 - val_acc: 0.3373 - lr: 1.0000e-14\n",
      "Epoch 24/30\n",
      "41/41 [==============================] - 5s 131ms/step - loss: 1.4764 - acc: 0.3506 - val_loss: 1.4901 - val_acc: 0.3373 - lr: 1.0000e-14\n",
      "Epoch 25/30\n",
      "41/41 [==============================] - 5s 128ms/step - loss: 1.4761 - acc: 0.3201 - val_loss: 1.4900 - val_acc: 0.3373 - lr: 1.0000e-14\n",
      "Epoch 26/30\n",
      "41/41 [==============================] - 5s 125ms/step - loss: 1.5013 - acc: 0.3049 - val_loss: 1.4900 - val_acc: 0.3373 - lr: 1.0000e-14\n",
      "Epoch 27/30\n",
      "41/41 [==============================] - 6s 140ms/step - loss: 1.5139 - acc: 0.3323 - val_loss: 1.4896 - val_acc: 0.3373 - lr: 1.0000e-14\n",
      "Epoch 28/30\n",
      "41/41 [==============================] - 5s 132ms/step - loss: 1.5090 - acc: 0.3049 - val_loss: 1.4898 - val_acc: 0.3373 - lr: 1.0000e-18\n",
      "Epoch 29/30\n",
      "41/41 [==============================] - 5s 124ms/step - loss: 1.4909 - acc: 0.3110 - val_loss: 1.4900 - val_acc: 0.3373 - lr: 1.0000e-18\n",
      "Epoch 30/30\n",
      "41/41 [==============================] - 5s 123ms/step - loss: 1.4950 - acc: 0.3140 - val_loss: 1.4900 - val_acc: 0.3373 - lr: 1.0000e-18\n"
     ]
    }
   ],
   "source": [
    "# Use earlystopping\n",
    "callback = tf.keras.callbacks.EarlyStopping(monitor='loss', patience=3, min_delta=1E-3)\n",
    "rlrp = ReduceLROnPlateau(monitor='val_loss', factor=0.0001, patience=5, min_delta=1E-4)\n",
    "\n",
    "#target_type = 'multi_label'\n",
    "#, target_type\n",
    "metrics = Metrics(validation_data=([X_text_train, X_cat_train], y_train))\n",
    "\n",
    "# fit the keras model on the dataset\n",
    "training_history = hybrid_model.fit([X_text_train, X_cat_train], y_train, epochs=30, batch_size=8, verbose=1, validation_data=([X_text_test, X_cat_test], y_test), callbacks=[rlrp, metrics])"
   ]
  },
  {
   "cell_type": "code",
   "execution_count": 34,
   "metadata": {
    "colab": {
     "base_uri": "https://localhost:8080/"
    },
    "id": "F8hDI8gWf6Q2",
    "outputId": "48402c40-4764-4ba1-deff-482e56cb93c9"
   },
   "outputs": [
    {
     "name": "stdout",
     "output_type": "stream",
     "text": [
      "Train accuracy: 33.54\n",
      "Test accuracy: 33.73\n"
     ]
    }
   ],
   "source": [
    "# evaluate the keras model\n",
    "_, train_accuracy = hybrid_model.evaluate([X_text_train, X_cat_train], y_train, batch_size=8, verbose=0)\n",
    "_, test_accuracy = hybrid_model.evaluate([X_text_test, X_cat_test], y_test, batch_size=8, verbose=0)\n",
    "\n",
    "print('Train accuracy: %.2f' % (train_accuracy*100))\n",
    "print('Test accuracy: %.2f' % (test_accuracy*100))"
   ]
  },
  {
   "cell_type": "code",
   "execution_count": 35,
   "metadata": {
    "colab": {
     "base_uri": "https://localhost:8080/",
     "height": 300
    },
    "id": "sna9vTiuf6Q2",
    "outputId": "bccd3298-17c5-499c-808c-fe03b66bf02a"
   },
   "outputs": [
    {
     "data": {
      "text/plain": [
       "Text(0.5, 1.0, 'Training and validation loss')"
      ]
     },
     "execution_count": 35,
     "metadata": {},
     "output_type": "execute_result"
    },
    {
     "data": {
      "image/png": "[encoded data removed]",
      "text/plain": [
       "<Figure size 432x288 with 1 Axes>"
      ]
     },
     "metadata": {
      "needs_background": "light"
     },
     "output_type": "display_data"
    }
   ],
   "source": [
    "epochs = range(len(training_history.history['loss'])) # Get number of epochs\n",
    "\n",
    "# plot loss learning curves\n",
    "plt.plot(epochs, training_history.history['loss'], label = 'train')\n",
    "plt.plot(epochs, training_history.history['val_loss'], label = 'test')\n",
    "plt.legend(loc = 'upper right')\n",
    "plt.title ('Training and validation loss')"
   ]
  },
  {
   "cell_type": "code",
   "execution_count": 36,
   "metadata": {
    "colab": {
     "base_uri": "https://localhost:8080/",
     "height": 300
    },
    "id": "1PgeM5uTf6Q3",
    "outputId": "9bacc5f4-1a24-4144-fb8d-3cddf68f6d7d"
   },
   "outputs": [
    {
     "data": {
      "text/plain": [
       "Text(0.5, 1.0, 'Training and validation accuracy')"
      ]
     },
     "execution_count": 36,
     "metadata": {},
     "output_type": "execute_result"
    },
    {
     "data": {
      "image/png": "[encoded data removed]",
      "text/plain": [
       "<Figure size 432x288 with 1 Axes>"
      ]
     },
     "metadata": {
      "needs_background": "light"
     },
     "output_type": "display_data"
    }
   ],
   "source": [
    "# plot accuracy learning curves\n",
    "plt.plot(epochs, training_history.history['acc'], label = 'train')\n",
    "plt.plot(epochs, training_history.history['val_acc'], label = 'test')\n",
    "plt.legend(loc = 'upper right')\n",
    "plt.title ('Training and validation accuracy')"
   ]
  },
  {
   "cell_type": "markdown",
   "metadata": {
    "id": "bXVUKfHef6Q3"
   },
   "source": [
    "Train accuracy is fluctuating around 33 value. Test accuracy is settled around 34."
   ]
  },
  {
   "cell_type": "code",
   "execution_count": 39,
   "metadata": {
    "id": "4WKBmT46f6Q3"
   },
   "outputs": [],
   "source": [
    "# hd_model = load_model(r\"/content/drive/MyDrive/Capstone/Jan-G4---NLP-Chatbot/Models/lstm_lstm_model.h5\")\n",
    "# hybrid_model = load_model(r\"C:\\Users\\200488052\\Downloads\\ML\\GL\\Capstone\\Jan-G4---NLP-Chatbot-main\\finalized_Hybrid_model.h5\")\n",
    "\n",
    "y_pred = hybrid_model.predict([X_text_test, X_cat_test], verbose=0) # Multiclass\n",
    "y_pred_index = np.argmax(y_pred,axis=1)\n",
    "y_original = np.argmax(y_test, axis =1)"
   ]
  },
  {
   "cell_type": "code",
   "execution_count": 40,
   "metadata": {
    "colab": {
     "base_uri": "https://localhost:8080/"
    },
    "id": "dyYiZI2_f6Q4",
    "outputId": "a6292297-79bf-43a9-83aa-288e882afce7"
   },
   "outputs": [
    {
     "name": "stdout",
     "output_type": "stream",
     "text": [
      "11/11 [==============================] - 0s 40ms/step - loss: 1.4860 - acc: 0.3354\n",
      "3/3 [==============================] - 0s 42ms/step - loss: 1.4900 - acc: 0.3373\n"
     ]
    },
    {
     "data": {
      "text/plain": [
       "(0.3353658616542816, 0.33734938502311707, 0.3373493975903614)"
      ]
     },
     "execution_count": 40,
     "metadata": {},
     "output_type": "execute_result"
    }
   ],
   "source": [
    "_,tr_accuracy = hybrid_model.evaluate([X_text_train, X_cat_train],y_train) \n",
    "_,te_accuracy = hybrid_model.evaluate([X_text_test, X_cat_test],y_test) \n",
    "\n",
    "F1_sre= f1_score(y_original,y_pred_index, average='micro')\n",
    "tr_accuracy,te_accuracy,F1_sre"
   ]
  },
  {
   "cell_type": "code",
   "execution_count": 43,
   "metadata": {
    "id": "SPGEPV57f6Q4"
   },
   "outputs": [],
   "source": [
    "# with open('/content/drive/MyDrive/AIML/Capstone/Jan-G4---NLP-Chatbot/result_df.csv', \"wb\") as f:\n",
    "#   pickle.dump((result_df), f)"
   ]
  },
  {
   "cell_type": "code",
   "execution_count": 44,
   "metadata": {
    "colab": {
     "base_uri": "https://localhost:8080/",
     "height": 374
    },
    "id": "9alHmmDif6Q5",
    "outputId": "dc9144f8-3edb-4d1d-fb44-8c2f38d6259b"
   },
   "outputs": [
    {
     "data": {
      "image/png": "[encoded data removed]",
      "text/plain": [
       "<Figure size 864x432 with 2 Axes>"
      ]
     },
     "metadata": {
      "needs_background": "light"
     },
     "output_type": "display_data"
    }
   ],
   "source": [
    "cm = confusion_matrix(y_original,y_pred_index)\n",
    "cm_label = ['I', 'II', 'III','IV', 'V']\n",
    "plt.figure(figsize=(12,6))\n",
    "sns.heatmap(cm, annot=True, cmap='Blues',xticklabels = cm_label, yticklabels = cm_label);"
   ]
  },
  {
   "cell_type": "code",
   "execution_count": 45,
   "metadata": {
    "colab": {
     "base_uri": "https://localhost:8080/"
    },
    "id": "PA5ClV7Af6Q5",
    "outputId": "bed45e37-9da7-4508-bb90-f7d8d9796037",
    "scrolled": false
   },
   "outputs": [
    {
     "name": "stdout",
     "output_type": "stream",
     "text": [
      "              precision    recall  f1-score   support\n",
      "\n",
      "           0       0.00      0.00      0.00         9\n",
      "           1       0.00      0.00      0.00        19\n",
      "           2       0.00      0.00      0.00        21\n",
      "           3       0.34      1.00      0.50        28\n",
      "           4       0.00      0.00      0.00         6\n",
      "\n",
      "    accuracy                           0.34        83\n",
      "   macro avg       0.07      0.20      0.10        83\n",
      "weighted avg       0.11      0.34      0.17        83\n",
      "\n"
     ]
    }
   ],
   "source": [
    "print(classification_report(y_original, y_pred_index))"
   ]
  },
  {
   "cell_type": "code",
   "execution_count": 50,
   "metadata": {
    "id": "26ySe6iMf6Q5"
   },
   "outputs": [],
   "source": [
    "# import matplotlib.pyplot as plt\n",
    "# from sklearn.metrics import roc_curve, auc\n",
    "# from scipy import interp\n",
    "# from sklearn.metrics import roc_auc_score\n",
    "\n",
    "# fpr = {}\n",
    "# tpr = {}\n",
    "# #thresh ={}\n",
    "# roc_auc = dict()\n",
    "\n",
    "# n_class = 5\n",
    "\n",
    "# for i in range(n_class):    \n",
    "#     fpr[i], tpr[i],_ = roc_curve(y_test[:,i], y_pred[:,i])\n",
    "#     roc_auc[i] = auc(fpr[i], tpr[i])\n",
    "\n",
    "# # plotting  \n",
    "# plt.figure(figsize=(15, 6))\n",
    "# plt.plot(fpr[0], tpr[0], linestyle='--',color='orange', label=\"ROC curve (area = %0.2f)\" % roc_auc[0])\n",
    "# plt.plot(fpr[1], tpr[1], linestyle='--',color='green', label=\"ROC curve (area = %0.2f)\" % roc_auc[1])\n",
    "# plt.plot(fpr[2], tpr[2], linestyle='--',color='blue', label=\"ROC curve (area = %0.2f)\" % roc_auc[2])\n",
    "# plt.plot(fpr[3], tpr[3], linestyle='-',color='yellow', label= \"ROC curve (area = %0.2f)\" % roc_auc[3])\n",
    "# plt.plot(fpr[4], tpr[4], linestyle='--',color='red', label=\"ROC curve (area = %0.2f)\" % roc_auc[4])\n",
    "\n",
    "# plt.plot([0, 1], [0, 1], color=\"navy\", lw=2, linestyle=\"--\")\n",
    "# plt.xlim([0.0, 1.0])\n",
    "# plt.ylim([0.0, 1.05])\n",
    "\n",
    "\n",
    "# plt.title('Multiclass ROC curve')\n",
    "# plt.xlabel('False Positive Rate')\n",
    "# plt.ylabel('True Positive rate')\n",
    "# plt.legend(loc=\"lower right\")\n",
    "# plt.legend(loc='best')\n",
    "# plt.savefig('Multiclass ROC',dpi=300);"
   ]
  },
  {
   "cell_type": "markdown",
   "metadata": {
    "id": "3qdYSv7Hf6Q6"
   },
   "source": [
    "### With Augmented data"
   ]
  },
  {
   "cell_type": "code",
   "execution_count": 52,
   "metadata": {
    "id": "D_f8ZW9Yf6Q6"
   },
   "outputs": [],
   "source": [
    "url2 = \"https://raw.githubusercontent.com/shyamsparrow/Jan-G4---NLP-Chatbot/ALL_Models/industry_augmentation.csv\"\n",
    "Text_aug = pd.read_csv(url2)"
   ]
  },
  {
   "cell_type": "code",
   "execution_count": 53,
   "metadata": {
    "colab": {
     "base_uri": "https://localhost:8080/",
     "height": 206
    },
    "id": "knm1Hm2ef6Q6",
    "outputId": "d39faecf-ee87-48b0-8c10-fb4feb677411"
   },
   "outputs": [
    {
     "data": {
      "text/html": [
       "\n",
       "  <div id=\"df-7d127f12-4d49-475a-ac26-ae1ce161ea7f\">\n",
       "    <div class=\"colab-df-container\">\n",
       "      <div>\n",
       "<style scoped>\n",
       "    .dataframe tbody tr th:only-of-type {\n",
       "        vertical-align: middle;\n",
       "    }\n",
       "\n",
       "    .dataframe tbody tr th {\n",
       "        vertical-align: top;\n",
       "    }\n",
       "\n",
       "    .dataframe thead th {\n",
       "        text-align: right;\n",
       "    }\n",
       "</style>\n",
       "<table border=\"1\" class=\"dataframe\">\n",
       "  <thead>\n",
       "    <tr style=\"text-align: right;\">\n",
       "      <th></th>\n",
       "      <th>Description</th>\n",
       "      <th>Potential_Accident_Level</th>\n",
       "    </tr>\n",
       "  </thead>\n",
       "  <tbody>\n",
       "    <tr>\n",
       "      <th>0</th>\n",
       "      <td>While removing the drill rod of the Jumbo 08 f...</td>\n",
       "      <td>IV</td>\n",
       "    </tr>\n",
       "    <tr>\n",
       "      <th>1</th>\n",
       "      <td>During the activation of a sodium sulphide pum...</td>\n",
       "      <td>IV</td>\n",
       "    </tr>\n",
       "    <tr>\n",
       "      <th>2</th>\n",
       "      <td>In the sub-station MILPO located at level +170...</td>\n",
       "      <td>III</td>\n",
       "    </tr>\n",
       "    <tr>\n",
       "      <th>3</th>\n",
       "      <td>Being 9:45 am. approximately in the Nv. 1880 C...</td>\n",
       "      <td>I</td>\n",
       "    </tr>\n",
       "    <tr>\n",
       "      <th>4</th>\n",
       "      <td>Approximately at 11:45 a.m. in circumstances t...</td>\n",
       "      <td>IV</td>\n",
       "    </tr>\n",
       "  </tbody>\n",
       "</table>\n",
       "</div>\n",
       "      <button class=\"colab-df-convert\" onclick=\"convertToInteractive('df-7d127f12-4d49-475a-ac26-ae1ce161ea7f')\"\n",
       "              title=\"Convert this dataframe to an interactive table.\"\n",
       "              style=\"display:none;\">\n",
       "        \n",
       "  <svg xmlns=\"http://www.w3.org/2000/svg\" height=\"24px\"viewBox=\"0 0 24 24\"\n",
       "       width=\"24px\">\n",
       "    <path d=\"M0 0h24v24H0V0z\" fill=\"none\"/>\n",
       "    <path d=\"M18.56 5.44l.94 2.06.94-2.06 2.06-.94-2.06-.94-.94-2.06-.94 2.06-2.06.94zm-11 1L8.5 8.5l.94-2.06 2.06-.94-2.06-.94L8.5 2.5l-.94 2.06-2.06.94zm10 10l.94 2.06.94-2.06 2.06-.94-2.06-.94-.94-2.06-.94 2.06-2.06.94z\"/><path d=\"M17.41 7.96l-1.37-1.37c-.4-.4-.92-.59-1.43-.59-.52 0-1.04.2-1.43.59L10.3 9.45l-7.72 7.72c-.78.78-.78 2.05 0 2.83L4 21.41c.39.39.9.59 1.41.59.51 0 1.02-.2 1.41-.59l7.78-7.78 2.81-2.81c.8-.78.8-2.07 0-2.86zM5.41 20L4 18.59l7.72-7.72 1.47 1.35L5.41 20z\"/>\n",
       "  </svg>\n",
       "      </button>\n",
       "      \n",
       "  <style>\n",
       "    .colab-df-container {\n",
       "      display:flex;\n",
       "      flex-wrap:wrap;\n",
       "      gap: 12px;\n",
       "    }\n",
       "\n",
       "    .colab-df-convert {\n",
       "      background-color: #E8F0FE;\n",
       "      border: none;\n",
       "      border-radius: 50%;\n",
       "      cursor: pointer;\n",
       "      display: none;\n",
       "      fill: #1967D2;\n",
       "      height: 32px;\n",
       "      padding: 0 0 0 0;\n",
       "      width: 32px;\n",
       "    }\n",
       "\n",
       "    .colab-df-convert:hover {\n",
       "      background-color: #E2EBFA;\n",
       "      box-shadow: 0px 1px 2px rgba(60, 64, 67, 0.3), 0px 1px 3px 1px rgba(60, 64, 67, 0.15);\n",
       "      fill: #174EA6;\n",
       "    }\n",
       "\n",
       "    [theme=dark] .colab-df-convert {\n",
       "      background-color: #3B4455;\n",
       "      fill: #D2E3FC;\n",
       "    }\n",
       "\n",
       "    [theme=dark] .colab-df-convert:hover {\n",
       "      background-color: #434B5C;\n",
       "      box-shadow: 0px 1px 3px 1px rgba(0, 0, 0, 0.15);\n",
       "      filter: drop-shadow(0px 1px 2px rgba(0, 0, 0, 0.3));\n",
       "      fill: #FFFFFF;\n",
       "    }\n",
       "  </style>\n",
       "\n",
       "      <script>\n",
       "        const buttonEl =\n",
       "          document.querySelector('#df-7d127f12-4d49-475a-ac26-ae1ce161ea7f button.colab-df-convert');\n",
       "        buttonEl.style.display =\n",
       "          google.colab.kernel.accessAllowed ? 'block' : 'none';\n",
       "\n",
       "        async function convertToInteractive(key) {\n",
       "          const element = document.querySelector('#df-7d127f12-4d49-475a-ac26-ae1ce161ea7f');\n",
       "          const dataTable =\n",
       "            await google.colab.kernel.invokeFunction('convertToInteractive',\n",
       "                                                     [key], {});\n",
       "          if (!dataTable) return;\n",
       "\n",
       "          const docLinkHtml = 'Like what you see? Visit the ' +\n",
       "            '<a target=\"_blank\" href=https://colab.research.google.com/notebooks/data_table.ipynb>data table notebook</a>'\n",
       "            + ' to learn more about interactive tables.';\n",
       "          element.innerHTML = '';\n",
       "          dataTable['output_type'] = 'display_data';\n",
       "          await google.colab.output.renderOutput(dataTable, element);\n",
       "          const docLink = document.createElement('div');\n",
       "          docLink.innerHTML = docLinkHtml;\n",
       "          element.appendChild(docLink);\n",
       "        }\n",
       "      </script>\n",
       "    </div>\n",
       "  </div>\n",
       "  "
      ],
      "text/plain": [
       "                                         Description Potential_Accident_Level\n",
       "0  While removing the drill rod of the Jumbo 08 f...                       IV\n",
       "1  During the activation of a sodium sulphide pum...                       IV\n",
       "2  In the sub-station MILPO located at level +170...                      III\n",
       "3  Being 9:45 am. approximately in the Nv. 1880 C...                        I\n",
       "4  Approximately at 11:45 a.m. in circumstances t...                       IV"
      ]
     },
     "execution_count": 53,
     "metadata": {},
     "output_type": "execute_result"
    }
   ],
   "source": [
    "Text_aug.head()"
   ]
  },
  {
   "cell_type": "code",
   "execution_count": 54,
   "metadata": {
    "id": "ev91JC9Of6Q7"
   },
   "outputs": [],
   "source": [
    "X_text_aug=Text_aug['Description']\n",
    "\n",
    "y_text_aug = LabelEncoder().fit_transform(Text_aug['Potential_Accident_Level']).astype(np.int8)"
   ]
  },
  {
   "cell_type": "code",
   "execution_count": 55,
   "metadata": {
    "colab": {
     "base_uri": "https://localhost:8080/"
    },
    "id": "Sf_oPRsff6Q7",
    "outputId": "6f066e44-72d6-42b2-a64f-47aea1a6e449"
   },
   "outputs": [
    {
     "name": "stdout",
     "output_type": "stream",
     "text": [
      "X_train shape : (657)\n",
      "y_train shape : (657,)\n",
      "X_test shape : (165)\n",
      "y_test shape : (165,)\n"
     ]
    }
   ],
   "source": [
    "# Divide our data into testing and training sets:\n",
    "X_text_train_aug, X_text_test_aug, y_text_train_aug, y_text_test_aug = train_test_split(X_text_aug, y_text_aug, test_size = 0.20, random_state = 1,stratify=y_text_aug)#, stratify = y_cat\n",
    "\n",
    "print('X_train shape : ({0})'.format(X_text_train_aug.shape[0]))\n",
    "print('y_train shape : ({0},)'.format(y_text_train_aug.shape[0]))\n",
    "print('X_test shape : ({0})'.format(X_text_test_aug.shape[0]))\n",
    "print('y_test shape : ({0},)'.format(y_text_test_aug.shape[0]))\n",
    "\n",
    "# Convert both the training and test labels into one-hot encoded vectors:\n",
    "y_train = to_categorical(y_text_train_aug)\n",
    "y_test = to_categorical(y_text_test_aug)"
   ]
  },
  {
   "cell_type": "code",
   "execution_count": 56,
   "metadata": {
    "colab": {
     "base_uri": "https://localhost:8080/"
    },
    "id": "8rkAjP0Vf6RC",
    "outputId": "c847d99c-f5ac-47f9-d895-3a5d8071acae",
    "scrolled": false
   },
   "outputs": [
    {
     "data": {
      "text/plain": [
       "526    in moments that the truck for transport of per...\n",
       "477    during the refurbishment work of the upper pip...\n",
       "649    in circumstances that the mechanical technicia...\n",
       "257    At times when four mechanics performed the rem...\n",
       "233    In phase I, the operator carried out the remov...\n",
       "Name: Description, dtype: object"
      ]
     },
     "execution_count": 56,
     "metadata": {},
     "output_type": "execute_result"
    }
   ],
   "source": [
    "X_text_train_aug.head()"
   ]
  },
  {
   "cell_type": "markdown",
   "metadata": {
    "id": "Z562KSyGf6RE"
   },
   "source": [
    "We need to tokenise our data to convert the text data into numbers."
   ]
  },
  {
   "cell_type": "code",
   "execution_count": 57,
   "metadata": {
    "id": "36Pozq5Gf6RF"
   },
   "outputs": [],
   "source": [
    "# The first step in word embeddings is to convert the words into thier corresponding numeric indexes.\n",
    "tokenizer = Tokenizer(num_words=3000)\n",
    "tokenizer.fit_on_texts(X_text_train_aug)\n",
    "\n",
    "X_text_train_aug = tokenizer.texts_to_sequences(X_text_train_aug)\n",
    "X_text_test_aug = tokenizer.texts_to_sequences(X_text_test_aug)"
   ]
  },
  {
   "cell_type": "code",
   "execution_count": 58,
   "metadata": {
    "colab": {
     "base_uri": "https://localhost:8080/"
    },
    "id": "ZFzhMxb_f6RF",
    "outputId": "8347656a-e316-4c89-8d80-66253211762f"
   },
   "outputs": [
    {
     "name": "stdout",
     "output_type": "stream",
     "text": [
      "Minimum number of words: 16\n",
      "Maximum number of words: 192\n"
     ]
    }
   ],
   "source": [
    "Text_aug['nb_words'] = Text_aug['Description'].apply(lambda x: len(x.split(' ')))\n",
    "\n",
    "print('Minimum number of words: {}'.format(Text_aug['nb_words'].min()))\n",
    "print('Maximum number of words: {}'.format(Text_aug['nb_words'].max()))"
   ]
  },
  {
   "cell_type": "markdown",
   "metadata": {
    "id": "CcvGjkmnf6RG"
   },
   "source": [
    "The maximum number of words in our data including stopwords  is 192. Based on this we can fix our maximum length of our data will be 195."
   ]
  },
  {
   "cell_type": "code",
   "execution_count": 59,
   "metadata": {
    "colab": {
     "base_uri": "https://localhost:8080/"
    },
    "id": "84kv5H23f6RG",
    "outputId": "937ab621-4b97-4392-8fed-b589a057de8f"
   },
   "outputs": [
    {
     "name": "stdout",
     "output_type": "stream",
     "text": [
      "vocab_size: 3959\n"
     ]
    }
   ],
   "source": [
    "vocab_size = len(tokenizer.word_index) + 1\n",
    "print(\"vocab_size:\", vocab_size)\n",
    "\n",
    "maxlen = 195\n",
    "\n",
    "X_text_train_aug = pad_sequences(X_text_train_aug, padding='post', maxlen=maxlen)\n",
    "X_text_test_aug = pad_sequences(X_text_test_aug, padding='post', maxlen=maxlen)"
   ]
  },
  {
   "cell_type": "markdown",
   "metadata": {
    "id": "_lc4QaiQf6RH"
   },
   "source": [
    "The Vocabulary size of the data is 3959. (Total number of words in our data)."
   ]
  },
  {
   "cell_type": "markdown",
   "metadata": {
    "id": "1dTlCU7If6RH"
   },
   "source": [
    "Glove 6B To 200D Embedding took from this source http://nlp.stanford.edu/data/glove.6B.zip, it saved in drive and convert it into dictionary file"
   ]
  },
  {
   "cell_type": "code",
   "execution_count": 60,
   "metadata": {
    "colab": {
     "base_uri": "https://localhost:8080/"
    },
    "id": "3NVJOkDOf6RH",
    "outputId": "afd37a4e-b113-4093-ae82-016a9c3dd65c"
   },
   "outputs": [
    {
     "name": "stdout",
     "output_type": "stream",
     "text": [
      "--2022-01-04 06:31:42--  http://nlp.stanford.edu/data/glove.6B.zip\n",
      "Resolving nlp.stanford.edu (nlp.stanford.edu)... 171.64.67.140\n",
      "Connecting to nlp.stanford.edu (nlp.stanford.edu)|171.64.67.140|:80... connected.\n",
      "HTTP request sent, awaiting response... 302 Found\n",
      "Location: https://nlp.stanford.edu/data/glove.6B.zip [following]\n",
      "--2022-01-04 06:31:42--  https://nlp.stanford.edu/data/glove.6B.zip\n",
      "Connecting to nlp.stanford.edu (nlp.stanford.edu)|171.64.67.140|:443... connected.\n",
      "HTTP request sent, awaiting response... 301 Moved Permanently\n",
      "Location: http://downloads.cs.stanford.edu/nlp/data/glove.6B.zip [following]\n",
      "--2022-01-04 06:31:42--  http://downloads.cs.stanford.edu/nlp/data/glove.6B.zip\n",
      "Resolving downloads.cs.stanford.edu (downloads.cs.stanford.edu)... 171.64.64.22\n",
      "Connecting to downloads.cs.stanford.edu (downloads.cs.stanford.edu)|171.64.64.22|:80... connected.\n",
      "HTTP request sent, awaiting response... 200 OK\n",
      "Length: 862182613 (822M) [application/zip]\n",
      "Saving to: ‘glove.6B.zip.1’\n",
      "\n",
      "glove.6B.zip.1      100%[===================>] 822.24M  5.04MB/s    in 2m 41s  \n",
      "\n",
      "2022-01-04 06:34:24 (5.10 MB/s) - ‘glove.6B.zip.1’ saved [862182613/862182613]\n",
      "\n",
      "Archive:  glove.6B.zip\n",
      "replace glove.6B.50d.txt? [y]es, [n]o, [A]ll, [N]one, [r]ename: y\n",
      "  inflating: glove.6B.50d.txt        \n",
      "replace glove.6B.100d.txt? [y]es, [n]o, [A]ll, [N]one, [r]ename: y\n",
      "  inflating: glove.6B.100d.txt       y\n",
      "\n",
      "replace glove.6B.200d.txt? [y]es, [n]o, [A]ll, [N]one, [r]ename:   inflating: glove.6B.200d.txt       y\n",
      "n\n",
      "\n",
      "replace glove.6B.300d.txt? [y]es, [n]o, [A]ll, [N]one, [r]ename:   inflating: glove.6B.300d.txt       n\n",
      "n\n",
      "n\n",
      "\n"
     ]
    }
   ],
   "source": [
    "!wget http://nlp.stanford.edu/data/glove.6B.zip\n",
    "!unzip glove*.zip"
   ]
  },
  {
   "cell_type": "code",
   "execution_count": 67,
   "metadata": {
    "colab": {
     "base_uri": "https://localhost:8080/"
    },
    "id": "9HMVlDy9f6RH",
    "outputId": "6ff83703-1ded-4837-ff7a-3b614ad9a2ad"
   },
   "outputs": [
    {
     "name": "stdout",
     "output_type": "stream",
     "text": [
      "Indexing word vectors.\n",
      "Found 400000 word vectors.\n"
     ]
    }
   ],
   "source": [
    "print('Indexing word vectors.')\n",
    "\n",
    "embeddings_dictionary = {}\n",
    "f = open('glove.6B.200d.txt', encoding='utf-8')\n",
    "for line in f:\n",
    "    values = line.split()\n",
    "    word = values[0]\n",
    "    coefs = np.asarray(values[1:], dtype='float32')\n",
    "    embeddings_dictionary[word] = coefs\n",
    "f.close()\n",
    "\n",
    "print('Found %s word vectors.' % len(embeddings_dictionary))"
   ]
  },
  {
   "cell_type": "markdown",
   "metadata": {
    "id": "SUsOiCP-bHMU"
   },
   "source": [
    "We Pickled the Glove Embedding dictionary file for future use."
   ]
  },
  {
   "cell_type": "code",
   "execution_count": 68,
   "metadata": {
    "colab": {
     "base_uri": "https://localhost:8080/"
    },
    "id": "4G21GQpsf6RI",
    "outputId": "f972e134-8cf8-4bbb-e64d-36975c22ae21"
   },
   "outputs": [
    {
     "data": {
      "text/plain": [
       "(3959, 200)"
      ]
     },
     "execution_count": 68,
     "metadata": {},
     "output_type": "execute_result"
    }
   ],
   "source": [
    "embedding_size = 200\n",
    "\n",
    "embedding_matrix = np.zeros((vocab_size, embedding_size))\n",
    "\n",
    "for word, index in tokenizer.word_index.items():\n",
    "    embedding_vector = embeddings_dictionary.get(word)\n",
    "    if embedding_vector is not None:\n",
    "        embedding_matrix[index] = embedding_vector\n",
    "embedding_matrix.shape"
   ]
  },
  {
   "cell_type": "code",
   "execution_count": 69,
   "metadata": {
    "id": "h3maqq13f6RI"
   },
   "outputs": [],
   "source": [
    "Cat_data=cat_featenc_df.drop(['Description_preprocessed','Potential_Accident_Level'], axis = 1)"
   ]
  },
  {
   "cell_type": "code",
   "execution_count": 70,
   "metadata": {
    "id": "80DLbZpFf6RI"
   },
   "outputs": [],
   "source": [
    "X_cat_aug=pd.concat([Cat_data,Cat_data],axis=0).reset_index(drop=True)"
   ]
  },
  {
   "cell_type": "code",
   "execution_count": 71,
   "metadata": {
    "colab": {
     "base_uri": "https://localhost:8080/"
    },
    "id": "IoBbZD22f6RJ",
    "outputId": "e945f880-4051-4c40-a8b4-157d8091dac3"
   },
   "outputs": [
    {
     "name": "stdout",
     "output_type": "stream",
     "text": [
      "X_train shape : (657)\n",
      "y_train shape : (657,)\n",
      "X_test shape : (165)\n",
      "y_test shape : (165,)\n"
     ]
    }
   ],
   "source": [
    "# Divide our data into testing and training sets:\n",
    "X_cat_train_aug, X_cat_test_aug, y_cat_train_aug, y_cat_test_aug = train_test_split(X_cat_aug, y_text_aug, test_size = 0.20, random_state = 1,stratify=y_text_aug)#, stratify = y_cat\n",
    "\n",
    "print('X_train shape : ({0})'.format(X_cat_train_aug.shape[0]))\n",
    "print('y_train shape : ({0},)'.format(y_cat_train_aug.shape[0]))\n",
    "print('X_test shape : ({0})'.format(X_cat_test_aug.shape[0]))\n",
    "print('y_test shape : ({0},)'.format(y_cat_test_aug.shape[0]))\n",
    "\n",
    "# Convert both the training and test labels into one-hot encoded vectors:\n",
    "y_train = to_categorical(y_cat_train_aug)\n",
    "y_test = to_categorical(y_cat_test_aug)"
   ]
  },
  {
   "cell_type": "code",
   "execution_count": 72,
   "metadata": {
    "id": "5vm17Uv3f6RJ"
   },
   "outputs": [],
   "source": [
    "#This is lstm model for text data\n",
    "input_1 = Input(shape=(maxlen,))\n",
    "embedding_layer   = Embedding(vocab_size, embedding_size, weights=[embedding_matrix], trainable=False)(input_1)\n",
    "LSTM_Layer_1      = Bidirectional(LSTM(128, return_sequences = True))(embedding_layer)\n",
    "max_pool_layer_1  = GlobalMaxPool1D()(LSTM_Layer_1)\n",
    "drop_out_layer_1  = Dropout(0.5, input_shape = (256,))(max_pool_layer_1)\n",
    "dense_layer_1     = Dense(128, activation = 'relu')(drop_out_layer_1)\n",
    "drop_out_layer_2  = Dropout(0.5, input_shape = (128,))(dense_layer_1)\n",
    "dense_layer_2     = Dense(64, activation = 'relu')(drop_out_layer_2)\n",
    "drop_out_layer_3  = Dropout(0.5, input_shape = (64,))(dense_layer_2)\n",
    "\n",
    "dense_layer_3     = Dense(32, activation = 'relu')(drop_out_layer_3)\n",
    "drop_out_layer_4  = Dropout(0.5, input_shape = (32,))(dense_layer_3)\n",
    "\n",
    "dense_layer_4     = Dense(10, activation = 'relu')(drop_out_layer_4)\n",
    "drop_out_layer_5 = Dropout(0.5, input_shape = (10,))(dense_layer_4)"
   ]
  },
  {
   "cell_type": "code",
   "execution_count": 73,
   "metadata": {
    "id": "6GbO8katf6RJ"
   },
   "outputs": [],
   "source": [
    "#Reshaping the train and test categorical data to give to Conv1D layer\n",
    "\n",
    "X_cat_train_reshaped = np.array(X_cat_train_aug).reshape(X_cat_train_aug.shape[0],X_cat_train_aug.shape[1],1)\n",
    "X_cat_test_reshaped = np.array(X_cat_test_aug).reshape(X_cat_test_aug.shape[0],X_cat_test_aug.shape[1],1)"
   ]
  },
  {
   "cell_type": "code",
   "execution_count": 83,
   "metadata": {
    "id": "H84KZI71f6RK"
   },
   "outputs": [],
   "source": [
    "#This is LSTM to process categorical variables\n",
    "param = 1e-4\n",
    "\n",
    "input_2 = Input(shape=((X_cat_train_reshaped.shape[1],X_cat_train_reshaped.shape[2])))\n",
    "lstm_cat = LSTM(128, return_sequences = True)(input_2)\n",
    "global_maxpool_cat  = GlobalMaxPool1D()(lstm_cat)\n",
    "drop_out_layer_6  = Dropout(0.5)(global_maxpool_cat)\n",
    "dense_layer_6       = Dense(10, activation='relu')(drop_out_layer_6)\n",
    "drop_out_layer_7   = Dropout(0.5)(dense_layer_6)\n",
    "batch_norm_layer_2 = BatchNormalization()(drop_out_layer_7)\n",
    "\n",
    "concat_layer        = Concatenate()([drop_out_layer_5, batch_norm_layer_2])\n",
    "dense_layer_7       = Dense(10, activation='relu')(concat_layer)\n",
    "output  = Dense(5, activation='softmax')(dense_layer_7)\n",
    "hybrid_model   = Model(inputs=[input_1, input_2], outputs=output)\n",
    "\n",
    "# compile the keras model\n",
    "opt = optimizers.Adamax(lr=0.01)\n",
    "#opt = SGD(lr=0.001, momentum=0.9)\n",
    "hybrid_model.compile(loss='categorical_crossentropy', optimizer=opt, metrics=['acc'])"
   ]
  },
  {
   "cell_type": "code",
   "execution_count": 84,
   "metadata": {
    "colab": {
     "base_uri": "https://localhost:8080/"
    },
    "id": "spfihDspf6RK",
    "outputId": "6076f722-3d16-4351-9402-4e48d5feddc9",
    "scrolled": true
   },
   "outputs": [
    {
     "name": "stdout",
     "output_type": "stream",
     "text": [
      "Model: \"model_4\"\n",
      "__________________________________________________________________________________________________\n",
      " Layer (type)                   Output Shape         Param #     Connected to                     \n",
      "==================================================================================================\n",
      " input_5 (InputLayer)           [(None, 195)]        0           []                               \n",
      "                                                                                                  \n",
      " embedding_2 (Embedding)        (None, 195, 200)     791800      ['input_5[0][0]']                \n",
      "                                                                                                  \n",
      " bidirectional_2 (Bidirectional  (None, 195, 256)    336896      ['embedding_2[0][0]']            \n",
      " )                                                                                                \n",
      "                                                                                                  \n",
      " global_max_pooling1d_4 (Global  (None, 256)         0           ['bidirectional_2[0][0]']        \n",
      " MaxPooling1D)                                                                                    \n",
      "                                                                                                  \n",
      " dropout_13 (Dropout)           (None, 256)          0           ['global_max_pooling1d_4[0][0]'] \n",
      "                                                                                                  \n",
      " dense_12 (Dense)               (None, 128)          32896       ['dropout_13[0][0]']             \n",
      "                                                                                                  \n",
      " dropout_14 (Dropout)           (None, 128)          0           ['dense_12[0][0]']               \n",
      "                                                                                                  \n",
      " input_8 (InputLayer)           [(None, 19, 1)]      0           []                               \n",
      "                                                                                                  \n",
      " dense_13 (Dense)               (None, 64)           8256        ['dropout_14[0][0]']             \n",
      "                                                                                                  \n",
      " lstm_8 (LSTM)                  (None, 19, 128)      66560       ['input_8[0][0]']                \n",
      "                                                                                                  \n",
      " dropout_15 (Dropout)           (None, 64)           0           ['dense_13[0][0]']               \n",
      "                                                                                                  \n",
      " global_max_pooling1d_8 (Global  (None, 128)         0           ['lstm_8[0][0]']                 \n",
      " MaxPooling1D)                                                                                    \n",
      "                                                                                                  \n",
      " dense_14 (Dense)               (None, 32)           2080        ['dropout_15[0][0]']             \n",
      "                                                                                                  \n",
      " dropout_24 (Dropout)           (None, 128)          0           ['global_max_pooling1d_8[0][0]'] \n",
      "                                                                                                  \n",
      " dropout_16 (Dropout)           (None, 32)           0           ['dense_14[0][0]']               \n",
      "                                                                                                  \n",
      " dense_25 (Dense)               (None, 10)           1290        ['dropout_24[0][0]']             \n",
      "                                                                                                  \n",
      " dense_15 (Dense)               (None, 10)           330         ['dropout_16[0][0]']             \n",
      "                                                                                                  \n",
      " dropout_25 (Dropout)           (None, 10)           0           ['dense_25[0][0]']               \n",
      "                                                                                                  \n",
      " dropout_17 (Dropout)           (None, 10)           0           ['dense_15[0][0]']               \n",
      "                                                                                                  \n",
      " batch_normalization_4 (BatchNo  (None, 10)          40          ['dropout_25[0][0]']             \n",
      " rmalization)                                                                                     \n",
      "                                                                                                  \n",
      " concatenate_4 (Concatenate)    (None, 20)           0           ['dropout_17[0][0]',             \n",
      "                                                                  'batch_normalization_4[0][0]']  \n",
      "                                                                                                  \n",
      " dense_26 (Dense)               (None, 10)           210         ['concatenate_4[0][0]']          \n",
      "                                                                                                  \n",
      " dense_27 (Dense)               (None, 5)            55          ['dense_26[0][0]']               \n",
      "                                                                                                  \n",
      "==================================================================================================\n",
      "Total params: 1,240,413\n",
      "Trainable params: 448,593\n",
      "Non-trainable params: 791,820\n",
      "__________________________________________________________________________________________________\n",
      "None\n"
     ]
    }
   ],
   "source": [
    "print(hybrid_model.summary())"
   ]
  },
  {
   "cell_type": "code",
   "execution_count": 85,
   "metadata": {
    "colab": {
     "base_uri": "https://localhost:8080/"
    },
    "id": "1DRukzfsf6RK",
    "outputId": "973f1aaa-dead-41e6-ad9b-a362a45fff47"
   },
   "outputs": [
    {
     "name": "stdout",
     "output_type": "stream",
     "text": [
      "(657, 195)\n",
      "(657, 19)\n",
      "(657, 5)\n",
      "(165, 5)\n"
     ]
    }
   ],
   "source": [
    "print(X_text_train_aug.shape)\n",
    "print(X_cat_train_aug.shape)\n",
    "print(y_train.shape)\n",
    "print(y_test.shape)"
   ]
  },
  {
   "cell_type": "code",
   "execution_count": 86,
   "metadata": {
    "colab": {
     "base_uri": "https://localhost:8080/"
    },
    "id": "SqnXmpU7f6RL",
    "outputId": "ffeec5ee-bdd1-48b7-e0b9-94664a545606"
   },
   "outputs": [
    {
     "name": "stdout",
     "output_type": "stream",
     "text": [
      "Epoch 1/30\n",
      "83/83 [==============================] - 19s 156ms/step - loss: 1.6304 - acc: 0.2694 - val_loss: 1.5298 - val_acc: 0.2303 - lr: 0.0100\n",
      "Epoch 2/30\n",
      "83/83 [==============================] - 9s 114ms/step - loss: 1.5327 - acc: 0.3075 - val_loss: 1.5030 - val_acc: 0.3333 - lr: 0.0100\n",
      "Epoch 3/30\n",
      "83/83 [==============================] - 10s 117ms/step - loss: 1.5100 - acc: 0.3105 - val_loss: 1.5013 - val_acc: 0.3333 - lr: 0.0100\n",
      "Epoch 4/30\n",
      "83/83 [==============================] - 9s 105ms/step - loss: 1.4909 - acc: 0.3333 - val_loss: 1.4925 - val_acc: 0.3333 - lr: 0.0100\n",
      "Epoch 5/30\n",
      "83/83 [==============================] - 8s 102ms/step - loss: 1.4941 - acc: 0.3333 - val_loss: 1.4891 - val_acc: 0.3333 - lr: 0.0100\n",
      "Epoch 6/30\n",
      "83/83 [==============================] - 8s 98ms/step - loss: 1.4936 - acc: 0.3181 - val_loss: 1.4938 - val_acc: 0.3333 - lr: 0.0100\n",
      "Epoch 7/30\n",
      "83/83 [==============================] - 8s 98ms/step - loss: 1.4892 - acc: 0.3303 - val_loss: 1.4911 - val_acc: 0.3333 - lr: 0.0100\n",
      "Epoch 8/30\n",
      "83/83 [==============================] - 8s 102ms/step - loss: 1.4771 - acc: 0.3257 - val_loss: 1.4839 - val_acc: 0.3333 - lr: 0.0100\n",
      "Epoch 9/30\n",
      "83/83 [==============================] - 9s 103ms/step - loss: 1.4861 - acc: 0.3288 - val_loss: 1.4887 - val_acc: 0.3333 - lr: 0.0100\n",
      "Epoch 10/30\n",
      "83/83 [==============================] - 8s 102ms/step - loss: 1.4915 - acc: 0.3333 - val_loss: 1.4878 - val_acc: 0.3333 - lr: 0.0100\n",
      "Epoch 11/30\n",
      "83/83 [==============================] - 9s 105ms/step - loss: 1.4800 - acc: 0.3257 - val_loss: 1.4865 - val_acc: 0.3333 - lr: 0.0100\n",
      "Epoch 12/30\n",
      "83/83 [==============================] - 9s 104ms/step - loss: 1.4893 - acc: 0.3425 - val_loss: 1.4848 - val_acc: 0.3333 - lr: 0.0100\n",
      "Epoch 13/30\n",
      "83/83 [==============================] - 9s 112ms/step - loss: 1.4807 - acc: 0.3318 - val_loss: 1.4847 - val_acc: 0.3333 - lr: 0.0100\n",
      "Epoch 14/30\n",
      "83/83 [==============================] - 9s 105ms/step - loss: 1.4805 - acc: 0.3318 - val_loss: 1.4848 - val_acc: 0.3333 - lr: 1.0000e-06\n",
      "Epoch 15/30\n",
      "83/83 [==============================] - 9s 104ms/step - loss: 1.4884 - acc: 0.3333 - val_loss: 1.4847 - val_acc: 0.3333 - lr: 1.0000e-06\n",
      "Epoch 16/30\n",
      "83/83 [==============================] - 9s 103ms/step - loss: 1.4877 - acc: 0.3379 - val_loss: 1.4848 - val_acc: 0.3333 - lr: 1.0000e-06\n",
      "Epoch 17/30\n",
      "83/83 [==============================] - 9s 103ms/step - loss: 1.4803 - acc: 0.3409 - val_loss: 1.4845 - val_acc: 0.3333 - lr: 1.0000e-06\n",
      "Epoch 18/30\n",
      "83/83 [==============================] - 8s 99ms/step - loss: 1.4815 - acc: 0.3333 - val_loss: 1.4843 - val_acc: 0.3333 - lr: 1.0000e-06\n",
      "Epoch 19/30\n",
      "83/83 [==============================] - 8s 100ms/step - loss: 1.4838 - acc: 0.3394 - val_loss: 1.4845 - val_acc: 0.3333 - lr: 1.0000e-10\n",
      "Epoch 20/30\n",
      "83/83 [==============================] - 8s 99ms/step - loss: 1.4829 - acc: 0.3394 - val_loss: 1.4845 - val_acc: 0.3333 - lr: 1.0000e-10\n",
      "Epoch 21/30\n",
      "83/83 [==============================] - 8s 98ms/step - loss: 1.4744 - acc: 0.3333 - val_loss: 1.4847 - val_acc: 0.3333 - lr: 1.0000e-10\n",
      "Epoch 22/30\n",
      "83/83 [==============================] - 8s 103ms/step - loss: 1.4867 - acc: 0.3364 - val_loss: 1.4848 - val_acc: 0.3333 - lr: 1.0000e-10\n",
      "Epoch 23/30\n",
      "83/83 [==============================] - 8s 98ms/step - loss: 1.4753 - acc: 0.3333 - val_loss: 1.4848 - val_acc: 0.3333 - lr: 1.0000e-10\n",
      "Epoch 24/30\n",
      "83/83 [==============================] - 8s 101ms/step - loss: 1.4884 - acc: 0.3364 - val_loss: 1.4848 - val_acc: 0.3333 - lr: 1.0000e-14\n",
      "Epoch 25/30\n",
      "83/83 [==============================] - 8s 100ms/step - loss: 1.4799 - acc: 0.3333 - val_loss: 1.4848 - val_acc: 0.3333 - lr: 1.0000e-14\n",
      "Epoch 26/30\n",
      "83/83 [==============================] - 8s 99ms/step - loss: 1.4773 - acc: 0.3318 - val_loss: 1.4848 - val_acc: 0.3333 - lr: 1.0000e-14\n",
      "Epoch 27/30\n",
      "83/83 [==============================] - 8s 100ms/step - loss: 1.4804 - acc: 0.3379 - val_loss: 1.4848 - val_acc: 0.3333 - lr: 1.0000e-14\n",
      "Epoch 28/30\n",
      "83/83 [==============================] - 8s 95ms/step - loss: 1.4841 - acc: 0.3364 - val_loss: 1.4845 - val_acc: 0.3333 - lr: 1.0000e-14\n",
      "Epoch 29/30\n",
      "83/83 [==============================] - 8s 94ms/step - loss: 1.4838 - acc: 0.3303 - val_loss: 1.4847 - val_acc: 0.3333 - lr: 1.0000e-18\n",
      "Epoch 30/30\n",
      "83/83 [==============================] - 8s 97ms/step - loss: 1.4796 - acc: 0.3379 - val_loss: 1.4846 - val_acc: 0.3333 - lr: 1.0000e-18\n"
     ]
    }
   ],
   "source": [
    "# Use earlystopping\n",
    "callback = tf.keras.callbacks.EarlyStopping(monitor='loss', patience=3, min_delta=1E-3)\n",
    "rlrp = ReduceLROnPlateau(monitor='val_loss', factor=0.0001, patience=5, min_delta=1E-4)\n",
    "\n",
    "#target_type = 'multi_label'\n",
    "#, target_type\n",
    "metrics = Metrics(validation_data=([X_text_train_aug, X_cat_train_aug], y_train))\n",
    "\n",
    "# fit the keras model on the dataset\n",
    "training_history = hybrid_model.fit([X_text_train_aug, X_cat_train_aug], y_train, epochs=30, batch_size=8, verbose=1, validation_data=([X_text_test_aug, X_cat_test_aug], y_test), callbacks=[rlrp, metrics])"
   ]
  },
  {
   "cell_type": "code",
   "execution_count": 87,
   "metadata": {
    "colab": {
     "base_uri": "https://localhost:8080/"
    },
    "id": "OPyjSTPsf6RL",
    "outputId": "a11306c1-e219-4986-c3e8-90f99ec9e893"
   },
   "outputs": [
    {
     "name": "stdout",
     "output_type": "stream",
     "text": [
      "Train accuracy: 33.64\n",
      "Test accuracy: 33.33\n"
     ]
    }
   ],
   "source": [
    "# evaluate the keras model\n",
    "_, train_accuracy_aug = hybrid_model.evaluate([X_text_train_aug, X_cat_train_aug], y_train, batch_size=8, verbose=0)\n",
    "_, test_accuracy_aug = hybrid_model.evaluate([X_text_test_aug, X_cat_test_aug], y_test, batch_size=8, verbose=0)\n",
    "\n",
    "print('Train accuracy: %.2f' % (train_accuracy_aug*100))\n",
    "print('Test accuracy: %.2f' % (test_accuracy_aug*100))"
   ]
  },
  {
   "cell_type": "code",
   "execution_count": 88,
   "metadata": {
    "colab": {
     "base_uri": "https://localhost:8080/",
     "height": 300
    },
    "id": "l0fX7TEFf6RL",
    "outputId": "84cb81b0-8da9-41c9-96f1-013a1e05e5d7"
   },
   "outputs": [
    {
     "data": {
      "text/plain": [
       "Text(0.5, 1.0, 'Training and validation loss')"
      ]
     },
     "execution_count": 88,
     "metadata": {},
     "output_type": "execute_result"
    },
    {
     "data": {
      "image/png": "[encoded data removed]",
      "text/plain": [
       "<Figure size 432x288 with 1 Axes>"
      ]
     },
     "metadata": {
      "needs_background": "light"
     },
     "output_type": "display_data"
    }
   ],
   "source": [
    "epochs = range(len(training_history.history['loss'])) # Get number of epochs\n",
    "\n",
    "# plot loss learning curves\n",
    "plt.plot(epochs, training_history.history['loss'], label = 'train')\n",
    "plt.plot(epochs, training_history.history['val_loss'], label = 'test')\n",
    "plt.legend(loc = 'upper right')\n",
    "plt.title ('Training and validation loss')"
   ]
  },
  {
   "cell_type": "code",
   "execution_count": 89,
   "metadata": {
    "colab": {
     "base_uri": "https://localhost:8080/",
     "height": 300
    },
    "id": "ttUQ77I5f6RM",
    "outputId": "bad55d50-5a42-463b-84b6-48f1fff94a3a"
   },
   "outputs": [
    {
     "data": {
      "text/plain": [
       "Text(0.5, 1.0, 'Training and validation accuracy')"
      ]
     },
     "execution_count": 89,
     "metadata": {},
     "output_type": "execute_result"
    },
    {
     "data": {
      "image/png": "[encoded data removed]",
      "text/plain": [
       "<Figure size 432x288 with 1 Axes>"
      ]
     },
     "metadata": {
      "needs_background": "light"
     },
     "output_type": "display_data"
    }
   ],
   "source": [
    "# plot accuracy learning curves\n",
    "plt.plot(epochs, training_history.history['acc'], label = 'train')\n",
    "plt.plot(epochs, training_history.history['val_acc'], label = 'test')\n",
    "plt.legend(loc = 'upper right')\n",
    "plt.title ('Training and validation accuracy')"
   ]
  },
  {
   "cell_type": "markdown",
   "metadata": {
    "id": "2hRYbTY-f6RM"
   },
   "source": [
    "Train accuracy is fluctuating around 35 value. Test accuracy is settled around 40."
   ]
  },
  {
   "cell_type": "code",
   "execution_count": 90,
   "metadata": {
    "id": "7Soumihcf6RM"
   },
   "outputs": [],
   "source": [
    "\n",
    "y_pred = hybrid_model.predict([X_text_test_aug, X_cat_test_aug], verbose=0) # Multiclass\n",
    "y_pred_index = np.argmax(y_pred,axis=1)\n",
    "y_original = np.argmax(y_test, axis =1)"
   ]
  },
  {
   "cell_type": "code",
   "execution_count": 92,
   "metadata": {
    "colab": {
     "base_uri": "https://localhost:8080/"
    },
    "id": "Rk2lXe39f6RN",
    "outputId": "2ad6377d-b425-47dd-dc7e-a85287548e95"
   },
   "outputs": [
    {
     "name": "stdout",
     "output_type": "stream",
     "text": [
      "21/21 [==============================] - 1s 39ms/step - loss: 1.4826 - acc: 0.3364\n",
      "6/6 [==============================] - 0s 39ms/step - loss: 1.4846 - acc: 0.3333\n"
     ]
    },
    {
     "data": {
      "text/plain": [
       "(0.33637747168540955, 0.3333333432674408, 0.3333333333333333)"
      ]
     },
     "execution_count": 92,
     "metadata": {},
     "output_type": "execute_result"
    }
   ],
   "source": [
    "_,tr_accuracy_aug = hybrid_model.evaluate([X_text_train_aug, X_cat_train_aug],y_train) \n",
    "_,te_accuracy_aug = hybrid_model.evaluate([X_text_test_aug, X_cat_test_aug],y_test) \n",
    "\n",
    "F1_sre_aug= f1_score(y_original,y_pred_index, average='micro')\n",
    "tr_accuracy_aug,te_accuracy_aug,F1_sre_aug"
   ]
  },
  {
   "cell_type": "code",
   "execution_count": 95,
   "metadata": {
    "colab": {
     "base_uri": "https://localhost:8080/",
     "height": 374
    },
    "id": "MaUkysoPf6RO",
    "outputId": "9923e2ac-12e4-42cd-ad3e-a6fea4fb3dc6"
   },
   "outputs": [
    {
     "data": {
      "image/png": "[encoded data removed]",
      "text/plain": [
       "<Figure size 864x432 with 2 Axes>"
      ]
     },
     "metadata": {
      "needs_background": "light"
     },
     "output_type": "display_data"
    }
   ],
   "source": [
    "cm = confusion_matrix(y_original,y_pred_index)\n",
    "cm_label = ['I', 'II', 'III','IV', 'V']\n",
    "plt.figure(figsize=(12,6))\n",
    "sns.heatmap(cm, annot=True, cmap='Blues',xticklabels = cm_label, yticklabels = cm_label);"
   ]
  },
  {
   "cell_type": "code",
   "execution_count": 97,
   "metadata": {
    "colab": {
     "base_uri": "https://localhost:8080/"
    },
    "id": "AAGlyQJUf6RO",
    "outputId": "e592498a-38f0-436d-e5f2-7cea6e0dd2be",
    "scrolled": false
   },
   "outputs": [
    {
     "name": "stdout",
     "output_type": "stream",
     "text": [
      "              precision    recall  f1-score   support\n",
      "\n",
      "           0       0.00      0.00      0.00        17\n",
      "           1       0.00      0.00      0.00        38\n",
      "           2       0.00      0.00      0.00        43\n",
      "           3       0.33      1.00      0.50        55\n",
      "           4       0.00      0.00      0.00        12\n",
      "\n",
      "    accuracy                           0.33       165\n",
      "   macro avg       0.07      0.20      0.10       165\n",
      "weighted avg       0.11      0.33      0.17       165\n",
      "\n"
     ]
    }
   ],
   "source": [
    "print(classification_report(y_original, y_pred_index))"
   ]
  },
  {
   "cell_type": "code",
   "execution_count": null,
   "metadata": {
    "id": "LETAajZI4gP6"
   },
   "outputs": [],
   "source": []
  }
 ],
 "metadata": {
  "accelerator": "GPU",
  "colab": {
   "collapsed_sections": [],
   "include_colab_link": true,
   "name": "LSTM+LSTM Capstone_NLP_Chatbot_Jan_A_G4.ipynb",
   "provenance": [],
   "toc_visible": true
  },
  "kernelspec": {
   "display_name": "Python 3",
   "language": "python",
   "name": "python3"
  },
  "language_info": {
   "codemirror_mode": {
    "name": "ipython",
    "version": 3
   },
   "file_extension": ".py",
   "mimetype": "text/x-python",
   "name": "python",
   "nbconvert_exporter": "python",
   "pygments_lexer": "ipython3",
   "version": "3.8.5"
  }
 },
 "nbformat": 4,
 "nbformat_minor": 1
}
