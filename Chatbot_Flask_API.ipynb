{
  "nbformat": 4,
  "nbformat_minor": 0,
  "metadata": {
    "colab": {
      "name": "Untitled0.ipynb",
      "provenance": [],
      "authorship_tag": "ABX9TyMNWDEYtJVi6TTXZBRQlU97",
      "include_colab_link": true
    },
    "kernelspec": {
      "name": "python3",
      "display_name": "Python 3"
    },
    "language_info": {
      "name": "python"
    }
  },
  "cells": [
    {
      "cell_type": "markdown",
      "metadata": {
        "id": "view-in-github",
        "colab_type": "text"
      },
      "source": [
        "<a href=\"https://colab.research.google.com/github/shyamsparrow/Jan-G4---NLP-Chatbot/blob/main/Chatbot_Flask_API.ipynb\" target=\"_parent\"><img src=\"https://colab.research.google.com/assets/colab-badge.svg\" alt=\"Open In Colab\"/></a>"
      ]
    },
    {
      "cell_type": "code",
      "source": [
        "from google.colab import drive\n",
        "drive.mount('/content/drive')"
      ],
      "metadata": {
        "colab": {
          "base_uri": "https://localhost:8080/"
        },
        "id": "1zptDCAliHSQ",
        "outputId": "824849ad-b0ab-4a69-a737-7210005acb43"
      },
      "execution_count": 2,
      "outputs": [
        {
          "output_type": "stream",
          "name": "stdout",
          "text": [
            "Mounted at /content/drive\n"
          ]
        }
      ]
    },
    {
      "cell_type": "code",
      "source": [
        "%cd /content/drive/MyDrive/AIML/Capstone/Jan-G4---NLP-Chatbot"
      ],
      "metadata": {
        "colab": {
          "base_uri": "https://localhost:8080/"
        },
        "id": "-13Zhe0vig14",
        "outputId": "77a3af01-8f8a-498d-c16b-759b2793c586"
      },
      "execution_count": 3,
      "outputs": [
        {
          "output_type": "stream",
          "name": "stdout",
          "text": [
            "/content/drive/MyDrive/AIML/Capstone/Jan-G4---NLP-Chatbot\n"
          ]
        }
      ]
    },
    {
      "cell_type": "code",
      "source": [
        "!git checkout main"
      ],
      "metadata": {
        "colab": {
          "base_uri": "https://localhost:8080/"
        },
        "id": "MHteeMrKioGp",
        "outputId": "8511be2e-ad36-4069-e826-785ecf4b9f0a"
      },
      "execution_count": 4,
      "outputs": [
        {
          "output_type": "stream",
          "name": "stdout",
          "text": [
            "Checking out files: 100% (26/26), done.\n",
            "Switched to branch 'main'\n",
            "Your branch is behind 'origin/main' by 9 commits, and can be fast-forwarded.\n",
            "  (use \"git pull\" to update your local branch)\n"
          ]
        }
      ]
    },
    {
      "cell_type": "code",
      "source": [
        "!git pull"
      ],
      "metadata": {
        "colab": {
          "base_uri": "https://localhost:8080/"
        },
        "id": "XOdjTfhjklLv",
        "outputId": "1de0734c-cb8e-4a54-bb61-ff7466547407"
      },
      "execution_count": 12,
      "outputs": [
        {
          "output_type": "stream",
          "name": "stdout",
          "text": [
            "Already up to date.\n"
          ]
        }
      ]
    },
    {
      "cell_type": "markdown",
      "source": [
        "# Installing Libraries"
      ],
      "metadata": {
        "id": "u2inMNNDlBeo"
      }
    },
    {
      "cell_type": "code",
      "source": [
        "import warnings\n",
        "warnings.filterwarnings(\"ignore\")\n",
        "\n",
        "import sys  \n",
        "!{sys.executable} -m pip install contractions==0.0.18\n",
        "!pip install pyspellchecker\n",
        "!pip install contractions\n",
        "!pip install tensorflow==2.7.0 --user\n",
        "quiet = True"
      ],
      "metadata": {
        "id": "w-TF3SW4jW68"
      },
      "execution_count": null,
      "outputs": []
    },
    {
      "cell_type": "code",
      "source": [
        "%cd /content/drive/MyDrive/AIML/Capstone/Jan-G4---NLP-Chatbot/Utilities"
      ],
      "metadata": {
        "colab": {
          "base_uri": "https://localhost:8080/"
        },
        "id": "Z0RgLhUGjrBp",
        "outputId": "95801033-971e-420f-bcbb-0927f92399de"
      },
      "execution_count": 8,
      "outputs": [
        {
          "output_type": "stream",
          "name": "stdout",
          "text": [
            "/content/drive/MyDrive/AIML/Capstone/Jan-G4---NLP-Chatbot/Utilities\n"
          ]
        }
      ]
    },
    {
      "cell_type": "markdown",
      "source": [
        "# Importing Model and Creating Predictions"
      ],
      "metadata": {
        "id": "CwuXDGC-lGl0"
      }
    },
    {
      "cell_type": "code",
      "execution_count": 9,
      "metadata": {
        "id": "omuA7yu6h5ou"
      },
      "outputs": [],
      "source": [
        "warnings.filterwarnings(\"ignore\")\n",
        "\n",
        "import pickle\n",
        "import os\n",
        "import random\n",
        "import numpy as np\n",
        "\n",
        "\n",
        "from tensorflow.keras.models import load_model\n",
        "from tensorflow.keras.preprocessing.sequence import pad_sequences\n",
        "\n",
        "from NLP_text_preprocess import PreProcessing\n",
        "import config\n",
        "\n",
        "text_contents=dict()\n",
        "\n",
        "\n",
        "model = load_model(\"/content/drive/MyDrive/AIML/Capstone/Jan-G4---NLP-Chatbot/Models/LSTM_model.h5\")\n",
        "    \n",
        "def greet_res(text):\n",
        "    bot_greet=['hi','hello','hola','hey','howdy']\n",
        "    usr_greet=['hi','hey','hello','hola','greetings','wassup','whats up']\n",
        "    for word in text.split():\n",
        "        if word in usr_greet:\n",
        "            return random.choice(bot_greet)\n",
        "\n",
        "# bot response\n",
        "def bot_ress(usr_input):\n",
        "    warnings.filterwarnings(\"ignore\")\n",
        "    with open(r\"parameters.pickle\", \"rb\") as f:\n",
        "          lab_en, tokenizer_data = pickle.load(f)\n",
        "    pp = PreProcessing(to_lower = config.to_lower,remove_url=config.remove_url,\n",
        "                       remove_time = config.remove_time,expand_contraction =config.expand_contraction,\n",
        "                       remove_special_character=config.remove_special_character,\n",
        "                       remove_punctuation=config.remove_punctuation,\n",
        "                       remove_whitespace=config.remove_whitespace,\n",
        "                       keep_alpha_numeric = False,\n",
        "                       check_spelling=config.check_spelling,\n",
        "                       remove_stopword=False,\n",
        "                       lemmatize_word=config.lemmatize_word)\n",
        "\n",
        "    pre_txt = pp.preprocess(usr_input)\n",
        "    tok_txt = tokenizer_data.texts_to_sequences([pre_txt])\n",
        "    pad_txt = pad_sequences(tok_txt, padding='post', maxlen=185)\n",
        "    prediction = model.predict(pad_txt, verbose=0)\n",
        "    pred_index = np.argmax(prediction,axis=1)\n",
        "    result = lab_en.inverse_transform(pred_index)[0]\n",
        "    bot_res = 'The Potential accident level for this accident is {}'.format(result)\n",
        "    return bot_res\n",
        "    \n",
        "exit_list = ['exit','break','quit','see you later','chat with you later','end the chat','bye','ok bye']\n",
        "\n",
        "def chat_res(usr_input):\n",
        "    usr_input = usr_input.lower()\n",
        "    #textcon.insert(END, f'User: {usr_input}'+'\\n','usr')\n",
        "    if usr_input in exit_list:\n",
        "        return (\"Ok bye! Chat with you later\")\n",
        "    else:\n",
        "        if greet_res(usr_input) != None:\n",
        "           return greet_res(usr_input)\n",
        "        else:\n",
        "          return bot_ress(usr_input)"
      ]
    },
    {
      "cell_type": "code",
      "source": [
        "%cd /content/drive/MyDrive/AIML/Capstone/Jan-G4---NLP-Chatbot"
      ],
      "metadata": {
        "colab": {
          "base_uri": "https://localhost:8080/"
        },
        "id": "SSVadfefjpwH",
        "outputId": "67b345ac-dd3a-407b-824a-7f6a4baba57e"
      },
      "execution_count": 10,
      "outputs": [
        {
          "output_type": "stream",
          "name": "stdout",
          "text": [
            "/content/drive/MyDrive/AIML/Capstone/Jan-G4---NLP-Chatbot\n"
          ]
        }
      ]
    },
    {
      "cell_type": "markdown",
      "source": [
        "# Running Flask API"
      ],
      "metadata": {
        "id": "lnKVzhUBlNpr"
      }
    },
    {
      "cell_type": "code",
      "source": [
        "from flask import Flask, render_template, request\n",
        "\n",
        "app = Flask(__name__)\n",
        "app.static_folder = 'static'\n",
        "\n",
        "@app.route(\"/\")\n",
        "def home():\n",
        "    return render_template(\"index.html\")\n",
        "\n",
        "@app.route(\"/get\")\n",
        "def get_bot_response():\n",
        "    userText = request.args.get('msg')\n",
        "    return chat_res(userText)\n",
        "\n",
        "\n",
        "if __name__ == \"__main__\":\n",
        "    app.run()"
      ],
      "metadata": {
        "colab": {
          "base_uri": "https://localhost:8080/"
        },
        "id": "6493dFK_iDD4",
        "outputId": "b954fb38-0de9-40d7-97d2-96e4fdbc4806"
      },
      "execution_count": 13,
      "outputs": [
        {
          "output_type": "stream",
          "name": "stdout",
          "text": [
            " * Serving Flask app \"__main__\" (lazy loading)\n",
            " * Environment: production\n",
            "\u001b[31m   WARNING: This is a development server. Do not use it in a production deployment.\u001b[0m\n",
            "\u001b[2m   Use a production WSGI server instead.\u001b[0m\n",
            " * Debug mode: off\n"
          ]
        },
        {
          "output_type": "stream",
          "name": "stderr",
          "text": [
            " * Running on http://127.0.0.1:5000/ (Press CTRL+C to quit)\n"
          ]
        }
      ]
    },
    {
      "cell_type": "code",
      "source": [
        ""
      ],
      "metadata": {
        "id": "drz_Q4zMiGaw"
      },
      "execution_count": null,
      "outputs": []
    }
  ]
}