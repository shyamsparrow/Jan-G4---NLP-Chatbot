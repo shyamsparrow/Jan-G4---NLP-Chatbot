{
  "nbformat": 4,
  "nbformat_minor": 0,
  "metadata": {
    "kernelspec": {
      "display_name": "Python 3",
      "language": "python",
      "name": "python3"
    },
    "language_info": {
      "codemirror_mode": {
        "name": "ipython",
        "version": 3
      },
      "file_extension": ".py",
      "mimetype": "text/x-python",
      "name": "python",
      "nbconvert_exporter": "python",
      "pygments_lexer": "ipython3",
      "version": "3.7.6"
    },
    "colab": {
      "name": "interim nn Capstone_NLP_Chatbot_Jan_A_G4_24_11.ipynb",
      "provenance": [],
      "collapsed_sections": []
    }
  },
  "cells": [
    {
      "cell_type": "markdown",
      "metadata": {
        "id": "9Yj3kJll4cxT"
      },
      "source": [
        "# Capstone Project - NLP Chatbot\n",
        "\n",
        "### DOMAIN: \n",
        "Industrial safety. NLP based Chatbot.\n",
        "\n",
        "### CONTEXT:\n",
        "The database comes from one of the biggest industry in Brazil and in the world. It is an urgent need for industries/companies around the globe to understand why employees still suffer some injuries/accidents in plants. Sometimes they also die in such environment.\n",
        "\n",
        "### DATA DESCRIPTION:\n",
        "This The database is basically records of accidents from 12 different plants in 03 different countries which every line in the data is an occurrence of an accident.\n",
        "\n",
        "### Columns description:\n",
        "* Data: timestamp or time/date information\n",
        "* Countries: which country the accident occurred (anonymised)\n",
        "* Local: the city where the manufacturing plant is located (anonymised)\n",
        "* Industry sector: which sector the plant belongs to\n",
        "* Accident level: from I to VI, it registers how severe was the accident (I means not severe but VI means very severe)\n",
        "* Potential Accident Level: Depending on the Accident Level, the database also registers how severe the accident could have   been (due to other factors involved in the accident)\n",
        "* Gender: if the person is male of female\n",
        "* Employee or Third Party: if the injured person is an employee or a third party\n",
        "* Critical Risk: some description of the risk involved in the accident\n",
        "* Description: Detailed description of how the accident happened.\n",
        "\n",
        "Link to download the dataset: https://drive.google.com/file/d/1_GmrRP1S2OIa02KlfOBNkYa8uxazGbfE/view?usp=sharing,\n",
        "Original dataset link: https://www.kaggle.com/ihmstefanini/industrial-safety-and-health-analytics-database\n",
        "\n",
        "### PROJECT OBJECTIVE:\n",
        "Design a ML/DL based chatbot utility which can help the professionals to highlight the safety risk as per the incident description."
      ]
    },
    {
      "cell_type": "code",
      "metadata": {
        "id": "UXY9aXj-FwOg",
        "colab": {
          "base_uri": "https://localhost:8080/"
        },
        "outputId": "d5781e2d-19fc-435a-ea25-ca3fec6c78c7"
      },
      "source": [
        "from google.colab import drive\n",
        "drive.mount('/content/drive')"
      ],
      "execution_count": null,
      "outputs": [
        {
          "output_type": "stream",
          "name": "stdout",
          "text": [
            "Mounted at /content/drive\n"
          ]
        }
      ]
    },
    {
      "cell_type": "markdown",
      "metadata": {
        "id": "yJ3cY1PPaSlS"
      },
      "source": [
        "Replace the folder path with your drive folder path and clone the githb repo"
      ]
    },
    {
      "cell_type": "code",
      "metadata": {
        "id": "wwhw9SyePdXo",
        "colab": {
          "base_uri": "https://localhost:8080/"
        },
        "outputId": "be0b0a89-aa60-4aea-dd6f-074f2e127a2f"
      },
      "source": [
        "%cd /content/drive/MyDrive/Capstone"
      ],
      "execution_count": null,
      "outputs": [
        {
          "output_type": "stream",
          "name": "stdout",
          "text": [
            "/content/drive/MyDrive/Capstone\n"
          ]
        }
      ]
    },
    {
      "cell_type": "markdown",
      "metadata": {
        "id": "zb2bSd4Qa6sd"
      },
      "source": [
        "Run the below code for clone the repo in our Googele drive for first time"
      ]
    },
    {
      "cell_type": "code",
      "metadata": {
        "colab": {
          "base_uri": "https://localhost:8080/"
        },
        "id": "02mIR5BkLrQM",
        "outputId": "ebd1232c-0e3c-4d55-cf7b-ac82c60b8837"
      },
      "source": [
        "! git clone https://github.com/shyamsparrow/Jan-G4---NLP-Chatbot.git"
      ],
      "execution_count": null,
      "outputs": [
        {
          "output_type": "stream",
          "name": "stdout",
          "text": [
            "Cloning into 'Jan-G4---NLP-Chatbot'...\n",
            "remote: Enumerating objects: 319, done.\u001b[K\n",
            "remote: Counting objects: 100% (319/319), done.\u001b[K\n",
            "remote: Compressing objects: 100% (314/314), done.\u001b[K\n",
            "remote: Total 319 (delta 162), reused 0 (delta 0), pack-reused 0\u001b[K\n",
            "Receiving objects: 100% (319/319), 27.53 MiB | 5.18 MiB/s, done.\n",
            "Resolving deltas: 100% (162/162), done.\n"
          ]
        }
      ]
    },
    {
      "cell_type": "markdown",
      "metadata": {
        "id": "DE4JYNESXKDx"
      },
      "source": [
        "Change the Current folder into Github repo main folder, all the functions we are calling has to be in this repo."
      ]
    },
    {
      "cell_type": "code",
      "metadata": {
        "colab": {
          "base_uri": "https://localhost:8080/"
        },
        "id": "OigsCtatbCvx",
        "outputId": "35782a3a-752b-4214-fc76-ab0973dea7d5"
      },
      "source": [
        "%cd /content/drive/MyDrive/Capstone/Jan-G4---NLP-Chatbot"
      ],
      "execution_count": null,
      "outputs": [
        {
          "output_type": "stream",
          "name": "stdout",
          "text": [
            "/content/drive/MyDrive/Capstone/Jan-G4---NLP-Chatbot\n"
          ]
        }
      ]
    },
    {
      "cell_type": "code",
      "metadata": {
        "id": "9DP36cGdeCGy"
      },
      "source": [
        "!git config --global user.email \"pradeebha.ab@gmail.com\"\n",
        "!git config --global user.name \"Pradeebha\""
      ],
      "execution_count": null,
      "outputs": []
    },
    {
      "cell_type": "code",
      "metadata": {
        "id": "dduXV2HWejMI",
        "colab": {
          "base_uri": "https://localhost:8080/"
        },
        "outputId": "bbe71595-b66d-4e72-ce10-ffc12812910e"
      },
      "source": [
        "!git status"
      ],
      "execution_count": null,
      "outputs": [
        {
          "output_type": "stream",
          "name": "stdout",
          "text": [
            "\n",
            "No commits yet\n",
            "\n",
            "Changes to be committed:\n",
            "  (use \"git rm --cached <file>...\" to unstage)\n",
            "\n",
            "\t\u001b[32mnew file:   AIML Capstone Project - NLP chatbot.pdf\u001b[m\n",
            "\t\u001b[32mnew file:   Capstone_NLP_Chatbot_Jan_A_G4.ipynb\u001b[m\n",
            "\t\u001b[32mnew file:   Chatbot.ipynb\u001b[m\n",
            "\t\u001b[32mnew file:   Data Set - industrial_safety_and_health_database_with_accidents_description.csv\u001b[m\n",
            "\t\u001b[32mnew file:   GL Bot.json\u001b[m\n",
            "\t\u001b[32mnew file:   NLP_text_preprocess.py\u001b[m\n",
            "\t\u001b[32mnew file:   Pradeebha_Capstone_NLP_Chatbot_Jan_A_G4.ipynb\u001b[m\n",
            "\t\u001b[32mnew file:   README.md\u001b[m\n",
            "\t\u001b[32mnew file:   config.py\u001b[m\n",
            "\t\u001b[32mnew file:   data/custom_substitutions.csv\u001b[m\n",
            "\t\u001b[32mnew file:   data/ignore_spellcheck_words.txt\u001b[m\n",
            "\t\u001b[32mnew file:   industry_df_preprocessed.csv\u001b[m\n",
            "\t\u001b[32mnew file:   industry_df_with_stopwords.csv\u001b[m\n",
            "\n"
          ]
        }
      ]
    },
    {
      "cell_type": "code",
      "metadata": {
        "id": "Mdx1iSzven86",
        "colab": {
          "base_uri": "https://localhost:8080/"
        },
        "outputId": "acc37aa3-d023-4f18-9dba-672d9e6bdb2b"
      },
      "source": [
        "!git commit -m \"My message\""
      ],
      "execution_count": null,
      "outputs": [
        {
          "output_type": "stream",
          "name": "stdout",
          "text": [
            "fatal: cannot lock ref 'HEAD': Unable to create '/content/drive/My Drive/AIML/Capstone/Jan-G4---NLP-Chatbot/.git/refs/heads/main\n",
            "r.lock': Invalid argument\n"
          ]
        }
      ]
    },
    {
      "cell_type": "markdown",
      "metadata": {
        "id": "fuZqYC2yXV1e"
      },
      "source": [
        "Run this code to update the changes in repo to our drive"
      ]
    },
    {
      "cell_type": "code",
      "metadata": {
        "colab": {
          "base_uri": "https://localhost:8080/"
        },
        "id": "WITqKl1Nb_G4",
        "outputId": "6321192f-915c-4ade-ff1f-1cdaa7481fd7"
      },
      "source": [
        "!git pull"
      ],
      "execution_count": null,
      "outputs": [
        {
          "output_type": "stream",
          "name": "stdout",
          "text": [
            "remote: Enumerating objects: 71, done.\u001b[K\n",
            "remote: Counting objects: 100% (71/71), done.\u001b[K\n",
            "remote: Compressing objects: 100% (59/59), done.\u001b[K\n",
            "remote: Total 64 (delta 30), reused 4 (delta 2), pack-reused 0\u001b[K\n",
            "Unpacking objects: 100% (64/64), done.\n",
            "From https://github.com/shyamsparrow/Jan-G4---NLP-Chatbot\n",
            "   ad132d0..0231d57  Models               -> origin/Models\n",
            " * [new branch]      VemulaGanesh-patch-1 -> origin/VemulaGanesh-patch-1\n",
            "   a2fc3f4..85be9ed  main                 -> origin/main\n",
            "You are not currently on a branch.\n",
            "Please specify which branch you want to merge with.\n",
            "See git-pull(1) for details.\n",
            "\n",
            "    git pull <remote> <branch>\n",
            "\n"
          ]
        }
      ]
    },
    {
      "cell_type": "code",
      "metadata": {
        "id": "d4CkHgK24cxV"
      },
      "source": [
        "import warnings\n",
        "warnings.filterwarnings('ignore')\n",
        "\n",
        "import config\n",
        "from wordcloud import WordCloud,STOPWORDS\n",
        "import nltk\n",
        "from nltk.corpus import stopwords\n",
        "from bs4 import BeautifulSoup\n",
        "import string\n",
        "import numpy as np\n",
        "import pandas as pd\n",
        "import seaborn as sns\n",
        "import matplotlib.pyplot as plt\n",
        "import re"
      ],
      "execution_count": null,
      "outputs": []
    },
    {
      "cell_type": "code",
      "metadata": {
        "id": "KHfbdf5t4cxY",
        "colab": {
          "base_uri": "https://localhost:8080/"
        },
        "outputId": "211098e1-973c-476b-c320-029d80aed1dc"
      },
      "source": [
        "url = \"Data Set - industrial_safety_and_health_database_with_accidents_description.csv\"\n",
        "industry_df = pd.read_csv(url, index_col = 0)\n",
        "industry_df.head"
      ],
      "execution_count": null,
      "outputs": [
        {
          "output_type": "execute_result",
          "data": {
            "text/plain": [
              "<bound method NDFrame.head of                     Data  ...                                        Description\n",
              "0    2016-01-01 00:00:00  ...  While removing the drill rod of the Jumbo 08 f...\n",
              "1    2016-01-02 00:00:00  ...  During the activation of a sodium sulphide pum...\n",
              "2    2016-01-06 00:00:00  ...  In the sub-station MILPO located at level +170...\n",
              "3    2016-01-08 00:00:00  ...  Being 9:45 am. approximately in the Nv. 1880 C...\n",
              "4    2016-01-10 00:00:00  ...  Approximately at 11:45 a.m. in circumstances t...\n",
              "..                   ...  ...                                                ...\n",
              "434  2017-07-04 00:00:00  ...  Being approximately 5:00 a.m. approximately, w...\n",
              "435  2017-07-04 00:00:00  ...  The collaborator moved from the infrastructure...\n",
              "436  2017-07-05 00:00:00  ...  During the environmental monitoring activity i...\n",
              "437  2017-07-06 00:00:00  ...  The Employee performed the activity of strippi...\n",
              "438  2017-07-09 00:00:00  ...  At 10:00 a.m., when the assistant cleaned the ...\n",
              "\n",
              "[425 rows x 10 columns]>"
            ]
          },
          "metadata": {},
          "execution_count": 10
        }
      ]
    },
    {
      "cell_type": "code",
      "metadata": {
        "id": "D9rdU9F-4cxY",
        "colab": {
          "base_uri": "https://localhost:8080/"
        },
        "outputId": "b4000d05-c0cd-4a36-ec0a-8e9a18bcd996"
      },
      "source": [
        "industry_df.shape"
      ],
      "execution_count": null,
      "outputs": [
        {
          "output_type": "execute_result",
          "data": {
            "text/plain": [
              "(425, 10)"
            ]
          },
          "metadata": {},
          "execution_count": 11
        }
      ]
    },
    {
      "cell_type": "markdown",
      "metadata": {
        "id": "WB4-_ekDXsUU"
      },
      "source": [
        "### Re-naming the column name:\n",
        "We have 10 columns( features) and 425 rows of data. Let us Rename the column correctly, which is misspelled."
      ]
    },
    {
      "cell_type": "code",
      "metadata": {
        "id": "aYREgrh_4cxZ",
        "colab": {
          "base_uri": "https://localhost:8080/",
          "height": 337
        },
        "outputId": "5acdb2dc-87bf-46a1-f2db-fd0732364258"
      },
      "source": [
        "industry_df.rename(columns={'Data':'Date', 'Countries':'Country', 'Genre':'Gender', 'Employee or Third Party':'Employee_type',\n",
        "'Industry Sector':'Industry_Sector','Accident Level':'Accident_Level','Potential Accident Level':'Potential_Accident_Level',\n",
        "'Critical Risk':'Critical_Risk'}, inplace=True)\n",
        "industry_df.head(3)"
      ],
      "execution_count": null,
      "outputs": [
        {
          "output_type": "execute_result",
          "data": {
            "text/html": [
              "<div>\n",
              "<style scoped>\n",
              "    .dataframe tbody tr th:only-of-type {\n",
              "        vertical-align: middle;\n",
              "    }\n",
              "\n",
              "    .dataframe tbody tr th {\n",
              "        vertical-align: top;\n",
              "    }\n",
              "\n",
              "    .dataframe thead th {\n",
              "        text-align: right;\n",
              "    }\n",
              "</style>\n",
              "<table border=\"1\" class=\"dataframe\">\n",
              "  <thead>\n",
              "    <tr style=\"text-align: right;\">\n",
              "      <th></th>\n",
              "      <th>Date</th>\n",
              "      <th>Country</th>\n",
              "      <th>Local</th>\n",
              "      <th>Industry_Sector</th>\n",
              "      <th>Accident_Level</th>\n",
              "      <th>Potential_Accident_Level</th>\n",
              "      <th>Gender</th>\n",
              "      <th>Employee_type</th>\n",
              "      <th>Critical_Risk</th>\n",
              "      <th>Description</th>\n",
              "    </tr>\n",
              "  </thead>\n",
              "  <tbody>\n",
              "    <tr>\n",
              "      <th>0</th>\n",
              "      <td>2016-01-01 00:00:00</td>\n",
              "      <td>Country_01</td>\n",
              "      <td>Local_01</td>\n",
              "      <td>Mining</td>\n",
              "      <td>I</td>\n",
              "      <td>IV</td>\n",
              "      <td>Male</td>\n",
              "      <td>Third Party</td>\n",
              "      <td>Pressed</td>\n",
              "      <td>While removing the drill rod of the Jumbo 08 f...</td>\n",
              "    </tr>\n",
              "    <tr>\n",
              "      <th>1</th>\n",
              "      <td>2016-01-02 00:00:00</td>\n",
              "      <td>Country_02</td>\n",
              "      <td>Local_02</td>\n",
              "      <td>Mining</td>\n",
              "      <td>I</td>\n",
              "      <td>IV</td>\n",
              "      <td>Male</td>\n",
              "      <td>Employee</td>\n",
              "      <td>Pressurized Systems</td>\n",
              "      <td>During the activation of a sodium sulphide pum...</td>\n",
              "    </tr>\n",
              "    <tr>\n",
              "      <th>2</th>\n",
              "      <td>2016-01-06 00:00:00</td>\n",
              "      <td>Country_01</td>\n",
              "      <td>Local_03</td>\n",
              "      <td>Mining</td>\n",
              "      <td>I</td>\n",
              "      <td>III</td>\n",
              "      <td>Male</td>\n",
              "      <td>Third Party (Remote)</td>\n",
              "      <td>Manual Tools</td>\n",
              "      <td>In the sub-station MILPO located at level +170...</td>\n",
              "    </tr>\n",
              "  </tbody>\n",
              "</table>\n",
              "</div>"
            ],
            "text/plain": [
              "                  Date  ...                                        Description\n",
              "0  2016-01-01 00:00:00  ...  While removing the drill rod of the Jumbo 08 f...\n",
              "1  2016-01-02 00:00:00  ...  During the activation of a sodium sulphide pum...\n",
              "2  2016-01-06 00:00:00  ...  In the sub-station MILPO located at level +170...\n",
              "\n",
              "[3 rows x 10 columns]"
            ]
          },
          "metadata": {},
          "execution_count": 12
        }
      ]
    },
    {
      "cell_type": "markdown",
      "metadata": {
        "id": "ErK5yHOAYVo6"
      },
      "source": [
        "### Checking Missing Values:"
      ]
    },
    {
      "cell_type": "code",
      "metadata": {
        "id": "PL6vwoTB4cxa",
        "colab": {
          "base_uri": "https://localhost:8080/",
          "height": 363
        },
        "outputId": "1e68f51a-62ad-4d9c-9870-abfd79eb3bb1"
      },
      "source": [
        "datatype = pd.DataFrame(industry_df.dtypes)\n",
        "datatype['MissingVal'] = industry_df.isnull().sum()\n",
        "datatype['NUnique']=industry_df.nunique()\n",
        "datatype"
      ],
      "execution_count": null,
      "outputs": [
        {
          "output_type": "execute_result",
          "data": {
            "text/html": [
              "<div>\n",
              "<style scoped>\n",
              "    .dataframe tbody tr th:only-of-type {\n",
              "        vertical-align: middle;\n",
              "    }\n",
              "\n",
              "    .dataframe tbody tr th {\n",
              "        vertical-align: top;\n",
              "    }\n",
              "\n",
              "    .dataframe thead th {\n",
              "        text-align: right;\n",
              "    }\n",
              "</style>\n",
              "<table border=\"1\" class=\"dataframe\">\n",
              "  <thead>\n",
              "    <tr style=\"text-align: right;\">\n",
              "      <th></th>\n",
              "      <th>0</th>\n",
              "      <th>MissingVal</th>\n",
              "      <th>NUnique</th>\n",
              "    </tr>\n",
              "  </thead>\n",
              "  <tbody>\n",
              "    <tr>\n",
              "      <th>Date</th>\n",
              "      <td>object</td>\n",
              "      <td>0</td>\n",
              "      <td>287</td>\n",
              "    </tr>\n",
              "    <tr>\n",
              "      <th>Country</th>\n",
              "      <td>object</td>\n",
              "      <td>0</td>\n",
              "      <td>3</td>\n",
              "    </tr>\n",
              "    <tr>\n",
              "      <th>Local</th>\n",
              "      <td>object</td>\n",
              "      <td>0</td>\n",
              "      <td>12</td>\n",
              "    </tr>\n",
              "    <tr>\n",
              "      <th>Industry_Sector</th>\n",
              "      <td>object</td>\n",
              "      <td>0</td>\n",
              "      <td>3</td>\n",
              "    </tr>\n",
              "    <tr>\n",
              "      <th>Accident_Level</th>\n",
              "      <td>object</td>\n",
              "      <td>0</td>\n",
              "      <td>5</td>\n",
              "    </tr>\n",
              "    <tr>\n",
              "      <th>Potential_Accident_Level</th>\n",
              "      <td>object</td>\n",
              "      <td>0</td>\n",
              "      <td>6</td>\n",
              "    </tr>\n",
              "    <tr>\n",
              "      <th>Gender</th>\n",
              "      <td>object</td>\n",
              "      <td>0</td>\n",
              "      <td>2</td>\n",
              "    </tr>\n",
              "    <tr>\n",
              "      <th>Employee_type</th>\n",
              "      <td>object</td>\n",
              "      <td>0</td>\n",
              "      <td>3</td>\n",
              "    </tr>\n",
              "    <tr>\n",
              "      <th>Critical_Risk</th>\n",
              "      <td>object</td>\n",
              "      <td>0</td>\n",
              "      <td>33</td>\n",
              "    </tr>\n",
              "    <tr>\n",
              "      <th>Description</th>\n",
              "      <td>object</td>\n",
              "      <td>0</td>\n",
              "      <td>411</td>\n",
              "    </tr>\n",
              "  </tbody>\n",
              "</table>\n",
              "</div>"
            ],
            "text/plain": [
              "                               0  MissingVal  NUnique\n",
              "Date                      object           0      287\n",
              "Country                   object           0        3\n",
              "Local                     object           0       12\n",
              "Industry_Sector           object           0        3\n",
              "Accident_Level            object           0        5\n",
              "Potential_Accident_Level  object           0        6\n",
              "Gender                    object           0        2\n",
              "Employee_type             object           0        3\n",
              "Critical_Risk             object           0       33\n",
              "Description               object           0      411"
            ]
          },
          "metadata": {},
          "execution_count": 13
        }
      ]
    },
    {
      "cell_type": "markdown",
      "metadata": {
        "id": "uA2F22mzX8b-"
      },
      "source": [
        "By Checking the missing value, we have 0 missing values in all 10 columns."
      ]
    },
    {
      "cell_type": "markdown",
      "metadata": {
        "id": "9t7VB81xrfT-"
      },
      "source": [
        "### Removing Duplicates:"
      ]
    },
    {
      "cell_type": "code",
      "metadata": {
        "id": "7oCyL5VN4cxb",
        "colab": {
          "base_uri": "https://localhost:8080/"
        },
        "outputId": "87cc6e93-7ced-49f7-e997-5e3d92b0d503"
      },
      "source": [
        "industry_df.duplicated().sum()"
      ],
      "execution_count": null,
      "outputs": [
        {
          "output_type": "execute_result",
          "data": {
            "text/plain": [
              "7"
            ]
          },
          "metadata": {},
          "execution_count": 14
        }
      ]
    },
    {
      "cell_type": "markdown",
      "metadata": {
        "id": "vXhmEKr0rkPW"
      },
      "source": [
        "We have 7 duplicate values, let us check those values and remove it"
      ]
    },
    {
      "cell_type": "code",
      "metadata": {
        "id": "6gWfoqac4cxe",
        "colab": {
          "base_uri": "https://localhost:8080/",
          "height": 671
        },
        "outputId": "17a677e7-24e0-41f6-b938-ee8ddda0377d"
      },
      "source": [
        "duplicates = industry_df.duplicated()\n",
        "industry_df[duplicates]"
      ],
      "execution_count": null,
      "outputs": [
        {
          "output_type": "execute_result",
          "data": {
            "text/html": [
              "<div>\n",
              "<style scoped>\n",
              "    .dataframe tbody tr th:only-of-type {\n",
              "        vertical-align: middle;\n",
              "    }\n",
              "\n",
              "    .dataframe tbody tr th {\n",
              "        vertical-align: top;\n",
              "    }\n",
              "\n",
              "    .dataframe thead th {\n",
              "        text-align: right;\n",
              "    }\n",
              "</style>\n",
              "<table border=\"1\" class=\"dataframe\">\n",
              "  <thead>\n",
              "    <tr style=\"text-align: right;\">\n",
              "      <th></th>\n",
              "      <th>Date</th>\n",
              "      <th>Country</th>\n",
              "      <th>Local</th>\n",
              "      <th>Industry_Sector</th>\n",
              "      <th>Accident_Level</th>\n",
              "      <th>Potential_Accident_Level</th>\n",
              "      <th>Gender</th>\n",
              "      <th>Employee_type</th>\n",
              "      <th>Critical_Risk</th>\n",
              "      <th>Description</th>\n",
              "    </tr>\n",
              "  </thead>\n",
              "  <tbody>\n",
              "    <tr>\n",
              "      <th>89</th>\n",
              "      <td>2016-04-01 00:00:00</td>\n",
              "      <td>Country_01</td>\n",
              "      <td>Local_01</td>\n",
              "      <td>Mining</td>\n",
              "      <td>I</td>\n",
              "      <td>V</td>\n",
              "      <td>Male</td>\n",
              "      <td>Third Party (Remote)</td>\n",
              "      <td>Others</td>\n",
              "      <td>In circumstances that two workers of the Abrat...</td>\n",
              "    </tr>\n",
              "    <tr>\n",
              "      <th>276</th>\n",
              "      <td>2016-12-01 00:00:00</td>\n",
              "      <td>Country_01</td>\n",
              "      <td>Local_03</td>\n",
              "      <td>Mining</td>\n",
              "      <td>I</td>\n",
              "      <td>IV</td>\n",
              "      <td>Male</td>\n",
              "      <td>Employee</td>\n",
              "      <td>Others</td>\n",
              "      <td>During the activity of chuteo of ore in hopper...</td>\n",
              "    </tr>\n",
              "    <tr>\n",
              "      <th>317</th>\n",
              "      <td>2017-01-21 00:00:00</td>\n",
              "      <td>Country_02</td>\n",
              "      <td>Local_02</td>\n",
              "      <td>Mining</td>\n",
              "      <td>I</td>\n",
              "      <td>I</td>\n",
              "      <td>Male</td>\n",
              "      <td>Third Party (Remote)</td>\n",
              "      <td>Others</td>\n",
              "      <td>Employees engaged in the removal of material f...</td>\n",
              "    </tr>\n",
              "    <tr>\n",
              "      <th>359</th>\n",
              "      <td>2017-03-02 00:00:00</td>\n",
              "      <td>Country_03</td>\n",
              "      <td>Local_10</td>\n",
              "      <td>Others</td>\n",
              "      <td>I</td>\n",
              "      <td>I</td>\n",
              "      <td>Male</td>\n",
              "      <td>Third Party</td>\n",
              "      <td>Venomous Animals</td>\n",
              "      <td>On 02/03/17 during the soil sampling in the re...</td>\n",
              "    </tr>\n",
              "    <tr>\n",
              "      <th>360</th>\n",
              "      <td>2017-03-02 00:00:00</td>\n",
              "      <td>Country_03</td>\n",
              "      <td>Local_10</td>\n",
              "      <td>Others</td>\n",
              "      <td>I</td>\n",
              "      <td>I</td>\n",
              "      <td>Male</td>\n",
              "      <td>Third Party</td>\n",
              "      <td>Venomous Animals</td>\n",
              "      <td>On 02/03/17 during the soil sampling in the re...</td>\n",
              "    </tr>\n",
              "    <tr>\n",
              "      <th>369</th>\n",
              "      <td>2017-03-15 00:00:00</td>\n",
              "      <td>Country_03</td>\n",
              "      <td>Local_10</td>\n",
              "      <td>Others</td>\n",
              "      <td>I</td>\n",
              "      <td>I</td>\n",
              "      <td>Male</td>\n",
              "      <td>Third Party</td>\n",
              "      <td>Venomous Animals</td>\n",
              "      <td>Team of the VMS Project performed soil collect...</td>\n",
              "    </tr>\n",
              "    <tr>\n",
              "      <th>411</th>\n",
              "      <td>2017-05-23 00:00:00</td>\n",
              "      <td>Country_01</td>\n",
              "      <td>Local_04</td>\n",
              "      <td>Mining</td>\n",
              "      <td>I</td>\n",
              "      <td>IV</td>\n",
              "      <td>Male</td>\n",
              "      <td>Third Party</td>\n",
              "      <td>Projection of fragments</td>\n",
              "      <td>In moments when the 02 collaborators carried o...</td>\n",
              "    </tr>\n",
              "  </tbody>\n",
              "</table>\n",
              "</div>"
            ],
            "text/plain": [
              "                    Date  ...                                        Description\n",
              "89   2016-04-01 00:00:00  ...  In circumstances that two workers of the Abrat...\n",
              "276  2016-12-01 00:00:00  ...  During the activity of chuteo of ore in hopper...\n",
              "317  2017-01-21 00:00:00  ...  Employees engaged in the removal of material f...\n",
              "359  2017-03-02 00:00:00  ...  On 02/03/17 during the soil sampling in the re...\n",
              "360  2017-03-02 00:00:00  ...  On 02/03/17 during the soil sampling in the re...\n",
              "369  2017-03-15 00:00:00  ...  Team of the VMS Project performed soil collect...\n",
              "411  2017-05-23 00:00:00  ...  In moments when the 02 collaborators carried o...\n",
              "\n",
              "[7 rows x 10 columns]"
            ]
          },
          "metadata": {},
          "execution_count": 15
        }
      ]
    },
    {
      "cell_type": "code",
      "metadata": {
        "id": "XJE2TLUW4cxe",
        "colab": {
          "base_uri": "https://localhost:8080/"
        },
        "outputId": "ad729a5e-334d-4783-e115-c2d6a5bd7784"
      },
      "source": [
        "industry_df.drop_duplicates(inplace=True)\n",
        "industry_df.shape"
      ],
      "execution_count": null,
      "outputs": [
        {
          "output_type": "execute_result",
          "data": {
            "text/plain": [
              "(418, 10)"
            ]
          },
          "metadata": {},
          "execution_count": 16
        }
      ]
    },
    {
      "cell_type": "code",
      "metadata": {
        "colab": {
          "base_uri": "https://localhost:8080/"
        },
        "id": "9DUPeR1qWb5W",
        "outputId": "8e062e8b-331d-47f4-f89c-02ee321f7094"
      },
      "source": [
        "industry_df[\"Description\"].nunique()"
      ],
      "execution_count": null,
      "outputs": [
        {
          "output_type": "execute_result",
          "data": {
            "text/plain": [
              "411"
            ]
          },
          "metadata": {},
          "execution_count": 17
        }
      ]
    },
    {
      "cell_type": "markdown",
      "metadata": {
        "id": "cONoo7irXDEG"
      },
      "source": [
        "One can observe in the above dataframe that there are only 411 unique values in the Description column but we have 418 number of records in total, we can assume that there are still 7 number of duplicate values on description column. We will check for those duplicates on column level and drop if required for further analysis."
      ]
    },
    {
      "cell_type": "code",
      "metadata": {
        "colab": {
          "base_uri": "https://localhost:8080/",
          "height": 1000
        },
        "id": "dhLYZBxMWYXm",
        "outputId": "ffbff032-bace-4837-f41a-0b5f9f9dac8b"
      },
      "source": [
        "print('There are still {} duplicates in the dataset as below'.format(industry_df.duplicated(subset=['Description'],keep=False).sum()))\n",
        "industry_df[industry_df.duplicated(subset=['Description'],keep=False)].sort_values(by='Description')\n"
      ],
      "execution_count": null,
      "outputs": [
        {
          "output_type": "stream",
          "name": "stdout",
          "text": [
            "There are still 14 duplicates in the dataset as below\n"
          ]
        },
        {
          "output_type": "execute_result",
          "data": {
            "text/html": [
              "<div>\n",
              "<style scoped>\n",
              "    .dataframe tbody tr th:only-of-type {\n",
              "        vertical-align: middle;\n",
              "    }\n",
              "\n",
              "    .dataframe tbody tr th {\n",
              "        vertical-align: top;\n",
              "    }\n",
              "\n",
              "    .dataframe thead th {\n",
              "        text-align: right;\n",
              "    }\n",
              "</style>\n",
              "<table border=\"1\" class=\"dataframe\">\n",
              "  <thead>\n",
              "    <tr style=\"text-align: right;\">\n",
              "      <th></th>\n",
              "      <th>Date</th>\n",
              "      <th>Country</th>\n",
              "      <th>Local</th>\n",
              "      <th>Industry_Sector</th>\n",
              "      <th>Accident_Level</th>\n",
              "      <th>Potential_Accident_Level</th>\n",
              "      <th>Gender</th>\n",
              "      <th>Employee_type</th>\n",
              "      <th>Critical_Risk</th>\n",
              "      <th>Description</th>\n",
              "    </tr>\n",
              "  </thead>\n",
              "  <tbody>\n",
              "    <tr>\n",
              "      <th>180</th>\n",
              "      <td>2016-07-07 00:00:00</td>\n",
              "      <td>Country_01</td>\n",
              "      <td>Local_03</td>\n",
              "      <td>Mining</td>\n",
              "      <td>IV</td>\n",
              "      <td>V</td>\n",
              "      <td>Male</td>\n",
              "      <td>Third Party</td>\n",
              "      <td>Others</td>\n",
              "      <td>At moments when the MAPERU truck of plate F1T ...</td>\n",
              "    </tr>\n",
              "    <tr>\n",
              "      <th>181</th>\n",
              "      <td>2016-07-07 00:00:00</td>\n",
              "      <td>Country_01</td>\n",
              "      <td>Local_03</td>\n",
              "      <td>Mining</td>\n",
              "      <td>I</td>\n",
              "      <td>IV</td>\n",
              "      <td>Male</td>\n",
              "      <td>Third Party</td>\n",
              "      <td>Others</td>\n",
              "      <td>At moments when the MAPERU truck of plate F1T ...</td>\n",
              "    </tr>\n",
              "    <tr>\n",
              "      <th>275</th>\n",
              "      <td>2016-12-01 00:00:00</td>\n",
              "      <td>Country_01</td>\n",
              "      <td>Local_03</td>\n",
              "      <td>Mining</td>\n",
              "      <td>I</td>\n",
              "      <td>IV</td>\n",
              "      <td>Male</td>\n",
              "      <td>Employee</td>\n",
              "      <td>Others</td>\n",
              "      <td>During the activity of chuteo of ore in hopper...</td>\n",
              "    </tr>\n",
              "    <tr>\n",
              "      <th>277</th>\n",
              "      <td>2016-12-01 00:00:00</td>\n",
              "      <td>Country_01</td>\n",
              "      <td>Local_03</td>\n",
              "      <td>Mining</td>\n",
              "      <td>I</td>\n",
              "      <td>IV</td>\n",
              "      <td>Male</td>\n",
              "      <td>Third Party</td>\n",
              "      <td>Others</td>\n",
              "      <td>During the activity of chuteo of ore in hopper...</td>\n",
              "    </tr>\n",
              "    <tr>\n",
              "      <th>426</th>\n",
              "      <td>2017-06-20 00:00:00</td>\n",
              "      <td>Country_01</td>\n",
              "      <td>Local_01</td>\n",
              "      <td>Mining</td>\n",
              "      <td>I</td>\n",
              "      <td>IV</td>\n",
              "      <td>Male</td>\n",
              "      <td>Employee</td>\n",
              "      <td>Others</td>\n",
              "      <td>In circumstance, the AHK-903 license plate (Em...</td>\n",
              "    </tr>\n",
              "    <tr>\n",
              "      <th>427</th>\n",
              "      <td>2017-06-20 00:00:00</td>\n",
              "      <td>Country_01</td>\n",
              "      <td>Local_01</td>\n",
              "      <td>Mining</td>\n",
              "      <td>I</td>\n",
              "      <td>IV</td>\n",
              "      <td>Male</td>\n",
              "      <td>Third Party</td>\n",
              "      <td>Others</td>\n",
              "      <td>In circumstance, the AHK-903 license plate (Em...</td>\n",
              "    </tr>\n",
              "    <tr>\n",
              "      <th>142</th>\n",
              "      <td>2016-05-26 00:00:00</td>\n",
              "      <td>Country_03</td>\n",
              "      <td>Local_10</td>\n",
              "      <td>Others</td>\n",
              "      <td>I</td>\n",
              "      <td>I</td>\n",
              "      <td>Male</td>\n",
              "      <td>Third Party</td>\n",
              "      <td>Bees</td>\n",
              "      <td>In the geological reconnaissance activity, in ...</td>\n",
              "    </tr>\n",
              "    <tr>\n",
              "      <th>143</th>\n",
              "      <td>2016-05-26 00:00:00</td>\n",
              "      <td>Country_03</td>\n",
              "      <td>Local_10</td>\n",
              "      <td>Others</td>\n",
              "      <td>I</td>\n",
              "      <td>I</td>\n",
              "      <td>Male</td>\n",
              "      <td>Employee</td>\n",
              "      <td>Others</td>\n",
              "      <td>In the geological reconnaissance activity, in ...</td>\n",
              "    </tr>\n",
              "    <tr>\n",
              "      <th>155</th>\n",
              "      <td>2016-06-08 00:00:00</td>\n",
              "      <td>Country_03</td>\n",
              "      <td>Local_10</td>\n",
              "      <td>Others</td>\n",
              "      <td>I</td>\n",
              "      <td>I</td>\n",
              "      <td>Male</td>\n",
              "      <td>Third Party</td>\n",
              "      <td>Bees</td>\n",
              "      <td>Project of Vazante that carried out sediment c...</td>\n",
              "    </tr>\n",
              "    <tr>\n",
              "      <th>156</th>\n",
              "      <td>2016-06-08 00:00:00</td>\n",
              "      <td>Country_03</td>\n",
              "      <td>Local_10</td>\n",
              "      <td>Others</td>\n",
              "      <td>I</td>\n",
              "      <td>I</td>\n",
              "      <td>Male</td>\n",
              "      <td>Third Party</td>\n",
              "      <td>Others</td>\n",
              "      <td>Project of Vazante that carried out sediment c...</td>\n",
              "    </tr>\n",
              "    <tr>\n",
              "      <th>401</th>\n",
              "      <td>2017-05-06 00:00:00</td>\n",
              "      <td>Country_02</td>\n",
              "      <td>Local_07</td>\n",
              "      <td>Mining</td>\n",
              "      <td>IV</td>\n",
              "      <td>V</td>\n",
              "      <td>Male</td>\n",
              "      <td>Employee</td>\n",
              "      <td>Projection</td>\n",
              "      <td>The employees Márcio and Sérgio performed the ...</td>\n",
              "    </tr>\n",
              "    <tr>\n",
              "      <th>402</th>\n",
              "      <td>2017-05-06 00:00:00</td>\n",
              "      <td>Country_02</td>\n",
              "      <td>Local_07</td>\n",
              "      <td>Mining</td>\n",
              "      <td>II</td>\n",
              "      <td>V</td>\n",
              "      <td>Male</td>\n",
              "      <td>Employee</td>\n",
              "      <td>Projection</td>\n",
              "      <td>The employees Márcio and Sérgio performed the ...</td>\n",
              "    </tr>\n",
              "    <tr>\n",
              "      <th>37</th>\n",
              "      <td>2016-02-24 00:00:00</td>\n",
              "      <td>Country_02</td>\n",
              "      <td>Local_07</td>\n",
              "      <td>Mining</td>\n",
              "      <td>I</td>\n",
              "      <td>V</td>\n",
              "      <td>Male</td>\n",
              "      <td>Employee</td>\n",
              "      <td>Others</td>\n",
              "      <td>When starting the activity of removing a coil ...</td>\n",
              "    </tr>\n",
              "    <tr>\n",
              "      <th>38</th>\n",
              "      <td>2016-02-24 00:00:00</td>\n",
              "      <td>Country_02</td>\n",
              "      <td>Local_07</td>\n",
              "      <td>Mining</td>\n",
              "      <td>I</td>\n",
              "      <td>V</td>\n",
              "      <td>Female</td>\n",
              "      <td>Third Party</td>\n",
              "      <td>Others</td>\n",
              "      <td>When starting the activity of removing a coil ...</td>\n",
              "    </tr>\n",
              "  </tbody>\n",
              "</table>\n",
              "</div>"
            ],
            "text/plain": [
              "                    Date  ...                                        Description\n",
              "180  2016-07-07 00:00:00  ...  At moments when the MAPERU truck of plate F1T ...\n",
              "181  2016-07-07 00:00:00  ...  At moments when the MAPERU truck of plate F1T ...\n",
              "275  2016-12-01 00:00:00  ...  During the activity of chuteo of ore in hopper...\n",
              "277  2016-12-01 00:00:00  ...  During the activity of chuteo of ore in hopper...\n",
              "426  2017-06-20 00:00:00  ...  In circumstance, the AHK-903 license plate (Em...\n",
              "427  2017-06-20 00:00:00  ...  In circumstance, the AHK-903 license plate (Em...\n",
              "142  2016-05-26 00:00:00  ...  In the geological reconnaissance activity, in ...\n",
              "143  2016-05-26 00:00:00  ...  In the geological reconnaissance activity, in ...\n",
              "155  2016-06-08 00:00:00  ...  Project of Vazante that carried out sediment c...\n",
              "156  2016-06-08 00:00:00  ...  Project of Vazante that carried out sediment c...\n",
              "401  2017-05-06 00:00:00  ...  The employees Márcio and Sérgio performed the ...\n",
              "402  2017-05-06 00:00:00  ...  The employees Márcio and Sérgio performed the ...\n",
              "37   2016-02-24 00:00:00  ...  When starting the activity of removing a coil ...\n",
              "38   2016-02-24 00:00:00  ...  When starting the activity of removing a coil ...\n",
              "\n",
              "[14 rows x 10 columns]"
            ]
          },
          "metadata": {},
          "execution_count": 18
        }
      ]
    },
    {
      "cell_type": "markdown",
      "metadata": {
        "id": "SOKZglpHXek4"
      },
      "source": [
        "We can cleary observe that the above dataframe contains 7 duplicates in which only one or two column values are dissimilar among the datapoints where in the Description is matching, which is logically unsound.\n",
        "It can also be noticed that the incidents which are having duplicate values happened on the time stamp(Date Column).\n",
        "Hence we will be dropping these hidden duplicates which doesn't seem right logically."
      ]
    },
    {
      "cell_type": "code",
      "metadata": {
        "colab": {
          "base_uri": "https://localhost:8080/"
        },
        "id": "rHJHBZIRXg7f",
        "outputId": "ac4b32e4-71b9-4273-8681-94949f20583d"
      },
      "source": [
        "# Dropping the duplicates we detected above.\n",
        "industry_df.drop_duplicates(subset=['Description'], keep='first', inplace=True)\n",
        "print('After removing duplicates the shape of the dataset is:', industry_df.shape)"
      ],
      "execution_count": null,
      "outputs": [
        {
          "output_type": "stream",
          "name": "stdout",
          "text": [
            "After removing duplicates the shape of the dataset is: (411, 10)\n"
          ]
        }
      ]
    },
    {
      "cell_type": "markdown",
      "metadata": {
        "id": "BfQTdUM2YcQ-"
      },
      "source": [
        "### Checking Outliers:"
      ]
    },
    {
      "cell_type": "code",
      "metadata": {
        "id": "GR0nfCRk4cxa",
        "colab": {
          "base_uri": "https://localhost:8080/"
        },
        "outputId": "ca59a594-442b-41f3-ad34-57e95f607e3c"
      },
      "source": [
        "for x in industry_df.columns:\n",
        "    if x != 'Description' and x != 'Date':\n",
        "        print('--'*30); print(f'Unique values of \"{x}\" column'); print('--'*30)\n",
        "        print(industry_df[x].unique())\n",
        "        print(\"\\n\")"
      ],
      "execution_count": null,
      "outputs": [
        {
          "output_type": "stream",
          "name": "stdout",
          "text": [
            "------------------------------------------------------------\n",
            "Unique values of \"Country\" column\n",
            "------------------------------------------------------------\n",
            "['Country_01' 'Country_02' 'Country_03']\n",
            "\n",
            "\n",
            "------------------------------------------------------------\n",
            "Unique values of \"Local\" column\n",
            "------------------------------------------------------------\n",
            "['Local_01' 'Local_02' 'Local_03' 'Local_04' 'Local_05' 'Local_06'\n",
            " 'Local_07' 'Local_08' 'Local_10' 'Local_09' 'Local_11' 'Local_12']\n",
            "\n",
            "\n",
            "------------------------------------------------------------\n",
            "Unique values of \"Industry_Sector\" column\n",
            "------------------------------------------------------------\n",
            "['Mining' 'Metals' 'Others']\n",
            "\n",
            "\n",
            "------------------------------------------------------------\n",
            "Unique values of \"Accident_Level\" column\n",
            "------------------------------------------------------------\n",
            "['I' 'IV' 'III' 'II' 'V']\n",
            "\n",
            "\n",
            "------------------------------------------------------------\n",
            "Unique values of \"Potential_Accident_Level\" column\n",
            "------------------------------------------------------------\n",
            "['IV' 'III' 'I' 'II' 'V' 'VI']\n",
            "\n",
            "\n",
            "------------------------------------------------------------\n",
            "Unique values of \"Gender\" column\n",
            "------------------------------------------------------------\n",
            "['Male' 'Female']\n",
            "\n",
            "\n",
            "------------------------------------------------------------\n",
            "Unique values of \"Employee_type\" column\n",
            "------------------------------------------------------------\n",
            "['Third Party' 'Employee' 'Third Party (Remote)']\n",
            "\n",
            "\n",
            "------------------------------------------------------------\n",
            "Unique values of \"Critical_Risk\" column\n",
            "------------------------------------------------------------\n",
            "['Pressed' 'Pressurized Systems' 'Manual Tools' 'Others'\n",
            " 'Fall prevention (same level)' 'Chemical substances' 'Liquid Metal'\n",
            " 'Electrical installation' 'Confined space'\n",
            " 'Pressurized Systems / Chemical Substances'\n",
            " 'Blocking and isolation of energies' 'Suspended Loads' 'Poll' 'Cut'\n",
            " 'Fall' 'Bees' 'Fall prevention' '\\nNot applicable' 'Traffic' 'Projection'\n",
            " 'Venomous Animals' 'Plates' 'Projection/Burning' 'remains of choco'\n",
            " 'Vehicles and Mobile Equipment' 'Projection/Choco' 'Machine Protection'\n",
            " 'Power lock' 'Burn' 'Projection/Manual Tools'\n",
            " 'Individual protection equipment' 'Electrical Shock'\n",
            " 'Projection of fragments']\n",
            "\n",
            "\n"
          ]
        }
      ]
    },
    {
      "cell_type": "markdown",
      "metadata": {
        "id": "q3yfRl6GYpc6"
      },
      "source": [
        "By checking all the unique values of all columns in the dataset, we can say there is no Outlier in this column. \n",
        "\n",
        "We have only 3 countries, 12 Locals, 3 Industry sectors, 5 accident levels, 6 potential accident levels, 3 Employee types and 33 Critical Risks including Not applicable."
      ]
    },
    {
      "cell_type": "markdown",
      "metadata": {
        "id": "C6W_zgO1YHiN"
      },
      "source": [
        "Five type of accident levels (1 to 5) are present.\n",
        "Six type of Potential Accident Levels (1 to 6) and we see that there is only one value registered under 'Accident level 6'"
      ]
    },
    {
      "cell_type": "code",
      "metadata": {
        "id": "Q6L-4dl1YJS0"
      },
      "source": [
        "industry_df['Potential_Accident_Level'] = industry_df['Potential_Accident_Level'].replace('VI', 'V')"
      ],
      "execution_count": null,
      "outputs": []
    },
    {
      "cell_type": "code",
      "metadata": {
        "id": "tAzAkUc9WNZ2"
      },
      "source": [
        "industry_df = industry_df.reset_index(drop=True)"
      ],
      "execution_count": null,
      "outputs": []
    },
    {
      "cell_type": "markdown",
      "metadata": {
        "id": "aT7yuNBjrsyG"
      },
      "source": [
        "Removed all Duplicate values"
      ]
    },
    {
      "cell_type": "code",
      "metadata": {
        "id": "TDMjbSyZ4cxf",
        "colab": {
          "base_uri": "https://localhost:8080/",
          "height": 247
        },
        "outputId": "5d7c69bc-361d-47ef-fa5f-6d7bcddf3fbb"
      },
      "source": [
        "industry_df.describe()"
      ],
      "execution_count": null,
      "outputs": [
        {
          "output_type": "execute_result",
          "data": {
            "text/html": [
              "<div>\n",
              "<style scoped>\n",
              "    .dataframe tbody tr th:only-of-type {\n",
              "        vertical-align: middle;\n",
              "    }\n",
              "\n",
              "    .dataframe tbody tr th {\n",
              "        vertical-align: top;\n",
              "    }\n",
              "\n",
              "    .dataframe thead th {\n",
              "        text-align: right;\n",
              "    }\n",
              "</style>\n",
              "<table border=\"1\" class=\"dataframe\">\n",
              "  <thead>\n",
              "    <tr style=\"text-align: right;\">\n",
              "      <th></th>\n",
              "      <th>Date</th>\n",
              "      <th>Country</th>\n",
              "      <th>Local</th>\n",
              "      <th>Industry_Sector</th>\n",
              "      <th>Accident_Level</th>\n",
              "      <th>Potential_Accident_Level</th>\n",
              "      <th>Gender</th>\n",
              "      <th>Employee_type</th>\n",
              "      <th>Critical_Risk</th>\n",
              "      <th>Description</th>\n",
              "    </tr>\n",
              "  </thead>\n",
              "  <tbody>\n",
              "    <tr>\n",
              "      <th>count</th>\n",
              "      <td>411</td>\n",
              "      <td>411</td>\n",
              "      <td>411</td>\n",
              "      <td>411</td>\n",
              "      <td>411</td>\n",
              "      <td>411</td>\n",
              "      <td>411</td>\n",
              "      <td>411</td>\n",
              "      <td>411</td>\n",
              "      <td>411</td>\n",
              "    </tr>\n",
              "    <tr>\n",
              "      <th>unique</th>\n",
              "      <td>287</td>\n",
              "      <td>3</td>\n",
              "      <td>12</td>\n",
              "      <td>3</td>\n",
              "      <td>5</td>\n",
              "      <td>5</td>\n",
              "      <td>2</td>\n",
              "      <td>3</td>\n",
              "      <td>33</td>\n",
              "      <td>411</td>\n",
              "    </tr>\n",
              "    <tr>\n",
              "      <th>top</th>\n",
              "      <td>2017-02-08 00:00:00</td>\n",
              "      <td>Country_01</td>\n",
              "      <td>Local_03</td>\n",
              "      <td>Mining</td>\n",
              "      <td>I</td>\n",
              "      <td>IV</td>\n",
              "      <td>Male</td>\n",
              "      <td>Third Party</td>\n",
              "      <td>Others</td>\n",
              "      <td>The operator of the paste filling plant 01 rem...</td>\n",
              "    </tr>\n",
              "    <tr>\n",
              "      <th>freq</th>\n",
              "      <td>6</td>\n",
              "      <td>245</td>\n",
              "      <td>87</td>\n",
              "      <td>232</td>\n",
              "      <td>303</td>\n",
              "      <td>138</td>\n",
              "      <td>390</td>\n",
              "      <td>180</td>\n",
              "      <td>223</td>\n",
              "      <td>1</td>\n",
              "    </tr>\n",
              "  </tbody>\n",
              "</table>\n",
              "</div>"
            ],
            "text/plain": [
              "                       Date  ...                                        Description\n",
              "count                   411  ...                                                411\n",
              "unique                  287  ...                                                411\n",
              "top     2017-02-08 00:00:00  ...  The operator of the paste filling plant 01 rem...\n",
              "freq                      6  ...                                                  1\n",
              "\n",
              "[4 rows x 10 columns]"
            ]
          },
          "metadata": {},
          "execution_count": 23
        }
      ]
    },
    {
      "cell_type": "markdown",
      "metadata": {
        "id": "ez6_1CtpsIeG"
      },
      "source": [
        "We have 411 unique descriptions in the dataset."
      ]
    },
    {
      "cell_type": "code",
      "metadata": {
        "id": "tneODFgN4cxg",
        "colab": {
          "base_uri": "https://localhost:8080/"
        },
        "outputId": "fcb25635-c2d9-47a2-b084-ea01305ec9fd"
      },
      "source": [
        "print(industry_df.Date.min())\n",
        "print(industry_df.Date.max())"
      ],
      "execution_count": null,
      "outputs": [
        {
          "output_type": "stream",
          "name": "stdout",
          "text": [
            "2016-01-01 00:00:00\n",
            "2017-07-09 00:00:00\n"
          ]
        }
      ]
    },
    {
      "cell_type": "markdown",
      "metadata": {
        "id": "37HBEGkcsMcE"
      },
      "source": [
        "The Accidents are captured in the year 2016- January to 2017 July. ~ 19 months of data.\n",
        "\n",
        "Let us split the date value into year, month, day, name of the day and week of the year."
      ]
    },
    {
      "cell_type": "code",
      "metadata": {
        "id": "4HojFqRv4cxg",
        "colab": {
          "base_uri": "https://localhost:8080/",
          "height": 337
        },
        "outputId": "457a7357-b995-47aa-d4c7-7a0acfd2e554"
      },
      "source": [
        "industry_df['Date'] = pd.to_datetime(industry_df['Date'])\n",
        "industry_df['Year'] = industry_df['Date'].apply(lambda x : x.year)\n",
        "industry_df['Month'] = industry_df['Date'].apply(lambda x : x.month)\n",
        "industry_df['Day'] = industry_df['Date'].apply(lambda x : x.day)\n",
        "industry_df['Weekday'] = industry_df['Date'].apply(lambda x : x.day_name())\n",
        "industry_df['WeekofYear'] = industry_df['Date'].apply(lambda x : x.weekofyear)\n",
        "industry_df.head(3)"
      ],
      "execution_count": null,
      "outputs": [
        {
          "output_type": "execute_result",
          "data": {
            "text/html": [
              "<div>\n",
              "<style scoped>\n",
              "    .dataframe tbody tr th:only-of-type {\n",
              "        vertical-align: middle;\n",
              "    }\n",
              "\n",
              "    .dataframe tbody tr th {\n",
              "        vertical-align: top;\n",
              "    }\n",
              "\n",
              "    .dataframe thead th {\n",
              "        text-align: right;\n",
              "    }\n",
              "</style>\n",
              "<table border=\"1\" class=\"dataframe\">\n",
              "  <thead>\n",
              "    <tr style=\"text-align: right;\">\n",
              "      <th></th>\n",
              "      <th>Date</th>\n",
              "      <th>Country</th>\n",
              "      <th>Local</th>\n",
              "      <th>Industry_Sector</th>\n",
              "      <th>Accident_Level</th>\n",
              "      <th>Potential_Accident_Level</th>\n",
              "      <th>Gender</th>\n",
              "      <th>Employee_type</th>\n",
              "      <th>Critical_Risk</th>\n",
              "      <th>Description</th>\n",
              "      <th>Year</th>\n",
              "      <th>Month</th>\n",
              "      <th>Day</th>\n",
              "      <th>Weekday</th>\n",
              "      <th>WeekofYear</th>\n",
              "    </tr>\n",
              "  </thead>\n",
              "  <tbody>\n",
              "    <tr>\n",
              "      <th>0</th>\n",
              "      <td>2016-01-01</td>\n",
              "      <td>Country_01</td>\n",
              "      <td>Local_01</td>\n",
              "      <td>Mining</td>\n",
              "      <td>I</td>\n",
              "      <td>IV</td>\n",
              "      <td>Male</td>\n",
              "      <td>Third Party</td>\n",
              "      <td>Pressed</td>\n",
              "      <td>While removing the drill rod of the Jumbo 08 f...</td>\n",
              "      <td>2016</td>\n",
              "      <td>1</td>\n",
              "      <td>1</td>\n",
              "      <td>Friday</td>\n",
              "      <td>53</td>\n",
              "    </tr>\n",
              "    <tr>\n",
              "      <th>1</th>\n",
              "      <td>2016-01-02</td>\n",
              "      <td>Country_02</td>\n",
              "      <td>Local_02</td>\n",
              "      <td>Mining</td>\n",
              "      <td>I</td>\n",
              "      <td>IV</td>\n",
              "      <td>Male</td>\n",
              "      <td>Employee</td>\n",
              "      <td>Pressurized Systems</td>\n",
              "      <td>During the activation of a sodium sulphide pum...</td>\n",
              "      <td>2016</td>\n",
              "      <td>1</td>\n",
              "      <td>2</td>\n",
              "      <td>Saturday</td>\n",
              "      <td>53</td>\n",
              "    </tr>\n",
              "    <tr>\n",
              "      <th>2</th>\n",
              "      <td>2016-01-06</td>\n",
              "      <td>Country_01</td>\n",
              "      <td>Local_03</td>\n",
              "      <td>Mining</td>\n",
              "      <td>I</td>\n",
              "      <td>III</td>\n",
              "      <td>Male</td>\n",
              "      <td>Third Party (Remote)</td>\n",
              "      <td>Manual Tools</td>\n",
              "      <td>In the sub-station MILPO located at level +170...</td>\n",
              "      <td>2016</td>\n",
              "      <td>1</td>\n",
              "      <td>6</td>\n",
              "      <td>Wednesday</td>\n",
              "      <td>1</td>\n",
              "    </tr>\n",
              "  </tbody>\n",
              "</table>\n",
              "</div>"
            ],
            "text/plain": [
              "        Date     Country     Local  ... Day    Weekday WeekofYear\n",
              "0 2016-01-01  Country_01  Local_01  ...   1     Friday         53\n",
              "1 2016-01-02  Country_02  Local_02  ...   2   Saturday         53\n",
              "2 2016-01-06  Country_01  Local_03  ...   6  Wednesday          1\n",
              "\n",
              "[3 rows x 15 columns]"
            ]
          },
          "metadata": {},
          "execution_count": 25
        }
      ]
    },
    {
      "cell_type": "markdown",
      "metadata": {
        "id": "GAJL1QJ_srbh"
      },
      "source": [
        "Accordin to this discussion, countries where the dataset was collected is anonymized but they are all located in South America. So in this analysis, let's assume the dataset was collected in Brazil.\n",
        "It is said in this web page that Brazil has four climatological seasons as below.\n",
        "\n",
        "*   Spring : September to November\n",
        "*   Summer : December to February\n",
        "*   Autumn : March to May\n",
        "*   Winter : June to August\n",
        "\n",
        "We can create seasonal variable based on month variable.\n"
      ]
    },
    {
      "cell_type": "code",
      "metadata": {
        "id": "2_9VLApY4cxg"
      },
      "source": [
        "def month2seasons(x):\n",
        "    if x in [9, 10, 11]:\n",
        "        season = 'Spring'\n",
        "    elif x in [12, 1, 2]:\n",
        "        season = 'Summer'\n",
        "    elif x in [3, 4, 5]:\n",
        "        season = 'Autumn'\n",
        "    elif x in [6, 7, 8]:\n",
        "        season = 'Winter'\n",
        "    return season"
      ],
      "execution_count": null,
      "outputs": []
    },
    {
      "cell_type": "code",
      "metadata": {
        "id": "QSezsoyk4cxh",
        "colab": {
          "base_uri": "https://localhost:8080/",
          "height": 337
        },
        "outputId": "ec5e58eb-d809-4b1e-967c-a2b526d54c14"
      },
      "source": [
        "industry_df['Season'] = industry_df['Month'].apply(month2seasons)\n",
        "industry_df.head(3)"
      ],
      "execution_count": null,
      "outputs": [
        {
          "output_type": "execute_result",
          "data": {
            "text/html": [
              "<div>\n",
              "<style scoped>\n",
              "    .dataframe tbody tr th:only-of-type {\n",
              "        vertical-align: middle;\n",
              "    }\n",
              "\n",
              "    .dataframe tbody tr th {\n",
              "        vertical-align: top;\n",
              "    }\n",
              "\n",
              "    .dataframe thead th {\n",
              "        text-align: right;\n",
              "    }\n",
              "</style>\n",
              "<table border=\"1\" class=\"dataframe\">\n",
              "  <thead>\n",
              "    <tr style=\"text-align: right;\">\n",
              "      <th></th>\n",
              "      <th>Date</th>\n",
              "      <th>Country</th>\n",
              "      <th>Local</th>\n",
              "      <th>Industry_Sector</th>\n",
              "      <th>Accident_Level</th>\n",
              "      <th>Potential_Accident_Level</th>\n",
              "      <th>Gender</th>\n",
              "      <th>Employee_type</th>\n",
              "      <th>Critical_Risk</th>\n",
              "      <th>Description</th>\n",
              "      <th>Year</th>\n",
              "      <th>Month</th>\n",
              "      <th>Day</th>\n",
              "      <th>Weekday</th>\n",
              "      <th>WeekofYear</th>\n",
              "      <th>Season</th>\n",
              "    </tr>\n",
              "  </thead>\n",
              "  <tbody>\n",
              "    <tr>\n",
              "      <th>0</th>\n",
              "      <td>2016-01-01</td>\n",
              "      <td>Country_01</td>\n",
              "      <td>Local_01</td>\n",
              "      <td>Mining</td>\n",
              "      <td>I</td>\n",
              "      <td>IV</td>\n",
              "      <td>Male</td>\n",
              "      <td>Third Party</td>\n",
              "      <td>Pressed</td>\n",
              "      <td>While removing the drill rod of the Jumbo 08 f...</td>\n",
              "      <td>2016</td>\n",
              "      <td>1</td>\n",
              "      <td>1</td>\n",
              "      <td>Friday</td>\n",
              "      <td>53</td>\n",
              "      <td>Summer</td>\n",
              "    </tr>\n",
              "    <tr>\n",
              "      <th>1</th>\n",
              "      <td>2016-01-02</td>\n",
              "      <td>Country_02</td>\n",
              "      <td>Local_02</td>\n",
              "      <td>Mining</td>\n",
              "      <td>I</td>\n",
              "      <td>IV</td>\n",
              "      <td>Male</td>\n",
              "      <td>Employee</td>\n",
              "      <td>Pressurized Systems</td>\n",
              "      <td>During the activation of a sodium sulphide pum...</td>\n",
              "      <td>2016</td>\n",
              "      <td>1</td>\n",
              "      <td>2</td>\n",
              "      <td>Saturday</td>\n",
              "      <td>53</td>\n",
              "      <td>Summer</td>\n",
              "    </tr>\n",
              "    <tr>\n",
              "      <th>2</th>\n",
              "      <td>2016-01-06</td>\n",
              "      <td>Country_01</td>\n",
              "      <td>Local_03</td>\n",
              "      <td>Mining</td>\n",
              "      <td>I</td>\n",
              "      <td>III</td>\n",
              "      <td>Male</td>\n",
              "      <td>Third Party (Remote)</td>\n",
              "      <td>Manual Tools</td>\n",
              "      <td>In the sub-station MILPO located at level +170...</td>\n",
              "      <td>2016</td>\n",
              "      <td>1</td>\n",
              "      <td>6</td>\n",
              "      <td>Wednesday</td>\n",
              "      <td>1</td>\n",
              "      <td>Summer</td>\n",
              "    </tr>\n",
              "  </tbody>\n",
              "</table>\n",
              "</div>"
            ],
            "text/plain": [
              "        Date     Country     Local  ...    Weekday WeekofYear  Season\n",
              "0 2016-01-01  Country_01  Local_01  ...     Friday         53  Summer\n",
              "1 2016-01-02  Country_02  Local_02  ...   Saturday         53  Summer\n",
              "2 2016-01-06  Country_01  Local_03  ...  Wednesday          1  Summer\n",
              "\n",
              "[3 rows x 16 columns]"
            ]
          },
          "metadata": {},
          "execution_count": 27
        }
      ]
    },
    {
      "cell_type": "markdown",
      "metadata": {
        "id": "SkimxZVFtkQu"
      },
      "source": [
        "Let us check the time date and the spread of data across time."
      ]
    },
    {
      "cell_type": "code",
      "metadata": {
        "id": "SsZyEH6Q4cxh",
        "colab": {
          "base_uri": "https://localhost:8080/",
          "height": 238
        },
        "outputId": "9b54c61c-97fe-4230-af3f-c955b6aa0e05"
      },
      "source": [
        "year_data = pd.DataFrame(industry_df.dtypes)\n",
        "year_data['NUnique']=industry_df.nunique()\n",
        "year_data.iloc[10:16]"
      ],
      "execution_count": null,
      "outputs": [
        {
          "output_type": "execute_result",
          "data": {
            "text/html": [
              "<div>\n",
              "<style scoped>\n",
              "    .dataframe tbody tr th:only-of-type {\n",
              "        vertical-align: middle;\n",
              "    }\n",
              "\n",
              "    .dataframe tbody tr th {\n",
              "        vertical-align: top;\n",
              "    }\n",
              "\n",
              "    .dataframe thead th {\n",
              "        text-align: right;\n",
              "    }\n",
              "</style>\n",
              "<table border=\"1\" class=\"dataframe\">\n",
              "  <thead>\n",
              "    <tr style=\"text-align: right;\">\n",
              "      <th></th>\n",
              "      <th>0</th>\n",
              "      <th>NUnique</th>\n",
              "    </tr>\n",
              "  </thead>\n",
              "  <tbody>\n",
              "    <tr>\n",
              "      <th>Year</th>\n",
              "      <td>int64</td>\n",
              "      <td>2</td>\n",
              "    </tr>\n",
              "    <tr>\n",
              "      <th>Month</th>\n",
              "      <td>int64</td>\n",
              "      <td>12</td>\n",
              "    </tr>\n",
              "    <tr>\n",
              "      <th>Day</th>\n",
              "      <td>int64</td>\n",
              "      <td>31</td>\n",
              "    </tr>\n",
              "    <tr>\n",
              "      <th>Weekday</th>\n",
              "      <td>object</td>\n",
              "      <td>7</td>\n",
              "    </tr>\n",
              "    <tr>\n",
              "      <th>WeekofYear</th>\n",
              "      <td>int64</td>\n",
              "      <td>53</td>\n",
              "    </tr>\n",
              "    <tr>\n",
              "      <th>Season</th>\n",
              "      <td>object</td>\n",
              "      <td>4</td>\n",
              "    </tr>\n",
              "  </tbody>\n",
              "</table>\n",
              "</div>"
            ],
            "text/plain": [
              "                 0  NUnique\n",
              "Year         int64        2\n",
              "Month        int64       12\n",
              "Day          int64       31\n",
              "Weekday     object        7\n",
              "WeekofYear   int64       53\n",
              "Season      object        4"
            ]
          },
          "metadata": {},
          "execution_count": 28
        }
      ]
    },
    {
      "cell_type": "code",
      "metadata": {
        "id": "U2S2qqhC4cxi",
        "colab": {
          "base_uri": "https://localhost:8080/"
        },
        "outputId": "f394dd0f-f4f5-440a-f778-10648c2f1412"
      },
      "source": [
        "datelist = ['Year','Month','Day','Weekday','Season']\n",
        "for x in datelist:\n",
        "    print('--'*30); print(f'Unique values of \"{x}\" column'); print('--'*30)\n",
        "    print(industry_df[x].unique())\n",
        "    print(\"\\n\")"
      ],
      "execution_count": null,
      "outputs": [
        {
          "output_type": "stream",
          "name": "stdout",
          "text": [
            "------------------------------------------------------------\n",
            "Unique values of \"Year\" column\n",
            "------------------------------------------------------------\n",
            "[2016 2017]\n",
            "\n",
            "\n",
            "------------------------------------------------------------\n",
            "Unique values of \"Month\" column\n",
            "------------------------------------------------------------\n",
            "[ 1  2  3  4  5  6  7  8  9 10 11 12]\n",
            "\n",
            "\n",
            "------------------------------------------------------------\n",
            "Unique values of \"Day\" column\n",
            "------------------------------------------------------------\n",
            "[ 1  2  6  8 10 12 16 17 19 26 28 30  4  7 21 25  9 15 14 13 20 18 22 24\n",
            " 29 27  3  5 11 31 23]\n",
            "\n",
            "\n",
            "------------------------------------------------------------\n",
            "Unique values of \"Weekday\" column\n",
            "------------------------------------------------------------\n",
            "['Friday' 'Saturday' 'Wednesday' 'Sunday' 'Tuesday' 'Thursday' 'Monday']\n",
            "\n",
            "\n",
            "------------------------------------------------------------\n",
            "Unique values of \"Season\" column\n",
            "------------------------------------------------------------\n",
            "['Summer' 'Autumn' 'Winter' 'Spring']\n",
            "\n",
            "\n"
          ]
        }
      ]
    },
    {
      "cell_type": "markdown",
      "metadata": {
        "id": "-478UaJhtyPi"
      },
      "source": [
        "* We have accidents happened between 2016 to 2017 as per year column.\n",
        "* The accidents is spread across all months, days and weekday."
      ]
    },
    {
      "cell_type": "markdown",
      "metadata": {
        "id": "rtReqZ8_uEaP"
      },
      "source": [
        "Install pyspellchecker library for spell check."
      ]
    },
    {
      "cell_type": "code",
      "metadata": {
        "colab": {
          "base_uri": "https://localhost:8080/"
        },
        "id": "soP_mQjZuFF0",
        "outputId": "4b55014d-26ed-4a1b-b988-833131af4e5c"
      },
      "source": [
        "!pip install contractions\n",
        "!pip install pyspellchecker\n",
        "verbose= False"
      ],
      "execution_count": null,
      "outputs": [
        {
          "output_type": "stream",
          "name": "stdout",
          "text": [
            "Collecting contractions\n",
            "  Downloading contractions-0.0.58-py2.py3-none-any.whl (8.0 kB)\n",
            "Collecting textsearch>=0.0.21\n",
            "  Downloading textsearch-0.0.21-py2.py3-none-any.whl (7.5 kB)\n",
            "Collecting anyascii\n",
            "  Downloading anyascii-0.3.0-py3-none-any.whl (284 kB)\n",
            "\u001b[K     |████████████████████████████████| 284 kB 4.9 MB/s \n",
            "\u001b[?25hCollecting pyahocorasick\n",
            "  Downloading pyahocorasick-1.4.2.tar.gz (321 kB)\n",
            "\u001b[K     |████████████████████████████████| 321 kB 48.7 MB/s \n",
            "\u001b[?25hBuilding wheels for collected packages: pyahocorasick\n",
            "  Building wheel for pyahocorasick (setup.py) ... \u001b[?25l\u001b[?25hdone\n",
            "  Created wheel for pyahocorasick: filename=pyahocorasick-1.4.2-cp37-cp37m-linux_x86_64.whl size=85437 sha256=dd435daa2999f40f4e473c3f225a7da37567c4eb61e454bab266ff7bd50c56cf\n",
            "  Stored in directory: /root/.cache/pip/wheels/25/19/a6/8f363d9939162782bb8439d886469756271abc01f76fbd790f\n",
            "Successfully built pyahocorasick\n",
            "Installing collected packages: pyahocorasick, anyascii, textsearch, contractions\n",
            "Successfully installed anyascii-0.3.0 contractions-0.0.58 pyahocorasick-1.4.2 textsearch-0.0.21\n",
            "Collecting pyspellchecker\n",
            "  Downloading pyspellchecker-0.6.2-py3-none-any.whl (2.7 MB)\n",
            "\u001b[K     |████████████████████████████████| 2.7 MB 4.2 MB/s \n",
            "\u001b[?25hInstalling collected packages: pyspellchecker\n",
            "Successfully installed pyspellchecker-0.6.2\n"
          ]
        }
      ]
    },
    {
      "cell_type": "markdown",
      "metadata": {
        "id": "iJ4uEJZavocE"
      },
      "source": [
        "We created a NLP_text_preprocess.py file and added all our preprocess steps there, from the config file we are passing the flags to our class PreProcessing in our python file.\n",
        "\n",
        "We are doing the following steps for our preprocessing.\n",
        "\n",
        "* Convert into Lower case\n",
        "* Removing the URl\n",
        "* Removing the Special characters\n",
        "* Removing Punctuation\n",
        "* Removing Whitespaces\n",
        "* Check the spelling mistakes\n",
        "* Removing the stopwords\n",
        "* Convert the words into lemma form"
      ]
    },
    {
      "cell_type": "code",
      "metadata": {
        "id": "kxYYz8yepOev"
      },
      "source": [
        "from NLP_text_preprocess import PreProcessing"
      ],
      "execution_count": null,
      "outputs": []
    },
    {
      "cell_type": "code",
      "metadata": {
        "colab": {
          "base_uri": "https://localhost:8080/",
          "height": 70
        },
        "id": "dWNmRCKcu6mr",
        "outputId": "f942bc58-e5bc-4fb6-8a08-160db20688fa"
      },
      "source": [
        "pp = PreProcessing(to_lower = config.to_lower,remove_url=config.remove_url,\n",
        "                   remove_time = config.remove_time,expand_contraction =config.expand_contraction,\n",
        "                   remove_special_character=config.remove_special_character,\n",
        "                   remove_punctuation=config.remove_punctuation,\n",
        "                   remove_whitespace=config.remove_whitespace,\n",
        "                   keep_alpha_numeric = False,\n",
        "                   check_spelling=config.check_spelling,\n",
        "                   remove_stopword=False,\n",
        "                   lemmatize_word=config.lemmatize_word)\n",
        "\n",
        "pp.preprocess(industry_df.Description[1])"
      ],
      "execution_count": null,
      "outputs": [
        {
          "output_type": "execute_result",
          "data": {
            "application/vnd.google.colaboratory.intrinsic+json": {
              "type": "string"
            },
            "text/plain": [
              "'during the activation of a sodium sulphide pump the piping wa uncoupled and the sulfide solution wa designed in the area to reach the maid immediately she made use of the emergency shower and wa directed to the ambulatory doctor and later to the hospital note of sulphide solution 48 gram liter'"
            ]
          },
          "metadata": {},
          "execution_count": 32
        }
      ]
    },
    {
      "cell_type": "markdown",
      "metadata": {
        "id": "reLEhzoouhdN"
      },
      "source": [
        "We Preprocess the entire description column and save it in Description_preprocessed."
      ]
    },
    {
      "cell_type": "code",
      "metadata": {
        "id": "fsxA5EwCx_Zm",
        "collapsed": true
      },
      "source": [
        "industry_df['Description_preprocessed'] = industry_df.Description.apply(lambda x: pp.preprocess(x))"
      ],
      "execution_count": null,
      "outputs": []
    },
    {
      "cell_type": "code",
      "metadata": {
        "id": "hXR6daNf--qx",
        "colab": {
          "base_uri": "https://localhost:8080/",
          "height": 539
        },
        "outputId": "a0d3eab8-27b6-4fbe-9170-5a872680bbfb"
      },
      "source": [
        "industry_df.head()"
      ],
      "execution_count": null,
      "outputs": [
        {
          "output_type": "execute_result",
          "data": {
            "text/html": [
              "<div>\n",
              "<style scoped>\n",
              "    .dataframe tbody tr th:only-of-type {\n",
              "        vertical-align: middle;\n",
              "    }\n",
              "\n",
              "    .dataframe tbody tr th {\n",
              "        vertical-align: top;\n",
              "    }\n",
              "\n",
              "    .dataframe thead th {\n",
              "        text-align: right;\n",
              "    }\n",
              "</style>\n",
              "<table border=\"1\" class=\"dataframe\">\n",
              "  <thead>\n",
              "    <tr style=\"text-align: right;\">\n",
              "      <th></th>\n",
              "      <th>Date</th>\n",
              "      <th>Country</th>\n",
              "      <th>Local</th>\n",
              "      <th>Industry_Sector</th>\n",
              "      <th>Accident_Level</th>\n",
              "      <th>Potential_Accident_Level</th>\n",
              "      <th>Gender</th>\n",
              "      <th>Employee_type</th>\n",
              "      <th>Critical_Risk</th>\n",
              "      <th>Description</th>\n",
              "      <th>Year</th>\n",
              "      <th>Month</th>\n",
              "      <th>Day</th>\n",
              "      <th>Weekday</th>\n",
              "      <th>WeekofYear</th>\n",
              "      <th>Season</th>\n",
              "      <th>Description_preprocessed</th>\n",
              "    </tr>\n",
              "  </thead>\n",
              "  <tbody>\n",
              "    <tr>\n",
              "      <th>0</th>\n",
              "      <td>2016-01-01</td>\n",
              "      <td>Country_01</td>\n",
              "      <td>Local_01</td>\n",
              "      <td>Mining</td>\n",
              "      <td>I</td>\n",
              "      <td>IV</td>\n",
              "      <td>Male</td>\n",
              "      <td>Third Party</td>\n",
              "      <td>Pressed</td>\n",
              "      <td>While removing the drill rod of the Jumbo 08 f...</td>\n",
              "      <td>2016</td>\n",
              "      <td>1</td>\n",
              "      <td>1</td>\n",
              "      <td>Friday</td>\n",
              "      <td>53</td>\n",
              "      <td>Summer</td>\n",
              "      <td>while removing the drill rod of the jumbo 08 f...</td>\n",
              "    </tr>\n",
              "    <tr>\n",
              "      <th>1</th>\n",
              "      <td>2016-01-02</td>\n",
              "      <td>Country_02</td>\n",
              "      <td>Local_02</td>\n",
              "      <td>Mining</td>\n",
              "      <td>I</td>\n",
              "      <td>IV</td>\n",
              "      <td>Male</td>\n",
              "      <td>Employee</td>\n",
              "      <td>Pressurized Systems</td>\n",
              "      <td>During the activation of a sodium sulphide pum...</td>\n",
              "      <td>2016</td>\n",
              "      <td>1</td>\n",
              "      <td>2</td>\n",
              "      <td>Saturday</td>\n",
              "      <td>53</td>\n",
              "      <td>Summer</td>\n",
              "      <td>during the activation of a sodium sulphide pum...</td>\n",
              "    </tr>\n",
              "    <tr>\n",
              "      <th>2</th>\n",
              "      <td>2016-01-06</td>\n",
              "      <td>Country_01</td>\n",
              "      <td>Local_03</td>\n",
              "      <td>Mining</td>\n",
              "      <td>I</td>\n",
              "      <td>III</td>\n",
              "      <td>Male</td>\n",
              "      <td>Third Party (Remote)</td>\n",
              "      <td>Manual Tools</td>\n",
              "      <td>In the sub-station MILPO located at level +170...</td>\n",
              "      <td>2016</td>\n",
              "      <td>1</td>\n",
              "      <td>6</td>\n",
              "      <td>Wednesday</td>\n",
              "      <td>1</td>\n",
              "      <td>Summer</td>\n",
              "      <td>in the substation milo located at level 170 wh...</td>\n",
              "    </tr>\n",
              "    <tr>\n",
              "      <th>3</th>\n",
              "      <td>2016-01-08</td>\n",
              "      <td>Country_01</td>\n",
              "      <td>Local_04</td>\n",
              "      <td>Mining</td>\n",
              "      <td>I</td>\n",
              "      <td>I</td>\n",
              "      <td>Male</td>\n",
              "      <td>Third Party</td>\n",
              "      <td>Others</td>\n",
              "      <td>Being 9:45 am. approximately in the Nv. 1880 C...</td>\n",
              "      <td>2016</td>\n",
              "      <td>1</td>\n",
              "      <td>8</td>\n",
              "      <td>Friday</td>\n",
              "      <td>1</td>\n",
              "      <td>Summer</td>\n",
              "      <td>being approximately in the no 1880 cx695 ob th...</td>\n",
              "    </tr>\n",
              "    <tr>\n",
              "      <th>4</th>\n",
              "      <td>2016-01-10</td>\n",
              "      <td>Country_01</td>\n",
              "      <td>Local_04</td>\n",
              "      <td>Mining</td>\n",
              "      <td>IV</td>\n",
              "      <td>IV</td>\n",
              "      <td>Male</td>\n",
              "      <td>Third Party</td>\n",
              "      <td>Others</td>\n",
              "      <td>Approximately at 11:45 a.m. in circumstances t...</td>\n",
              "      <td>2016</td>\n",
              "      <td>1</td>\n",
              "      <td>10</td>\n",
              "      <td>Sunday</td>\n",
              "      <td>1</td>\n",
              "      <td>Summer</td>\n",
              "      <td>approximately at in circumstance that the mech...</td>\n",
              "    </tr>\n",
              "  </tbody>\n",
              "</table>\n",
              "</div>"
            ],
            "text/plain": [
              "        Date  ...                           Description_preprocessed\n",
              "0 2016-01-01  ...  while removing the drill rod of the jumbo 08 f...\n",
              "1 2016-01-02  ...  during the activation of a sodium sulphide pum...\n",
              "2 2016-01-06  ...  in the substation milo located at level 170 wh...\n",
              "3 2016-01-08  ...  being approximately in the no 1880 cx695 ob th...\n",
              "4 2016-01-10  ...  approximately at in circumstance that the mech...\n",
              "\n",
              "[5 rows x 17 columns]"
            ]
          },
          "metadata": {},
          "execution_count": 34
        }
      ]
    },
    {
      "cell_type": "code",
      "metadata": {
        "id": "XblrayvwKhXK"
      },
      "source": [
        "industry_df.to_csv('industry_df_with_stopwords.csv', index=False)"
      ],
      "execution_count": null,
      "outputs": []
    },
    {
      "cell_type": "code",
      "metadata": {
        "id": "h5sQ-rKcCO5i"
      },
      "source": [
        "industry_df = pd.read_csv(\"industry_df_with_stopwords.csv\")"
      ],
      "execution_count": null,
      "outputs": []
    },
    {
      "cell_type": "code",
      "metadata": {
        "id": "D8wsZWvISbRs",
        "colab": {
          "base_uri": "https://localhost:8080/",
          "height": 237
        },
        "outputId": "347f36ad-9998-4ae9-fc09-5c989e5ea3eb"
      },
      "source": [
        "pd.crosstab(industry_df['Accident_Level'],industry_df['Potential_Accident_Level'])"
      ],
      "execution_count": null,
      "outputs": [
        {
          "output_type": "execute_result",
          "data": {
            "text/html": [
              "<div>\n",
              "<style scoped>\n",
              "    .dataframe tbody tr th:only-of-type {\n",
              "        vertical-align: middle;\n",
              "    }\n",
              "\n",
              "    .dataframe tbody tr th {\n",
              "        vertical-align: top;\n",
              "    }\n",
              "\n",
              "    .dataframe thead th {\n",
              "        text-align: right;\n",
              "    }\n",
              "</style>\n",
              "<table border=\"1\" class=\"dataframe\">\n",
              "  <thead>\n",
              "    <tr style=\"text-align: right;\">\n",
              "      <th>Potential_Accident_Level</th>\n",
              "      <th>I</th>\n",
              "      <th>II</th>\n",
              "      <th>III</th>\n",
              "      <th>IV</th>\n",
              "      <th>V</th>\n",
              "    </tr>\n",
              "    <tr>\n",
              "      <th>Accident_Level</th>\n",
              "      <th></th>\n",
              "      <th></th>\n",
              "      <th></th>\n",
              "      <th></th>\n",
              "      <th></th>\n",
              "    </tr>\n",
              "  </thead>\n",
              "  <tbody>\n",
              "    <tr>\n",
              "      <th>I</th>\n",
              "      <td>43</td>\n",
              "      <td>88</td>\n",
              "      <td>89</td>\n",
              "      <td>75</td>\n",
              "      <td>8</td>\n",
              "    </tr>\n",
              "    <tr>\n",
              "      <th>II</th>\n",
              "      <td>0</td>\n",
              "      <td>7</td>\n",
              "      <td>14</td>\n",
              "      <td>16</td>\n",
              "      <td>2</td>\n",
              "    </tr>\n",
              "    <tr>\n",
              "      <th>III</th>\n",
              "      <td>0</td>\n",
              "      <td>0</td>\n",
              "      <td>3</td>\n",
              "      <td>26</td>\n",
              "      <td>2</td>\n",
              "    </tr>\n",
              "    <tr>\n",
              "      <th>IV</th>\n",
              "      <td>0</td>\n",
              "      <td>0</td>\n",
              "      <td>0</td>\n",
              "      <td>21</td>\n",
              "      <td>9</td>\n",
              "    </tr>\n",
              "    <tr>\n",
              "      <th>V</th>\n",
              "      <td>0</td>\n",
              "      <td>0</td>\n",
              "      <td>0</td>\n",
              "      <td>0</td>\n",
              "      <td>8</td>\n",
              "    </tr>\n",
              "  </tbody>\n",
              "</table>\n",
              "</div>"
            ],
            "text/plain": [
              "Potential_Accident_Level   I  II  III  IV  V\n",
              "Accident_Level                              \n",
              "I                         43  88   89  75  8\n",
              "II                         0   7   14  16  2\n",
              "III                        0   0    3  26  2\n",
              "IV                         0   0    0  21  9\n",
              "V                          0   0    0   0  8"
            ]
          },
          "metadata": {},
          "execution_count": 15
        }
      ]
    },
    {
      "cell_type": "code",
      "metadata": {
        "id": "kEI76-c5TMN1",
        "colab": {
          "base_uri": "https://localhost:8080/"
        },
        "outputId": "49e4a6a4-c5d9-4a35-9b56-b71a8c5c0f93"
      },
      "source": [
        "industry_df['Potential_Accident_Level'].value_counts()"
      ],
      "execution_count": null,
      "outputs": [
        {
          "output_type": "execute_result",
          "data": {
            "text/plain": [
              "IV     138\n",
              "III    106\n",
              "II      95\n",
              "I       43\n",
              "V       29\n",
              "Name: Potential_Accident_Level, dtype: int64"
            ]
          },
          "metadata": {},
          "execution_count": 38
        }
      ]
    },
    {
      "cell_type": "code",
      "metadata": {
        "id": "NrTjL3jqSbgn",
        "colab": {
          "base_uri": "https://localhost:8080/"
        },
        "outputId": "ebddb6c2-13fe-4305-d8df-3e7416688d42"
      },
      "source": [
        "industry_df['Accident_Level'].value_counts()"
      ],
      "execution_count": null,
      "outputs": [
        {
          "output_type": "execute_result",
          "data": {
            "text/plain": [
              "I      303\n",
              "II      39\n",
              "III     31\n",
              "IV      30\n",
              "V        8\n",
              "Name: Accident_Level, dtype: int64"
            ]
          },
          "metadata": {},
          "execution_count": 39
        }
      ]
    },
    {
      "cell_type": "code",
      "metadata": {
        "id": "MGbUF-AE_TAL"
      },
      "source": [
        "from nltk.tokenize import word_tokenize\n",
        "from tqdm import tqdm\n",
        "\n",
        "from sklearn.model_selection import train_test_split\n",
        "from sklearn import metrics\n",
        "from sklearn.metrics import classification_report\n",
        "from sklearn.metrics import accuracy_score, f1_score, confusion_matrix, recall_score, precision_score, roc_auc_score\n",
        "from sklearn.preprocessing import LabelEncoder\n",
        "import pickle\n",
        "\n",
        "# Deep learning libraries\n",
        "import tensorflow as tf\n",
        "from tensorflow.keras.layers import Input\n",
        "from tensorflow.keras.models import Sequential\n",
        "from tensorflow.keras.models import Model\n",
        "from tensorflow.keras import optimizers\n",
        "from tensorflow.keras.layers import Dense, LSTM,  Embedding, Dropout, Bidirectional, GlobalMaxPool1D\n",
        "\n",
        "from keras.utils import np_utils\n",
        "from keras.layers.merge import Concatenate\n",
        "#from keras.utils import plot_model\n",
        "\n",
        "from tensorflow.keras.callbacks import ReduceLROnPlateau\n",
        "from tensorflow.keras.callbacks import EarlyStopping\n",
        "from tensorflow.keras.callbacks import ModelCheckpoint\n",
        "\n",
        "from tensorflow.keras.models import load_model\n",
        "from tensorflow.keras.models import model_from_json\n",
        "from tensorflow.keras.wrappers.scikit_learn import KerasClassifier\n",
        "\n",
        "# Keras pre-processing\n",
        "from tensorflow.keras.preprocessing.text import Tokenizer\n",
        "from tensorflow.keras.preprocessing.sequence import pad_sequences\n"
      ],
      "execution_count": null,
      "outputs": []
    },
    {
      "cell_type": "markdown",
      "metadata": {
        "id": "1TGiZyni0VDM"
      },
      "source": [
        "Model Building: Train-Test Split"
      ]
    },
    {
      "cell_type": "code",
      "metadata": {
        "id": "JWJygL6Cz0ea"
      },
      "source": [
        "X_train, X_test, y_train, y_test = train_test_split(industry_df['Description_preprocessed'], industry_df['Potential_Accident_Level'].values, test_size=0.2, random_state=42)"
      ],
      "execution_count": null,
      "outputs": []
    },
    {
      "cell_type": "code",
      "metadata": {
        "colab": {
          "base_uri": "https://localhost:8080/"
        },
        "id": "8XURiVVJ0yxz",
        "outputId": "a8056fbd-f93f-4bc8-9243-eb1f888f677b"
      },
      "source": [
        "print('Training utterances: {}'.format(X_train.shape[0]))\n",
        "print('Validation utterances: {}'.format(X_test.shape[0]))"
      ],
      "execution_count": null,
      "outputs": [
        {
          "output_type": "stream",
          "name": "stdout",
          "text": [
            "Training utterances: 328\n",
            "Validation utterances: 83\n"
          ]
        }
      ]
    },
    {
      "cell_type": "code",
      "metadata": {
        "id": "oED_mhDp0zEP"
      },
      "source": [
        "# Defining a function which quickly test the fit of 6 different models on the dataset\n",
        "def ml_models(X_train , y_train, X_test, y_test):\n",
        "\n",
        "    # creating a dictionary with different ML models\n",
        "    models = {\n",
        "        'LogReg': LogisticRegression(), \n",
        "        'Naive Bayes': GaussianNB(),        \n",
        "        'KNN': KNeighborsClassifier(),\n",
        "        'SVM': SVC(), \n",
        "        'Decision Tree': DecisionTreeClassifier(criterion='entropy',max_depth=6,random_state=100,min_samples_leaf=5),          \n",
        "        'RandomForest': RandomForestClassifier(n_estimators=100, max_depth=7),\n",
        "        'Bagging': BaggingClassifier(n_estimators=50, max_samples=.7),\n",
        "        'AdaBoost': AdaBoostClassifier(n_estimators= 50),\n",
        "        'Gradient Boost': GradientBoostingClassifier(n_estimators = 50, learning_rate = 0.05),\n",
        "        'XGBoost': XGBClassifier()\n",
        "    }\n",
        "    \n",
        "    names = []\n",
        "    scores = []\n",
        "\n",
        "    for name, model in models.items(): # Looping through each and every model\n",
        "        clf = model.fit(X_train, y_train) # Fit the models one by one\n",
        "        result = clf.score(X_test,y_test) \n",
        "\n",
        "        names.append(name)\n",
        "        scores.append(result) # Appending the test scores to the list\n",
        "\n",
        "        result_df =  pd.DataFrame({'model': names, 'accuracy': scores}) # Creating the dataframe using the model scores\n",
        "      \n",
        "    return result_df # Returns the dataframe"
      ],
      "execution_count": null,
      "outputs": []
    },
    {
      "cell_type": "markdown",
      "metadata": {
        "id": "J0zbvYav1LHl"
      },
      "source": [
        "TF-IDF"
      ]
    },
    {
      "cell_type": "markdown",
      "metadata": {
        "id": "sHFRB36R1NFn"
      },
      "source": [
        "TF-IDF is a statistical measure that evaluates how relevant a word is to a document in a collection of documents. This is done by multiplying two metrics: how many times a word appears in a document, and the inverse document frequency of the word across a set of documents."
      ]
    },
    {
      "cell_type": "code",
      "metadata": {
        "id": "FTJ_LjJV1cQh"
      },
      "source": [
        "from sklearn.feature_extraction.text import TfidfVectorizer"
      ],
      "execution_count": null,
      "outputs": []
    },
    {
      "cell_type": "code",
      "metadata": {
        "id": "CzLPJnPC0zHJ"
      },
      "source": [
        "# Initializing TfidfVectorizer object\n",
        "tfIdfVectorizer = TfidfVectorizer()\n",
        "X_train_tf = tfIdfVectorizer.fit_transform(X_train)\n",
        "X_test_tf = tfIdfVectorizer.transform(X_test)"
      ],
      "execution_count": null,
      "outputs": []
    },
    {
      "cell_type": "markdown",
      "metadata": {
        "id": "RLjLm_qj1jAb"
      },
      "source": [
        "ML Classifiers"
      ]
    },
    {
      "cell_type": "code",
      "metadata": {
        "id": "y_EmE7W60zKG"
      },
      "source": [
        "from sklearn.linear_model import LogisticRegression\n",
        "from sklearn.naive_bayes import GaussianNB\n",
        "from sklearn.neighbors import KNeighborsClassifier\n",
        "from sklearn.svm import SVC\n",
        "from sklearn.tree import DecisionTreeClassifier\n",
        "from sklearn.ensemble import RandomForestClassifier, BaggingClassifier, AdaBoostClassifier, GradientBoostingClassifier\n",
        "from xgboost import XGBClassifier"
      ],
      "execution_count": null,
      "outputs": []
    },
    {
      "cell_type": "code",
      "metadata": {
        "colab": {
          "base_uri": "https://localhost:8080/",
          "height": 363
        },
        "id": "T49cy1Br0zM0",
        "outputId": "afcb09f9-04a0-4afc-c9b9-85c2c3b07b83"
      },
      "source": [
        "ml_models(X_train_tf.toarray(), y_train, X_test_tf.toarray(), y_test)"
      ],
      "execution_count": null,
      "outputs": [
        {
          "output_type": "execute_result",
          "data": {
            "text/html": [
              "<div>\n",
              "<style scoped>\n",
              "    .dataframe tbody tr th:only-of-type {\n",
              "        vertical-align: middle;\n",
              "    }\n",
              "\n",
              "    .dataframe tbody tr th {\n",
              "        vertical-align: top;\n",
              "    }\n",
              "\n",
              "    .dataframe thead th {\n",
              "        text-align: right;\n",
              "    }\n",
              "</style>\n",
              "<table border=\"1\" class=\"dataframe\">\n",
              "  <thead>\n",
              "    <tr style=\"text-align: right;\">\n",
              "      <th></th>\n",
              "      <th>model</th>\n",
              "      <th>accuracy</th>\n",
              "    </tr>\n",
              "  </thead>\n",
              "  <tbody>\n",
              "    <tr>\n",
              "      <th>0</th>\n",
              "      <td>LogReg</td>\n",
              "      <td>0.421687</td>\n",
              "    </tr>\n",
              "    <tr>\n",
              "      <th>1</th>\n",
              "      <td>Naive Bayes</td>\n",
              "      <td>0.409639</td>\n",
              "    </tr>\n",
              "    <tr>\n",
              "      <th>2</th>\n",
              "      <td>KNN</td>\n",
              "      <td>0.253012</td>\n",
              "    </tr>\n",
              "    <tr>\n",
              "      <th>3</th>\n",
              "      <td>SVM</td>\n",
              "      <td>0.337349</td>\n",
              "    </tr>\n",
              "    <tr>\n",
              "      <th>4</th>\n",
              "      <td>Decision Tree</td>\n",
              "      <td>0.313253</td>\n",
              "    </tr>\n",
              "    <tr>\n",
              "      <th>5</th>\n",
              "      <td>RandomForest</td>\n",
              "      <td>0.337349</td>\n",
              "    </tr>\n",
              "    <tr>\n",
              "      <th>6</th>\n",
              "      <td>Bagging</td>\n",
              "      <td>0.409639</td>\n",
              "    </tr>\n",
              "    <tr>\n",
              "      <th>7</th>\n",
              "      <td>AdaBoost</td>\n",
              "      <td>0.349398</td>\n",
              "    </tr>\n",
              "    <tr>\n",
              "      <th>8</th>\n",
              "      <td>Gradient Boost</td>\n",
              "      <td>0.349398</td>\n",
              "    </tr>\n",
              "    <tr>\n",
              "      <th>9</th>\n",
              "      <td>XGBoost</td>\n",
              "      <td>0.325301</td>\n",
              "    </tr>\n",
              "  </tbody>\n",
              "</table>\n",
              "</div>"
            ],
            "text/plain": [
              "            model  accuracy\n",
              "0          LogReg  0.421687\n",
              "1     Naive Bayes  0.409639\n",
              "2             KNN  0.253012\n",
              "3             SVM  0.337349\n",
              "4   Decision Tree  0.313253\n",
              "5    RandomForest  0.337349\n",
              "6         Bagging  0.409639\n",
              "7        AdaBoost  0.349398\n",
              "8  Gradient Boost  0.349398\n",
              "9         XGBoost  0.325301"
            ]
          },
          "metadata": {},
          "execution_count": 51
        }
      ]
    },
    {
      "cell_type": "markdown",
      "metadata": {
        "id": "YUUs_s-j2iUg"
      },
      "source": [
        "For TF-IDF vectorization, the accuracy is quite less. Though Logistic Regression performs better than the rest, The accuracy is not upto the mark. Next better accuracy comes with Naive Bayes clasifier"
      ]
    },
    {
      "cell_type": "markdown",
      "metadata": {
        "id": "F66cB89v3Fkv"
      },
      "source": [
        "Using Bag of words"
      ]
    },
    {
      "cell_type": "markdown",
      "metadata": {
        "id": "QEsqL8I13IM7"
      },
      "source": [
        "A bag-of-words is a representation of text that describes the occurrence of words within a document."
      ]
    },
    {
      "cell_type": "code",
      "metadata": {
        "id": "jFANiquS0zPf"
      },
      "source": [
        "from sklearn.feature_extraction.text import CountVectorizer"
      ],
      "execution_count": null,
      "outputs": []
    },
    {
      "cell_type": "code",
      "metadata": {
        "id": "bFhmXOgO0zR7"
      },
      "source": [
        "vectorizer = CountVectorizer(binary=True, ngram_range=(1, 2))\n",
        "X_train_bow = vectorizer.fit_transform(X_train)\n",
        "X_test_bow = vectorizer.transform(X_test)"
      ],
      "execution_count": null,
      "outputs": []
    },
    {
      "cell_type": "markdown",
      "metadata": {
        "id": "9jk2uPT93bDy"
      },
      "source": [
        "ML Classifiers"
      ]
    },
    {
      "cell_type": "code",
      "metadata": {
        "colab": {
          "base_uri": "https://localhost:8080/",
          "height": 363
        },
        "id": "Bb93wOOI3WSr",
        "outputId": "e8390948-5de3-4e52-f01f-2fc132b58908"
      },
      "source": [
        "ml_models(X_train_bow.toarray(), y_train, X_test_bow.toarray(), y_test)"
      ],
      "execution_count": null,
      "outputs": [
        {
          "output_type": "execute_result",
          "data": {
            "text/html": [
              "<div>\n",
              "<style scoped>\n",
              "    .dataframe tbody tr th:only-of-type {\n",
              "        vertical-align: middle;\n",
              "    }\n",
              "\n",
              "    .dataframe tbody tr th {\n",
              "        vertical-align: top;\n",
              "    }\n",
              "\n",
              "    .dataframe thead th {\n",
              "        text-align: right;\n",
              "    }\n",
              "</style>\n",
              "<table border=\"1\" class=\"dataframe\">\n",
              "  <thead>\n",
              "    <tr style=\"text-align: right;\">\n",
              "      <th></th>\n",
              "      <th>model</th>\n",
              "      <th>accuracy</th>\n",
              "    </tr>\n",
              "  </thead>\n",
              "  <tbody>\n",
              "    <tr>\n",
              "      <th>0</th>\n",
              "      <td>LogReg</td>\n",
              "      <td>0.433735</td>\n",
              "    </tr>\n",
              "    <tr>\n",
              "      <th>1</th>\n",
              "      <td>Naive Bayes</td>\n",
              "      <td>0.421687</td>\n",
              "    </tr>\n",
              "    <tr>\n",
              "      <th>2</th>\n",
              "      <td>KNN</td>\n",
              "      <td>0.265060</td>\n",
              "    </tr>\n",
              "    <tr>\n",
              "      <th>3</th>\n",
              "      <td>SVM</td>\n",
              "      <td>0.349398</td>\n",
              "    </tr>\n",
              "    <tr>\n",
              "      <th>4</th>\n",
              "      <td>Decision Tree</td>\n",
              "      <td>0.313253</td>\n",
              "    </tr>\n",
              "    <tr>\n",
              "      <th>5</th>\n",
              "      <td>RandomForest</td>\n",
              "      <td>0.349398</td>\n",
              "    </tr>\n",
              "    <tr>\n",
              "      <th>6</th>\n",
              "      <td>Bagging</td>\n",
              "      <td>0.325301</td>\n",
              "    </tr>\n",
              "    <tr>\n",
              "      <th>7</th>\n",
              "      <td>AdaBoost</td>\n",
              "      <td>0.337349</td>\n",
              "    </tr>\n",
              "    <tr>\n",
              "      <th>8</th>\n",
              "      <td>Gradient Boost</td>\n",
              "      <td>0.349398</td>\n",
              "    </tr>\n",
              "    <tr>\n",
              "      <th>9</th>\n",
              "      <td>XGBoost</td>\n",
              "      <td>0.409639</td>\n",
              "    </tr>\n",
              "  </tbody>\n",
              "</table>\n",
              "</div>"
            ],
            "text/plain": [
              "            model  accuracy\n",
              "0          LogReg  0.433735\n",
              "1     Naive Bayes  0.421687\n",
              "2             KNN  0.265060\n",
              "3             SVM  0.349398\n",
              "4   Decision Tree  0.313253\n",
              "5    RandomForest  0.349398\n",
              "6         Bagging  0.325301\n",
              "7        AdaBoost  0.337349\n",
              "8  Gradient Boost  0.349398\n",
              "9         XGBoost  0.409639"
            ]
          },
          "metadata": {},
          "execution_count": 54
        }
      ]
    },
    {
      "cell_type": "markdown",
      "source": [
        "#### Neural Network"
      ],
      "metadata": {
        "id": "-NqB2reVkZZ6"
      }
    },
    {
      "cell_type": "code",
      "source": [
        "industry_df_without_stopwords = pd.read_csv(\"industry_df_preprocessed.csv\")"
      ],
      "metadata": {
        "id": "wOMn94kmkYnw"
      },
      "execution_count": null,
      "outputs": []
    },
    {
      "cell_type": "code",
      "source": [
        "# Converting the categorical values to one-hot encoding\n",
        "y_train_new = pd.get_dummies(y_train)\n",
        "y_test_new = pd.get_dummies(y_test)"
      ],
      "metadata": {
        "id": "U3jW2ttVl7yO"
      },
      "execution_count": null,
      "outputs": []
    },
    {
      "cell_type": "code",
      "source": [
        "epochs = 100\n",
        "batch_size = 12\n",
        "loss = \"categorical_crossentropy\"\n",
        "optimizer = \"adam\"\n",
        "metrics = [\"accuracy\"]\n",
        "\n",
        "early_stopping = EarlyStopping(monitor='val_loss', mode='min', verbose=0, patience=3)\n",
        "\n",
        "# Build neural network\n",
        "tfidf_model = Sequential()\n",
        "tfidf_model.add(Dense(512, activation='relu'))\n",
        "tfidf_model.add(Dense(256, activation='relu'))\n",
        "tfidf_model.add(Dense(5, activation='softmax'))\n",
        "tfidf_model.compile(loss=loss, optimizer=optimizer, metrics= metrics)"
      ],
      "metadata": {
        "id": "ICBXwvCZktRQ"
      },
      "execution_count": null,
      "outputs": []
    },
    {
      "cell_type": "code",
      "source": [
        "history_nn = tfidf_model.fit(X_train_tf.toarray(), y_train_new, validation_split = 0.2, epochs=epochs, batch_size=batch_size, callbacks=[early_stopping])"
      ],
      "metadata": {
        "colab": {
          "base_uri": "https://localhost:8080/"
        },
        "id": "eKvi0vJuktNB",
        "outputId": "959ec82e-30a3-4e9b-d01c-93fb0c85fda3"
      },
      "execution_count": null,
      "outputs": [
        {
          "output_type": "stream",
          "name": "stdout",
          "text": [
            "Epoch 1/100\n",
            "22/22 [==============================] - 1s 21ms/step - loss: 1.5213 - accuracy: 0.2977 - val_loss: 1.4662 - val_accuracy: 0.3636\n",
            "Epoch 2/100\n",
            "22/22 [==============================] - 0s 12ms/step - loss: 1.2279 - accuracy: 0.4618 - val_loss: 1.4189 - val_accuracy: 0.3788\n",
            "Epoch 3/100\n",
            "22/22 [==============================] - 0s 11ms/step - loss: 0.6372 - accuracy: 0.9389 - val_loss: 1.2957 - val_accuracy: 0.5455\n",
            "Epoch 4/100\n",
            "22/22 [==============================] - 0s 12ms/step - loss: 0.1502 - accuracy: 0.9618 - val_loss: 1.3016 - val_accuracy: 0.5000\n",
            "Epoch 5/100\n",
            "22/22 [==============================] - 0s 11ms/step - loss: 0.0403 - accuracy: 1.0000 - val_loss: 1.3355 - val_accuracy: 0.5455\n",
            "Epoch 6/100\n",
            "22/22 [==============================] - 0s 12ms/step - loss: 0.0104 - accuracy: 1.0000 - val_loss: 1.3983 - val_accuracy: 0.5303\n"
          ]
        }
      ]
    },
    {
      "cell_type": "code",
      "source": [
        "# Validating the model on test set\n",
        "loss, accuracy = tfidf_model.evaluate(X_test_tf.toarray(), y_test_new, verbose = 0)\n",
        "loss, accuracy"
      ],
      "metadata": {
        "colab": {
          "base_uri": "https://localhost:8080/"
        },
        "id": "LigNC9XxmNPQ",
        "outputId": "b8fa055d-2207-4d0a-f43d-5a46f74e881b"
      },
      "execution_count": null,
      "outputs": [
        {
          "output_type": "execute_result",
          "data": {
            "text/plain": [
              "(1.7126868963241577, 0.4457831382751465)"
            ]
          },
          "metadata": {},
          "execution_count": 32
        }
      ]
    },
    {
      "cell_type": "code",
      "source": [
        "# define a function for plotting the progress of training\n",
        "def plot_history(history):\n",
        "\n",
        "  hist = pd.DataFrame(history.history)\n",
        "\n",
        "  plt.figure()\n",
        "  plt.xlabel('Epochs')\n",
        "  plt.ylabel('loss')\n",
        "  plt.plot(hist['loss'],label= 'Train error')\n",
        "  plt.plot(hist['val_loss'],label='Val error')\n",
        "  plt.legend()\n",
        "  plt.ylim([0,5])\n",
        "  \n",
        "  plt.figure()\n",
        "  plt.xlabel('Epochs')\n",
        "  plt.ylabel('accuracy')\n",
        "  plt.plot(hist['accuracy'],label = 'Train accuracy')\n",
        "  plt.plot(hist['val_accuracy'],label='Val_accuracy')\n",
        "  plt.legend()\n",
        "  plt.ylim([0,5])"
      ],
      "metadata": {
        "id": "IavFFhWeHQlt"
      },
      "execution_count": null,
      "outputs": []
    },
    {
      "cell_type": "code",
      "source": [
        "plot_history(history_nn)"
      ],
      "metadata": {
        "colab": {
          "base_uri": "https://localhost:8080/",
          "height": 548
        },
        "id": "zbX16Ru3H0Rj",
        "outputId": "9a583cfb-aa58-4caf-cc85-e554fb30d1c1"
      },
      "execution_count": null,
      "outputs": [
        {
          "output_type": "display_data",
          "data": {
            "image/png": "[encoded data removed]",
            "text/plain": [
              "<Figure size 432x288 with 1 Axes>"
            ]
          },
          "metadata": {
            "needs_background": "light"
          }
        },
        {
          "output_type": "display_data",
          "data": {
            "image/png": "[encoded data removed]",
            "text/plain": [
              "<Figure size 432x288 with 1 Axes>"
            ]
          },
          "metadata": {
            "needs_background": "light"
          }
        }
      ]
    },
    {
      "cell_type": "code",
      "source": [
        "#classification matrix\n",
        "\n",
        "from sklearn.metrics import classification_report\n",
        "\n",
        "# y_preds = np.argmax(tfidf_model.predict(X_test_tf.toarray()),axis=1)\n",
        "# print(classification_report(np.argmax(y_test_new,axis=1),y_preds))\n",
        "\n",
        "y_pred = tfidf_model.predict(X_test_tf.toarray(), verbose=0) # Multiclass\n",
        "y_pred_index =  np.argmax(y_pred,axis=1)\n",
        "y_original = np.argmax(y_test_new.to_numpy(), axis =1)"
      ],
      "metadata": {
        "id": "U0kI3nYrJl4k"
      },
      "execution_count": null,
      "outputs": []
    },
    {
      "cell_type": "code",
      "source": [
        "print(classification_report(y_original, y_pred_index))"
      ],
      "metadata": {
        "colab": {
          "base_uri": "https://localhost:8080/"
        },
        "id": "fpXPjSCnkcGM",
        "outputId": "d41d4a80-6ade-428b-fcee-bc173f5cd851"
      },
      "execution_count": null,
      "outputs": [
        {
          "output_type": "stream",
          "name": "stdout",
          "text": [
            "              precision    recall  f1-score   support\n",
            "\n",
            "           0       0.67      0.50      0.57         4\n",
            "           1       0.44      0.38      0.41        21\n",
            "           2       0.50      0.50      0.50        22\n",
            "           3       0.42      0.59      0.49        27\n",
            "           4       0.00      0.00      0.00         9\n",
            "\n",
            "    accuracy                           0.45        83\n",
            "   macro avg       0.41      0.39      0.39        83\n",
            "weighted avg       0.41      0.45      0.42        83\n",
            "\n"
          ]
        }
      ]
    },
    {
      "cell_type": "code",
      "source": [
        "sns.heatmap(confusion_matrix(y_original,y_pred_index))"
      ],
      "metadata": {
        "colab": {
          "base_uri": "https://localhost:8080/",
          "height": 287
        },
        "id": "62KiNLFikiqB",
        "outputId": "e66990b0-95d8-469d-abc2-be63795a6ccc"
      },
      "execution_count": null,
      "outputs": [
        {
          "output_type": "execute_result",
          "data": {
            "text/plain": [
              "<matplotlib.axes._subplots.AxesSubplot at 0x7ff770a2a190>"
            ]
          },
          "metadata": {},
          "execution_count": 85
        },
        {
          "output_type": "display_data",
          "data": {
            "image/png": "[encoded data removed]",
            "text/plain": [
              "<Figure size 432x288 with 2 Axes>"
            ]
          },
          "metadata": {
            "needs_background": "light"
          }
        }
      ]
    },
    {
      "cell_type": "code",
      "source": [
        "import pickle\n",
        "pickle.dump(tfidf_model, open('/content/drive/MyDrive/Capstone/nn.pickle', 'wb'))"
      ],
      "metadata": {
        "colab": {
          "base_uri": "https://localhost:8080/"
        },
        "id": "rTdglISUQcc0",
        "outputId": "f0de0dee-8d11-4fb1-eb48-c976d2d679e1"
      },
      "execution_count": null,
      "outputs": [
        {
          "output_type": "stream",
          "name": "stdout",
          "text": [
            "INFO:tensorflow:Assets written to: ram://f54475c5-ab98-4b80-8b06-7ac698b0b652/assets\n"
          ]
        }
      ]
    },
    {
      "cell_type": "code",
      "source": [
        "tfidf_model.save('/content/drive/MyDrive/Capstone/nn_base_model.h5')\n",
        "# model.save('my_model.h5')"
      ],
      "metadata": {
        "id": "almmV2YUnGu9"
      },
      "execution_count": null,
      "outputs": []
    },
    {
      "cell_type": "code",
      "source": [
        "# ann_viz(tfidf_model, view=True, filename=\"tfidf_model\")\n",
        "tf.keras.utils.plot_model(tfidf_model, to_file='tfidf_model.png', show_shapes=True, show_layer_names=True)"
      ],
      "metadata": {
        "colab": {
          "base_uri": "https://localhost:8080/",
          "height": 422
        },
        "id": "PcNluPEOmcmL",
        "outputId": "1d24c43c-7cbd-45fe-8209-92f344262a00"
      },
      "execution_count": null,
      "outputs": [
        {
          "output_type": "execute_result",
          "data": {
            "image/png": "[encoded data removed]",
            "text/plain": [
              "<IPython.core.display.Image object>"
            ]
          },
          "metadata": {},
          "execution_count": 26
        }
      ]
    },
    {
      "cell_type": "markdown",
      "metadata": {
        "id": "IS3ucWe14DNw"
      },
      "source": [
        "The accuracy using BOW is more or less similar to those we got using TF-IDF"
      ]
    },
    {
      "cell_type": "markdown",
      "source": [
        "### LSTM"
      ],
      "metadata": {
        "id": "-5Kgqunjm34_"
      }
    },
    {
      "cell_type": "code",
      "metadata": {
        "id": "2_D0_kFa-5RR"
      },
      "source": [
        "# Select input and output features\n",
        "\n",
        "X_text = industry_df['Description_preprocessed']\n",
        "y_text = industry_df['Potential_Accident_Level']"
      ],
      "execution_count": null,
      "outputs": []
    },
    {
      "cell_type": "code",
      "metadata": {
        "id": "dT20xvR6_GK4"
      },
      "source": [
        "# Encode labels in column 'Potential Accident Level'and Convert into one-hot encoded vectors:\n",
        "y_text = LabelEncoder().fit_transform(y_text)\n",
        "y_text = np_utils.to_categorical(y_text)"
      ],
      "execution_count": null,
      "outputs": []
    },
    {
      "cell_type": "code",
      "metadata": {
        "id": "XXBzX8egDU2b"
      },
      "source": [
        "# The first step in word embeddings is to convert the words into thier corresponding numeric indexes.\n",
        "tokenizer = Tokenizer(num_words=5000)\n",
        "tokenizer.fit_on_texts(X_text)"
      ],
      "execution_count": null,
      "outputs": []
    },
    {
      "cell_type": "code",
      "metadata": {
        "colab": {
          "base_uri": "https://localhost:8080/"
        },
        "id": "1BnKuI5z_PoB",
        "outputId": "0d271573-5c21-4281-dac0-48f08b5b2342"
      },
      "source": [
        "# Divide our data into testing and training sets:\n",
        "X_text_train, X_text_test, y_text_train, y_text_test = train_test_split(X_text, y_text, test_size = 0.30, random_state = 1)\n",
        "\n",
        "print('X_text_train shape : ({0})'.format(X_text_train.shape))\n",
        "print('y_text_train shape : ({0},)'.format(y_text_train.shape))\n",
        "print('X_text_test shape : ({0})'.format(X_text_test.shape))\n",
        "print('y_text_test shape : ({0},)'.format(y_text_test.shape))"
      ],
      "execution_count": null,
      "outputs": [
        {
          "output_type": "stream",
          "name": "stdout",
          "text": [
            "X_text_train shape : ((287,))\n",
            "y_text_train shape : ((287, 5),)\n",
            "X_text_test shape : ((124,))\n",
            "y_text_test shape : ((124, 5),)\n"
          ]
        }
      ]
    },
    {
      "cell_type": "code",
      "metadata": {
        "id": "JEFdmm48Z5Ao"
      },
      "source": [
        "X_text_train = tokenizer.texts_to_sequences(X_text_train)\n",
        "X_text_test = tokenizer.texts_to_sequences(X_text_test)"
      ],
      "execution_count": null,
      "outputs": []
    },
    {
      "cell_type": "code",
      "metadata": {
        "colab": {
          "base_uri": "https://localhost:8080/"
        },
        "id": "TSsdsx9YNBvN",
        "outputId": "68d7d870-e9c4-4648-fc56-6ad059570370"
      },
      "source": [
        "industry_df['nb_words'] = industry_df['Description_preprocessed'].apply(lambda x: len(x.split(' ')))\n",
        "\n",
        "print('Minimum number of words: {}'.format(industry_df['nb_words'].min()))\n",
        "print('Maximum number of words: {}'.format(industry_df['nb_words'].max()))  "
      ],
      "execution_count": null,
      "outputs": [
        {
          "output_type": "stream",
          "name": "stdout",
          "text": [
            "Minimum number of words: 16\n",
            "Maximum number of words: 183\n"
          ]
        }
      ]
    },
    {
      "cell_type": "code",
      "metadata": {
        "colab": {
          "base_uri": "https://localhost:8080/"
        },
        "id": "RkIWW1RFNeUP",
        "outputId": "3298e2d7-6c80-4bed-e35a-b44517ec0b70"
      },
      "source": [
        "vocab_size = len(tokenizer.word_index) + 1\n",
        "print(\"vocab_size:\", vocab_size)\n",
        "\n",
        "maxlen = 200\n",
        "\n",
        "X_text_train = pad_sequences(X_text_train, padding='post', maxlen=maxlen)\n",
        "X_text_test = pad_sequences(X_text_test, padding='post', maxlen=maxlen)"
      ],
      "execution_count": null,
      "outputs": [
        {
          "output_type": "stream",
          "name": "stdout",
          "text": [
            "vocab_size: 3144\n"
          ]
        }
      ]
    },
    {
      "cell_type": "code",
      "metadata": {
        "colab": {
          "base_uri": "https://localhost:8080/"
        },
        "id": "VpTBhyYyQ0pV",
        "outputId": "98b00968-8abf-4d33-c7e2-ede87343a456"
      },
      "source": [
        "!wget http://nlp.stanford.edu/data/glove.6B.zip\n",
        "!unzip glove*.zip"
      ],
      "execution_count": null,
      "outputs": [
        {
          "output_type": "stream",
          "name": "stdout",
          "text": [
            "--2021-12-05 06:24:04--  http://nlp.stanford.edu/data/glove.6B.zip\n",
            "Resolving nlp.stanford.edu (nlp.stanford.edu)... 171.64.67.140\n",
            "Connecting to nlp.stanford.edu (nlp.stanford.edu)|171.64.67.140|:80... connected.\n",
            "HTTP request sent, awaiting response... 302 Found\n",
            "Location: https://nlp.stanford.edu/data/glove.6B.zip [following]\n",
            "--2021-12-05 06:24:04--  https://nlp.stanford.edu/data/glove.6B.zip\n",
            "Connecting to nlp.stanford.edu (nlp.stanford.edu)|171.64.67.140|:443... connected.\n",
            "HTTP request sent, awaiting response... 301 Moved Permanently\n",
            "Location: http://downloads.cs.stanford.edu/nlp/data/glove.6B.zip [following]\n",
            "--2021-12-05 06:24:05--  http://downloads.cs.stanford.edu/nlp/data/glove.6B.zip\n",
            "Resolving downloads.cs.stanford.edu (downloads.cs.stanford.edu)... 171.64.64.22\n",
            "Connecting to downloads.cs.stanford.edu (downloads.cs.stanford.edu)|171.64.64.22|:80... connected.\n",
            "HTTP request sent, awaiting response... 200 OK\n",
            "Length: 862182613 (822M) [application/zip]\n",
            "Saving to: ‘glove.6B.zip’\n",
            "\n",
            "glove.6B.zip        100%[===================>] 822.24M  5.04MB/s    in 2m 42s  \n",
            "\n",
            "2021-12-05 06:26:47 (5.08 MB/s) - ‘glove.6B.zip’ saved [862182613/862182613]\n",
            "\n",
            "Archive:  glove.6B.zip\n",
            "  inflating: glove.6B.50d.txt        \n",
            "  inflating: glove.6B.100d.txt       \n",
            "  inflating: glove.6B.200d.txt       \n",
            "  inflating: glove.6B.300d.txt       \n"
          ]
        }
      ]
    },
    {
      "cell_type": "code",
      "metadata": {
        "colab": {
          "base_uri": "https://localhost:8080/"
        },
        "id": "58Pks68CQ6ir",
        "outputId": "ef85c6b5-1128-45b4-ed59-1b8d8bbdafc2"
      },
      "source": [
        "!ls\n",
        "!pwd"
      ],
      "execution_count": null,
      "outputs": [
        {
          "output_type": "stream",
          "name": "stdout",
          "text": [
            "'AIML Capstone Project - NLP chatbot.pdf'\n",
            " Capstone_NLP_Chatbot_Jan_A_G4.ipynb\n",
            " Chatbot.ipynb\n",
            " config.py\n",
            " data\n",
            "'Data Set - industrial_safety_and_health_database_with_accidents_description.csv'\n",
            "'GL Bot.json'\n",
            " glove.6B.100d.txt\n",
            " glove.6B.200d.txt\n",
            " glove.6B.300d.txt\n",
            " glove.6B.50d.txt\n",
            " glove.6B.zip\n",
            " industry_df_preprocessed.csv\n",
            " NLP_text_preprocess.py\n",
            " Pradeebha_Capstone_NLP_Chatbot_Jan_A_G4.ipynb\n",
            " __pycache__\n",
            " README.md\n",
            "/content/drive/My Drive/AIML/Capstone/Jan-G4---NLP-Chatbot\n"
          ]
        }
      ]
    },
    {
      "cell_type": "code",
      "metadata": {
        "colab": {
          "base_uri": "https://localhost:8080/"
        },
        "id": "ppsOlnwzQ9nP",
        "outputId": "b30299f8-c958-4384-d5c6-c91cc2ce754d"
      },
      "source": [
        "print('Indexing word vectors.')\n",
        "\n",
        "embeddings_dictionary = {}\n",
        "f = open('glove.6B.200d.txt', encoding='utf-8')\n",
        "for line in f:\n",
        "    values = line.split()\n",
        "    word = values[0]\n",
        "    coefs = np.asarray(values[1:], dtype='float32')\n",
        "    embeddings_dictionary[word] = coefs\n",
        "f.close()\n",
        "\n",
        "print('Found %s word vectors.' % len(embeddings_dictionary))"
      ],
      "execution_count": null,
      "outputs": [
        {
          "output_type": "stream",
          "name": "stdout",
          "text": [
            "Indexing word vectors.\n",
            "Found 400000 word vectors.\n"
          ]
        }
      ]
    },
    {
      "cell_type": "code",
      "metadata": {
        "id": "bEfVsM7IRJOT"
      },
      "source": [
        "import pickle\n",
        "pickle.dump({'embeddings_dictionary' : embeddings_dictionary } , open('/content/drive/MyDrive/AIML/Capstone/embeddings_dictionary.pickle', 'wb'))"
      ],
      "execution_count": null,
      "outputs": []
    },
    {
      "cell_type": "code",
      "metadata": {
        "id": "vaSid2m4TL94"
      },
      "source": [
        "import pickle\n",
        "infile = open('/content/drive/MyDrive/AIML/Capstone/embeddings_dictionary.pickle','rb')\n",
        "embeddings_dictionary = pickle.load(infile)"
      ],
      "execution_count": null,
      "outputs": []
    },
    {
      "cell_type": "code",
      "metadata": {
        "colab": {
          "base_uri": "https://localhost:8080/"
        },
        "id": "62ApqzcCOESX",
        "outputId": "3e55a595-d2b6-47d3-b837-7a42b912042e"
      },
      "source": [
        "embedding_size = 200\n",
        "\n",
        "embedding_matrix = np.zeros((vocab_size, embedding_size))\n",
        "\n",
        "for word, index in tokenizer.word_index.items():\n",
        "    embedding_vector = embeddings_dictionary.get(word)\n",
        "    if embedding_vector is not None:\n",
        "        embedding_matrix[index] = embedding_vector\n",
        "embedding_matrix.shape"
      ],
      "execution_count": null,
      "outputs": [
        {
          "output_type": "execute_result",
          "data": {
            "text/plain": [
              "(3144, 200)"
            ]
          },
          "metadata": {},
          "execution_count": 75
        }
      ]
    },
    {
      "cell_type": "code",
      "metadata": {
        "id": "Md_bC5CAWUaO"
      },
      "source": [
        "base_model = Sequential()\n",
        "base_model.add(Embedding(vocab_size, output_dim=embedding_size, weights=[embedding_matrix], input_length=200, trainable=True))\n",
        "#LSTM \n",
        "base_model.add(Bidirectional(LSTM(units=128 , recurrent_dropout = 0.5 , dropout = 0.5)))\n",
        "base_model.add(Dense(5, activation='sigmoid'))\n",
        "base_model.compile(optimizer=optimizers.Adam(lr = 0.001), loss='binary_crossentropy', metrics=['acc'])"
      ],
      "execution_count": null,
      "outputs": []
    },
    {
      "cell_type": "code",
      "metadata": {
        "colab": {
          "base_uri": "https://localhost:8080/"
        },
        "id": "bONs7fRRW8We",
        "outputId": "f88e1df7-e57e-4543-9c6b-ade43b6811a7"
      },
      "source": [
        "base_model.summary()"
      ],
      "execution_count": null,
      "outputs": [
        {
          "output_type": "stream",
          "name": "stdout",
          "text": [
            "Model: \"sequential_3\"\n",
            "_________________________________________________________________\n",
            " Layer (type)                Output Shape              Param #   \n",
            "=================================================================\n",
            " embedding_3 (Embedding)     (None, 200, 200)          628800    \n",
            "                                                                 \n",
            " bidirectional_3 (Bidirectio  (None, 256)              336896    \n",
            " nal)                                                            \n",
            "                                                                 \n",
            " dense_3 (Dense)             (None, 5)                 1285      \n",
            "                                                                 \n",
            "=================================================================\n",
            "Total params: 966,981\n",
            "Trainable params: 966,981\n",
            "Non-trainable params: 0\n",
            "_________________________________________________________________\n"
          ]
        }
      ]
    },
    {
      "cell_type": "code",
      "metadata": {
        "colab": {
          "base_uri": "https://localhost:8080/"
        },
        "id": "Kve3a2dVcEDC",
        "outputId": "0b82473f-eb06-4a7c-ed1d-f786e285495e"
      },
      "source": [
        "X_text_train.shape,y_text_train.shape,X_text_test.shape, y_text_test.shape"
      ],
      "execution_count": null,
      "outputs": [
        {
          "output_type": "execute_result",
          "data": {
            "text/plain": [
              "((287, 200), (287, 5), (124, 200), (124, 5))"
            ]
          },
          "metadata": {},
          "execution_count": 84
        }
      ]
    },
    {
      "cell_type": "code",
      "metadata": {
        "colab": {
          "base_uri": "https://localhost:8080/"
        },
        "id": "NEo9P-nlYaQV",
        "outputId": "135dabf4-ebf3-45f7-e825-2213f2daff98"
      },
      "source": [
        "callback = tf.keras.callbacks.EarlyStopping(monitor='loss', patience=3, min_delta=0.001)\n",
        "rlrp = ReduceLROnPlateau(monitor='val_loss', factor=0.001, patience=3, min_delta=1E-4)\n",
        "\n",
        "# fit the keras model on the dataset\n",
        "base_model_history = base_model.fit(X_text_train, y_text_train, epochs=10, batch_size=8, verbose=1, validation_data=(X_text_test, y_text_test), callbacks=[rlrp])"
      ],
      "execution_count": null,
      "outputs": [
        {
          "output_type": "stream",
          "name": "stdout",
          "text": [
            "Epoch 1/10\n",
            "36/36 [==============================] - 45s 1s/step - loss: 0.5346 - acc: 0.2718 - val_loss: 0.4679 - val_acc: 0.3306 - lr: 0.0010\n",
            "Epoch 2/10\n",
            "36/36 [==============================] - 38s 1s/step - loss: 0.4746 - acc: 0.3415 - val_loss: 0.4686 - val_acc: 0.2500 - lr: 0.0010\n",
            "Epoch 3/10\n",
            "36/36 [==============================] - 38s 1s/step - loss: 0.4731 - acc: 0.3101 - val_loss: 0.4661 - val_acc: 0.3145 - lr: 0.0010\n",
            "Epoch 4/10\n",
            "36/36 [==============================] - 39s 1s/step - loss: 0.4582 - acc: 0.3589 - val_loss: 0.4587 - val_acc: 0.3306 - lr: 0.0010\n",
            "Epoch 5/10\n",
            "36/36 [==============================] - 39s 1s/step - loss: 0.4113 - acc: 0.4460 - val_loss: 0.4639 - val_acc: 0.2903 - lr: 0.0010\n",
            "Epoch 6/10\n",
            "36/36 [==============================] - 38s 1s/step - loss: 0.2904 - acc: 0.7038 - val_loss: 0.4815 - val_acc: 0.3710 - lr: 0.0010\n",
            "Epoch 7/10\n",
            "36/36 [==============================] - 38s 1s/step - loss: 0.1915 - acc: 0.8641 - val_loss: 0.5360 - val_acc: 0.3065 - lr: 0.0010\n",
            "Epoch 8/10\n",
            "36/36 [==============================] - 38s 1s/step - loss: 0.1280 - acc: 0.9582 - val_loss: 0.5357 - val_acc: 0.3065 - lr: 1.0000e-06\n",
            "Epoch 9/10\n",
            "36/36 [==============================] - 39s 1s/step - loss: 0.1299 - acc: 0.9408 - val_loss: 0.5354 - val_acc: 0.3065 - lr: 1.0000e-06\n",
            "Epoch 10/10\n",
            "36/36 [==============================] - 38s 1s/step - loss: 0.1245 - acc: 0.9582 - val_loss: 0.5351 - val_acc: 0.3065 - lr: 1.0000e-06\n"
          ]
        }
      ]
    },
    {
      "cell_type": "code",
      "metadata": {
        "colab": {
          "base_uri": "https://localhost:8080/"
        },
        "id": "OI1WcDNi15qy",
        "outputId": "6fcfec65-d055-4f6f-f232-b604d0010bdb"
      },
      "source": [
        "_, train_accuracy = base_model.evaluate(X_text_train, y_text_train, batch_size=8, verbose=0)\n",
        "_, test_accuracy = base_model.evaluate(X_text_test, y_text_test, batch_size=8, verbose=0)\n",
        "\n",
        "print('Train accuracy: %.2f' % (train_accuracy*100))\n",
        "print('Test accuracy: %.2f' % (test_accuracy*100))"
      ],
      "execution_count": null,
      "outputs": [
        {
          "output_type": "stream",
          "name": "stdout",
          "text": [
            "Train accuracy: 94.43\n",
            "Test accuracy: 30.65\n"
          ]
        }
      ]
    },
    {
      "cell_type": "code",
      "metadata": {
        "id": "FgVKbLQh1ksZ"
      },
      "source": [
        "# get the accuracy, precision, recall, f1 score from model\n",
        "def get_classification_metrics(model, X_test, y_test, target_type):\n",
        "  \n",
        "  # predict probabilities for test set\n",
        "  yhat_probs = model.predict(X_test, verbose=0) # Multiclass\n",
        "\n",
        "  # predict crisp classes for test set\n",
        "  if target_type == 'multi_class':\n",
        "    yhat_classes = model.predict_classes(X_test, verbose=0) # Multiclass\n",
        "  else:\n",
        "    yhat_classes = (np.asarray(model.predict(X_test)).round()) # Multilabel\n",
        "\n",
        "  # reduce to 1d array\n",
        "  yhat_probs = yhat_probs[:, 0]\n",
        "\n",
        "  # accuracy: (tp + tn) / (p + n)\n",
        "  accuracy = accuracy_score(y_test, yhat_classes)\n",
        "\n",
        "  # precision tp / (tp + fp)\n",
        "  precision = precision_score(y_test, yhat_classes, average='micro')\n",
        "\n",
        "  # recall: tp / (tp + fn)\n",
        "  recall = recall_score(y_test, yhat_classes, average='micro')\n",
        "\n",
        "  # f1: 2 tp / (2 tp + fp + fn)\n",
        "  f1 = f1_score(y_test, yhat_classes, average='micro')\n",
        "\n",
        "  return accuracy, precision, recall, f1"
      ],
      "execution_count": null,
      "outputs": []
    },
    {
      "cell_type": "code",
      "metadata": {
        "id": "KXog2DVW9Y-5"
      },
      "source": [
        "class Metrics(tf.keras.callbacks.Callback):\n",
        "\n",
        "    def __init__(self, validation_data=()):\n",
        "        super().__init__()\n",
        "        self.validation_data = validation_data\n",
        "\n",
        "    def on_train_begin(self, logs={}):\n",
        "        self.val_f1s = []\n",
        "        self.val_recalls = []\n",
        "        self.val_precisions = []\n",
        "\n",
        "    def on_epoch_end(self, epoch, logs={}):\n",
        "        xVal, yVal, target_type = self.validation_data\n",
        "        if target_type == 'multi_class':\n",
        "          val_predict_classes = model.predict_classes(xVal, verbose=0) # Multiclass\n",
        "        else:\n",
        "          val_predict_classes = (np.asarray(self.model.predict(xVal))).round() # Multilabel\n",
        "        \n",
        "        \n",
        "        val_targ = yVal\n",
        "\n",
        "        _val_f1 = f1_score(val_targ, val_predict_classes, average='micro')\n",
        "        _val_recall = recall_score(val_targ, val_predict_classes, average='micro')\n",
        "        _val_precision = precision_score(val_targ, val_predict_classes, average='micro')\n",
        "        self.val_f1s.append(_val_f1)\n",
        "        self.val_recalls.append(_val_recall)\n",
        "        self.val_precisions.append(_val_precision)\n",
        "        #print(\"— train_f1: %f — train_precision: %f — train_recall %f\" % (_val_f1, _val_precision, _val_recall))\n",
        "        return"
      ],
      "execution_count": null,
      "outputs": []
    },
    {
      "cell_type": "code",
      "metadata": {
        "id": "PbKLrQl7UC7V"
      },
      "source": [
        "\n",
        "# Build a LSTM Neural Network\n",
        "deep_inputs = Input(shape=(maxlen,))\n",
        "embedding_layer = Embedding(vocab_size, embedding_size, weights=[embedding_matrix], trainable=True)(deep_inputs)\n",
        "\n",
        "LSTM_Layer_1 = Bidirectional(LSTM(128, return_sequences = True))(embedding_layer)\n",
        "max_pool_layer_1 = GlobalMaxPool1D()(LSTM_Layer_1)\n",
        "drop_out_layer_1 = Dropout(0.5, input_shape = (256,))(max_pool_layer_1)\n",
        "dense_layer_1 = Dense(128, activation = 'relu')(drop_out_layer_1)\n",
        "drop_out_layer_2 = Dropout(0.5, input_shape = (128,))(dense_layer_1)\n",
        "dense_layer_2 = Dense(64, activation = 'relu')(drop_out_layer_2)\n",
        "drop_out_layer_3 = Dropout(0.5, input_shape = (64,))(dense_layer_2)\n",
        "\n",
        "dense_layer_3 = Dense(32, activation = 'relu')(drop_out_layer_3)\n",
        "drop_out_layer_4 = Dropout(0.5, input_shape = (32,))(dense_layer_3)\n",
        "\n",
        "dense_layer_4 = Dense(10, activation = 'relu')(drop_out_layer_4)\n",
        "drop_out_layer_5 = Dropout(0.5, input_shape = (10,))(dense_layer_4)\n",
        "\n",
        "dense_layer_5 = Dense(5, activation='softmax')(drop_out_layer_5)\n",
        "\n",
        "lstm_model = Model(inputs=deep_inputs, outputs=dense_layer_5)\n",
        "\n",
        "opt = optimizers.Adam(lr=0.001)\n",
        "lstm_model.compile(loss='categorical_crossentropy', optimizer=opt, metrics=['acc'])"
      ],
      "execution_count": null,
      "outputs": []
    },
    {
      "cell_type": "code",
      "metadata": {
        "colab": {
          "base_uri": "https://localhost:8080/"
        },
        "id": "ZNveGLwn-cf7",
        "outputId": "ff0695e0-3604-4f01-dd1d-4a32e4282804"
      },
      "source": [
        "print(lstm_model.summary())"
      ],
      "execution_count": null,
      "outputs": [
        {
          "output_type": "stream",
          "name": "stdout",
          "text": [
            "Model: \"model\"\n",
            "_________________________________________________________________\n",
            " Layer (type)                Output Shape              Param #   \n",
            "=================================================================\n",
            " input_1 (InputLayer)        [(None, 200)]             0         \n",
            "                                                                 \n",
            " embedding_4 (Embedding)     (None, 200, 200)          628800    \n",
            "                                                                 \n",
            " bidirectional_4 (Bidirectio  (None, 200, 256)         336896    \n",
            " nal)                                                            \n",
            "                                                                 \n",
            " global_max_pooling1d (Globa  (None, 256)              0         \n",
            " lMaxPooling1D)                                                  \n",
            "                                                                 \n",
            " dropout (Dropout)           (None, 256)               0         \n",
            "                                                                 \n",
            " dense_4 (Dense)             (None, 128)               32896     \n",
            "                                                                 \n",
            " dropout_1 (Dropout)         (None, 128)               0         \n",
            "                                                                 \n",
            " dense_5 (Dense)             (None, 64)                8256      \n",
            "                                                                 \n",
            " dropout_2 (Dropout)         (None, 64)                0         \n",
            "                                                                 \n",
            " dense_6 (Dense)             (None, 32)                2080      \n",
            "                                                                 \n",
            " dropout_3 (Dropout)         (None, 32)                0         \n",
            "                                                                 \n",
            " dense_7 (Dense)             (None, 10)                330       \n",
            "                                                                 \n",
            " dropout_4 (Dropout)         (None, 10)                0         \n",
            "                                                                 \n",
            " dense_8 (Dense)             (None, 5)                 55        \n",
            "                                                                 \n",
            "=================================================================\n",
            "Total params: 1,009,313\n",
            "Trainable params: 1,009,313\n",
            "Non-trainable params: 0\n",
            "_________________________________________________________________\n",
            "None\n"
          ]
        }
      ]
    },
    {
      "cell_type": "code",
      "metadata": {
        "colab": {
          "base_uri": "https://localhost:8080/"
        },
        "id": "uG0N_BLE97Fy",
        "outputId": "598200e1-8c0f-4b38-bd60-b478234dc886"
      },
      "source": [
        "!pip install plot_model"
      ],
      "execution_count": null,
      "outputs": [
        {
          "output_type": "stream",
          "name": "stdout",
          "text": [
            "Requirement already satisfied: plot_model in /usr/local/lib/python3.7/dist-packages (0.20)\n"
          ]
        }
      ]
    },
    {
      "cell_type": "code",
      "metadata": {
        "colab": {
          "base_uri": "https://localhost:8080/",
          "height": 1000
        },
        "id": "x_0CjlGG9Wur",
        "outputId": "ce9fa61c-6f4f-4b22-d9d1-98ffa7576648"
      },
      "source": [
        "from keras.utils.vis_utils import plot_model\n",
        "tf.keras.utils.plot_model(lstm_model, to_file='model.png', show_shapes=True, show_dtype=True,\n",
        "show_layer_names=True, rankdir='TB', expand_nested=False, dpi=96)"
      ],
      "execution_count": null,
      "outputs": [
        {
          "output_type": "execute_result",
          "data": {
            "image/png": "[encoded data removed]",
            "text/plain": [
              "<IPython.core.display.Image object>"
            ]
          },
          "metadata": {},
          "execution_count": 56
        }
      ]
    },
    {
      "cell_type": "code",
      "metadata": {
        "colab": {
          "base_uri": "https://localhost:8080/"
        },
        "id": "FWj2rSUf9wfZ",
        "outputId": "b7d35885-3e04-47e4-93a7-5e46f2cc4097"
      },
      "source": [
        "callback = tf.keras.callbacks.EarlyStopping(monitor='loss', patience=3, min_delta=1E-3)\n",
        "rlrp = ReduceLROnPlateau(monitor='val_loss', factor=0.001, patience=3, min_delta=1E-4)\n",
        "\n",
        "target_type = 'multi_label'\n",
        "metrics = Metrics(validation_data=(X_text_train, y_text_train, target_type))\n",
        "\n",
        "# fit the keras model on the dataset\n",
        "training_history = lstm_model.fit(X_text_train, y_text_train, epochs=30, batch_size=32, verbose=1, validation_data=(X_text_test, y_text_test), callbacks=[rlrp])"
      ],
      "execution_count": null,
      "outputs": [
        {
          "output_type": "stream",
          "name": "stdout",
          "text": [
            "Epoch 1/30\n",
            "9/9 [==============================] - 8s 865ms/step - loss: 1.5107 - acc: 0.3380 - val_loss: 1.4985 - val_acc: 0.3306 - lr: 0.0010\n",
            "Epoch 2/30\n",
            "9/9 [==============================] - 8s 867ms/step - loss: 1.5103 - acc: 0.3380 - val_loss: 1.4980 - val_acc: 0.3306 - lr: 0.0010\n",
            "Epoch 3/30\n",
            "9/9 [==============================] - 8s 867ms/step - loss: 1.5098 - acc: 0.3380 - val_loss: 1.4974 - val_acc: 0.3306 - lr: 0.0010\n",
            "Epoch 4/30\n",
            "9/9 [==============================] - 8s 868ms/step - loss: 1.5093 - acc: 0.3380 - val_loss: 1.4969 - val_acc: 0.3306 - lr: 0.0010\n",
            "Epoch 5/30\n",
            "9/9 [==============================] - 8s 860ms/step - loss: 1.5090 - acc: 0.3380 - val_loss: 1.4963 - val_acc: 0.3306 - lr: 0.0010\n",
            "Epoch 6/30\n",
            "9/9 [==============================] - 8s 859ms/step - loss: 1.5084 - acc: 0.3380 - val_loss: 1.4957 - val_acc: 0.3306 - lr: 0.0010\n",
            "Epoch 7/30\n",
            "9/9 [==============================] - 8s 870ms/step - loss: 1.5080 - acc: 0.3380 - val_loss: 1.4952 - val_acc: 0.3306 - lr: 0.0010\n",
            "Epoch 8/30\n",
            "9/9 [==============================] - 8s 870ms/step - loss: 1.5075 - acc: 0.3380 - val_loss: 1.4947 - val_acc: 0.3306 - lr: 0.0010\n",
            "Epoch 9/30\n",
            "9/9 [==============================] - 8s 883ms/step - loss: 1.5072 - acc: 0.3380 - val_loss: 1.4941 - val_acc: 0.3306 - lr: 0.0010\n",
            "Epoch 10/30\n",
            "9/9 [==============================] - 8s 876ms/step - loss: 1.5067 - acc: 0.3380 - val_loss: 1.4936 - val_acc: 0.3306 - lr: 0.0010\n",
            "Epoch 11/30\n",
            "9/9 [==============================] - 8s 867ms/step - loss: 1.5063 - acc: 0.3380 - val_loss: 1.4931 - val_acc: 0.3306 - lr: 0.0010\n",
            "Epoch 12/30\n",
            "9/9 [==============================] - 8s 884ms/step - loss: 1.5060 - acc: 0.3380 - val_loss: 1.4927 - val_acc: 0.3306 - lr: 0.0010\n",
            "Epoch 13/30\n",
            "9/9 [==============================] - 8s 865ms/step - loss: 1.5055 - acc: 0.3380 - val_loss: 1.4921 - val_acc: 0.3306 - lr: 0.0010\n",
            "Epoch 14/30\n",
            "9/9 [==============================] - 8s 893ms/step - loss: 1.5051 - acc: 0.3380 - val_loss: 1.4917 - val_acc: 0.3306 - lr: 0.0010\n",
            "Epoch 15/30\n",
            "9/9 [==============================] - 8s 876ms/step - loss: 1.5048 - acc: 0.3380 - val_loss: 1.4912 - val_acc: 0.3306 - lr: 0.0010\n",
            "Epoch 16/30\n",
            "9/9 [==============================] - 8s 879ms/step - loss: 1.5044 - acc: 0.3380 - val_loss: 1.4907 - val_acc: 0.3306 - lr: 0.0010\n",
            "Epoch 17/30\n",
            "9/9 [==============================] - 8s 875ms/step - loss: 1.5040 - acc: 0.3380 - val_loss: 1.4902 - val_acc: 0.3306 - lr: 0.0010\n",
            "Epoch 18/30\n",
            "9/9 [==============================] - 8s 870ms/step - loss: 1.5036 - acc: 0.3380 - val_loss: 1.4898 - val_acc: 0.3306 - lr: 0.0010\n",
            "Epoch 19/30\n",
            "9/9 [==============================] - 8s 870ms/step - loss: 1.5033 - acc: 0.3380 - val_loss: 1.4893 - val_acc: 0.3306 - lr: 0.0010\n",
            "Epoch 20/30\n",
            "9/9 [==============================] - 8s 873ms/step - loss: 1.5029 - acc: 0.3380 - val_loss: 1.4889 - val_acc: 0.3306 - lr: 0.0010\n",
            "Epoch 21/30\n",
            "9/9 [==============================] - 8s 877ms/step - loss: 1.5026 - acc: 0.3380 - val_loss: 1.4884 - val_acc: 0.3306 - lr: 0.0010\n",
            "Epoch 22/30\n",
            "9/9 [==============================] - 8s 874ms/step - loss: 1.5022 - acc: 0.3380 - val_loss: 1.4880 - val_acc: 0.3306 - lr: 0.0010\n",
            "Epoch 23/30\n",
            "9/9 [==============================] - 8s 873ms/step - loss: 1.5019 - acc: 0.3380 - val_loss: 1.4876 - val_acc: 0.3306 - lr: 0.0010\n",
            "Epoch 24/30\n",
            "9/9 [==============================] - 8s 879ms/step - loss: 1.5016 - acc: 0.3380 - val_loss: 1.4872 - val_acc: 0.3306 - lr: 0.0010\n",
            "Epoch 25/30\n",
            "9/9 [==============================] - 8s 877ms/step - loss: 1.5013 - acc: 0.3380 - val_loss: 1.4868 - val_acc: 0.3306 - lr: 0.0010\n",
            "Epoch 26/30\n",
            "9/9 [==============================] - 8s 874ms/step - loss: 1.5009 - acc: 0.3380 - val_loss: 1.4863 - val_acc: 0.3306 - lr: 0.0010\n",
            "Epoch 27/30\n",
            "9/9 [==============================] - 8s 870ms/step - loss: 1.5007 - acc: 0.3380 - val_loss: 1.4859 - val_acc: 0.3306 - lr: 0.0010\n",
            "Epoch 28/30\n",
            "9/9 [==============================] - 8s 892ms/step - loss: 1.5003 - acc: 0.3380 - val_loss: 1.4855 - val_acc: 0.3306 - lr: 0.0010\n",
            "Epoch 29/30\n",
            "9/9 [==============================] - 8s 867ms/step - loss: 1.5001 - acc: 0.3380 - val_loss: 1.4851 - val_acc: 0.3306 - lr: 0.0010\n",
            "Epoch 30/30\n",
            "9/9 [==============================] - 8s 869ms/step - loss: 1.4998 - acc: 0.3380 - val_loss: 1.4847 - val_acc: 0.3306 - lr: 0.0010\n"
          ]
        }
      ]
    },
    {
      "cell_type": "code",
      "metadata": {
        "colab": {
          "base_uri": "https://localhost:8080/"
        },
        "id": "20S3OKij-xry",
        "outputId": "aa9b54a0-f560-4eeb-f809-434a64abaeec"
      },
      "source": [
        "# evaluate the keras model\n",
        "_, train_accuracy = lstm_model.evaluate(X_text_train, y_text_train, batch_size=8, verbose=0)\n",
        "_, test_accuracy = lstm_model.evaluate(X_text_test, y_text_test, batch_size=8, verbose=0)\n",
        "\n",
        "print('Train accuracy: %.2f' % (train_accuracy*100))\n",
        "print('Test accuracy: %.2f' % (test_accuracy*100))"
      ],
      "execution_count": null,
      "outputs": [
        {
          "output_type": "stream",
          "name": "stdout",
          "text": [
            "Train accuracy: 33.80\n",
            "Test accuracy: 33.06\n"
          ]
        }
      ]
    },
    {
      "cell_type": "code",
      "metadata": {
        "colab": {
          "base_uri": "https://localhost:8080/"
        },
        "id": "dgUWFwX9_4Hn",
        "outputId": "2e6682ef-86fb-4cbd-ff6b-bd05918c4cf6"
      },
      "source": [
        "accuracy, precision, recall, f1 = get_classification_metrics(lstm_model, X_text_test, y_text_test, \"multi-class\")\n",
        "print('Accuracy: %f' % accuracy)\n",
        "print('Precision: %f' % precision)\n",
        "print('Recall: %f' % recall)\n",
        "print('F1 score: %f' % f1)"
      ],
      "execution_count": null,
      "outputs": [
        {
          "output_type": "stream",
          "name": "stdout",
          "text": [
            "Accuracy: 0.000000\n",
            "Precision: 0.000000\n",
            "Recall: 0.000000\n",
            "F1 score: 0.000000\n"
          ]
        }
      ]
    },
    {
      "cell_type": "code",
      "metadata": {
        "colab": {
          "base_uri": "https://localhost:8080/",
          "height": 298
        },
        "id": "j-1Nu-OQAFq3",
        "outputId": "dfa46af0-0af1-4999-b22c-d564cfaa6354"
      },
      "source": [
        "epochs = range(len(training_history.history['loss'])) # Get number of epochs\n",
        "\n",
        "# plot loss learning curves\n",
        "plt.plot(epochs, training_history.history['loss'], label = 'train')\n",
        "plt.plot(epochs, training_history.history['val_loss'], label = 'test')\n",
        "plt.legend(loc = 'upper right')\n",
        "plt.title ('Training and validation loss')"
      ],
      "execution_count": null,
      "outputs": [
        {
          "output_type": "execute_result",
          "data": {
            "text/plain": [
              "Text(0.5, 1.0, 'Training and validation loss')"
            ]
          },
          "metadata": {},
          "execution_count": 105
        },
        {
          "output_type": "display_data",
          "data": {
            "image/png": "[encoded data removed]",
            "text/plain": [
              "<Figure size 432x288 with 1 Axes>"
            ]
          },
          "metadata": {
            "needs_background": "light"
          }
        }
      ]
    },
    {
      "cell_type": "code",
      "metadata": {
        "colab": {
          "base_uri": "https://localhost:8080/",
          "height": 298
        },
        "id": "5JMtMAgMAGUa",
        "outputId": "b3d15e55-4a11-47c4-b8bd-1206b3c4f965"
      },
      "source": [
        "# plot accuracy learning curves\n",
        "plt.plot(epochs, training_history.history['acc'], label = 'train')\n",
        "plt.plot(epochs, training_history.history['val_acc'], label = 'test')\n",
        "plt.legend(loc = 'upper right')\n",
        "plt.title ('Training and validation accuracy')"
      ],
      "execution_count": null,
      "outputs": [
        {
          "output_type": "execute_result",
          "data": {
            "text/plain": [
              "Text(0.5, 1.0, 'Training and validation accuracy')"
            ]
          },
          "metadata": {},
          "execution_count": 106
        },
        {
          "output_type": "display_data",
          "data": {
            "image/png": "[encoded data removed]",
            "text/plain": [
              "<Figure size 432x288 with 1 Axes>"
            ]
          },
          "metadata": {
            "needs_background": "light"
          }
        }
      ]
    },
    {
      "cell_type": "code",
      "metadata": {
        "id": "6OF1ccHuC8rt"
      },
      "source": [
        ""
      ],
      "execution_count": null,
      "outputs": []
    }
  ]
}