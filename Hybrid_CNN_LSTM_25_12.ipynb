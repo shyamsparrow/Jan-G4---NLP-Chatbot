{
 "cells": [
  {
   "cell_type": "markdown",
   "metadata": {
    "colab_type": "text",
    "id": "view-in-github"
   },
   "source": [
    "<a href=\"https://colab.research.google.com/github/shyamsparrow/Jan-G4---NLP-Chatbot/blob/main/Capstone_NLP_Chatbot_Jan_A_G4.ipynb\" target=\"_parent\"><img src=\"https://colab.research.google.com/assets/colab-badge.svg\" alt=\"Open In Colab\"/></a>"
   ]
  },
  {
   "cell_type": "markdown",
   "metadata": {
    "id": "9Yj3kJll4cxT"
   },
   "source": [
    "# Capstone Project - NLP Chatbot\n",
    "\n",
    "### DOMAIN: \n",
    "Industrial safety. NLP based Chatbot.\n",
    "\n",
    "### CONTEXT:\n",
    "The database comes from one of the biggest industry in Brazil and in the world. It is an urgent need for industries/companies around the globe to understand why employees still suffer some injuries/accidents in plants. Sometimes they also die in such environment.\n",
    "\n",
    "### DATA DESCRIPTION:\n",
    "This The database is basically records of accidents from 12 different plants in 03 different countries which every line in the data is an occurrence of an accident.\n",
    "\n",
    "### Columns description:\n",
    "* Data: timestamp or time/date information\n",
    "* Countries: which country the accident occurred (anonymised)\n",
    "* Local: the city where the manufacturing plant is located (anonymised)\n",
    "* Industry sector: which sector the plant belongs to\n",
    "* Accident level: from I to VI, it registers how severe was the accident (I means not severe but VI means very severe)\n",
    "* Potential Accident Level: Depending on the Accident Level, the database also registers how severe the accident could have   been (due to other factors involved in the accident)\n",
    "* Gender: if the person is male of female\n",
    "* Employee or Third Party: if the injured person is an employee or a third party\n",
    "* Critical Risk: some description of the risk involved in the accident\n",
    "* Description: Detailed description of how the accident happened.\n",
    "\n",
    "Link to download the dataset: https://drive.google.com/file/d/1_GmrRP1S2OIa02KlfOBNkYa8uxazGbfE/view?usp=sharing,\n",
    "Original dataset link: https://www.kaggle.com/ihmstefanini/industrial-safety-and-health-analytics-database\n",
    "\n",
    "### PROJECT OBJECTIVE:\n",
    "Design a ML/DL based chatbot utility which can help the professionals to highlight the safety risk as per the incident description."
   ]
  },
  {
   "cell_type": "markdown",
   "metadata": {
    "id": "KE437Z3fzYI8"
   },
   "source": [
    "# Data Preprocessing"
   ]
  },
  {
   "cell_type": "code",
   "execution_count": 1,
   "metadata": {
    "id": "d4CkHgK24cxV"
   },
   "outputs": [],
   "source": [
    "import warnings\n",
    "warnings.filterwarnings('ignore')\n",
    "\n",
    "#import config\n",
    "from wordcloud import WordCloud,STOPWORDS\n",
    "import nltk\n",
    "from nltk.corpus import stopwords\n",
    "from bs4 import BeautifulSoup\n",
    "import string\n",
    "import numpy as np\n",
    "import pandas as pd\n",
    "import seaborn as sns\n",
    "import matplotlib.pyplot as plt\n",
    "import re"
   ]
  },
  {
   "cell_type": "markdown",
   "metadata": {
    "id": "W8JLRB7YzhQ_"
   },
   "source": [
    "# Model Building"
   ]
  },
  {
   "cell_type": "markdown",
   "metadata": {
    "id": "xcgT_5zg1G7o"
   },
   "source": [
    "## Machine Learning Models"
   ]
  },
  {
   "cell_type": "code",
   "execution_count": 2,
   "metadata": {
    "id": "_ry6hLzh1KXl"
   },
   "outputs": [],
   "source": [
    "import seaborn as sns\n",
    "from sklearn.feature_extraction.text import TfidfVectorizer\n",
    "from sklearn.feature_extraction.text import CountVectorizer\n",
    "\n",
    "from sklearn.model_selection import train_test_split\n",
    "from sklearn.linear_model import LogisticRegression\n",
    "from sklearn.naive_bayes import GaussianNB\n",
    "from sklearn.neighbors import KNeighborsClassifier\n",
    "from sklearn.svm import SVC\n",
    "from sklearn.tree import DecisionTreeClassifier\n",
    "from sklearn.ensemble import RandomForestClassifier, BaggingClassifier, AdaBoostClassifier, GradientBoostingClassifier\n",
    "#from xgboost import XGBClassifier\n",
    "\n",
    "from sklearn.metrics import accuracy_score, confusion_matrix, classification_report, f1_score,plot_confusion_matrix\n"
   ]
  },
  {
   "cell_type": "markdown",
   "metadata": {
    "id": "L6CxFRNn1mQi"
   },
   "source": [
    "## ANN Models"
   ]
  },
  {
   "cell_type": "code",
   "execution_count": 3,
   "metadata": {
    "id": "MGbUF-AE_TAL"
   },
   "outputs": [],
   "source": [
    "from nltk.tokenize import word_tokenize\n",
    "from tqdm import tqdm\n",
    "\n",
    "from sklearn.model_selection import train_test_split\n",
    "from sklearn import metrics\n",
    "from sklearn.metrics import classification_report\n",
    "from sklearn.metrics import accuracy_score, f1_score, confusion_matrix, recall_score, precision_score, roc_auc_score\n",
    "from sklearn.preprocessing import LabelEncoder\n",
    "import pickle\n",
    "from sklearn.feature_extraction.text import TfidfVectorizer\n",
    "\n",
    "# Deep learning libraries\n",
    "import tensorflow as tf\n",
    "from tensorflow.keras.layers import Input\n",
    "from tensorflow.keras.models import Sequential\n",
    "from tensorflow.keras.models import Model\n",
    "from tensorflow.keras import optimizers\n",
    "from tensorflow.keras.layers import Dense, LSTM,  Embedding, Dropout, Bidirectional, GlobalMaxPool1D, BatchNormalization\n",
    "\n",
    "#from keras.utils import np_utils\n",
    "#from keras.layers.merge import Concatenate\n",
    "#from keras.utils import plot_model\n",
    "\n",
    "\n",
    "from tensorflow.keras.callbacks import ReduceLROnPlateau\n",
    "from tensorflow.keras.callbacks import EarlyStopping\n",
    "from tensorflow.keras.callbacks import ModelCheckpoint\n",
    "\n",
    "from tensorflow.keras.models import load_model\n",
    "from tensorflow.keras.models import model_from_json\n",
    "from tensorflow.keras.wrappers.scikit_learn import KerasClassifier\n",
    "\n",
    "# Keras pre-processing\n",
    "from tensorflow.keras.preprocessing.text import Tokenizer\n",
    "from tensorflow.keras.preprocessing.sequence import pad_sequences\n"
   ]
  },
  {
   "cell_type": "code",
   "execution_count": 4,
   "metadata": {},
   "outputs": [],
   "source": [
    "from sklearn.preprocessing import LabelEncoder, StandardScaler\n",
    "from tensorflow.keras.utils import to_categorical\n",
    "from tensorflow.keras.regularizers import l1, l2, l1_l2\n",
    "from tensorflow.keras.constraints import unit_norm\n",
    "from tensorflow.keras.layers import Concatenate\n",
    "from tensorflow.keras.optimizers import SGD\n",
    "from tensorflow.keras.utils import plot_model\n",
    "from tensorflow.keras.layers import Conv1D,MaxPooling1D,Flatten"
   ]
  },
  {
   "cell_type": "markdown",
   "metadata": {
    "id": "17TIco8Zy51a"
   },
   "source": [
    "## CNN+LSTM Model"
   ]
  },
  {
   "cell_type": "code",
   "execution_count": 35,
   "metadata": {
    "id": "h5sQ-rKcCO5i"
   },
   "outputs": [],
   "source": [
    "industry_df = pd.read_csv(\"industry_df_with_stopwords.csv\")"
   ]
  },
  {
   "cell_type": "code",
   "execution_count": 36,
   "metadata": {},
   "outputs": [],
   "source": [
    "industry_df_1 = pd.DataFrame(industry_df[['Year','Month','Day','Weekday','WeekofYear','Season','Country','Local','Potential_Accident_Level','Description_preprocessed']])"
   ]
  },
  {
   "cell_type": "code",
   "execution_count": 37,
   "metadata": {},
   "outputs": [
    {
     "data": {
      "text/html": [
       "<div>\n",
       "<style scoped>\n",
       "    .dataframe tbody tr th:only-of-type {\n",
       "        vertical-align: middle;\n",
       "    }\n",
       "\n",
       "    .dataframe tbody tr th {\n",
       "        vertical-align: top;\n",
       "    }\n",
       "\n",
       "    .dataframe thead th {\n",
       "        text-align: right;\n",
       "    }\n",
       "</style>\n",
       "<table border=\"1\" class=\"dataframe\">\n",
       "  <thead>\n",
       "    <tr style=\"text-align: right;\">\n",
       "      <th></th>\n",
       "      <th>Year</th>\n",
       "      <th>Month</th>\n",
       "      <th>Day</th>\n",
       "      <th>Weekday</th>\n",
       "      <th>WeekofYear</th>\n",
       "      <th>Season</th>\n",
       "      <th>Country</th>\n",
       "      <th>Local</th>\n",
       "      <th>Potential_Accident_Level</th>\n",
       "      <th>Description_preprocessed</th>\n",
       "    </tr>\n",
       "  </thead>\n",
       "  <tbody>\n",
       "    <tr>\n",
       "      <th>0</th>\n",
       "      <td>2016</td>\n",
       "      <td>1</td>\n",
       "      <td>1</td>\n",
       "      <td>Friday</td>\n",
       "      <td>53</td>\n",
       "      <td>Summer</td>\n",
       "      <td>Country_01</td>\n",
       "      <td>Local_01</td>\n",
       "      <td>IV</td>\n",
       "      <td>while removing the drill rod of the jumbo 08 f...</td>\n",
       "    </tr>\n",
       "    <tr>\n",
       "      <th>1</th>\n",
       "      <td>2016</td>\n",
       "      <td>1</td>\n",
       "      <td>2</td>\n",
       "      <td>Saturday</td>\n",
       "      <td>53</td>\n",
       "      <td>Summer</td>\n",
       "      <td>Country_02</td>\n",
       "      <td>Local_02</td>\n",
       "      <td>IV</td>\n",
       "      <td>during the activation of a sodium sulphide pum...</td>\n",
       "    </tr>\n",
       "    <tr>\n",
       "      <th>2</th>\n",
       "      <td>2016</td>\n",
       "      <td>1</td>\n",
       "      <td>6</td>\n",
       "      <td>Wednesday</td>\n",
       "      <td>1</td>\n",
       "      <td>Summer</td>\n",
       "      <td>Country_01</td>\n",
       "      <td>Local_03</td>\n",
       "      <td>III</td>\n",
       "      <td>in the substation milo located at level 170 wh...</td>\n",
       "    </tr>\n",
       "    <tr>\n",
       "      <th>3</th>\n",
       "      <td>2016</td>\n",
       "      <td>1</td>\n",
       "      <td>8</td>\n",
       "      <td>Friday</td>\n",
       "      <td>1</td>\n",
       "      <td>Summer</td>\n",
       "      <td>Country_01</td>\n",
       "      <td>Local_04</td>\n",
       "      <td>I</td>\n",
       "      <td>being approximately in the no 1880 cx695 ob th...</td>\n",
       "    </tr>\n",
       "    <tr>\n",
       "      <th>4</th>\n",
       "      <td>2016</td>\n",
       "      <td>1</td>\n",
       "      <td>10</td>\n",
       "      <td>Sunday</td>\n",
       "      <td>1</td>\n",
       "      <td>Summer</td>\n",
       "      <td>Country_01</td>\n",
       "      <td>Local_04</td>\n",
       "      <td>IV</td>\n",
       "      <td>approximately at in circumstance that the mech...</td>\n",
       "    </tr>\n",
       "  </tbody>\n",
       "</table>\n",
       "</div>"
      ],
      "text/plain": [
       "   Year  Month  Day    Weekday  WeekofYear  Season     Country     Local  \\\n",
       "0  2016      1    1     Friday          53  Summer  Country_01  Local_01   \n",
       "1  2016      1    2   Saturday          53  Summer  Country_02  Local_02   \n",
       "2  2016      1    6  Wednesday           1  Summer  Country_01  Local_03   \n",
       "3  2016      1    8     Friday           1  Summer  Country_01  Local_04   \n",
       "4  2016      1   10     Sunday           1  Summer  Country_01  Local_04   \n",
       "\n",
       "  Potential_Accident_Level                           Description_preprocessed  \n",
       "0                       IV  while removing the drill rod of the jumbo 08 f...  \n",
       "1                       IV  during the activation of a sodium sulphide pum...  \n",
       "2                      III  in the substation milo located at level 170 wh...  \n",
       "3                        I  being approximately in the no 1880 cx695 ob th...  \n",
       "4                       IV  approximately at in circumstance that the mech...  "
      ]
     },
     "execution_count": 37,
     "metadata": {},
     "output_type": "execute_result"
    }
   ],
   "source": [
    "industry_df_1.head()"
   ]
  },
  {
   "cell_type": "markdown",
   "metadata": {},
   "source": [
    "**Preprocessing for categorical features**"
   ]
  },
  {
   "cell_type": "code",
   "execution_count": 38,
   "metadata": {},
   "outputs": [],
   "source": [
    "# Create categorical inputs DataFrame\n",
    "cat_featenc_df = pd.DataFrame()\n",
    "\n",
    "# Label encoding\n",
    "industry_df_1['Season'] = industry_df_1['Season'].replace('Summer', 'aSummer').replace('Autumn', 'bAutumn').replace('Winter', 'cWinter').replace('Spring', 'dSpring')\n",
    "cat_featenc_df['Season'] = LabelEncoder().fit_transform(industry_df_1['Season']).astype(np.int8)\n",
    "\n",
    "industry_df_1['Weekday'] = industry_df_1['Weekday'].replace('Monday', 'aMonday').replace('Tuesday', 'bTuesday').replace('Wednesday', 'cWednesday').replace('Thursday', 'dThursday').replace('Friday', 'eFriday').replace('Saturday', 'fSaturday').replace('Sunday', 'gSunday')\n",
    "cat_featenc_df['Weekday'] = LabelEncoder().fit_transform(industry_df_1['Weekday']).astype(np.int8)\n",
    "\n",
    "#cat_featenc_df['Accident_Level'] = LabelEncoder().fit_transform(industry_df_1['Accident_Level']).astype(np.int8)\n",
    "cat_featenc_df['Potential_Accident_Level'] = LabelEncoder().fit_transform(industry_df_1['Potential_Accident_Level']).astype(np.int8)"
   ]
  },
  {
   "cell_type": "code",
   "execution_count": 39,
   "metadata": {},
   "outputs": [
    {
     "data": {
      "text/html": [
       "<div>\n",
       "<style scoped>\n",
       "    .dataframe tbody tr th:only-of-type {\n",
       "        vertical-align: middle;\n",
       "    }\n",
       "\n",
       "    .dataframe tbody tr th {\n",
       "        vertical-align: top;\n",
       "    }\n",
       "\n",
       "    .dataframe thead th {\n",
       "        text-align: right;\n",
       "    }\n",
       "</style>\n",
       "<table border=\"1\" class=\"dataframe\">\n",
       "  <thead>\n",
       "    <tr style=\"text-align: right;\">\n",
       "      <th></th>\n",
       "      <th>Year</th>\n",
       "      <th>Month</th>\n",
       "      <th>Day</th>\n",
       "      <th>WeekofYear</th>\n",
       "      <th>Description_preprocessed</th>\n",
       "      <th>Season</th>\n",
       "      <th>Weekday</th>\n",
       "      <th>Potential_Accident_Level</th>\n",
       "      <th>Country_02</th>\n",
       "      <th>Country_03</th>\n",
       "      <th>...</th>\n",
       "      <th>Local_03</th>\n",
       "      <th>Local_04</th>\n",
       "      <th>Local_05</th>\n",
       "      <th>Local_06</th>\n",
       "      <th>Local_07</th>\n",
       "      <th>Local_08</th>\n",
       "      <th>Local_09</th>\n",
       "      <th>Local_10</th>\n",
       "      <th>Local_11</th>\n",
       "      <th>Local_12</th>\n",
       "    </tr>\n",
       "  </thead>\n",
       "  <tbody>\n",
       "    <tr>\n",
       "      <th>0</th>\n",
       "      <td>2016</td>\n",
       "      <td>1</td>\n",
       "      <td>1</td>\n",
       "      <td>53</td>\n",
       "      <td>while removing the drill rod of the jumbo 08 f...</td>\n",
       "      <td>0</td>\n",
       "      <td>4</td>\n",
       "      <td>3</td>\n",
       "      <td>0</td>\n",
       "      <td>0</td>\n",
       "      <td>...</td>\n",
       "      <td>0</td>\n",
       "      <td>0</td>\n",
       "      <td>0</td>\n",
       "      <td>0</td>\n",
       "      <td>0</td>\n",
       "      <td>0</td>\n",
       "      <td>0</td>\n",
       "      <td>0</td>\n",
       "      <td>0</td>\n",
       "      <td>0</td>\n",
       "    </tr>\n",
       "    <tr>\n",
       "      <th>1</th>\n",
       "      <td>2016</td>\n",
       "      <td>1</td>\n",
       "      <td>2</td>\n",
       "      <td>53</td>\n",
       "      <td>during the activation of a sodium sulphide pum...</td>\n",
       "      <td>0</td>\n",
       "      <td>5</td>\n",
       "      <td>3</td>\n",
       "      <td>1</td>\n",
       "      <td>0</td>\n",
       "      <td>...</td>\n",
       "      <td>0</td>\n",
       "      <td>0</td>\n",
       "      <td>0</td>\n",
       "      <td>0</td>\n",
       "      <td>0</td>\n",
       "      <td>0</td>\n",
       "      <td>0</td>\n",
       "      <td>0</td>\n",
       "      <td>0</td>\n",
       "      <td>0</td>\n",
       "    </tr>\n",
       "    <tr>\n",
       "      <th>2</th>\n",
       "      <td>2016</td>\n",
       "      <td>1</td>\n",
       "      <td>6</td>\n",
       "      <td>1</td>\n",
       "      <td>in the substation milo located at level 170 wh...</td>\n",
       "      <td>0</td>\n",
       "      <td>2</td>\n",
       "      <td>2</td>\n",
       "      <td>0</td>\n",
       "      <td>0</td>\n",
       "      <td>...</td>\n",
       "      <td>1</td>\n",
       "      <td>0</td>\n",
       "      <td>0</td>\n",
       "      <td>0</td>\n",
       "      <td>0</td>\n",
       "      <td>0</td>\n",
       "      <td>0</td>\n",
       "      <td>0</td>\n",
       "      <td>0</td>\n",
       "      <td>0</td>\n",
       "    </tr>\n",
       "  </tbody>\n",
       "</table>\n",
       "<p>3 rows × 21 columns</p>\n",
       "</div>"
      ],
      "text/plain": [
       "   Year  Month  Day  WeekofYear  \\\n",
       "0  2016      1    1          53   \n",
       "1  2016      1    2          53   \n",
       "2  2016      1    6           1   \n",
       "\n",
       "                            Description_preprocessed  Season  Weekday  \\\n",
       "0  while removing the drill rod of the jumbo 08 f...       0        4   \n",
       "1  during the activation of a sodium sulphide pum...       0        5   \n",
       "2  in the substation milo located at level 170 wh...       0        2   \n",
       "\n",
       "   Potential_Accident_Level  Country_02  Country_03  ...  Local_03  Local_04  \\\n",
       "0                         3           0           0  ...         0         0   \n",
       "1                         3           1           0  ...         0         0   \n",
       "2                         2           0           0  ...         1         0   \n",
       "\n",
       "   Local_05  Local_06  Local_07  Local_08  Local_09  Local_10  Local_11  \\\n",
       "0         0         0         0         0         0         0         0   \n",
       "1         0         0         0         0         0         0         0   \n",
       "2         0         0         0         0         0         0         0   \n",
       "\n",
       "   Local_12  \n",
       "0         0  \n",
       "1         0  \n",
       "2         0  \n",
       "\n",
       "[3 rows x 21 columns]"
      ]
     },
     "execution_count": 39,
     "metadata": {},
     "output_type": "execute_result"
    }
   ],
   "source": [
    "#Creating dummy variables for categoricalinputs\n",
    "Dummy_frame = pd.get_dummies(industry_df_1[['Country','Local']], columns=['Country','Local'],prefix=['',''],prefix_sep=['',''], drop_first=True)\n",
    "\n",
    "# Merge the above dataframe with the original dataframe cat_featenc_df\n",
    "cat_featenc_df = cat_featenc_df.join(Dummy_frame.reset_index(drop=True))\n",
    "\n",
    "cat_featenc_df = industry_df_1[['Year','Month','Day','WeekofYear','Description_preprocessed']].reset_index(drop=True).join(cat_featenc_df.reset_index(drop=True))\n",
    "\n",
    "cat_featenc_df.head(3)"
   ]
  },
  {
   "cell_type": "code",
   "execution_count": 40,
   "metadata": {},
   "outputs": [],
   "source": [
    "# Select input and output features\n",
    "X = cat_featenc_df.drop('Potential_Accident_Level', axis = 1)\n",
    "y = cat_featenc_df['Potential_Accident_Level']"
   ]
  },
  {
   "cell_type": "code",
   "execution_count": 41,
   "metadata": {},
   "outputs": [
    {
     "name": "stdout",
     "output_type": "stream",
     "text": [
      "X_train shape : (328)\n",
      "y_train shape : (328,)\n",
      "X_test shape : (83)\n",
      "y_test shape : (83,)\n"
     ]
    }
   ],
   "source": [
    "# Divide our data into testing and training sets:\n",
    "X_train, X_test, y_train, y_test = train_test_split(X, y, test_size = 0.20, random_state = 1,stratify=y)#, stratify = y_cat\n",
    "\n",
    "print('X_train shape : ({0})'.format(X_train.shape[0]))\n",
    "print('y_train shape : ({0},)'.format(y_train.shape[0]))\n",
    "print('X_test shape : ({0})'.format(X_test.shape[0]))\n",
    "print('y_test shape : ({0},)'.format(y_test.shape[0]))\n",
    "\n",
    "# Convert both the training and test labels into one-hot encoded vectors:\n",
    "y_train = to_categorical(y_train)\n",
    "y_test = to_categorical(y_test)"
   ]
  },
  {
   "cell_type": "code",
   "execution_count": 42,
   "metadata": {
    "scrolled": false
   },
   "outputs": [
    {
     "data": {
      "text/html": [
       "<div>\n",
       "<style scoped>\n",
       "    .dataframe tbody tr th:only-of-type {\n",
       "        vertical-align: middle;\n",
       "    }\n",
       "\n",
       "    .dataframe tbody tr th {\n",
       "        vertical-align: top;\n",
       "    }\n",
       "\n",
       "    .dataframe thead th {\n",
       "        text-align: right;\n",
       "    }\n",
       "</style>\n",
       "<table border=\"1\" class=\"dataframe\">\n",
       "  <thead>\n",
       "    <tr style=\"text-align: right;\">\n",
       "      <th></th>\n",
       "      <th>Year</th>\n",
       "      <th>Month</th>\n",
       "      <th>Day</th>\n",
       "      <th>WeekofYear</th>\n",
       "      <th>Description_preprocessed</th>\n",
       "      <th>Season</th>\n",
       "      <th>Weekday</th>\n",
       "      <th>Country_02</th>\n",
       "      <th>Country_03</th>\n",
       "      <th>Local_02</th>\n",
       "      <th>Local_03</th>\n",
       "      <th>Local_04</th>\n",
       "      <th>Local_05</th>\n",
       "      <th>Local_06</th>\n",
       "      <th>Local_07</th>\n",
       "      <th>Local_08</th>\n",
       "      <th>Local_09</th>\n",
       "      <th>Local_10</th>\n",
       "      <th>Local_11</th>\n",
       "      <th>Local_12</th>\n",
       "    </tr>\n",
       "  </thead>\n",
       "  <tbody>\n",
       "    <tr>\n",
       "      <th>216</th>\n",
       "      <td>2016</td>\n",
       "      <td>9</td>\n",
       "      <td>21</td>\n",
       "      <td>38</td>\n",
       "      <td>employee wa preparing rice using a utensil typ...</td>\n",
       "      <td>3</td>\n",
       "      <td>2</td>\n",
       "      <td>1</td>\n",
       "      <td>0</td>\n",
       "      <td>0</td>\n",
       "      <td>0</td>\n",
       "      <td>0</td>\n",
       "      <td>1</td>\n",
       "      <td>0</td>\n",
       "      <td>0</td>\n",
       "      <td>0</td>\n",
       "      <td>0</td>\n",
       "      <td>0</td>\n",
       "      <td>0</td>\n",
       "      <td>0</td>\n",
       "    </tr>\n",
       "    <tr>\n",
       "      <th>258</th>\n",
       "      <td>2016</td>\n",
       "      <td>12</td>\n",
       "      <td>8</td>\n",
       "      <td>49</td>\n",
       "      <td>at time when four employee lowered a metal she...</td>\n",
       "      <td>0</td>\n",
       "      <td>3</td>\n",
       "      <td>0</td>\n",
       "      <td>0</td>\n",
       "      <td>0</td>\n",
       "      <td>0</td>\n",
       "      <td>0</td>\n",
       "      <td>0</td>\n",
       "      <td>0</td>\n",
       "      <td>0</td>\n",
       "      <td>0</td>\n",
       "      <td>0</td>\n",
       "      <td>0</td>\n",
       "      <td>0</td>\n",
       "      <td>0</td>\n",
       "    </tr>\n",
       "    <tr>\n",
       "      <th>155</th>\n",
       "      <td>2016</td>\n",
       "      <td>6</td>\n",
       "      <td>24</td>\n",
       "      <td>25</td>\n",
       "      <td>during the change of rim position 1 of the jum...</td>\n",
       "      <td>2</td>\n",
       "      <td>4</td>\n",
       "      <td>0</td>\n",
       "      <td>0</td>\n",
       "      <td>0</td>\n",
       "      <td>0</td>\n",
       "      <td>0</td>\n",
       "      <td>0</td>\n",
       "      <td>0</td>\n",
       "      <td>0</td>\n",
       "      <td>0</td>\n",
       "      <td>0</td>\n",
       "      <td>0</td>\n",
       "      <td>0</td>\n",
       "      <td>0</td>\n",
       "    </tr>\n",
       "    <tr>\n",
       "      <th>311</th>\n",
       "      <td>2017</td>\n",
       "      <td>2</td>\n",
       "      <td>8</td>\n",
       "      <td>6</td>\n",
       "      <td>during the preparation for the office cleaning...</td>\n",
       "      <td>0</td>\n",
       "      <td>2</td>\n",
       "      <td>1</td>\n",
       "      <td>0</td>\n",
       "      <td>0</td>\n",
       "      <td>0</td>\n",
       "      <td>0</td>\n",
       "      <td>0</td>\n",
       "      <td>0</td>\n",
       "      <td>0</td>\n",
       "      <td>1</td>\n",
       "      <td>0</td>\n",
       "      <td>0</td>\n",
       "      <td>0</td>\n",
       "      <td>0</td>\n",
       "    </tr>\n",
       "    <tr>\n",
       "      <th>262</th>\n",
       "      <td>2016</td>\n",
       "      <td>12</td>\n",
       "      <td>13</td>\n",
       "      <td>50</td>\n",
       "      <td>during the activity of vegetation of the slope...</td>\n",
       "      <td>0</td>\n",
       "      <td>1</td>\n",
       "      <td>1</td>\n",
       "      <td>0</td>\n",
       "      <td>1</td>\n",
       "      <td>0</td>\n",
       "      <td>0</td>\n",
       "      <td>0</td>\n",
       "      <td>0</td>\n",
       "      <td>0</td>\n",
       "      <td>0</td>\n",
       "      <td>0</td>\n",
       "      <td>0</td>\n",
       "      <td>0</td>\n",
       "      <td>0</td>\n",
       "    </tr>\n",
       "  </tbody>\n",
       "</table>\n",
       "</div>"
      ],
      "text/plain": [
       "     Year  Month  Day  WeekofYear  \\\n",
       "216  2016      9   21          38   \n",
       "258  2016     12    8          49   \n",
       "155  2016      6   24          25   \n",
       "311  2017      2    8           6   \n",
       "262  2016     12   13          50   \n",
       "\n",
       "                              Description_preprocessed  Season  Weekday  \\\n",
       "216  employee wa preparing rice using a utensil typ...       3        2   \n",
       "258  at time when four employee lowered a metal she...       0        3   \n",
       "155  during the change of rim position 1 of the jum...       2        4   \n",
       "311  during the preparation for the office cleaning...       0        2   \n",
       "262  during the activity of vegetation of the slope...       0        1   \n",
       "\n",
       "     Country_02  Country_03  Local_02  Local_03  Local_04  Local_05  Local_06  \\\n",
       "216           1           0         0         0         0         1         0   \n",
       "258           0           0         0         0         0         0         0   \n",
       "155           0           0         0         0         0         0         0   \n",
       "311           1           0         0         0         0         0         0   \n",
       "262           1           0         1         0         0         0         0   \n",
       "\n",
       "     Local_07  Local_08  Local_09  Local_10  Local_11  Local_12  \n",
       "216         0         0         0         0         0         0  \n",
       "258         0         0         0         0         0         0  \n",
       "155         0         0         0         0         0         0  \n",
       "311         0         1         0         0         0         0  \n",
       "262         0         0         0         0         0         0  "
      ]
     },
     "execution_count": 42,
     "metadata": {},
     "output_type": "execute_result"
    }
   ],
   "source": [
    "X_train.head()"
   ]
  },
  {
   "cell_type": "markdown",
   "metadata": {},
   "source": [
    "Dividing the train and test data to categorical and text data"
   ]
  },
  {
   "cell_type": "code",
   "execution_count": 43,
   "metadata": {},
   "outputs": [],
   "source": [
    "X_cat_train=X_train.drop('Description_preprocessed', axis = 1)\n",
    "X_cat_test=X_test.drop('Description_preprocessed', axis = 1)\n",
    "X_text_train=X_train['Description_preprocessed']\n",
    "X_text_test=X_test['Description_preprocessed']"
   ]
  },
  {
   "cell_type": "markdown",
   "metadata": {},
   "source": [
    "Standard scaling of categorical variables"
   ]
  },
  {
   "cell_type": "code",
   "execution_count": 44,
   "metadata": {},
   "outputs": [],
   "source": [
    "# Variable transformation using StandardScaler\n",
    "scaler_X = StandardScaler()\n",
    "X_cat_train.iloc[:,:6] = scaler_X.fit_transform(X_cat_train.iloc[:,:6]) # Scaling only first 6 feautres\n",
    "\n",
    "X_cat_test.iloc[:,:6] = scaler_X.transform(X_cat_test.iloc[:,:6]) # Scaling only first 6 feautres"
   ]
  },
  {
   "cell_type": "markdown",
   "metadata": {},
   "source": [
    "### Text data Processing"
   ]
  },
  {
   "cell_type": "markdown",
   "metadata": {
    "id": "t8IxQl0-aJPp"
   },
   "source": [
    "We can take the Preprocessed description (texts) as our features and the Potential accident level as our Targets for LSTM Model."
   ]
  },
  {
   "cell_type": "markdown",
   "metadata": {
    "id": "TvbhNmaWakdD"
   },
   "source": [
    "We need to tokenise our data to convert the text data into numbers."
   ]
  },
  {
   "cell_type": "code",
   "execution_count": 45,
   "metadata": {
    "id": "JEFdmm48Z5Ao"
   },
   "outputs": [],
   "source": [
    "# The first step in word embeddings is to convert the words into thier corresponding numeric indexes.\n",
    "tokenizer = Tokenizer(num_words=3000)\n",
    "tokenizer.fit_on_texts(X_text_train)\n",
    "\n",
    "X_text_train = tokenizer.texts_to_sequences(X_text_train)\n",
    "X_text_test = tokenizer.texts_to_sequences(X_text_test)"
   ]
  },
  {
   "cell_type": "code",
   "execution_count": 46,
   "metadata": {
    "colab": {
     "base_uri": "https://localhost:8080/"
    },
    "id": "TSsdsx9YNBvN",
    "outputId": "dab7cc8b-1440-46dc-af21-5a0ae10b4365"
   },
   "outputs": [
    {
     "name": "stdout",
     "output_type": "stream",
     "text": [
      "Minimum number of words: 16\n",
      "Maximum number of words: 183\n"
     ]
    }
   ],
   "source": [
    "industry_df['nb_words'] = industry_df['Description_preprocessed'].apply(lambda x: len(x.split(' ')))\n",
    "\n",
    "print('Minimum number of words: {}'.format(industry_df['nb_words'].min()))\n",
    "print('Maximum number of words: {}'.format(industry_df['nb_words'].max()))"
   ]
  },
  {
   "cell_type": "markdown",
   "metadata": {
    "id": "FqkR4IWdatnA"
   },
   "source": [
    "The maximum number of words in our data including stopwords  is 183. Based on this we can fix our maximum length of our data will be 185."
   ]
  },
  {
   "cell_type": "code",
   "execution_count": 47,
   "metadata": {
    "colab": {
     "base_uri": "https://localhost:8080/"
    },
    "id": "RkIWW1RFNeUP",
    "outputId": "1c6419f9-4da8-463b-fb28-78fe5bc884ed"
   },
   "outputs": [
    {
     "name": "stdout",
     "output_type": "stream",
     "text": [
      "vocab_size: 2865\n"
     ]
    }
   ],
   "source": [
    "vocab_size = len(tokenizer.word_index) + 1\n",
    "print(\"vocab_size:\", vocab_size)\n",
    "\n",
    "maxlen = 185\n",
    "\n",
    "X_text_train = pad_sequences(X_text_train, padding='post', maxlen=maxlen)\n",
    "X_text_test = pad_sequences(X_text_test, padding='post', maxlen=maxlen)"
   ]
  },
  {
   "cell_type": "markdown",
   "metadata": {
    "id": "t5HWBi1Na_ct"
   },
   "source": [
    "The Vocabulary size of the data is 2841. (Total number of words in our data)."
   ]
  },
  {
   "cell_type": "markdown",
   "metadata": {
    "id": "b9Hks90T11kH"
   },
   "source": [
    "Glove 6B To 200D Embedding took from this source http://nlp.stanford.edu/data/glove.6B.zip, it saved in drive and convert it into dictionary file"
   ]
  },
  {
   "cell_type": "code",
   "execution_count": null,
   "metadata": {
    "colab": {
     "base_uri": "https://localhost:8080/"
    },
    "id": "VpTBhyYyQ0pV",
    "outputId": "98b00968-8abf-4d33-c7e2-ede87343a456"
   },
   "outputs": [],
   "source": [
    "!wget http://nlp.stanford.edu/data/glove.6B.zip\n",
    "!unzip glove*.zip"
   ]
  },
  {
   "cell_type": "code",
   "execution_count": 48,
   "metadata": {
    "colab": {
     "base_uri": "https://localhost:8080/"
    },
    "id": "ppsOlnwzQ9nP",
    "outputId": "0a985203-f8d3-4616-bd34-b7357ae1342b"
   },
   "outputs": [
    {
     "name": "stdout",
     "output_type": "stream",
     "text": [
      "Indexing word vectors.\n",
      "Found 400000 word vectors.\n"
     ]
    }
   ],
   "source": [
    "print('Indexing word vectors.')\n",
    "\n",
    "embeddings_dictionary = {}\n",
    "f = open('glove.6B.200d.txt', encoding='utf-8')\n",
    "for line in f:\n",
    "    values = line.split()\n",
    "    word = values[0]\n",
    "    coefs = np.asarray(values[1:], dtype='float32')\n",
    "    embeddings_dictionary[word] = coefs\n",
    "f.close()\n",
    "\n",
    "print('Found %s word vectors.' % len(embeddings_dictionary))"
   ]
  },
  {
   "cell_type": "code",
   "execution_count": 49,
   "metadata": {
    "colab": {
     "base_uri": "https://localhost:8080/"
    },
    "id": "62ApqzcCOESX",
    "outputId": "da88d33e-01fc-4f0d-b47a-84bf1093fefb"
   },
   "outputs": [
    {
     "data": {
      "text/plain": [
       "(2865, 200)"
      ]
     },
     "execution_count": 49,
     "metadata": {},
     "output_type": "execute_result"
    }
   ],
   "source": [
    "embedding_size = 200\n",
    "\n",
    "embedding_matrix = np.zeros((vocab_size, embedding_size))\n",
    "\n",
    "for word, index in tokenizer.word_index.items():\n",
    "    embedding_vector = embeddings_dictionary.get(word)\n",
    "    if embedding_vector is not None:\n",
    "        embedding_matrix[index] = embedding_vector\n",
    "embedding_matrix.shape"
   ]
  },
  {
   "cell_type": "markdown",
   "metadata": {
    "id": "6LcqJ4fhbQ3L"
   },
   "source": [
    "The Created embedding matrix is of shape 2841 * 200"
   ]
  },
  {
   "cell_type": "code",
   "execution_count": 50,
   "metadata": {
    "id": "KXog2DVW9Y-5"
   },
   "outputs": [],
   "source": [
    "class Metrics(tf.keras.callbacks.Callback):\n",
    "\n",
    "    def __init__(self, validation_data=()):\n",
    "        super().__init__()\n",
    "        self.validation_data = validation_data\n",
    "\n",
    "    def on_train_begin(self, logs={}):\n",
    "        self.val_f1s = []\n",
    "        self.val_recalls = []\n",
    "        self.val_precisions = []\n",
    "\n",
    "    def on_epoch_end(self, epoch, logs={}):\n",
    "        xVal, yVal = self.validation_data\n",
    "        val_predict_classes = (np.asarray(self.model.predict(xVal))).round() # Multilabel\n",
    "        \n",
    "        \n",
    "        val_targ = yVal\n",
    "\n",
    "        _val_f1 = f1_score(val_targ, val_predict_classes, average='micro')\n",
    "        _val_recall = recall_score(val_targ, val_predict_classes, average='micro')\n",
    "        _val_precision = precision_score(val_targ, val_predict_classes, average='micro')\n",
    "        self.val_f1s.append(_val_f1)\n",
    "        self.val_recalls.append(_val_recall)\n",
    "        self.val_precisions.append(_val_precision)\n",
    "        #print(\"— train_f1: %f — train_precision: %f — train_recall %f\" % (_val_f1, _val_precision, _val_recall))\n",
    "        return"
   ]
  },
  {
   "cell_type": "markdown",
   "metadata": {},
   "source": [
    "## Hybrid Model (CNN with categorical data+LSTM Model with text data)"
   ]
  },
  {
   "cell_type": "code",
   "execution_count": 51,
   "metadata": {},
   "outputs": [],
   "source": [
    "#This is lstm model for text data\n",
    "input_1 = Input(shape=(maxlen,))\n",
    "embedding_layer   = Embedding(vocab_size, embedding_size, weights=[embedding_matrix], trainable=False)(input_1)\n",
    "LSTM_Layer_1      = Bidirectional(LSTM(128, return_sequences = True))(embedding_layer)\n",
    "max_pool_layer_1  = GlobalMaxPool1D()(LSTM_Layer_1)\n",
    "drop_out_layer_1  = Dropout(0.5, input_shape = (256,))(max_pool_layer_1)\n",
    "dense_layer_1     = Dense(128, activation = 'relu')(drop_out_layer_1)\n",
    "drop_out_layer_2  = Dropout(0.5, input_shape = (128,))(dense_layer_1)\n",
    "dense_layer_2     = Dense(64, activation = 'relu')(drop_out_layer_2)\n",
    "drop_out_layer_3  = Dropout(0.5, input_shape = (64,))(dense_layer_2)\n",
    "\n",
    "dense_layer_3     = Dense(32, activation = 'relu')(drop_out_layer_3)\n",
    "drop_out_layer_4  = Dropout(0.5, input_shape = (32,))(dense_layer_3)\n",
    "\n",
    "dense_layer_4     = Dense(10, activation = 'relu')(drop_out_layer_4)\n",
    "drop_out_layer_5 = Dropout(0.5, input_shape = (10,))(dense_layer_4)"
   ]
  },
  {
   "cell_type": "code",
   "execution_count": 52,
   "metadata": {},
   "outputs": [],
   "source": [
    "#Reshaping the train and test categorical data to give to Conv1D layer\n",
    "\n",
    "X_cat_train_reshaped = np.array(X_cat_train).reshape(X_cat_train.shape[0],X_cat_train.shape[1],1)\n",
    "X_cat_test_reshaped = np.array(X_cat_test).reshape(X_cat_test.shape[0],X_cat_test.shape[1],1)"
   ]
  },
  {
   "cell_type": "code",
   "execution_count": 53,
   "metadata": {},
   "outputs": [],
   "source": [
    "#This is Convolutional Neural network to process categorical variables\n",
    "param = 1e-4\n",
    "\n",
    "input_2 = Input(shape=((X_cat_train_reshaped.shape[1],X_cat_train_reshaped.shape[2])))\n",
    "\n",
    "embedding_layer_1 = Conv1D(filters=32, kernel_size=3, padding='same', activation='relu',input_shape=(None,56,1))(input_2)\n",
    "\n",
    "embedding_layer_2 = Conv1D(filters=32, kernel_size=3, padding='same', activation='relu')(embedding_layer_1)\n",
    "\n",
    "drop_out_layer_6  = Dropout(0.5)(embedding_layer_2)\n",
    "embedding_layer_3 = MaxPooling1D(pool_size=2)(drop_out_layer_6)\n",
    "\n",
    "batch_norm_layer_1  = Flatten()(embedding_layer_3)\n",
    "dense_layer_6       = Dense(10, activation='relu', kernel_initializer='he_uniform', kernel_regularizer=l2(param), \n",
    "                            kernel_constraint=unit_norm())(batch_norm_layer_1)\n",
    "drop_out_layer_7   = Dropout(0.5)(dense_layer_6)\n",
    "batch_norm_layer_2 = BatchNormalization()(drop_out_layer_7)\n",
    "\n",
    "concat_layer        = Concatenate()([drop_out_layer_5, batch_norm_layer_2])\n",
    "dense_layer_7       = Dense(10, activation='relu')(concat_layer)\n",
    "output  = Dense(5, activation='softmax')(dense_layer_7)\n",
    "hybrid_model   = Model(inputs=[input_1, input_2], outputs=output)\n",
    "\n",
    "# compile the keras model\n",
    "opt = optimizers.Adamax(lr=0.01)\n",
    "#opt = SGD(lr=0.001, momentum=0.9)\n",
    "hybrid_model.compile(loss='categorical_crossentropy', optimizer=opt, metrics=['acc'])"
   ]
  },
  {
   "cell_type": "code",
   "execution_count": 54,
   "metadata": {},
   "outputs": [
    {
     "name": "stdout",
     "output_type": "stream",
     "text": [
      "Model: \"functional_3\"\n",
      "__________________________________________________________________________________________________\n",
      "Layer (type)                    Output Shape         Param #     Connected to                     \n",
      "==================================================================================================\n",
      "input_3 (InputLayer)            [(None, 185)]        0                                            \n",
      "__________________________________________________________________________________________________\n",
      "embedding_1 (Embedding)         (None, 185, 200)     573000      input_3[0][0]                    \n",
      "__________________________________________________________________________________________________\n",
      "bidirectional_1 (Bidirectional) (None, 185, 256)     336896      embedding_1[0][0]                \n",
      "__________________________________________________________________________________________________\n",
      "global_max_pooling1d_1 (GlobalM (None, 256)          0           bidirectional_1[0][0]            \n",
      "__________________________________________________________________________________________________\n",
      "dropout_7 (Dropout)             (None, 256)          0           global_max_pooling1d_1[0][0]     \n",
      "__________________________________________________________________________________________________\n",
      "input_4 (InputLayer)            [(None, 19, 1)]      0                                            \n",
      "__________________________________________________________________________________________________\n",
      "dense_7 (Dense)                 (None, 128)          32896       dropout_7[0][0]                  \n",
      "__________________________________________________________________________________________________\n",
      "conv1d_2 (Conv1D)               (None, 19, 32)       128         input_4[0][0]                    \n",
      "__________________________________________________________________________________________________\n",
      "dropout_8 (Dropout)             (None, 128)          0           dense_7[0][0]                    \n",
      "__________________________________________________________________________________________________\n",
      "conv1d_3 (Conv1D)               (None, 19, 32)       3104        conv1d_2[0][0]                   \n",
      "__________________________________________________________________________________________________\n",
      "dense_8 (Dense)                 (None, 64)           8256        dropout_8[0][0]                  \n",
      "__________________________________________________________________________________________________\n",
      "dropout_12 (Dropout)            (None, 19, 32)       0           conv1d_3[0][0]                   \n",
      "__________________________________________________________________________________________________\n",
      "dropout_9 (Dropout)             (None, 64)           0           dense_8[0][0]                    \n",
      "__________________________________________________________________________________________________\n",
      "max_pooling1d_1 (MaxPooling1D)  (None, 9, 32)        0           dropout_12[0][0]                 \n",
      "__________________________________________________________________________________________________\n",
      "dense_9 (Dense)                 (None, 32)           2080        dropout_9[0][0]                  \n",
      "__________________________________________________________________________________________________\n",
      "flatten_1 (Flatten)             (None, 288)          0           max_pooling1d_1[0][0]            \n",
      "__________________________________________________________________________________________________\n",
      "dropout_10 (Dropout)            (None, 32)           0           dense_9[0][0]                    \n",
      "__________________________________________________________________________________________________\n",
      "dense_11 (Dense)                (None, 10)           2890        flatten_1[0][0]                  \n",
      "__________________________________________________________________________________________________\n",
      "dense_10 (Dense)                (None, 10)           330         dropout_10[0][0]                 \n",
      "__________________________________________________________________________________________________\n",
      "dropout_13 (Dropout)            (None, 10)           0           dense_11[0][0]                   \n",
      "__________________________________________________________________________________________________\n",
      "dropout_11 (Dropout)            (None, 10)           0           dense_10[0][0]                   \n",
      "__________________________________________________________________________________________________\n",
      "batch_normalization_1 (BatchNor (None, 10)           40          dropout_13[0][0]                 \n",
      "__________________________________________________________________________________________________\n",
      "concatenate_1 (Concatenate)     (None, 20)           0           dropout_11[0][0]                 \n",
      "                                                                 batch_normalization_1[0][0]      \n",
      "__________________________________________________________________________________________________\n",
      "dense_12 (Dense)                (None, 10)           210         concatenate_1[0][0]              \n",
      "__________________________________________________________________________________________________\n",
      "dense_13 (Dense)                (None, 5)            55          dense_12[0][0]                   \n",
      "==================================================================================================\n",
      "Total params: 959,885\n",
      "Trainable params: 386,865\n",
      "Non-trainable params: 573,020\n",
      "__________________________________________________________________________________________________\n",
      "None\n"
     ]
    }
   ],
   "source": [
    "print(hybrid_model.summary())"
   ]
  },
  {
   "cell_type": "code",
   "execution_count": 140,
   "metadata": {},
   "outputs": [
    {
     "name": "stdout",
     "output_type": "stream",
     "text": [
      "('Failed to import pydot. You must `pip install pydot` and install graphviz (https://graphviz.gitlab.io/download/), ', 'for `pydotprint` to work.')\n"
     ]
    }
   ],
   "source": [
    "plot_model(hybrid_model, to_file='hybrid_model.png', show_shapes=True, show_layer_names=True)"
   ]
  },
  {
   "cell_type": "code",
   "execution_count": 55,
   "metadata": {},
   "outputs": [
    {
     "name": "stdout",
     "output_type": "stream",
     "text": [
      "Epoch 1/30\n",
      "41/41 [==============================] - 12s 290ms/step - loss: 1.6170 - acc: 0.2927 - val_loss: 1.5442 - val_acc: 0.3133\n",
      "Epoch 2/30\n",
      "41/41 [==============================] - 8s 201ms/step - loss: 1.5081 - acc: 0.3140 - val_loss: 1.5186 - val_acc: 0.3855\n",
      "Epoch 3/30\n",
      "41/41 [==============================] - 8s 206ms/step - loss: 1.5387 - acc: 0.2896 - val_loss: 1.5034 - val_acc: 0.3133\n",
      "Epoch 4/30\n",
      "41/41 [==============================] - 8s 206ms/step - loss: 1.4891 - acc: 0.3140 - val_loss: 1.4978 - val_acc: 0.3133\n",
      "Epoch 5/30\n",
      "41/41 [==============================] - 8s 202ms/step - loss: 1.4725 - acc: 0.3140 - val_loss: 1.4896 - val_acc: 0.2651\n",
      "Epoch 6/30\n",
      "41/41 [==============================] - 8s 188ms/step - loss: 1.4645 - acc: 0.3415 - val_loss: 1.4699 - val_acc: 0.3373\n",
      "Epoch 7/30\n",
      "41/41 [==============================] - 8s 203ms/step - loss: 1.4649 - acc: 0.3506 - val_loss: 1.4549 - val_acc: 0.3373\n",
      "Epoch 8/30\n",
      "41/41 [==============================] - 8s 196ms/step - loss: 1.4783 - acc: 0.3171 - val_loss: 1.4494 - val_acc: 0.3373\n",
      "Epoch 9/30\n",
      "41/41 [==============================] - 8s 197ms/step - loss: 1.4431 - acc: 0.3506 - val_loss: 1.4449 - val_acc: 0.3133\n",
      "Epoch 10/30\n",
      "41/41 [==============================] - 8s 201ms/step - loss: 1.4475 - acc: 0.3476 - val_loss: 1.4375 - val_acc: 0.3494\n",
      "Epoch 11/30\n",
      "41/41 [==============================] - 8s 196ms/step - loss: 1.4441 - acc: 0.3262 - val_loss: 1.4561 - val_acc: 0.2892\n",
      "Epoch 12/30\n",
      "41/41 [==============================] - 8s 196ms/step - loss: 1.4279 - acc: 0.3598 - val_loss: 1.4406 - val_acc: 0.3494\n",
      "Epoch 13/30\n",
      "41/41 [==============================] - 8s 196ms/step - loss: 1.3955 - acc: 0.3476 - val_loss: 1.4326 - val_acc: 0.3253\n",
      "Epoch 14/30\n",
      "41/41 [==============================] - 8s 195ms/step - loss: 1.4243 - acc: 0.3354 - val_loss: 1.4372 - val_acc: 0.3133\n",
      "Epoch 15/30\n",
      "41/41 [==============================] - 8s 194ms/step - loss: 1.4229 - acc: 0.3171 - val_loss: 1.4354 - val_acc: 0.3373\n",
      "Epoch 16/30\n",
      "41/41 [==============================] - 8s 198ms/step - loss: 1.4151 - acc: 0.3293 - val_loss: 1.4363 - val_acc: 0.3133\n",
      "Epoch 17/30\n",
      "41/41 [==============================] - 9s 215ms/step - loss: 1.4086 - acc: 0.3323 - val_loss: 1.4277 - val_acc: 0.3855\n",
      "Epoch 18/30\n",
      "41/41 [==============================] - 8s 203ms/step - loss: 1.4262 - acc: 0.3415 - val_loss: 1.4258 - val_acc: 0.3855\n",
      "Epoch 19/30\n",
      "41/41 [==============================] - 8s 198ms/step - loss: 1.4073 - acc: 0.3476 - val_loss: 1.4154 - val_acc: 0.3976\n",
      "Epoch 20/30\n",
      "41/41 [==============================] - 8s 195ms/step - loss: 1.4162 - acc: 0.3567 - val_loss: 1.4205 - val_acc: 0.3855\n",
      "Epoch 21/30\n",
      "41/41 [==============================] - 8s 200ms/step - loss: 1.4210 - acc: 0.3354 - val_loss: 1.4264 - val_acc: 0.3494\n",
      "Epoch 22/30\n",
      "41/41 [==============================] - 8s 199ms/step - loss: 1.4152 - acc: 0.3201 - val_loss: 1.4229 - val_acc: 0.3735\n",
      "Epoch 23/30\n",
      "41/41 [==============================] - 8s 199ms/step - loss: 1.3951 - acc: 0.3323 - val_loss: 1.4096 - val_acc: 0.4217\n",
      "Epoch 24/30\n",
      "41/41 [==============================] - 8s 193ms/step - loss: 1.4050 - acc: 0.3354 - val_loss: 1.4001 - val_acc: 0.4217\n",
      "Epoch 25/30\n",
      "41/41 [==============================] - 8s 195ms/step - loss: 1.3996 - acc: 0.3689 - val_loss: 1.4108 - val_acc: 0.4096\n",
      "Epoch 26/30\n",
      "41/41 [==============================] - 8s 199ms/step - loss: 1.4100 - acc: 0.3598 - val_loss: 1.4207 - val_acc: 0.4096\n",
      "Epoch 27/30\n",
      "41/41 [==============================] - 8s 194ms/step - loss: 1.3972 - acc: 0.3567 - val_loss: 1.4192 - val_acc: 0.3976\n",
      "Epoch 28/30\n",
      "41/41 [==============================] - 8s 193ms/step - loss: 1.3875 - acc: 0.3445 - val_loss: 1.4115 - val_acc: 0.4337\n",
      "Epoch 29/30\n",
      "41/41 [==============================] - 8s 194ms/step - loss: 1.3878 - acc: 0.3537 - val_loss: 1.4249 - val_acc: 0.4096\n",
      "Epoch 30/30\n",
      "41/41 [==============================] - 8s 202ms/step - loss: 1.3843 - acc: 0.3567 - val_loss: 1.4227 - val_acc: 0.3976\n"
     ]
    }
   ],
   "source": [
    "# Use earlystopping\n",
    "callback = tf.keras.callbacks.EarlyStopping(monitor='loss', patience=3, min_delta=1E-3)\n",
    "rlrp = ReduceLROnPlateau(monitor='val_loss', factor=0.0001, patience=5, min_delta=1E-4)\n",
    "\n",
    "#target_type = 'multi_label'\n",
    "#, target_type\n",
    "metrics = Metrics(validation_data=([X_text_train, X_cat_train], y_train))\n",
    "\n",
    "# fit the keras model on the dataset\n",
    "training_history = hybrid_model.fit([X_text_train, X_cat_train], y_train, epochs=30, batch_size=8, verbose=1, validation_data=([X_text_test, X_cat_test], y_test), callbacks=[rlrp, metrics])"
   ]
  },
  {
   "cell_type": "code",
   "execution_count": 56,
   "metadata": {},
   "outputs": [
    {
     "name": "stdout",
     "output_type": "stream",
     "text": [
      "Train accuracy: 43.29\n",
      "Test accuracy: 39.76\n"
     ]
    }
   ],
   "source": [
    "# evaluate the keras model\n",
    "_, train_accuracy = hybrid_model.evaluate([X_text_train, X_cat_train], y_train, batch_size=8, verbose=0)\n",
    "_, test_accuracy = hybrid_model.evaluate([X_text_test, X_cat_test], y_test, batch_size=8, verbose=0)\n",
    "\n",
    "print('Train accuracy: %.2f' % (train_accuracy*100))\n",
    "print('Test accuracy: %.2f' % (test_accuracy*100))"
   ]
  },
  {
   "cell_type": "code",
   "execution_count": 57,
   "metadata": {},
   "outputs": [
    {
     "data": {
      "text/plain": [
       "Text(0.5, 1.0, 'Training and validation loss')"
      ]
     },
     "execution_count": 57,
     "metadata": {},
     "output_type": "execute_result"
    },
    {
     "data": {
      "image/png": "[encoded data removed]",
      "text/plain": [
       "<Figure size 432x288 with 1 Axes>"
      ]
     },
     "metadata": {
      "needs_background": "light"
     },
     "output_type": "display_data"
    }
   ],
   "source": [
    "epochs = range(len(training_history.history['loss'])) # Get number of epochs\n",
    "\n",
    "# plot loss learning curves\n",
    "plt.plot(epochs, training_history.history['loss'], label = 'train')\n",
    "plt.plot(epochs, training_history.history['val_loss'], label = 'test')\n",
    "plt.legend(loc = 'upper right')\n",
    "plt.title ('Training and validation loss')"
   ]
  },
  {
   "cell_type": "code",
   "execution_count": 58,
   "metadata": {},
   "outputs": [
    {
     "data": {
      "text/plain": [
       "Text(0.5, 1.0, 'Training and validation accuracy')"
      ]
     },
     "execution_count": 58,
     "metadata": {},
     "output_type": "execute_result"
    },
    {
     "data": {
      "image/png": "[encoded data removed]",
      "text/plain": [
       "<Figure size 432x288 with 1 Axes>"
      ]
     },
     "metadata": {
      "needs_background": "light"
     },
     "output_type": "display_data"
    }
   ],
   "source": [
    "# plot accuracy learning curves\n",
    "plt.plot(epochs, training_history.history['acc'], label = 'train')\n",
    "plt.plot(epochs, training_history.history['val_acc'], label = 'test')\n",
    "plt.legend(loc = 'upper right')\n",
    "plt.title ('Training and validation accuracy')"
   ]
  },
  {
   "cell_type": "markdown",
   "metadata": {},
   "source": [
    "Train accuracy is fluctuating around 35 value. Test accuracy is settled around 40."
   ]
  },
  {
   "cell_type": "code",
   "execution_count": 59,
   "metadata": {},
   "outputs": [],
   "source": [
    "#hd_model = load_model(r\"/content/drive/MyDrive/AIML/Capstone/Jan-G4---NLP-Chatbot/Models/HYBRID_model.h5\")\n",
    "#hybrid_model = load_model(r\"C:\\Users\\200488052\\Downloads\\ML\\GL\\Capstone\\Jan-G4---NLP-Chatbot-main\\finalized_Hybrid_model.h5\")\n",
    "\n",
    "y_pred = hybrid_model.predict([X_text_test, X_cat_test], verbose=0) # Multiclass\n",
    "y_pred_index = np.argmax(y_pred,axis=1)\n",
    "y_original = np.argmax(y_test, axis =1)"
   ]
  },
  {
   "cell_type": "code",
   "execution_count": 60,
   "metadata": {},
   "outputs": [
    {
     "name": "stdout",
     "output_type": "stream",
     "text": [
      "11/11 [==============================] - 1s 125ms/step - loss: 1.3190 - acc: 0.4329\n",
      "3/3 [==============================] - 0s 102ms/step - loss: 1.4227 - acc: 0.3976\n"
     ]
    },
    {
     "data": {
      "text/plain": [
       "(0.43292683362960815, 0.39759036898612976, 0.39759036144578314)"
      ]
     },
     "execution_count": 60,
     "metadata": {},
     "output_type": "execute_result"
    }
   ],
   "source": [
    "_,tr_accuracy = hybrid_model.evaluate([X_text_train, X_cat_train],y_train) \n",
    "_,te_accuracy = hybrid_model.evaluate([X_text_test, X_cat_test],y_test) \n",
    "\n",
    "F1_sre= f1_score(y_original,y_pred_index, average='micro')\n",
    "tr_accuracy,te_accuracy,F1_sre"
   ]
  },
  {
   "cell_type": "code",
   "execution_count": null,
   "metadata": {},
   "outputs": [],
   "source": [
    "result_df.loc[len(result_df.index)] = ['HYBRID_Model', tr_accuracy, te_accuracy,F1_sre] \n",
    "result_df"
   ]
  },
  {
   "cell_type": "code",
   "execution_count": null,
   "metadata": {},
   "outputs": [],
   "source": [
    "with open('/content/drive/MyDrive/AIML/Capstone/Jan-G4---NLP-Chatbot/result_df.csv', \"wb\") as f:\n",
    "  pickle.dump((result_df), f)"
   ]
  },
  {
   "cell_type": "code",
   "execution_count": 62,
   "metadata": {},
   "outputs": [
    {
     "data": {
      "image/png": "[encoded data removed]",
      "text/plain": [
       "<Figure size 864x432 with 2 Axes>"
      ]
     },
     "metadata": {
      "needs_background": "light"
     },
     "output_type": "display_data"
    }
   ],
   "source": [
    "cm = confusion_matrix(y_original,y_pred_index)\n",
    "cm_label = ['I', 'II', 'III','IV', 'V']\n",
    "plt.figure(figsize=(12,6))\n",
    "sns.heatmap(cm, annot=True, cmap='Blues',xticklabels = cm_label, yticklabels = cm_label);"
   ]
  },
  {
   "cell_type": "code",
   "execution_count": 63,
   "metadata": {},
   "outputs": [
    {
     "name": "stdout",
     "output_type": "stream",
     "text": [
      "              precision    recall  f1-score   support\n",
      "\n",
      "           0       0.62      0.56      0.59         9\n",
      "           1       0.44      0.21      0.29        19\n",
      "           2       0.25      0.24      0.24        21\n",
      "           3       0.41      0.68      0.51        28\n",
      "           4       0.00      0.00      0.00         6\n",
      "\n",
      "    accuracy                           0.40        83\n",
      "   macro avg       0.35      0.34      0.33        83\n",
      "weighted avg       0.37      0.40      0.36        83\n",
      "\n"
     ]
    }
   ],
   "source": [
    "print(classification_report(y_original, y_pred_index))"
   ]
  },
  {
   "cell_type": "markdown",
   "metadata": {},
   "source": [
    "### With Augmented data"
   ]
  },
  {
   "cell_type": "code",
   "execution_count": 69,
   "metadata": {},
   "outputs": [],
   "source": [
    "Text_aug = pd.read_csv(\"industry_augmentation.csv\")"
   ]
  },
  {
   "cell_type": "code",
   "execution_count": 70,
   "metadata": {},
   "outputs": [
    {
     "data": {
      "text/html": [
       "<div>\n",
       "<style scoped>\n",
       "    .dataframe tbody tr th:only-of-type {\n",
       "        vertical-align: middle;\n",
       "    }\n",
       "\n",
       "    .dataframe tbody tr th {\n",
       "        vertical-align: top;\n",
       "    }\n",
       "\n",
       "    .dataframe thead th {\n",
       "        text-align: right;\n",
       "    }\n",
       "</style>\n",
       "<table border=\"1\" class=\"dataframe\">\n",
       "  <thead>\n",
       "    <tr style=\"text-align: right;\">\n",
       "      <th></th>\n",
       "      <th>Description</th>\n",
       "      <th>Potential_Accident_Level</th>\n",
       "    </tr>\n",
       "  </thead>\n",
       "  <tbody>\n",
       "    <tr>\n",
       "      <th>0</th>\n",
       "      <td>While removing the drill rod of the Jumbo 08 f...</td>\n",
       "      <td>IV</td>\n",
       "    </tr>\n",
       "    <tr>\n",
       "      <th>1</th>\n",
       "      <td>During the activation of a sodium sulphide pum...</td>\n",
       "      <td>IV</td>\n",
       "    </tr>\n",
       "    <tr>\n",
       "      <th>2</th>\n",
       "      <td>In the sub-station MILPO located at level +170...</td>\n",
       "      <td>III</td>\n",
       "    </tr>\n",
       "    <tr>\n",
       "      <th>3</th>\n",
       "      <td>Being 9:45 am. approximately in the Nv. 1880 C...</td>\n",
       "      <td>I</td>\n",
       "    </tr>\n",
       "    <tr>\n",
       "      <th>4</th>\n",
       "      <td>Approximately at 11:45 a.m. in circumstances t...</td>\n",
       "      <td>IV</td>\n",
       "    </tr>\n",
       "  </tbody>\n",
       "</table>\n",
       "</div>"
      ],
      "text/plain": [
       "                                         Description Potential_Accident_Level\n",
       "0  While removing the drill rod of the Jumbo 08 f...                       IV\n",
       "1  During the activation of a sodium sulphide pum...                       IV\n",
       "2  In the sub-station MILPO located at level +170...                      III\n",
       "3  Being 9:45 am. approximately in the Nv. 1880 C...                        I\n",
       "4  Approximately at 11:45 a.m. in circumstances t...                       IV"
      ]
     },
     "execution_count": 70,
     "metadata": {},
     "output_type": "execute_result"
    }
   ],
   "source": [
    "Text_aug.head()"
   ]
  },
  {
   "cell_type": "code",
   "execution_count": 71,
   "metadata": {},
   "outputs": [],
   "source": [
    "X_text_aug=Text_aug['Description']\n",
    "y_text_aug=Text_aug['Potential_Accident_Level']"
   ]
  },
  {
   "cell_type": "code",
   "execution_count": 72,
   "metadata": {},
   "outputs": [
    {
     "name": "stdout",
     "output_type": "stream",
     "text": [
      "X_train shape : (657)\n",
      "y_train shape : (657,)\n",
      "X_test shape : (165)\n",
      "y_test shape : (165,)\n"
     ]
    }
   ],
   "source": [
    "# Divide our data into testing and training sets:\n",
    "X_text_train_aug, X_text_test_aug, y_text_train_aug, y_text_test_aug = train_test_split(X_text_aug, y_text_aug, test_size = 0.20, random_state = 1,stratify=y_text_aug)#, stratify = y_cat\n",
    "\n",
    "print('X_train shape : ({0})'.format(X_text_train_aug.shape[0]))\n",
    "print('y_train shape : ({0},)'.format(y_text_train_aug.shape[0]))\n",
    "print('X_test shape : ({0})'.format(X_text_test_aug.shape[0]))\n",
    "print('y_test shape : ({0},)'.format(y_text_test_aug.shape[0]))\n",
    "\n",
    "# Convert both the training and test labels into one-hot encoded vectors:\n",
    "y_train = to_categorical(y_train)\n",
    "y_test = to_categorical(y_test)"
   ]
  },
  {
   "cell_type": "code",
   "execution_count": 73,
   "metadata": {
    "scrolled": false
   },
   "outputs": [
    {
     "data": {
      "text/plain": [
       "526    in moments that the truck for transport of per...\n",
       "477    during the refurbishment work of the upper pip...\n",
       "649    in circumstances that the mechanical technicia...\n",
       "257    At times when four mechanics performed the rem...\n",
       "233    In phase I, the operator carried out the remov...\n",
       "Name: Description, dtype: object"
      ]
     },
     "execution_count": 73,
     "metadata": {},
     "output_type": "execute_result"
    }
   ],
   "source": [
    "X_text_train_aug.head()"
   ]
  },
  {
   "cell_type": "markdown",
   "metadata": {
    "id": "TvbhNmaWakdD"
   },
   "source": [
    "We need to tokenise our data to convert the text data into numbers."
   ]
  },
  {
   "cell_type": "code",
   "execution_count": 74,
   "metadata": {
    "id": "JEFdmm48Z5Ao"
   },
   "outputs": [],
   "source": [
    "# The first step in word embeddings is to convert the words into thier corresponding numeric indexes.\n",
    "tokenizer = Tokenizer(num_words=3000)\n",
    "tokenizer.fit_on_texts(X_text_train_aug)\n",
    "\n",
    "X_text_train_aug = tokenizer.texts_to_sequences(X_text_train_aug)\n",
    "X_text_test_aug = tokenizer.texts_to_sequences(X_text_test_aug)"
   ]
  },
  {
   "cell_type": "code",
   "execution_count": 75,
   "metadata": {
    "colab": {
     "base_uri": "https://localhost:8080/"
    },
    "id": "TSsdsx9YNBvN",
    "outputId": "dab7cc8b-1440-46dc-af21-5a0ae10b4365"
   },
   "outputs": [
    {
     "name": "stdout",
     "output_type": "stream",
     "text": [
      "Minimum number of words: 16\n",
      "Maximum number of words: 192\n"
     ]
    }
   ],
   "source": [
    "Text_aug['nb_words'] = Text_aug['Description'].apply(lambda x: len(x.split(' ')))\n",
    "\n",
    "print('Minimum number of words: {}'.format(Text_aug['nb_words'].min()))\n",
    "print('Maximum number of words: {}'.format(Text_aug['nb_words'].max()))"
   ]
  },
  {
   "cell_type": "markdown",
   "metadata": {
    "id": "FqkR4IWdatnA"
   },
   "source": [
    "The maximum number of words in our data including stopwords  is 183. Based on this we can fix our maximum length of our data will be 185."
   ]
  },
  {
   "cell_type": "code",
   "execution_count": 76,
   "metadata": {
    "colab": {
     "base_uri": "https://localhost:8080/"
    },
    "id": "RkIWW1RFNeUP",
    "outputId": "1c6419f9-4da8-463b-fb28-78fe5bc884ed"
   },
   "outputs": [
    {
     "name": "stdout",
     "output_type": "stream",
     "text": [
      "vocab_size: 3959\n"
     ]
    }
   ],
   "source": [
    "vocab_size = len(tokenizer.word_index) + 1\n",
    "print(\"vocab_size:\", vocab_size)\n",
    "\n",
    "maxlen = 195\n",
    "\n",
    "X_text_train_aug = pad_sequences(X_text_train_aug, padding='post', maxlen=maxlen)\n",
    "X_text_test_aug = pad_sequences(X_text_test_aug, padding='post', maxlen=maxlen)"
   ]
  },
  {
   "cell_type": "markdown",
   "metadata": {
    "id": "t5HWBi1Na_ct"
   },
   "source": [
    "The Vocabulary size of the data is 3959. (Total number of words in our data)."
   ]
  },
  {
   "cell_type": "markdown",
   "metadata": {
    "id": "b9Hks90T11kH"
   },
   "source": [
    "Glove 6B To 200D Embedding took from this source http://nlp.stanford.edu/data/glove.6B.zip, it saved in drive and convert it into dictionary file"
   ]
  },
  {
   "cell_type": "code",
   "execution_count": null,
   "metadata": {
    "colab": {
     "base_uri": "https://localhost:8080/"
    },
    "id": "VpTBhyYyQ0pV",
    "outputId": "98b00968-8abf-4d33-c7e2-ede87343a456"
   },
   "outputs": [],
   "source": [
    "!wget http://nlp.stanford.edu/data/glove.6B.zip\n",
    "!unzip glove*.zip"
   ]
  },
  {
   "cell_type": "code",
   "execution_count": 77,
   "metadata": {
    "colab": {
     "base_uri": "https://localhost:8080/"
    },
    "id": "ppsOlnwzQ9nP",
    "outputId": "0a985203-f8d3-4616-bd34-b7357ae1342b"
   },
   "outputs": [
    {
     "name": "stdout",
     "output_type": "stream",
     "text": [
      "Indexing word vectors.\n",
      "Found 400000 word vectors.\n"
     ]
    }
   ],
   "source": [
    "print('Indexing word vectors.')\n",
    "\n",
    "embeddings_dictionary = {}\n",
    "f = open('glove.6B.200d.txt', encoding='utf-8')\n",
    "for line in f:\n",
    "    values = line.split()\n",
    "    word = values[0]\n",
    "    coefs = np.asarray(values[1:], dtype='float32')\n",
    "    embeddings_dictionary[word] = coefs\n",
    "f.close()\n",
    "\n",
    "print('Found %s word vectors.' % len(embeddings_dictionary))"
   ]
  },
  {
   "cell_type": "markdown",
   "metadata": {
    "id": "SUsOiCP-bHMU"
   },
   "source": [
    "We Pickled the Glove Embedding dictionary file for future use."
   ]
  },
  {
   "cell_type": "code",
   "execution_count": 78,
   "metadata": {
    "colab": {
     "base_uri": "https://localhost:8080/"
    },
    "id": "62ApqzcCOESX",
    "outputId": "da88d33e-01fc-4f0d-b47a-84bf1093fefb"
   },
   "outputs": [
    {
     "data": {
      "text/plain": [
       "(3959, 200)"
      ]
     },
     "execution_count": 78,
     "metadata": {},
     "output_type": "execute_result"
    }
   ],
   "source": [
    "embedding_size = 200\n",
    "\n",
    "embedding_matrix = np.zeros((vocab_size, embedding_size))\n",
    "\n",
    "for word, index in tokenizer.word_index.items():\n",
    "    embedding_vector = embeddings_dictionary.get(word)\n",
    "    if embedding_vector is not None:\n",
    "        embedding_matrix[index] = embedding_vector\n",
    "embedding_matrix.shape"
   ]
  },
  {
   "cell_type": "code",
   "execution_count": 55,
   "metadata": {},
   "outputs": [
    {
     "name": "stdout",
     "output_type": "stream",
     "text": [
      "Epoch 1/30\n",
      "41/41 [==============================] - 12s 290ms/step - loss: 1.6170 - acc: 0.2927 - val_loss: 1.5442 - val_acc: 0.3133\n",
      "Epoch 2/30\n",
      "41/41 [==============================] - 8s 201ms/step - loss: 1.5081 - acc: 0.3140 - val_loss: 1.5186 - val_acc: 0.3855\n",
      "Epoch 3/30\n",
      "41/41 [==============================] - 8s 206ms/step - loss: 1.5387 - acc: 0.2896 - val_loss: 1.5034 - val_acc: 0.3133\n",
      "Epoch 4/30\n",
      "41/41 [==============================] - 8s 206ms/step - loss: 1.4891 - acc: 0.3140 - val_loss: 1.4978 - val_acc: 0.3133\n",
      "Epoch 5/30\n",
      "41/41 [==============================] - 8s 202ms/step - loss: 1.4725 - acc: 0.3140 - val_loss: 1.4896 - val_acc: 0.2651\n",
      "Epoch 6/30\n",
      "41/41 [==============================] - 8s 188ms/step - loss: 1.4645 - acc: 0.3415 - val_loss: 1.4699 - val_acc: 0.3373\n",
      "Epoch 7/30\n",
      "41/41 [==============================] - 8s 203ms/step - loss: 1.4649 - acc: 0.3506 - val_loss: 1.4549 - val_acc: 0.3373\n",
      "Epoch 8/30\n",
      "41/41 [==============================] - 8s 196ms/step - loss: 1.4783 - acc: 0.3171 - val_loss: 1.4494 - val_acc: 0.3373\n",
      "Epoch 9/30\n",
      "41/41 [==============================] - 8s 197ms/step - loss: 1.4431 - acc: 0.3506 - val_loss: 1.4449 - val_acc: 0.3133\n",
      "Epoch 10/30\n",
      "41/41 [==============================] - 8s 201ms/step - loss: 1.4475 - acc: 0.3476 - val_loss: 1.4375 - val_acc: 0.3494\n",
      "Epoch 11/30\n",
      "41/41 [==============================] - 8s 196ms/step - loss: 1.4441 - acc: 0.3262 - val_loss: 1.4561 - val_acc: 0.2892\n",
      "Epoch 12/30\n",
      "41/41 [==============================] - 8s 196ms/step - loss: 1.4279 - acc: 0.3598 - val_loss: 1.4406 - val_acc: 0.3494\n",
      "Epoch 13/30\n",
      "41/41 [==============================] - 8s 196ms/step - loss: 1.3955 - acc: 0.3476 - val_loss: 1.4326 - val_acc: 0.3253\n",
      "Epoch 14/30\n",
      "41/41 [==============================] - 8s 195ms/step - loss: 1.4243 - acc: 0.3354 - val_loss: 1.4372 - val_acc: 0.3133\n",
      "Epoch 15/30\n",
      "41/41 [==============================] - 8s 194ms/step - loss: 1.4229 - acc: 0.3171 - val_loss: 1.4354 - val_acc: 0.3373\n",
      "Epoch 16/30\n",
      "41/41 [==============================] - 8s 198ms/step - loss: 1.4151 - acc: 0.3293 - val_loss: 1.4363 - val_acc: 0.3133\n",
      "Epoch 17/30\n",
      "41/41 [==============================] - 9s 215ms/step - loss: 1.4086 - acc: 0.3323 - val_loss: 1.4277 - val_acc: 0.3855\n",
      "Epoch 18/30\n",
      "41/41 [==============================] - 8s 203ms/step - loss: 1.4262 - acc: 0.3415 - val_loss: 1.4258 - val_acc: 0.3855\n",
      "Epoch 19/30\n",
      "41/41 [==============================] - 8s 198ms/step - loss: 1.4073 - acc: 0.3476 - val_loss: 1.4154 - val_acc: 0.3976\n",
      "Epoch 20/30\n",
      "41/41 [==============================] - 8s 195ms/step - loss: 1.4162 - acc: 0.3567 - val_loss: 1.4205 - val_acc: 0.3855\n",
      "Epoch 21/30\n",
      "41/41 [==============================] - 8s 200ms/step - loss: 1.4210 - acc: 0.3354 - val_loss: 1.4264 - val_acc: 0.3494\n",
      "Epoch 22/30\n",
      "41/41 [==============================] - 8s 199ms/step - loss: 1.4152 - acc: 0.3201 - val_loss: 1.4229 - val_acc: 0.3735\n",
      "Epoch 23/30\n",
      "41/41 [==============================] - 8s 199ms/step - loss: 1.3951 - acc: 0.3323 - val_loss: 1.4096 - val_acc: 0.4217\n",
      "Epoch 24/30\n",
      "41/41 [==============================] - 8s 193ms/step - loss: 1.4050 - acc: 0.3354 - val_loss: 1.4001 - val_acc: 0.4217\n",
      "Epoch 25/30\n",
      "41/41 [==============================] - 8s 195ms/step - loss: 1.3996 - acc: 0.3689 - val_loss: 1.4108 - val_acc: 0.4096\n",
      "Epoch 26/30\n",
      "41/41 [==============================] - 8s 199ms/step - loss: 1.4100 - acc: 0.3598 - val_loss: 1.4207 - val_acc: 0.4096\n",
      "Epoch 27/30\n",
      "41/41 [==============================] - 8s 194ms/step - loss: 1.3972 - acc: 0.3567 - val_loss: 1.4192 - val_acc: 0.3976\n",
      "Epoch 28/30\n",
      "41/41 [==============================] - 8s 193ms/step - loss: 1.3875 - acc: 0.3445 - val_loss: 1.4115 - val_acc: 0.4337\n",
      "Epoch 29/30\n",
      "41/41 [==============================] - 8s 194ms/step - loss: 1.3878 - acc: 0.3537 - val_loss: 1.4249 - val_acc: 0.4096\n",
      "Epoch 30/30\n",
      "41/41 [==============================] - 8s 202ms/step - loss: 1.3843 - acc: 0.3567 - val_loss: 1.4227 - val_acc: 0.3976\n"
     ]
    }
   ],
   "source": [
    "# Use earlystopping\n",
    "callback = tf.keras.callbacks.EarlyStopping(monitor='loss', patience=3, min_delta=1E-3)\n",
    "rlrp = ReduceLROnPlateau(monitor='val_loss', factor=0.0001, patience=5, min_delta=1E-4)\n",
    "\n",
    "#target_type = 'multi_label'\n",
    "#, target_type\n",
    "metrics = Metrics(validation_data=([X_text_train_aug, X_cat_train], y_train))\n",
    "\n",
    "# fit the keras model on the dataset\n",
    "training_history = hybrid_model.fit([X_text_train, X_cat_train], y_train, epochs=30, batch_size=8, verbose=1, validation_data=([X_text_test, X_cat_test], y_test), callbacks=[rlrp, metrics])"
   ]
  },
  {
   "cell_type": "code",
   "execution_count": null,
   "metadata": {},
   "outputs": [],
   "source": []
  }
 ],
 "metadata": {
  "colab": {
   "collapsed_sections": [],
   "include_colab_link": true,
   "name": "Capstone_NLP_Chatbot_Jan_A_G4.ipynb",
   "provenance": [],
   "toc_visible": true
  },
  "kernelspec": {
   "display_name": "Python 3",
   "language": "python",
   "name": "python3"
  },
  "language_info": {
   "codemirror_mode": {
    "name": "ipython",
    "version": 3
   },
   "file_extension": ".py",
   "mimetype": "text/x-python",
   "name": "python",
   "nbconvert_exporter": "python",
   "pygments_lexer": "ipython3",
   "version": "3.7.10"
  }
 },
 "nbformat": 4,
 "nbformat_minor": 1
}
